{
  "cells": [
    {
      "cell_type": "markdown",
      "metadata": {
        "id": "view-in-github",
        "colab_type": "text"
      },
      "source": [
        "<a href=\"https://colab.research.google.com/github/SamF543/Module_1/blob/main/Copy_of_Python_Basics_Module_1_practice.ipynb\" target=\"_parent\"><img src=\"https://colab.research.google.com/assets/colab-badge.svg\" alt=\"Open In Colab\"/></a>"
      ]
    },
    {
      "cell_type": "markdown",
      "metadata": {
        "id": "ItZ8Qh9B16ek"
      },
      "source": [
        "This is a brief overview of basics concepts of Python programming"
      ]
    },
    {
      "cell_type": "markdown",
      "metadata": {
        "id": "y8Vyx71SCZGY"
      },
      "source": [
        "**Topics:**\n",
        "\n",
        "1. Syntax, comments, operations\n",
        "2. Workflow & Indentation\n",
        "3. True, False\n",
        "4. Conditions: IF, ELSE, ELIF\n",
        "5. Variable Types \n",
        "6. Lists\n",
        "7. Strings\n",
        "8. Tuples\n",
        "9. Dictionaries\n",
        "10. DataFrames\n",
        "11. Loops\n",
        "12. Functions\n",
        "\n",
        "\n",
        "\n"
      ]
    },
    {
      "cell_type": "markdown",
      "source": [
        "Helpfull links:\n",
        "\n",
        "\n",
        "\n",
        "*   https://www.datacamp.com/\n",
        "*   https://stackoverflow.com/\n",
        "*   https://www.w3schools.com/python/default.asp\n",
        "*   https://pynative.com/python/\n",
        "*   https://www.programiz.com/python-programming\n",
        "\n",
        "\n"
      ],
      "metadata": {
        "id": "gz83JTQVHJVk"
      }
    },
    {
      "cell_type": "markdown",
      "metadata": {
        "id": "UyZje8VICleI"
      },
      "source": [
        "# 1.&nbsp;Syntax"
      ]
    },
    {
      "cell_type": "code",
      "execution_count": 1,
      "metadata": {
        "id": "-j4USlfaCzNh"
      },
      "outputs": [],
      "source": [
        "# Comment\n",
        "\n",
        "# This is a comment !"
      ]
    },
    {
      "cell_type": "markdown",
      "source": [
        "Function"
      ],
      "metadata": {
        "id": "liSOdcBXIqEc"
      }
    },
    {
      "cell_type": "code",
      "source": [
        "# this function called print()\n",
        "\n",
        "print()"
      ],
      "metadata": {
        "id": "LRcfx6_vIveg",
        "colab": {
          "base_uri": "https://localhost:8080/"
        },
        "outputId": "dbce08b1-1ef5-499b-e423-264402f86b68"
      },
      "execution_count": 2,
      "outputs": [
        {
          "output_type": "stream",
          "name": "stdout",
          "text": [
            "\n"
          ]
        }
      ]
    },
    {
      "cell_type": "markdown",
      "source": [
        "The *print()* function prints the specified message to the screen, or other standard output device.\n",
        "\n",
        "The message can be a string, or any other object, the object will be converted into a string before written to the screen."
      ],
      "metadata": {
        "id": "SbxPjINSrWoH"
      }
    },
    {
      "cell_type": "code",
      "execution_count": 3,
      "metadata": {
        "id": "1EED_IDgCn85",
        "outputId": "106126c6-a85c-43f4-c603-8e4b2ec44c3d",
        "colab": {
          "base_uri": "https://localhost:8080/"
        }
      },
      "outputs": [
        {
          "output_type": "stream",
          "name": "stdout",
          "text": [
            "Hello world\n"
          ]
        }
      ],
      "source": [
        "# to display the string 'Hello world' use the function print()\n",
        "\n",
        "# as Hello world is a string you have to add single or double quotations marks\n",
        "\n",
        "print('Hello world')"
      ]
    },
    {
      "cell_type": "code",
      "execution_count": 4,
      "metadata": {
        "id": "9U7laFcWDHKQ",
        "outputId": "58fb9ad9-a719-49d9-ba28-1c6c2551dca7",
        "colab": {
          "base_uri": "https://localhost:8080/"
        }
      },
      "outputs": [
        {
          "output_type": "stream",
          "name": "stdout",
          "text": [
            "2\n"
          ]
        }
      ],
      "source": [
        "# numbers\n",
        "\n",
        "print(2)"
      ]
    },
    {
      "cell_type": "code",
      "execution_count": 5,
      "metadata": {
        "id": "2tl2osBcCwqx",
        "outputId": "a6ad602a-092e-4e50-a7b7-f67c86f2ce3f",
        "colab": {
          "base_uri": "https://localhost:8080/"
        }
      },
      "outputs": [
        {
          "output_type": "stream",
          "name": "stdout",
          "text": [
            "5\n"
          ]
        }
      ],
      "source": [
        "# operations / calculation\n",
        "\n",
        "print(2+3)"
      ]
    },
    {
      "cell_type": "code",
      "source": [
        "2+3"
      ],
      "metadata": {
        "id": "UIb69VacKr5g",
        "outputId": "dc607d00-c96a-4eb0-a1bb-e91a5b43563b",
        "colab": {
          "base_uri": "https://localhost:8080/"
        }
      },
      "execution_count": 6,
      "outputs": [
        {
          "output_type": "execute_result",
          "data": {
            "text/plain": [
              "5"
            ]
          },
          "metadata": {},
          "execution_count": 6
        }
      ]
    },
    {
      "cell_type": "code",
      "source": [
        "2+4\n",
        "print(2+3)\n",
        "print(1*8)"
      ],
      "metadata": {
        "id": "-FJFYI2LLe8V",
        "outputId": "f7adce06-c761-4da5-9d14-166ad86058cf",
        "colab": {
          "base_uri": "https://localhost:8080/"
        }
      },
      "execution_count": 7,
      "outputs": [
        {
          "output_type": "stream",
          "name": "stdout",
          "text": [
            "5\n",
            "8\n"
          ]
        }
      ]
    },
    {
      "cell_type": "code",
      "execution_count": 8,
      "metadata": {
        "id": "d9dgKKRhDJGV",
        "outputId": "8906271b-ee72-489f-db15-f4d062641ed4",
        "colab": {
          "base_uri": "https://localhost:8080/"
        }
      },
      "outputs": [
        {
          "output_type": "stream",
          "name": "stdout",
          "text": [
            "This is a string\n",
            "This is a string\n"
          ]
        }
      ],
      "source": [
        "# string/text ==> quotation marks: single or double\n",
        "\n",
        "print('This is a string')\n",
        "print(\"This is a string\")"
      ]
    },
    {
      "cell_type": "code",
      "execution_count": 9,
      "metadata": {
        "id": "Wyr2-8pnDQmw",
        "outputId": "bee069b3-83dc-4260-c3b4-c394b05cd7fb",
        "colab": {
          "base_uri": "https://localhost:8080/"
        }
      },
      "outputs": [
        {
          "output_type": "stream",
          "name": "stdout",
          "text": [
            "2\n",
            "3\n",
            "2 3\n"
          ]
        }
      ],
      "source": [
        "# variables\n",
        "\n",
        "# to assign a value use the symbol =\n",
        "# assign a numerical variables\n",
        "\n",
        "x = 2\n",
        "y = 3\n",
        "\n",
        "print(x)\n",
        "print(y)\n",
        "print(x, y)"
      ]
    },
    {
      "cell_type": "code",
      "execution_count": 10,
      "metadata": {
        "id": "pM5wsL-3DcDs",
        "outputId": "30a6274d-2471-48eb-b45b-ee7b31421b0b",
        "colab": {
          "base_uri": "https://localhost:8080/"
        }
      },
      "outputs": [
        {
          "output_type": "execute_result",
          "data": {
            "text/plain": [
              "5"
            ]
          },
          "metadata": {},
          "execution_count": 10
        }
      ],
      "source": [
        "# make operations with assigned variables\n",
        "\n",
        "x+y"
      ]
    },
    {
      "cell_type": "code",
      "source": [
        "# assign a 'text' value to a variable\n",
        "# make operations with strings\n",
        "\n",
        "string1='love'\n",
        "string2='data'\n",
        "\n",
        "print(string1)\n",
        "print(string2)\n",
        "\n",
        "# concatenate them\n",
        "print(string1 + string2)"
      ],
      "metadata": {
        "id": "-qkRXhjWz393",
        "outputId": "23a9e615-10b3-4c8e-e503-4888f2523256",
        "colab": {
          "base_uri": "https://localhost:8080/"
        }
      },
      "execution_count": 11,
      "outputs": [
        {
          "output_type": "stream",
          "name": "stdout",
          "text": [
            "love\n",
            "data\n",
            "lovedata\n"
          ]
        }
      ]
    },
    {
      "cell_type": "code",
      "source": [
        "# add a space\n",
        "print(string1 + ' ' + string2)"
      ],
      "metadata": {
        "id": "VAxYSLO6MHsJ",
        "outputId": "87c0b4ca-4077-4b28-c1f3-1ad9ff8cde05",
        "colab": {
          "base_uri": "https://localhost:8080/"
        }
      },
      "execution_count": 12,
      "outputs": [
        {
          "output_type": "stream",
          "name": "stdout",
          "text": [
            "love data\n"
          ]
        }
      ]
    },
    {
      "cell_type": "markdown",
      "source": [
        "# 2.&nbsp;Workflow & Indentation"
      ],
      "metadata": {
        "id": "yDHbUKWR6rEq"
      }
    },
    {
      "cell_type": "markdown",
      "source": [
        "Workflow is the series of activities that are necessary to complete a task"
      ],
      "metadata": {
        "id": "KvnMKa6Q6Vog"
      }
    },
    {
      "cell_type": "markdown",
      "source": [
        "Indentation refers to the spaces at the beginning of a code line.\n",
        "\n",
        "Where in other programming languages the indentation in code is for readability only, the indentation in Python is very important.\n",
        "\n",
        "Python uses indentation to indicate a block of code. The standard Python indentation is 4 spaces, although tabs and any other space size will work, as long as it is consistent. \n",
        "\n",
        "\n"
      ],
      "metadata": {
        "id": "RFVAV3c_6pSF"
      }
    },
    {
      "cell_type": "code",
      "source": [
        "# Python will give you an error if you skip the indentation:\n",
        "\n",
        "a=5\n",
        "b=2\n",
        "\n",
        "'''\n",
        "if a > b:\n",
        "print(\"a is greater than b !\")'''"
      ],
      "metadata": {
        "id": "wwiv1Tb47B86",
        "colab": {
          "base_uri": "https://localhost:8080/",
          "height": 35
        },
        "outputId": "922598bf-7abd-466e-fadf-d278a4612d3a"
      },
      "execution_count": 13,
      "outputs": [
        {
          "output_type": "execute_result",
          "data": {
            "text/plain": [
              "'\\nif a > b:\\nprint(\"a is greater than b !\")'"
            ],
            "application/vnd.google.colaboratory.intrinsic+json": {
              "type": "string"
            }
          },
          "metadata": {},
          "execution_count": 13
        }
      ]
    },
    {
      "cell_type": "code",
      "source": [
        "# the correct way to use indentation\n",
        "# ends with a colon (:)\n",
        "\n",
        "a=5\n",
        "\n",
        "b=2\n",
        "\n",
        "if a > b:\n",
        "  print(\"a is greater than b ! \")"
      ],
      "metadata": {
        "id": "32nwt5pG6om_",
        "outputId": "9cf9f655-2bcd-4c84-fb95-f6148656001d",
        "colab": {
          "base_uri": "https://localhost:8080/"
        }
      },
      "execution_count": 14,
      "outputs": [
        {
          "output_type": "stream",
          "name": "stdout",
          "text": [
            "a is greater than b ! \n"
          ]
        }
      ]
    },
    {
      "cell_type": "markdown",
      "source": [
        "# 3.&nbsp;True, False"
      ],
      "metadata": {
        "id": "Ghvv-PtA8E3_"
      }
    },
    {
      "cell_type": "code",
      "source": [
        "# Boolean True, False\n",
        "\n",
        "# If a statement is correct then it will return True\n",
        "# IF the statement is NOT correct , it will return False\n",
        "# use == symbol\n",
        "\n",
        "a=3\n",
        "b=2\n",
        "c=1\n",
        "\n",
        "print(a==b)"
      ],
      "metadata": {
        "id": "yyqL-2dO7x38",
        "outputId": "27e79658-41f6-4cd6-baf0-0bbab7defc79",
        "colab": {
          "base_uri": "https://localhost:8080/"
        }
      },
      "execution_count": 15,
      "outputs": [
        {
          "output_type": "stream",
          "name": "stdout",
          "text": [
            "False\n"
          ]
        }
      ]
    },
    {
      "cell_type": "code",
      "source": [
        "var_1 = 2\n",
        "print(var_1)"
      ],
      "metadata": {
        "id": "x1foPZNrlPXx",
        "colab": {
          "base_uri": "https://localhost:8080/"
        },
        "outputId": "0ef16f26-6246-4e7a-a6da-67370d20dbbc"
      },
      "execution_count": 16,
      "outputs": [
        {
          "output_type": "stream",
          "name": "stdout",
          "text": [
            "2\n"
          ]
        }
      ]
    },
    {
      "cell_type": "code",
      "source": [
        "print(a==c)"
      ],
      "metadata": {
        "id": "qcV_vGkY8pZk",
        "colab": {
          "base_uri": "https://localhost:8080/"
        },
        "outputId": "594091f5-498f-41f1-c434-eafb6b44fb86"
      },
      "execution_count": 17,
      "outputs": [
        {
          "output_type": "stream",
          "name": "stdout",
          "text": [
            "False\n"
          ]
        }
      ]
    },
    {
      "cell_type": "markdown",
      "source": [
        "# 4.&nbsp; Condition: IF, ELSE, ELIF"
      ],
      "metadata": {
        "id": "jhEHMTfE7o9K"
      }
    },
    {
      "cell_type": "code",
      "execution_count": 18,
      "metadata": {
        "id": "a6UxeOH3DdZb",
        "outputId": "1d09a657-1253-4f18-d835-3328bda5389c",
        "colab": {
          "base_uri": "https://localhost:8080/"
        }
      },
      "outputs": [
        {
          "output_type": "stream",
          "name": "stdout",
          "text": [
            "x is grater then 0\n"
          ]
        }
      ],
      "source": [
        "# IF the statement is true then..do something\n",
        "\n",
        "x = 1\n",
        "\n",
        "if x > 0:\n",
        "  print('x is grater then 0')"
      ]
    },
    {
      "cell_type": "code",
      "execution_count": 19,
      "metadata": {
        "id": "NBBxbc7FD6OU"
      },
      "outputs": [],
      "source": [
        "x = -2\n",
        "\n",
        "if x > 0:\n",
        "  print('x is greater then 0')"
      ]
    },
    {
      "cell_type": "code",
      "execution_count": 20,
      "metadata": {
        "id": "anr0MY6ND8SS",
        "outputId": "cd39b5f6-f587-4c42-8036-f444aa1cec79",
        "colab": {
          "base_uri": "https://localhost:8080/"
        }
      },
      "outputs": [
        {
          "output_type": "stream",
          "name": "stdout",
          "text": [
            "x is less then 0\n"
          ]
        }
      ],
      "source": [
        "# IF the statement is true then..do something, ELSE otherwise do something else\n",
        "\n",
        "x= -5\n",
        "\n",
        "if x>0:\n",
        "  print('x is grater then 0')\n",
        "else:\n",
        "  print('x is less then 0')\n"
      ]
    },
    {
      "cell_type": "code",
      "execution_count": 21,
      "metadata": {
        "id": "W5dMiQ1uEHul",
        "colab": {
          "base_uri": "https://localhost:8080/"
        },
        "outputId": "18a2e0bc-25a5-4502-b559-9cfe240b0f4b"
      },
      "outputs": [
        {
          "output_type": "stream",
          "name": "stdout",
          "text": [
            "x is less then 0\n"
          ]
        }
      ],
      "source": [
        "x=0\n",
        "\n",
        "if x>0:\n",
        "  print('x is grater then 0')\n",
        "else:\n",
        "  print('x is less then 0')\n"
      ]
    },
    {
      "cell_type": "code",
      "execution_count": 22,
      "metadata": {
        "id": "BfmAv-flEjNn",
        "colab": {
          "base_uri": "https://localhost:8080/"
        },
        "outputId": "f467996b-0cce-47ed-84bf-e51fa533bdb6"
      },
      "outputs": [
        {
          "output_type": "stream",
          "name": "stdout",
          "text": [
            "x is zqual to 0\n"
          ]
        }
      ],
      "source": [
        "x = 0\n",
        "\n",
        "if x>0:\n",
        "  print('x is grater then 0')\n",
        "elif x==0:\n",
        "  print('x is zqual to 0')\n",
        "else:\n",
        "  print('x is less then 0')\n"
      ]
    },
    {
      "cell_type": "markdown",
      "source": [
        "## IF, ELIF, ELSE Practice ***\n",
        "\n",
        "Write a code to return the evaluation of a variable called \"grade\". \n",
        "The grade has to be a numerical variable from 1 to 10.\n",
        ">If the grade is below 5 return \"You failed\".\n",
        "\n",
        ">If the grade is between 5 and 8 included return \"You passed\"\n",
        "\n",
        ">If the grade is over 8 then return \"You excelled\"\n",
        "\n",
        "Hint:\n",
        "\n",
        "\n",
        "1.   create a variable called grade, and give it a randome value from 1 to 10\n",
        "2.   Then imagine possible scenarios of what value that variable can get, to correctly use IF, ELIF, ELSE\n",
        "\n",
        "grade = ???\n",
        "\n",
        "if grade ??? 5:\n",
        "\n",
        "____print(????)\n",
        "\n",
        "elif grade ??? 5 and ????:\n",
        "\n",
        "____print(????)\n",
        "\n",
        "else:\n",
        "____???? \n",
        "\n",
        "\n",
        "\n"
      ],
      "metadata": {
        "id": "Krs-SXVzB5Kp"
      }
    },
    {
      "cell_type": "markdown",
      "source": [
        "In order to better understand how to work with IF, ELIF, ELSE, please try to write by yourself the code for the following tasks.\n",
        "\n",
        "If you don't figure out how to do it, or you just want to check if you got the right solution, just click the arrow next to \"Display Solution\" and click on \"Run button\" to execute the code"
      ],
      "metadata": {
        "id": "PisGGzmnGI7K"
      }
    },
    {
      "cell_type": "code",
      "source": [],
      "metadata": {
        "id": "hY75hckiiNhH"
      },
      "execution_count": 22,
      "outputs": []
    },
    {
      "cell_type": "code",
      "source": [
        "#  return the evaluation of a variable called \"grade\". The grade has to be a numerical variable from 1 to 10.\n",
        "\n",
        "# create a variable 'grade' and assign a random value from 1 to 10\n",
        "\n",
        "# use IF, ELIF, ELSE statements\n",
        "\n",
        "### If the grade is below 5 return \"You failed\".\n",
        "\n",
        "### If the grade is between 5 and 8 included return \"You passed\"\n",
        "\n",
        "##  If the grade is over 8 then return \"You excelled\"\n",
        "\n",
        "\n",
        "\n",
        "# your code here ...\n",
        "Grade = 7\n",
        "\n",
        "if Grade<5:\n",
        "  print('You failed')\n",
        "elif Grade>=5 and Grade<=8:\n",
        "  print('You passed')\n",
        "else:\n",
        "  print('You excelled')"
      ],
      "metadata": {
        "id": "SPc_ZtjjGdAU",
        "outputId": "baca12e9-26d8-440f-ae30-1fee214245bd",
        "colab": {
          "base_uri": "https://localhost:8080/"
        }
      },
      "execution_count": 23,
      "outputs": [
        {
          "output_type": "stream",
          "name": "stdout",
          "text": [
            "You passed\n"
          ]
        }
      ]
    },
    {
      "cell_type": "code",
      "source": [
        "#@title Display the solution \n",
        "\n",
        "#  return the evaluation of a variable called \"grade\". The grade has to be a numerical variable from 1 to 10.\n",
        "\n",
        "# create a variable 'grade' and assign a random value from 1 to 10\n",
        "\n",
        "grade = 8\n",
        "\n",
        "if grade < 5:\n",
        "  print('You failed')\n",
        "elif grade >= 5 and grade <=8:\n",
        "  print('You passed')\n",
        "else:\n",
        "  print('You excelled')"
      ],
      "metadata": {
        "id": "UGZVe8bA5NLE",
        "colab": {
          "base_uri": "https://localhost:8080/"
        },
        "outputId": "ec9d7d17-9261-4cc8-dfb8-c4695d93a411"
      },
      "execution_count": 24,
      "outputs": [
        {
          "output_type": "stream",
          "name": "stdout",
          "text": [
            "You passed\n"
          ]
        }
      ]
    },
    {
      "cell_type": "markdown",
      "metadata": {
        "id": "BIG_swA1FbTA"
      },
      "source": [
        "# 5.&nbsp;Variable types"
      ]
    },
    {
      "cell_type": "markdown",
      "source": [
        "## Integer"
      ],
      "metadata": {
        "id": "tFIFcXo4G6lY"
      }
    },
    {
      "cell_type": "code",
      "execution_count": 25,
      "metadata": {
        "id": "0ICbAeHDFgON",
        "colab": {
          "base_uri": "https://localhost:8080/"
        },
        "outputId": "b8a9072b-c3fe-4e5a-8f0e-1e710fdafd8b"
      },
      "outputs": [
        {
          "output_type": "stream",
          "name": "stdout",
          "text": [
            "<class 'int'>\n"
          ]
        }
      ],
      "source": [
        "# integer\n",
        "age = 7\n",
        "print(type(age))"
      ]
    },
    {
      "cell_type": "markdown",
      "source": [
        "##Float"
      ],
      "metadata": {
        "id": "__n8FPACG86I"
      }
    },
    {
      "cell_type": "code",
      "source": [
        "var_1 = '7.5'\n",
        "var_1\n",
        "print(type(var_1))"
      ],
      "metadata": {
        "id": "bXy5pi4L10ZP",
        "colab": {
          "base_uri": "https://localhost:8080/"
        },
        "outputId": "af7fd4c7-902a-4601-a6e1-e2238b384ce8"
      },
      "execution_count": 26,
      "outputs": [
        {
          "output_type": "stream",
          "name": "stdout",
          "text": [
            "<class 'str'>\n"
          ]
        }
      ]
    },
    {
      "cell_type": "code",
      "execution_count": 27,
      "metadata": {
        "id": "LqbLd6yQGGg8",
        "colab": {
          "base_uri": "https://localhost:8080/"
        },
        "outputId": "2ea098f6-4c49-4f1e-97bd-7b1e42c3236b"
      },
      "outputs": [
        {
          "output_type": "stream",
          "name": "stdout",
          "text": [
            "<class 'float'>\n",
            "7.5\n"
          ]
        }
      ],
      "source": [
        "# float\n",
        "age = 7.5\n",
        "print(type(age))\n",
        "print(age)"
      ]
    },
    {
      "cell_type": "markdown",
      "source": [
        "## String"
      ],
      "metadata": {
        "id": "r0Ky2ZlTG_9u"
      }
    },
    {
      "cell_type": "code",
      "execution_count": 28,
      "metadata": {
        "id": "LiP3qLRcF5MP",
        "outputId": "e7d7b06f-6bce-4354-8f34-8aea7c158906",
        "colab": {
          "base_uri": "https://localhost:8080/"
        }
      },
      "outputs": [
        {
          "output_type": "stream",
          "name": "stdout",
          "text": [
            "Jessica\n",
            "<class 'str'>\n"
          ]
        }
      ],
      "source": [
        "# str\n",
        "name = \"Jessica\"\n",
        "print(name)\n",
        "print(type(name))"
      ]
    },
    {
      "cell_type": "code",
      "execution_count": 29,
      "metadata": {
        "id": "BdS6G_aJ4mMe",
        "colab": {
          "base_uri": "https://localhost:8080/"
        },
        "outputId": "1bc3d92d-f1a5-4d25-c0af-9683bb1ec948"
      },
      "outputs": [
        {
          "output_type": "stream",
          "name": "stdout",
          "text": [
            "the type of pi_string variable:  <class 'str'>\n",
            "the value of pi_string variable:  3.1415926\n",
            "\n"
          ]
        }
      ],
      "source": [
        "# Definition of pi_string\n",
        "pi_string = \"3.1415926\"\n",
        "print('the type of pi_string variable: ', type(pi_string))\n",
        "print('the value of pi_string variable: ', pi_string)\n",
        "print('')\n",
        "\n"
      ]
    },
    {
      "cell_type": "code",
      "source": [
        "# convert string to float\n",
        "pi_float= float(pi_string)\n",
        "print('the type of pi_float variable: ', type(pi_float))\n",
        "print('the value of pi_float variable: ', pi_float)\n",
        "print('')\n",
        "\n"
      ],
      "metadata": {
        "id": "W40ZiUzqUX68",
        "colab": {
          "base_uri": "https://localhost:8080/"
        },
        "outputId": "ae2888a8-dd7d-430a-b8ad-ab1773181e74"
      },
      "execution_count": 30,
      "outputs": [
        {
          "output_type": "stream",
          "name": "stdout",
          "text": [
            "the type of pi_float variable:  <class 'float'>\n",
            "the value of pi_float variable:  3.1415926\n",
            "\n"
          ]
        }
      ]
    },
    {
      "cell_type": "code",
      "source": [
        "# convert float to integer\n",
        "pi_int= int(pi_float)\n",
        "print('the type of pi_int variable: ', type(pi_int))\n",
        "print('the value of pi_int variable: ', pi_int)\n",
        "print('')"
      ],
      "metadata": {
        "id": "klj49EnvUZad",
        "colab": {
          "base_uri": "https://localhost:8080/"
        },
        "outputId": "f91bb26f-ae6a-4b87-892f-4053badb722b"
      },
      "execution_count": 31,
      "outputs": [
        {
          "output_type": "stream",
          "name": "stdout",
          "text": [
            "the type of pi_int variable:  <class 'int'>\n",
            "the value of pi_int variable:  3\n",
            "\n"
          ]
        }
      ]
    },
    {
      "cell_type": "code",
      "source": [
        "var_float = round(3.6, 0)\n",
        "int(var_float)"
      ],
      "metadata": {
        "id": "uwI6KkCnqsug",
        "colab": {
          "base_uri": "https://localhost:8080/"
        },
        "outputId": "b419f68f-34bd-4736-8735-b44628437480"
      },
      "execution_count": 32,
      "outputs": [
        {
          "output_type": "execute_result",
          "data": {
            "text/plain": [
              "4"
            ]
          },
          "metadata": {},
          "execution_count": 32
        }
      ]
    },
    {
      "cell_type": "markdown",
      "source": [
        "More about convertion of string and int\n",
        "https://realpython.com/convert-python-string-to-int/"
      ],
      "metadata": {
        "id": "nmKufxbPI9Na"
      }
    },
    {
      "cell_type": "markdown",
      "source": [
        "##Tuple"
      ],
      "metadata": {
        "id": "yF9kwxHAHDKg"
      }
    },
    {
      "cell_type": "code",
      "execution_count": 33,
      "metadata": {
        "id": "T4jrai7pF-Og",
        "colab": {
          "base_uri": "https://localhost:8080/"
        },
        "outputId": "0b8de9d7-9f46-42fe-909b-c11d96f504ba"
      },
      "outputs": [
        {
          "output_type": "stream",
          "name": "stdout",
          "text": [
            "('Jessica', 7.5)\n",
            "<class 'tuple'>\n"
          ]
        }
      ],
      "source": [
        "# tuple\n",
        "name_age = (name, age)\n",
        "print(name_age)\n",
        "print(type(name_age))"
      ]
    },
    {
      "cell_type": "markdown",
      "source": [
        "## Date"
      ],
      "metadata": {
        "id": "gsOtlqqEHFFf"
      }
    },
    {
      "cell_type": "code",
      "execution_count": 34,
      "metadata": {
        "id": "yPDOQZXwGZHM",
        "outputId": "1ac36466-7dff-4ab0-ce06-5e9bfdc9f424",
        "colab": {
          "base_uri": "https://localhost:8080/"
        }
      },
      "outputs": [
        {
          "output_type": "stream",
          "name": "stdout",
          "text": [
            "2022-12-31\n",
            "<class 'str'>\n"
          ]
        }
      ],
      "source": [
        "# date\n",
        "date = '2022-12-31' # separated by hyphens\n",
        "print(date)\n",
        "print(type(date))"
      ]
    },
    {
      "cell_type": "code",
      "source": [
        "# To manipulate dates in Python ...\n",
        "# we need to import datetime package from datetime module ( very important !!! )\n",
        "\n",
        "from datetime import datetime"
      ],
      "metadata": {
        "id": "QhYhHsrosnqe"
      },
      "execution_count": 35,
      "outputs": []
    },
    {
      "cell_type": "code",
      "source": [
        "# to convert the string into a date object...\n",
        "\n",
        "# with .strptime method  we tell Python how to read the string, by specifying which part is the year (%Y), month (%m), day (%d), \n",
        "# all separated by hyphen '%Y-%m-%d'\n",
        "\n",
        "date = datetime.strptime(date, '%Y-%m-%d')\n",
        "\n",
        "print(date)\n",
        "print(type(date))\n"
      ],
      "metadata": {
        "id": "L_ki3poOq-9b",
        "outputId": "2429edda-a1f5-4143-f2c8-035fe6b06cf6",
        "colab": {
          "base_uri": "https://localhost:8080/"
        }
      },
      "execution_count": 36,
      "outputs": [
        {
          "output_type": "stream",
          "name": "stdout",
          "text": [
            "2022-12-31 00:00:00\n",
            "<class 'datetime.datetime'>\n"
          ]
        }
      ]
    },
    {
      "cell_type": "code",
      "source": [
        "# if we want to omitt time (hous, minutes, seconds)\n",
        "\n",
        "# to convert the string into a date object...\n",
        "\n",
        "# with .strptime method  we tell Python how to read the string, by specifying which part is the year (%Y), month (%m), day (%d), \n",
        "# all separated by hyphen '%Y-%m-%d'\n",
        "\n",
        "# we need to add .date() in the end, to tell python to convert it to date\n",
        "\n",
        "date = '2022-12-31' # separated by hyphens\n",
        "\n",
        "date = datetime.strptime(date, '%Y-%m-%d').date()\n",
        "\n",
        "print(date)\n",
        "print(type(date))\n",
        "\n"
      ],
      "metadata": {
        "id": "aV28-ZDD5IXZ",
        "outputId": "35d89451-84a2-4033-99f9-ba30a6baea27",
        "colab": {
          "base_uri": "https://localhost:8080/"
        }
      },
      "execution_count": 37,
      "outputs": [
        {
          "output_type": "stream",
          "name": "stdout",
          "text": [
            "2022-12-31\n",
            "<class 'datetime.date'>\n"
          ]
        }
      ]
    },
    {
      "cell_type": "code",
      "execution_count": 38,
      "metadata": {
        "id": "Gq7qbSFhGrn-",
        "outputId": "7e618ee4-7df3-40d1-eaa0-5860865e3718",
        "colab": {
          "base_uri": "https://localhost:8080/"
        }
      },
      "outputs": [
        {
          "output_type": "stream",
          "name": "stdout",
          "text": [
            "<class 'datetime.datetime'>\n",
            "2018-09-19 13:55:26\n"
          ]
        }
      ],
      "source": [
        "# to convert a string that have date + time (hours, minutes, seconds...)\n",
        "# we need to tell python that the 1st bit of the string is the month, separated by a slash, \n",
        "# then day, \n",
        "# then year (with format %y, meaning 18 instead of 2018)\n",
        "# the hours, (%H) separated by :\n",
        "# then minutes, (%M) separated by :\n",
        "# the seconds, (%S)\n",
        "\n",
        "datetime_time = '09/19/18 13:55:26'\n",
        "\n",
        "datetime_time = datetime.strptime(datetime_time, '%m/%d/%y %H:%M:%S')\n",
        "\n",
        "print(type(datetime_time))\n",
        "print(datetime_time)  # printed in default format"
      ]
    },
    {
      "cell_type": "code",
      "source": [
        "# Print the date in the format 'YYYY-MM'\n",
        "\n",
        "# our datetime_time variable is already perceived as a date by Python...\n",
        "\n",
        "\n",
        "print(datetime_time.strftime('%Y/%m'))"
      ],
      "metadata": {
        "id": "6FCkTBmppZQh",
        "outputId": "5d95630b-c192-4b2b-a1b6-70c84b15ef7d",
        "colab": {
          "base_uri": "https://localhost:8080/"
        }
      },
      "execution_count": 39,
      "outputs": [
        {
          "output_type": "stream",
          "name": "stdout",
          "text": [
            "2018/09\n"
          ]
        }
      ]
    },
    {
      "cell_type": "code",
      "source": [
        "# if we want the month first and then the year\n",
        "print(datetime_time.strftime('%m-%Y'))"
      ],
      "metadata": {
        "id": "Kle7LCEI_9rb",
        "outputId": "ec89f312-72e0-4d21-81a5-d8f12197e79b",
        "colab": {
          "base_uri": "https://localhost:8080/"
        }
      },
      "execution_count": 40,
      "outputs": [
        {
          "output_type": "stream",
          "name": "stdout",
          "text": [
            "09-2018\n"
          ]
        }
      ]
    },
    {
      "cell_type": "markdown",
      "source": [
        "The date conversions can be helpfull, as when working with excels, often, Python reads the dates as a string.\n",
        "\n",
        "So, you'll need to convert the strings that are supposed to be read as a date ...."
      ],
      "metadata": {
        "id": "Me8gk10A6CX8"
      }
    },
    {
      "cell_type": "code",
      "source": [
        "# ... But, Python allows you create a date from the start\n",
        "\n",
        "# to do so, you need to import package date from datetime module\n",
        "\n",
        "from datetime import date\n",
        "\n",
        "anniversary_date = date(1992, 8, 24) # year, month, day\n",
        "print(anniversary_date)\n",
        "print(type(anniversary_date))"
      ],
      "metadata": {
        "id": "Ofxog2KK5_eo",
        "outputId": "9798681f-0e80-482c-cfe2-9d6c0229f196",
        "colab": {
          "base_uri": "https://localhost:8080/"
        }
      },
      "execution_count": 41,
      "outputs": [
        {
          "output_type": "stream",
          "name": "stdout",
          "text": [
            "1992-08-24\n",
            "<class 'datetime.date'>\n"
          ]
        }
      ]
    },
    {
      "cell_type": "markdown",
      "source": [
        "More about date conversion\n",
        "https://www.digitalocean.com/community/tutorials/python-string-to-datetime-strptime\n",
        "\n",
        "More about dates https://www.w3schools.com/python/python_datetime.asp\n",
        "\n",
        "More about date and time manipulation https://www.programiz.com/python-programming/datetime\n",
        "\n",
        "How to format dates https://www.geeksforgeeks.org/how-to-format-date-using-strftime-in-python/\n",
        "\n",
        "Practice dates https://campus.datacamp.com/courses/working-with-dates-and-times-in-python/dates-and-calendars?ex=1"
      ],
      "metadata": {
        "id": "Nw6iK08OJQnX"
      }
    },
    {
      "cell_type": "markdown",
      "metadata": {
        "id": "NjB4qFKcJrjh"
      },
      "source": [
        "# 6.&nbsp;Lists"
      ]
    },
    {
      "cell_type": "markdown",
      "source": [
        "Lists are used to store multiple items in a single variable."
      ],
      "metadata": {
        "id": "3iihaoGCxjUM"
      }
    },
    {
      "cell_type": "markdown",
      "source": [
        "More about lists https://www.w3schools.com/python/python_lists.asp"
      ],
      "metadata": {
        "id": "62gzT1Qkz7CO"
      }
    },
    {
      "cell_type": "markdown",
      "source": [
        "## List creation"
      ],
      "metadata": {
        "id": "YonfVue1LYmX"
      }
    },
    {
      "cell_type": "code",
      "source": [
        "# Using list constructor\n",
        "my_list1 = list((1, 2, 3))\n",
        "print(my_list1)"
      ],
      "metadata": {
        "id": "GTl4nyT3K9e_",
        "outputId": "14523231-237a-4edb-af00-c5283becf4c6",
        "colab": {
          "base_uri": "https://localhost:8080/"
        }
      },
      "execution_count": 42,
      "outputs": [
        {
          "output_type": "stream",
          "name": "stdout",
          "text": [
            "[1, 2, 3]\n"
          ]
        }
      ]
    },
    {
      "cell_type": "code",
      "execution_count": 43,
      "metadata": {
        "id": "R53W5QqYJtFz",
        "outputId": "87188547-a710-4e99-be23-d9ad062e0e0b",
        "colab": {
          "base_uri": "https://localhost:8080/"
        }
      },
      "outputs": [
        {
          "output_type": "stream",
          "name": "stdout",
          "text": [
            "the type of our_list <class 'list'>\n",
            "['a', 'b', 'c', 1, 1.5]\n"
          ]
        }
      ],
      "source": [
        "# create a list\n",
        "our_list = [\"a\",\"b\",\"c\", 1, 1.5]\n",
        "print('the type of our_list', type(our_list))\n",
        "print(our_list)"
      ]
    },
    {
      "cell_type": "markdown",
      "source": [
        "## Append an element"
      ],
      "metadata": {
        "id": "BvQyUPBdLcDg"
      }
    },
    {
      "cell_type": "code",
      "execution_count": 44,
      "metadata": {
        "id": "qbDBvcLKJv89",
        "outputId": "45f6c36d-65ab-4ede-8bac-8597db046d0b",
        "colab": {
          "base_uri": "https://localhost:8080/"
        }
      },
      "outputs": [
        {
          "output_type": "stream",
          "name": "stdout",
          "text": [
            "['a', 'b', 'c', 1, 1.5, 'd']\n"
          ]
        }
      ],
      "source": [
        "# append an element to the list\n",
        "\n",
        "our_list.append(\"d\") # it will append 'd' at the end of the list\n",
        "print(our_list)"
      ]
    },
    {
      "cell_type": "code",
      "source": [
        "our_list.append(\"e\") # it will append 'e' at the end of the list\n",
        "print(our_list)"
      ],
      "metadata": {
        "id": "HMCKgry-kVO7",
        "outputId": "f6e9ea0b-3930-418e-d3b6-3cb2da4f8a4a",
        "colab": {
          "base_uri": "https://localhost:8080/"
        }
      },
      "execution_count": 45,
      "outputs": [
        {
          "output_type": "stream",
          "name": "stdout",
          "text": [
            "['a', 'b', 'c', 1, 1.5, 'd', 'e']\n"
          ]
        }
      ]
    },
    {
      "cell_type": "code",
      "source": [
        "our_list.remove(\"e\") # it will remove 'e' at the end of the list\n",
        "print(our_list)"
      ],
      "metadata": {
        "id": "bmVj3y7hlZXW",
        "outputId": "a4a85d96-4d77-4b91-834a-9c91098f88b8",
        "colab": {
          "base_uri": "https://localhost:8080/"
        }
      },
      "execution_count": 46,
      "outputs": [
        {
          "output_type": "stream",
          "name": "stdout",
          "text": [
            "['a', 'b', 'c', 1, 1.5, 'd']\n"
          ]
        }
      ]
    },
    {
      "cell_type": "markdown",
      "source": [
        "## Index and Slicing"
      ],
      "metadata": {
        "id": "VNNw5dTVLsQv"
      }
    },
    {
      "cell_type": "markdown",
      "source": [
        "The items in a list can be accessed through indexing and slicing. This section will guide you by accessing the list using the following two ways\n",
        "\n",
        "\n",
        "\n",
        "*   **Using indexing**, we can access any item from a list using its index number\n",
        "*   **Using slicing** , we can access a range of items from a list"
      ],
      "metadata": {
        "id": "E8UrdgcGMFEu"
      }
    },
    {
      "cell_type": "markdown",
      "source": [
        "Index"
      ],
      "metadata": {
        "id": "YaAEJS58NNUK"
      }
    },
    {
      "cell_type": "code",
      "execution_count": 47,
      "metadata": {
        "id": "mxihBDedKIN1",
        "outputId": "e1f58f85-2b8a-47d1-f514-d0fc500f1cde",
        "colab": {
          "base_uri": "https://localhost:8080/",
          "height": 35
        }
      },
      "outputs": [
        {
          "output_type": "execute_result",
          "data": {
            "text/plain": [
              "'a'"
            ],
            "application/vnd.google.colaboratory.intrinsic+json": {
              "type": "string"
            }
          },
          "metadata": {},
          "execution_count": 47
        }
      ],
      "source": [
        "# access element in the list\n",
        "\n",
        "# list indexing starts a 0\n",
        "\n",
        "# access first element in the list\n",
        "our_list[0]"
      ]
    },
    {
      "cell_type": "code",
      "execution_count": 48,
      "metadata": {
        "id": "s2KS0Vy9KhJd",
        "outputId": "33e6d04d-22f9-4a13-e776-e0e79eca3f9d",
        "colab": {
          "base_uri": "https://localhost:8080/",
          "height": 35
        }
      },
      "outputs": [
        {
          "output_type": "execute_result",
          "data": {
            "text/plain": [
              "'d'"
            ],
            "application/vnd.google.colaboratory.intrinsic+json": {
              "type": "string"
            }
          },
          "metadata": {},
          "execution_count": 48
        }
      ],
      "source": [
        "# access last element in the list\n",
        "our_list[-1]"
      ]
    },
    {
      "cell_type": "code",
      "source": [
        "# negative index: the seconf element from the end of the list\n",
        "\n",
        "our_list[-2]"
      ],
      "metadata": {
        "id": "q6_N3_VOMyBp",
        "outputId": "35ff0f74-3ed3-4abf-ffcc-af68a57cf946",
        "colab": {
          "base_uri": "https://localhost:8080/"
        }
      },
      "execution_count": 49,
      "outputs": [
        {
          "output_type": "execute_result",
          "data": {
            "text/plain": [
              "1.5"
            ]
          },
          "metadata": {},
          "execution_count": 49
        }
      ]
    },
    {
      "cell_type": "code",
      "source": [
        "# access the 3rd element of the list\n",
        "\n",
        "print(our_list)\n",
        "our_list[2] # because our first index is 0"
      ],
      "metadata": {
        "id": "a24Xzhr6MfDG",
        "outputId": "5fe1c881-7898-4ef5-8c9e-74022bbbea55",
        "colab": {
          "base_uri": "https://localhost:8080/",
          "height": 53
        }
      },
      "execution_count": 50,
      "outputs": [
        {
          "output_type": "stream",
          "name": "stdout",
          "text": [
            "['a', 'b', 'c', 1, 1.5, 'd']\n"
          ]
        },
        {
          "output_type": "execute_result",
          "data": {
            "text/plain": [
              "'c'"
            ],
            "application/vnd.google.colaboratory.intrinsic+json": {
              "type": "string"
            }
          },
          "metadata": {},
          "execution_count": 50
        }
      ]
    },
    {
      "cell_type": "markdown",
      "source": [
        "Slicing"
      ],
      "metadata": {
        "id": "P_qDJkWnNP9h"
      }
    },
    {
      "cell_type": "code",
      "source": [
        "# the first 2 elements\n",
        "\n",
        "print(our_list)\n",
        "print(our_list[2])\n",
        "our_list[:2] "
      ],
      "metadata": {
        "id": "Fr3S-xjsMs6h",
        "outputId": "02596754-8875-4198-a636-1ddfd7b64a2a",
        "colab": {
          "base_uri": "https://localhost:8080/"
        }
      },
      "execution_count": 51,
      "outputs": [
        {
          "output_type": "stream",
          "name": "stdout",
          "text": [
            "['a', 'b', 'c', 1, 1.5, 'd']\n",
            "c\n"
          ]
        },
        {
          "output_type": "execute_result",
          "data": {
            "text/plain": [
              "['a', 'b']"
            ]
          },
          "metadata": {},
          "execution_count": 51
        }
      ]
    },
    {
      "cell_type": "code",
      "source": [
        "# Stating from 2nd item to last item ==> ['c', 1, 1.5, 'd']\n",
        "\n",
        "print(our_list)\n",
        "print(our_list[2:]) # not that here the lower limit is included"
      ],
      "metadata": {
        "id": "PwfDJYlPPkrk",
        "outputId": "53dfe595-85b6-4464-ce3f-1780cd2292e4",
        "colab": {
          "base_uri": "https://localhost:8080/"
        }
      },
      "execution_count": 52,
      "outputs": [
        {
          "output_type": "stream",
          "name": "stdout",
          "text": [
            "['a', 'b', 'c', 1, 1.5, 'd']\n",
            "['c', 1, 1.5, 'd']\n"
          ]
        }
      ]
    },
    {
      "cell_type": "code",
      "source": [
        "# access the sublist c to 1.5 ==> ['c', 1, 1.5]\n",
        "\n",
        "print(our_list)\n",
        "print(our_list[2])\n",
        "print(our_list[4])\n"
      ],
      "metadata": {
        "id": "0opo7jc0NwYy",
        "colab": {
          "base_uri": "https://localhost:8080/"
        },
        "outputId": "830a21d3-b7a8-45bd-ecdf-f8476628044a"
      },
      "execution_count": 53,
      "outputs": [
        {
          "output_type": "stream",
          "name": "stdout",
          "text": [
            "['a', 'b', 'c', 1, 1.5, 'd']\n",
            "c\n",
            "1.5\n"
          ]
        }
      ]
    },
    {
      "cell_type": "code",
      "source": [
        "our_list[2:4] # note that upper limit is not included"
      ],
      "metadata": {
        "id": "vPvF_0pfgvC4",
        "colab": {
          "base_uri": "https://localhost:8080/"
        },
        "outputId": "7bb6b0d6-f385-4d53-9957-d92fde14d9b7"
      },
      "execution_count": 54,
      "outputs": [
        {
          "output_type": "execute_result",
          "data": {
            "text/plain": [
              "['c', 1]"
            ]
          },
          "metadata": {},
          "execution_count": 54
        }
      ]
    },
    {
      "cell_type": "code",
      "source": [
        "our_list[2:5] # we have to add +1 to upper limit if we want to include 1.5"
      ],
      "metadata": {
        "id": "st8AYAIHgTGm",
        "colab": {
          "base_uri": "https://localhost:8080/"
        },
        "outputId": "a26b73ce-d537-46eb-fff5-e8135d1cd5e7"
      },
      "execution_count": 55,
      "outputs": [
        {
          "output_type": "execute_result",
          "data": {
            "text/plain": [
              "['c', 1, 1.5]"
            ]
          },
          "metadata": {},
          "execution_count": 55
        }
      ]
    },
    {
      "cell_type": "markdown",
      "source": [
        "##Length"
      ],
      "metadata": {
        "id": "qSTSlqy6MbgR"
      }
    },
    {
      "cell_type": "code",
      "execution_count": 56,
      "metadata": {
        "id": "ohnrobWmKV4p",
        "colab": {
          "base_uri": "https://localhost:8080/"
        },
        "outputId": "fd2a94fe-e88b-4739-f6f9-7e20fd4aa3b4"
      },
      "outputs": [
        {
          "output_type": "execute_result",
          "data": {
            "text/plain": [
              "6"
            ]
          },
          "metadata": {},
          "execution_count": 56
        }
      ],
      "source": [
        "# length of the list\n",
        "len(our_list)"
      ]
    },
    {
      "cell_type": "markdown",
      "source": [
        "## Insertions"
      ],
      "metadata": {
        "id": "_1NpXj6sYXwB"
      }
    },
    {
      "cell_type": "code",
      "execution_count": 57,
      "metadata": {
        "id": "cf3_W70uJzK8",
        "colab": {
          "base_uri": "https://localhost:8080/"
        },
        "outputId": "856fc463-3d21-4dc4-faf7-16df8e533f75"
      },
      "outputs": [
        {
          "output_type": "stream",
          "name": "stdout",
          "text": [
            "['First element', 'a', 'b', 'c', 1, 1.5, 'd']\n"
          ]
        }
      ],
      "source": [
        "# insert an element in the list at 1st position\n",
        "\n",
        "our_list.insert(0, \"First element\") # instert before 1st element\n",
        "print(our_list)"
      ]
    },
    {
      "cell_type": "code",
      "execution_count": 58,
      "metadata": {
        "id": "3iKzh86PKybY",
        "colab": {
          "base_uri": "https://localhost:8080/"
        },
        "outputId": "d61776f6-fe4c-4145-e891-22f94b48433e"
      },
      "outputs": [
        {
          "output_type": "stream",
          "name": "stdout",
          "text": [
            "['First element', 'a', 'b', 'c', 1, 1.5, 'element', 'd']\n"
          ]
        }
      ],
      "source": [
        "# insert an element in the list before the last one\n",
        "\n",
        "our_list.insert(-1,\"element\") # instert before last element\n",
        "print(our_list)\n"
      ]
    },
    {
      "cell_type": "markdown",
      "source": [
        "## Remove"
      ],
      "metadata": {
        "id": "Xd9B-CAkZSfJ"
      }
    },
    {
      "cell_type": "code",
      "execution_count": 59,
      "metadata": {
        "id": "Gb4Zet70J1Cd",
        "colab": {
          "base_uri": "https://localhost:8080/"
        },
        "outputId": "6a914b92-3058-4302-9c0c-3f967940d062"
      },
      "outputs": [
        {
          "output_type": "stream",
          "name": "stdout",
          "text": [
            "['a', 'b', 'c', 1, 1.5, 'element', 'd']\n"
          ]
        }
      ],
      "source": [
        "# remove element\n",
        "our_list.remove(\"First element\")\n",
        "print(our_list)\n"
      ]
    },
    {
      "cell_type": "code",
      "execution_count": 60,
      "metadata": {
        "id": "mSalYk6YJ2sG",
        "colab": {
          "base_uri": "https://localhost:8080/"
        },
        "outputId": "03e09283-1430-4fee-e392-8c3d5f8e4627"
      },
      "outputs": [
        {
          "output_type": "stream",
          "name": "stdout",
          "text": [
            "['b', 'c', 1, 1.5, 'element', 'd']\n"
          ]
        }
      ],
      "source": [
        "# remove element by its index\n",
        "\n",
        "our_list.pop(0)\n",
        "print(our_list)\n"
      ]
    },
    {
      "cell_type": "markdown",
      "source": [
        "## Nested List"
      ],
      "metadata": {
        "id": "4uxmO7G7dBlm"
      }
    },
    {
      "cell_type": "code",
      "execution_count": 61,
      "metadata": {
        "id": "MYHwxGC7J6i_",
        "colab": {
          "base_uri": "https://localhost:8080/"
        },
        "outputId": "fc9e47b1-76b4-4a2c-eb30-2eb57e1bfd60"
      },
      "outputs": [
        {
          "output_type": "stream",
          "name": "stdout",
          "text": [
            "[[1, 2, 3], 6, 7, 5]\n"
          ]
        }
      ],
      "source": [
        "# we can have nested lists\n",
        "\n",
        "nested_list = [[1,2,3],6,7,5]\n",
        "print(nested_list)"
      ]
    },
    {
      "cell_type": "code",
      "execution_count": 62,
      "metadata": {
        "id": "HoXeJgLULVYI",
        "colab": {
          "base_uri": "https://localhost:8080/"
        },
        "outputId": "5528acdf-d954-4998-d2f3-a6c11356e909"
      },
      "outputs": [
        {
          "output_type": "execute_result",
          "data": {
            "text/plain": [
              "4"
            ]
          },
          "metadata": {},
          "execution_count": 62
        }
      ],
      "source": [
        "# length of nested ==> the list within my_list [1, 2, 3] will be considered a single element\n",
        "len(nested_list)"
      ]
    },
    {
      "cell_type": "code",
      "execution_count": 63,
      "metadata": {
        "id": "lWfUBRmDLZ0i",
        "colab": {
          "base_uri": "https://localhost:8080/"
        },
        "outputId": "9a914866-a9a5-4c30-9721-9317f514377c"
      },
      "outputs": [
        {
          "output_type": "execute_result",
          "data": {
            "text/plain": [
              "[1, 2, 3]"
            ]
          },
          "metadata": {},
          "execution_count": 63
        }
      ],
      "source": [
        "# access 1st element of nested list\n",
        "nested_list[0]"
      ]
    },
    {
      "cell_type": "code",
      "execution_count": 64,
      "metadata": {
        "id": "OESQK8qeLi6z",
        "colab": {
          "base_uri": "https://localhost:8080/"
        },
        "outputId": "0ac131e9-4c5b-48c9-f763-306a0c2154f3"
      },
      "outputs": [
        {
          "output_type": "execute_result",
          "data": {
            "text/plain": [
              "6"
            ]
          },
          "metadata": {},
          "execution_count": 64
        }
      ],
      "source": [
        "# access 2nd element of nested list\n",
        "nested_list[1]"
      ]
    },
    {
      "cell_type": "code",
      "execution_count": 65,
      "metadata": {
        "id": "0XjmRBPILf6J",
        "colab": {
          "base_uri": "https://localhost:8080/"
        },
        "outputId": "09c12218-8872-4f7a-fae7-894edc5a9b4d"
      },
      "outputs": [
        {
          "output_type": "execute_result",
          "data": {
            "text/plain": [
              "2"
            ]
          },
          "metadata": {},
          "execution_count": 65
        }
      ],
      "source": [
        "# access an element from a list within the nested list 2\n",
        "nested_list[0][1]"
      ]
    },
    {
      "cell_type": "markdown",
      "source": [
        "More about lists https://pynative.com/python-lists/"
      ],
      "metadata": {
        "id": "tTIB5A1pKRJA"
      }
    },
    {
      "cell_type": "markdown",
      "source": [
        "## List Practice ***"
      ],
      "metadata": {
        "id": "3TRz4t_DVRLK"
      }
    },
    {
      "cell_type": "markdown",
      "source": [
        "In order to better understand how to work with lists, please try to write by yourself the code for the following tasks.\n",
        "\n",
        "If you don't figure out how to do it, or you just want to check if you got the right solution, just click the arrow next to \"Display Solution\" and click on \"Run button\" to execute the code"
      ],
      "metadata": {
        "id": "OxpelYw0350M"
      }
    },
    {
      "cell_type": "markdown",
      "source": [
        "### Assigment 1"
      ],
      "metadata": {
        "id": "FCk68AJIz8CW"
      }
    },
    {
      "cell_type": "code",
      "source": [
        "# Create a list called 'my_list' with elements 'John', 'Emma', 10, 5, 3, 'Daniel', 'Tom', 34, 30 and print it out\n",
        "\n",
        "# you code here ...\n",
        "\n",
        "my_list = ['John', 'Emma', 10, 5, 3, 'Daniel', 'Tom', 34, 30]\n",
        "print(my_list)"
      ],
      "metadata": {
        "id": "TpOMoqlb7eZG",
        "colab": {
          "base_uri": "https://localhost:8080/"
        },
        "outputId": "e545caef-3601-4799-9a15-4d6d5a542e30"
      },
      "execution_count": 66,
      "outputs": [
        {
          "output_type": "stream",
          "name": "stdout",
          "text": [
            "['John', 'Emma', 10, 5, 3, 'Daniel', 'Tom', 34, 30]\n"
          ]
        }
      ]
    },
    {
      "cell_type": "code",
      "source": [
        "#@title Display the solution 1\n",
        "\n",
        "my_list= ['John', 'Emma', 10, 5, 3, 'Daniel', 'Tom', 34, 30]\n",
        "print(my_list)\n"
      ],
      "metadata": {
        "cellView": "form",
        "id": "f2kwHEt27X8Z",
        "colab": {
          "base_uri": "https://localhost:8080/"
        },
        "outputId": "31d08741-be8c-49c4-95b0-11b111f06eb0"
      },
      "execution_count": 67,
      "outputs": [
        {
          "output_type": "stream",
          "name": "stdout",
          "text": [
            "['John', 'Emma', 10, 5, 3, 'Daniel', 'Tom', 34, 30]\n"
          ]
        }
      ]
    },
    {
      "cell_type": "markdown",
      "source": [
        "### Assigment 2"
      ],
      "metadata": {
        "id": "hMa2u4uy0GlN"
      }
    },
    {
      "cell_type": "code",
      "source": [
        "# Write a code to check how many element my_list have (the lengh of my_list)\n",
        "\n",
        "# your code here ....\n",
        "len(my_list)"
      ],
      "metadata": {
        "id": "ccflDIoX8Q9Y",
        "colab": {
          "base_uri": "https://localhost:8080/"
        },
        "outputId": "9c2470da-acc2-4656-9175-ed35a8189c50"
      },
      "execution_count": 68,
      "outputs": [
        {
          "output_type": "execute_result",
          "data": {
            "text/plain": [
              "9"
            ]
          },
          "metadata": {},
          "execution_count": 68
        }
      ]
    },
    {
      "cell_type": "code",
      "source": [
        "#@title Display the solution 2\n",
        "\n",
        "# how many elements my_list has ?\n",
        "\n",
        "len(my_list)"
      ],
      "metadata": {
        "cellView": "form",
        "id": "ESR6Bgti0sTE",
        "colab": {
          "base_uri": "https://localhost:8080/"
        },
        "outputId": "99a16def-856c-4029-d0f3-9fc4aa9c56e9"
      },
      "execution_count": 69,
      "outputs": [
        {
          "output_type": "execute_result",
          "data": {
            "text/plain": [
              "9"
            ]
          },
          "metadata": {},
          "execution_count": 69
        }
      ]
    },
    {
      "cell_type": "markdown",
      "source": [
        "### Assigment 3"
      ],
      "metadata": {
        "id": "tT3oyXP00M8i"
      }
    },
    {
      "cell_type": "code",
      "source": [
        "# append 'Bill' to the list and check now its length\n",
        "\n",
        "# your code here...\n",
        "my_list.append('Bill')\n",
        "print(my_list)\n",
        "len(my_list)"
      ],
      "metadata": {
        "id": "AWMnUF-o0wq9",
        "colab": {
          "base_uri": "https://localhost:8080/"
        },
        "outputId": "b4ce1abe-60d7-4e91-c492-00127cfd3eca"
      },
      "execution_count": 70,
      "outputs": [
        {
          "output_type": "stream",
          "name": "stdout",
          "text": [
            "['John', 'Emma', 10, 5, 3, 'Daniel', 'Tom', 34, 30, 'Bill']\n"
          ]
        },
        {
          "output_type": "execute_result",
          "data": {
            "text/plain": [
              "10"
            ]
          },
          "metadata": {},
          "execution_count": 70
        }
      ]
    },
    {
      "cell_type": "code",
      "source": [
        "#@title Display the solution 3\n",
        "\n",
        "# append 'Bill' to the list and check now its length\n",
        "\n",
        "my_list.append('Bill')\n",
        "print('Now the modified my_list is: ', my_list)\n",
        "print('The length of the modified list is: ', len(my_list))"
      ],
      "metadata": {
        "id": "eolhEZfE8tDZ",
        "cellView": "form",
        "colab": {
          "base_uri": "https://localhost:8080/"
        },
        "outputId": "039a8ec1-9811-42bc-a61f-37a4e252f0e2"
      },
      "execution_count": 71,
      "outputs": [
        {
          "output_type": "stream",
          "name": "stdout",
          "text": [
            "Now the modified my_list is:  ['John', 'Emma', 10, 5, 3, 'Daniel', 'Tom', 34, 30, 'Bill', 'Bill']\n",
            "The length of the modified list is:  11\n"
          ]
        }
      ]
    },
    {
      "cell_type": "markdown",
      "source": [
        "### Assigment 4"
      ],
      "metadata": {
        "id": "Z3twAlXt0QFC"
      }
    },
    {
      "cell_type": "code",
      "source": [
        "# return the element 'John' from my_list\n",
        "\n",
        "my_list[0]"
      ],
      "metadata": {
        "id": "wCCL9VRG8tIQ",
        "colab": {
          "base_uri": "https://localhost:8080/",
          "height": 35
        },
        "outputId": "41ad07ca-b3a3-4dfc-f609-ff1cfa548f38"
      },
      "execution_count": 72,
      "outputs": [
        {
          "output_type": "execute_result",
          "data": {
            "text/plain": [
              "'John'"
            ],
            "application/vnd.google.colaboratory.intrinsic+json": {
              "type": "string"
            }
          },
          "metadata": {},
          "execution_count": 72
        }
      ]
    },
    {
      "cell_type": "code",
      "source": [
        "#@title Display the solution 4\n",
        "\n",
        "# return 'John'\n",
        "my_list[0]"
      ],
      "metadata": {
        "id": "Pu6H_5kH0zL9",
        "cellView": "form",
        "colab": {
          "base_uri": "https://localhost:8080/",
          "height": 35
        },
        "outputId": "485bbb53-fbf6-4846-df5b-b8ad31fcedf7"
      },
      "execution_count": 73,
      "outputs": [
        {
          "output_type": "execute_result",
          "data": {
            "text/plain": [
              "'John'"
            ],
            "application/vnd.google.colaboratory.intrinsic+json": {
              "type": "string"
            }
          },
          "metadata": {},
          "execution_count": 73
        }
      ]
    },
    {
      "cell_type": "markdown",
      "source": [
        "### Assigment 5"
      ],
      "metadata": {
        "id": "Caof_lLu0Ttn"
      }
    },
    {
      "cell_type": "code",
      "source": [
        "# return 'Bill'\n",
        "\n",
        "my_list [-1]"
      ],
      "metadata": {
        "id": "Cp_ZWUNZ01ka",
        "colab": {
          "base_uri": "https://localhost:8080/",
          "height": 35
        },
        "outputId": "ab7fb179-22d5-44e3-e2cc-2807030fffed"
      },
      "execution_count": 74,
      "outputs": [
        {
          "output_type": "execute_result",
          "data": {
            "text/plain": [
              "'Bill'"
            ],
            "application/vnd.google.colaboratory.intrinsic+json": {
              "type": "string"
            }
          },
          "metadata": {},
          "execution_count": 74
        }
      ]
    },
    {
      "cell_type": "code",
      "source": [
        "#@title Display the solution 5\n",
        "\n",
        "# return 'Bill'\n",
        "my_list[-1]"
      ],
      "metadata": {
        "cellView": "form",
        "id": "-qikJLpT_wGK",
        "colab": {
          "base_uri": "https://localhost:8080/",
          "height": 35
        },
        "outputId": "d4eb90ae-9699-4a49-8fb9-ee2b3d315673"
      },
      "execution_count": 75,
      "outputs": [
        {
          "output_type": "execute_result",
          "data": {
            "text/plain": [
              "'Bill'"
            ],
            "application/vnd.google.colaboratory.intrinsic+json": {
              "type": "string"
            }
          },
          "metadata": {},
          "execution_count": 75
        }
      ]
    },
    {
      "cell_type": "markdown",
      "source": [
        "### Assigment 6"
      ],
      "metadata": {
        "id": "qzzDmXP50WV4"
      }
    },
    {
      "cell_type": "code",
      "source": [
        "# return element 34 from my_list\n",
        "\n",
        "print(my_list[7])\n",
        "print(my_list[-4])"
      ],
      "metadata": {
        "id": "p_r4X73j03g4",
        "colab": {
          "base_uri": "https://localhost:8080/"
        },
        "outputId": "25e0683e-9dc8-49f1-bf7d-10bdbd98449b"
      },
      "execution_count": 76,
      "outputs": [
        {
          "output_type": "stream",
          "name": "stdout",
          "text": [
            "34\n",
            "34\n"
          ]
        }
      ]
    },
    {
      "cell_type": "code",
      "source": [
        "#@title Display the solution 6\n",
        "\n",
        "# return 34\n",
        "my_list[-3]"
      ],
      "metadata": {
        "cellView": "form",
        "id": "rJk9aBWm_5Kd",
        "colab": {
          "base_uri": "https://localhost:8080/"
        },
        "outputId": "6b7fe544-60ca-4c99-f550-0e29a61425d9"
      },
      "execution_count": 77,
      "outputs": [
        {
          "output_type": "execute_result",
          "data": {
            "text/plain": [
              "30"
            ]
          },
          "metadata": {},
          "execution_count": 77
        }
      ]
    },
    {
      "cell_type": "markdown",
      "source": [
        "### Assigment 7"
      ],
      "metadata": {
        "id": "hfMAicI90bLd"
      }
    },
    {
      "cell_type": "code",
      "source": [
        "# return John and Emma\n",
        "\n",
        "my_list[:2]"
      ],
      "metadata": {
        "id": "bRzniT7f06Dg",
        "colab": {
          "base_uri": "https://localhost:8080/"
        },
        "outputId": "682426d7-5dfb-4bc8-d144-030592d754af"
      },
      "execution_count": 78,
      "outputs": [
        {
          "output_type": "execute_result",
          "data": {
            "text/plain": [
              "['John', 'Emma']"
            ]
          },
          "metadata": {},
          "execution_count": 78
        }
      ]
    },
    {
      "cell_type": "code",
      "source": [
        "#@title Display the solution 7\n",
        "\n",
        "# return John and Emma\n",
        "my_list[:2]\n"
      ],
      "metadata": {
        "cellView": "form",
        "id": "6_sszPvX_7ew",
        "colab": {
          "base_uri": "https://localhost:8080/"
        },
        "outputId": "ad4c93f4-8db3-4e96-8c82-a0892715d73b"
      },
      "execution_count": 79,
      "outputs": [
        {
          "output_type": "execute_result",
          "data": {
            "text/plain": [
              "['John', 'Emma']"
            ]
          },
          "metadata": {},
          "execution_count": 79
        }
      ]
    },
    {
      "cell_type": "markdown",
      "source": [
        "### Assigment 8"
      ],
      "metadata": {
        "id": "oiMxynEb0duz"
      }
    },
    {
      "cell_type": "code",
      "source": [
        "# return Emma, 10, 5\n",
        "\n",
        "my_list[1:4]"
      ],
      "metadata": {
        "id": "oVecGaro1AQA",
        "colab": {
          "base_uri": "https://localhost:8080/"
        },
        "outputId": "dba328c8-2229-4ebc-8951-a994a64459f7"
      },
      "execution_count": 80,
      "outputs": [
        {
          "output_type": "execute_result",
          "data": {
            "text/plain": [
              "['Emma', 10, 5]"
            ]
          },
          "metadata": {},
          "execution_count": 80
        }
      ]
    },
    {
      "cell_type": "code",
      "source": [
        "#@title Display the solution 8\n",
        "\n",
        "# return Emma, 10, 5\n",
        "my_list[1:4]"
      ],
      "metadata": {
        "cellView": "form",
        "id": "1aiLIcAO_88I",
        "colab": {
          "base_uri": "https://localhost:8080/"
        },
        "outputId": "c82ea7c1-68f3-4164-f116-6262300d2f46"
      },
      "execution_count": 81,
      "outputs": [
        {
          "output_type": "execute_result",
          "data": {
            "text/plain": [
              "['Emma', 10, 5]"
            ]
          },
          "metadata": {},
          "execution_count": 81
        }
      ]
    },
    {
      "cell_type": "markdown",
      "source": [
        "### Assigment 9"
      ],
      "metadata": {
        "id": "-GYQ5QU40hXh"
      }
    },
    {
      "cell_type": "code",
      "source": [
        "# return Tom, 34, 30, Bill\n",
        "print(my_list)\n",
        "my_list[-4:]"
      ],
      "metadata": {
        "id": "XkfCFLNc1A2W",
        "colab": {
          "base_uri": "https://localhost:8080/"
        },
        "outputId": "40144b17-e445-4f32-9c2f-8bb07cc91878"
      },
      "execution_count": 82,
      "outputs": [
        {
          "output_type": "stream",
          "name": "stdout",
          "text": [
            "['John', 'Emma', 10, 5, 3, 'Daniel', 'Tom', 34, 30, 'Bill', 'Bill']\n"
          ]
        },
        {
          "output_type": "execute_result",
          "data": {
            "text/plain": [
              "[34, 30, 'Bill', 'Bill']"
            ]
          },
          "metadata": {},
          "execution_count": 82
        }
      ]
    },
    {
      "cell_type": "code",
      "source": [
        "#@title Display the solution 9\n",
        "\n",
        "# return Tom, 34, 30, Bill\n",
        "\n",
        "print(my_list[-4:])\n",
        "\n",
        "#  OR\n",
        "\n",
        "my_list[6:]"
      ],
      "metadata": {
        "cellView": "form",
        "id": "Wv7dlrbT_-RM",
        "colab": {
          "base_uri": "https://localhost:8080/"
        },
        "outputId": "26a06641-b444-4eaf-a604-9d5b5aa00236"
      },
      "execution_count": 83,
      "outputs": [
        {
          "output_type": "stream",
          "name": "stdout",
          "text": [
            "[34, 30, 'Bill', 'Bill']\n"
          ]
        },
        {
          "output_type": "execute_result",
          "data": {
            "text/plain": [
              "['Tom', 34, 30, 'Bill', 'Bill']"
            ]
          },
          "metadata": {},
          "execution_count": 83
        }
      ]
    },
    {
      "cell_type": "markdown",
      "source": [
        "### Assigment 10"
      ],
      "metadata": {
        "id": "0AnNMt6W0jof"
      }
    },
    {
      "cell_type": "code",
      "source": [
        "# insert an element 'Julia' in the list at 2nd position\n",
        "\n",
        "my_list.insert(2,'Julia')\n",
        "print(my_list)"
      ],
      "metadata": {
        "id": "yYdO-ouJ1DXh",
        "colab": {
          "base_uri": "https://localhost:8080/"
        },
        "outputId": "fd7a3c1b-f24d-4fad-f39c-b9866b4ed462"
      },
      "execution_count": 84,
      "outputs": [
        {
          "output_type": "stream",
          "name": "stdout",
          "text": [
            "['John', 'Emma', 'Julia', 10, 5, 3, 'Daniel', 'Tom', 34, 30, 'Bill', 'Bill']\n"
          ]
        }
      ]
    },
    {
      "cell_type": "code",
      "source": [
        "#@title Display the solution 10\n",
        "\n",
        "# insert an element 'Julia' in the list at 2nd position (*** or 1st position in Python logic ***)\n",
        "\n",
        "my_list.insert(1, \"Julia\") # instert before 1st element\n",
        "print(my_list)"
      ],
      "metadata": {
        "cellView": "form",
        "id": "KgJMrnT6AAJw",
        "colab": {
          "base_uri": "https://localhost:8080/"
        },
        "outputId": "7aed4c88-ab55-4ecb-eb33-76b293b18642"
      },
      "execution_count": 85,
      "outputs": [
        {
          "output_type": "stream",
          "name": "stdout",
          "text": [
            "['John', 'Julia', 'Emma', 'Julia', 10, 5, 3, 'Daniel', 'Tom', 34, 30, 'Bill', 'Bill']\n"
          ]
        }
      ]
    },
    {
      "cell_type": "markdown",
      "source": [
        "### Assigment 11"
      ],
      "metadata": {
        "id": "nSKQ5pX60s7H"
      }
    },
    {
      "cell_type": "code",
      "source": [
        "# insert an element 'Anna\" in the list before 30\n",
        "\n",
        "my_list.insert(-2,'Anna')\n",
        "print(my_list)"
      ],
      "metadata": {
        "id": "kl0wyky61GL1",
        "colab": {
          "base_uri": "https://localhost:8080/"
        },
        "outputId": "f300ea93-dfd7-40cf-ce77-6a53938162ec"
      },
      "execution_count": 86,
      "outputs": [
        {
          "output_type": "stream",
          "name": "stdout",
          "text": [
            "['John', 'Julia', 'Emma', 'Julia', 10, 5, 3, 'Daniel', 'Tom', 34, 30, 'Anna', 'Bill', 'Bill']\n"
          ]
        }
      ]
    },
    {
      "cell_type": "code",
      "source": [
        "#@title Display the solution 11\n",
        "\n",
        "# insert an element 'Anna\" in the list before 30\n",
        "\n",
        "my_list.insert(-2,\"Anna\") # instert before last element\n",
        "print(my_list)"
      ],
      "metadata": {
        "cellView": "form",
        "id": "sNOfr1AMABhX",
        "colab": {
          "base_uri": "https://localhost:8080/"
        },
        "outputId": "ed1caeee-faa1-4dc3-a74a-c652df726574"
      },
      "execution_count": 87,
      "outputs": [
        {
          "output_type": "stream",
          "name": "stdout",
          "text": [
            "['John', 'Julia', 'Emma', 'Julia', 10, 5, 3, 'Daniel', 'Tom', 34, 30, 'Anna', 'Anna', 'Bill', 'Bill']\n"
          ]
        }
      ]
    },
    {
      "cell_type": "markdown",
      "source": [
        "### Assigment 12"
      ],
      "metadata": {
        "id": "G751GJAv0vWG"
      }
    },
    {
      "cell_type": "code",
      "source": [
        "# remove element 'Emma' \n",
        "#  ==> 2 ways to remove it: \n",
        "# with .remove method (if you want to use the value of the element) \n",
        "# or .pop method (using the index of the eelement)\n",
        "\n",
        "# my_list.remove('Emma')\n",
        "my_list.pop(1)\n",
        "print(my_list)\n"
      ],
      "metadata": {
        "id": "JYUIiYBP1IYu",
        "colab": {
          "base_uri": "https://localhost:8080/"
        },
        "outputId": "66ffce91-9f88-43f2-e55f-6d28f3b68002"
      },
      "execution_count": 88,
      "outputs": [
        {
          "output_type": "stream",
          "name": "stdout",
          "text": [
            "['John', 'Emma', 'Julia', 10, 5, 3, 'Daniel', 'Tom', 34, 30, 'Anna', 'Anna', 'Bill', 'Bill']\n"
          ]
        }
      ]
    },
    {
      "cell_type": "code",
      "source": [
        "#@title Display the solution 12\n",
        "\n",
        "# remove element 'Emma'\n",
        "my_list.remove(\"Emma\")\n",
        "print(my_list)\n",
        "\n",
        "## OR \n",
        "my_list.insert(2,\"Emma\")\n",
        "my_list.pop(2)\n",
        "print(my_list)"
      ],
      "metadata": {
        "cellView": "form",
        "id": "cLCiGth-AC8m",
        "colab": {
          "base_uri": "https://localhost:8080/"
        },
        "outputId": "03c09120-92d5-49d6-d5f7-9bd483d1fa87"
      },
      "execution_count": 89,
      "outputs": [
        {
          "output_type": "stream",
          "name": "stdout",
          "text": [
            "['John', 'Julia', 10, 5, 3, 'Daniel', 'Tom', 34, 30, 'Anna', 'Anna', 'Bill', 'Bill']\n",
            "['John', 'Julia', 10, 5, 3, 'Daniel', 'Tom', 34, 30, 'Anna', 'Anna', 'Bill', 'Bill']\n"
          ]
        }
      ]
    },
    {
      "cell_type": "markdown",
      "source": [
        "### Assigment 13"
      ],
      "metadata": {
        "id": "QsrL1vHL0y3q"
      }
    },
    {
      "cell_type": "code",
      "source": [
        "# append a new list [Sarah, 42, Jerry] ==> to obtain a nested list\n",
        "\n",
        "my_list.append(['Sarah',42,'Jerry'])\n",
        "print(my_list)"
      ],
      "metadata": {
        "id": "MhMG8MjS1Phm",
        "colab": {
          "base_uri": "https://localhost:8080/"
        },
        "outputId": "ae49fe58-4412-420d-d11f-23498a74b90c"
      },
      "execution_count": 90,
      "outputs": [
        {
          "output_type": "stream",
          "name": "stdout",
          "text": [
            "['John', 'Julia', 10, 5, 3, 'Daniel', 'Tom', 34, 30, 'Anna', 'Anna', 'Bill', 'Bill', ['Sarah', 42, 'Jerry']]\n"
          ]
        }
      ]
    },
    {
      "cell_type": "code",
      "source": [
        "#@title Display the solution 13\n",
        "\n",
        "my_list.remove(['Sarah', 42, 'Jerry'])\n",
        "print(my_list)"
      ],
      "metadata": {
        "cellView": "form",
        "id": "S_pYT0Z4AEZw",
        "colab": {
          "base_uri": "https://localhost:8080/"
        },
        "outputId": "69cf6da3-30a9-4868-8d07-c0e63c408c44"
      },
      "execution_count": 91,
      "outputs": [
        {
          "output_type": "stream",
          "name": "stdout",
          "text": [
            "['John', 'Julia', 10, 5, 3, 'Daniel', 'Tom', 34, 30, 'Anna', 'Anna', 'Bill', 'Bill']\n"
          ]
        }
      ]
    },
    {
      "cell_type": "markdown",
      "source": [
        "### Assigment 14"
      ],
      "metadata": {
        "id": "FzBJ403d00ra"
      }
    },
    {
      "cell_type": "code",
      "source": [
        "# return 'Sarah' (*** keep in mind that you have a nested list ***)\n",
        "\n",
        "my_list[-1][0]"
      ],
      "metadata": {
        "id": "5ZSjSfnO1Lap",
        "colab": {
          "base_uri": "https://localhost:8080/",
          "height": 35
        },
        "outputId": "f4dcdf64-9a09-44d8-8291-55da72402c73"
      },
      "execution_count": 92,
      "outputs": [
        {
          "output_type": "execute_result",
          "data": {
            "text/plain": [
              "'B'"
            ],
            "application/vnd.google.colaboratory.intrinsic+json": {
              "type": "string"
            }
          },
          "metadata": {},
          "execution_count": 92
        }
      ]
    },
    {
      "cell_type": "code",
      "source": [
        "#@title Display the solution 14\n",
        "\n",
        "# return 'Sarah'\n",
        "my_list[-1][0]"
      ],
      "metadata": {
        "id": "iwLCEY4jAFjI",
        "colab": {
          "base_uri": "https://localhost:8080/",
          "height": 35
        },
        "cellView": "form",
        "outputId": "40424a25-409b-40da-8a33-ee0eea36b514"
      },
      "execution_count": 93,
      "outputs": [
        {
          "output_type": "execute_result",
          "data": {
            "text/plain": [
              "'B'"
            ],
            "application/vnd.google.colaboratory.intrinsic+json": {
              "type": "string"
            }
          },
          "metadata": {},
          "execution_count": 93
        }
      ]
    },
    {
      "cell_type": "markdown",
      "metadata": {
        "id": "ZCMxntYXMDiH"
      },
      "source": [
        "# 7.&nbsp;Strings"
      ]
    },
    {
      "cell_type": "code",
      "execution_count": 94,
      "metadata": {
        "id": "Yq-DuAVSLw8K",
        "colab": {
          "base_uri": "https://localhost:8080/",
          "height": 35
        },
        "outputId": "58433815-c8b1-4796-a95a-30a5b4043318"
      },
      "outputs": [
        {
          "output_type": "execute_result",
          "data": {
            "text/plain": [
              "'text'"
            ],
            "application/vnd.google.colaboratory.intrinsic+json": {
              "type": "string"
            }
          },
          "metadata": {},
          "execution_count": 94
        }
      ],
      "source": [
        "string_a = 'text'\n",
        "string_a"
      ]
    },
    {
      "cell_type": "code",
      "execution_count": 95,
      "metadata": {
        "id": "xyCf0t6TMKuG",
        "colab": {
          "base_uri": "https://localhost:8080/",
          "height": 35
        },
        "outputId": "16581023-2519-4e8f-be20-206617f647ef"
      },
      "outputs": [
        {
          "output_type": "execute_result",
          "data": {
            "text/plain": [
              "'This is a '"
            ],
            "application/vnd.google.colaboratory.intrinsic+json": {
              "type": "string"
            }
          },
          "metadata": {},
          "execution_count": 95
        }
      ],
      "source": [
        "string_b = 'This is a '\n",
        "string_b"
      ]
    },
    {
      "cell_type": "code",
      "execution_count": 96,
      "metadata": {
        "id": "LA_YJDp1MRhu",
        "colab": {
          "base_uri": "https://localhost:8080/",
          "height": 35
        },
        "outputId": "402691db-6033-48b3-fb46-c53eb0fcfd07"
      },
      "outputs": [
        {
          "output_type": "execute_result",
          "data": {
            "text/plain": [
              "'This is a text'"
            ],
            "application/vnd.google.colaboratory.intrinsic+json": {
              "type": "string"
            }
          },
          "metadata": {},
          "execution_count": 96
        }
      ],
      "source": [
        "string_b + string_a"
      ]
    },
    {
      "cell_type": "code",
      "execution_count": 97,
      "metadata": {
        "id": "OIRgk1h8MTuU",
        "colab": {
          "base_uri": "https://localhost:8080/",
          "height": 35
        },
        "outputId": "ad66cb24-ec59-4c07-a06e-c6fb8da9072f"
      },
      "outputs": [
        {
          "output_type": "execute_result",
          "data": {
            "text/plain": [
              "'This is a text'"
            ],
            "application/vnd.google.colaboratory.intrinsic+json": {
              "type": "string"
            }
          },
          "metadata": {},
          "execution_count": 97
        }
      ],
      "source": [
        "string_c = string_b + string_a\n",
        "string_c"
      ]
    },
    {
      "cell_type": "code",
      "source": [
        "string_c.lower()"
      ],
      "metadata": {
        "id": "D1iQ5vBOe25p",
        "colab": {
          "base_uri": "https://localhost:8080/",
          "height": 35
        },
        "outputId": "c4eeb2d8-c7cd-40f4-bfee-e419695d2853"
      },
      "execution_count": 98,
      "outputs": [
        {
          "output_type": "execute_result",
          "data": {
            "text/plain": [
              "'this is a text'"
            ],
            "application/vnd.google.colaboratory.intrinsic+json": {
              "type": "string"
            }
          },
          "metadata": {},
          "execution_count": 98
        }
      ]
    },
    {
      "cell_type": "code",
      "execution_count": 99,
      "metadata": {
        "id": "GHaA3MWoMjZ2",
        "colab": {
          "base_uri": "https://localhost:8080/",
          "height": 35
        },
        "outputId": "a863a14d-a33b-426d-fd77-098f1a810d5e"
      },
      "outputs": [
        {
          "output_type": "execute_result",
          "data": {
            "text/plain": [
              "'THIS IS A TEXT'"
            ],
            "application/vnd.google.colaboratory.intrinsic+json": {
              "type": "string"
            }
          },
          "metadata": {},
          "execution_count": 99
        }
      ],
      "source": [
        "string_c.upper()"
      ]
    },
    {
      "cell_type": "code",
      "execution_count": 100,
      "metadata": {
        "id": "dnmLHQCLMr1j",
        "colab": {
          "base_uri": "https://localhost:8080/",
          "height": 35
        },
        "outputId": "c9f8a75a-37a6-4ba6-9163-764a4e6a1156"
      },
      "outputs": [
        {
          "output_type": "execute_result",
          "data": {
            "text/plain": [
              "'T'"
            ],
            "application/vnd.google.colaboratory.intrinsic+json": {
              "type": "string"
            }
          },
          "metadata": {},
          "execution_count": 100
        }
      ],
      "source": [
        "# access a string\n",
        "string_c[0]"
      ]
    },
    {
      "cell_type": "code",
      "execution_count": 101,
      "metadata": {
        "id": "WnNXuxDCMveW",
        "colab": {
          "base_uri": "https://localhost:8080/"
        },
        "outputId": "de85e8af-366f-4e6d-ae5d-8d84f8ac1791"
      },
      "outputs": [
        {
          "output_type": "execute_result",
          "data": {
            "text/plain": [
              "14"
            ]
          },
          "metadata": {},
          "execution_count": 101
        }
      ],
      "source": [
        "# length (the space is counted a 1)\n",
        "len(string_c)"
      ]
    },
    {
      "cell_type": "code",
      "execution_count": 102,
      "metadata": {
        "id": "-OZKGMHVM0S-",
        "colab": {
          "base_uri": "https://localhost:8080/"
        },
        "outputId": "db2cf564-b6fb-4aae-f23d-853d6fd796df"
      },
      "outputs": [
        {
          "output_type": "stream",
          "name": "stdout",
          "text": [
            "Derrick.Matt@gmail.com\n"
          ]
        }
      ],
      "source": [
        "# splitting strings\n",
        "string_d = \"Derrick.Matt@gmail.com\"\n",
        "print(string_d)"
      ]
    },
    {
      "cell_type": "code",
      "source": [
        "# Split a string into a list where each word is a list item, use split() function\n",
        "# split by hyphen\n",
        "\n",
        "print(string_d.split(\"@\"))"
      ],
      "metadata": {
        "id": "zVhs3mBvfWBf",
        "colab": {
          "base_uri": "https://localhost:8080/"
        },
        "outputId": "5e142959-c6a9-4504-f544-f03bf51c80fe"
      },
      "execution_count": 103,
      "outputs": [
        {
          "output_type": "stream",
          "name": "stdout",
          "text": [
            "['Derrick.Matt', 'gmail.com']\n"
          ]
        }
      ]
    },
    {
      "cell_type": "markdown",
      "source": [
        "More about splitting strings https://www.w3schools.com/python/ref_string_split.asp\n",
        "\n",
        "More about strings manipulations https://www.w3schools.com/python/python_ref_string.asp\n",
        "\n",
        "More about string theory https://www.programiz.com/python-programming/string"
      ],
      "metadata": {
        "id": "oWCzQow4fu29"
      }
    },
    {
      "cell_type": "markdown",
      "source": [
        "## String Practice ***"
      ],
      "metadata": {
        "id": "VwkObPWr1Upf"
      }
    },
    {
      "cell_type": "markdown",
      "source": [
        "### Assigment 1"
      ],
      "metadata": {
        "id": "He_h7lHy1adv"
      }
    },
    {
      "cell_type": "code",
      "source": [
        "# create a string variable called \"name\", and assign the value 'AdaM Smith'\n",
        "# modify this variable so all the characters of the string are in CAPITAL LETTERS\n",
        "# return the modified variable\n",
        "\n",
        "\n",
        "name='AdaM Smith'\n",
        "print(name.upper())"
      ],
      "metadata": {
        "id": "i2oDUQrT1e2O",
        "colab": {
          "base_uri": "https://localhost:8080/"
        },
        "outputId": "e7bcc7ce-c8b9-43ad-d59c-8da1185e2eb6"
      },
      "execution_count": 104,
      "outputs": [
        {
          "output_type": "stream",
          "name": "stdout",
          "text": [
            "ADAM SMITH\n"
          ]
        }
      ]
    },
    {
      "cell_type": "code",
      "source": [
        "#@title Display the solution 1\n",
        "\n",
        "# create a string variable called \"name\", and assign the value 'AdaM Smith'\n",
        "name = 'AdaM Smith'\n",
        "\n",
        "# modify this variable so all the characters of the string are in CAPITAL LETTERS\n",
        "name = name.upper()\n",
        "\n",
        "# return the modified variable\n",
        "print(name)\n"
      ],
      "metadata": {
        "cellView": "form",
        "id": "r0763MYR1qFx",
        "colab": {
          "base_uri": "https://localhost:8080/"
        },
        "outputId": "8e5d74d8-9ff7-468e-83eb-e4cddb0e3053"
      },
      "execution_count": 105,
      "outputs": [
        {
          "output_type": "stream",
          "name": "stdout",
          "text": [
            "ADAM SMITH\n"
          ]
        }
      ]
    },
    {
      "cell_type": "markdown",
      "source": [
        "### Assigment 2"
      ],
      "metadata": {
        "id": "qFWK_2QY1fji"
      }
    },
    {
      "cell_type": "code",
      "source": [
        "# access a the 1st letter of variable \"name\" \n",
        "# ... the outcome should be 'A'\n",
        "\n",
        "name[0]\n"
      ],
      "metadata": {
        "id": "vIVu4gbw3MtX",
        "colab": {
          "base_uri": "https://localhost:8080/",
          "height": 35
        },
        "outputId": "8856bf75-ff1d-463a-cae5-1a25dc920818"
      },
      "execution_count": 106,
      "outputs": [
        {
          "output_type": "execute_result",
          "data": {
            "text/plain": [
              "'A'"
            ],
            "application/vnd.google.colaboratory.intrinsic+json": {
              "type": "string"
            }
          },
          "metadata": {},
          "execution_count": 106
        }
      ]
    },
    {
      "cell_type": "code",
      "source": [
        "#@title Display the solution 2\n",
        "\n",
        "# access a the 1st letter of variable \"name\"\n",
        "\n",
        "name[0]"
      ],
      "metadata": {
        "cellView": "form",
        "id": "VxBY3GAQ1yym",
        "colab": {
          "base_uri": "https://localhost:8080/",
          "height": 35
        },
        "outputId": "3288d5a2-fa71-4842-fc09-80507a3e0255"
      },
      "execution_count": 107,
      "outputs": [
        {
          "output_type": "execute_result",
          "data": {
            "text/plain": [
              "'A'"
            ],
            "application/vnd.google.colaboratory.intrinsic+json": {
              "type": "string"
            }
          },
          "metadata": {},
          "execution_count": 107
        }
      ]
    },
    {
      "cell_type": "markdown",
      "source": [
        "### Assignment 3"
      ],
      "metadata": {
        "id": "VZudvfew3qkk"
      }
    },
    {
      "cell_type": "code",
      "source": [
        "# access a the last letter of variable \"name\" \n",
        "# ... the outcome should be 'h'\n",
        "\n",
        "name[-1]"
      ],
      "metadata": {
        "id": "g47DpeoH3u62",
        "colab": {
          "base_uri": "https://localhost:8080/",
          "height": 35
        },
        "outputId": "7ad01dcc-79f3-49e9-e962-29611366d110"
      },
      "execution_count": 108,
      "outputs": [
        {
          "output_type": "execute_result",
          "data": {
            "text/plain": [
              "'H'"
            ],
            "application/vnd.google.colaboratory.intrinsic+json": {
              "type": "string"
            }
          },
          "metadata": {},
          "execution_count": 108
        }
      ]
    },
    {
      "cell_type": "code",
      "source": [
        "#@title Display the solution 3\n",
        "\n",
        "# access a the last letter of variable \"name\" \n",
        "# ... the outcome should be 'H'\n",
        "\n",
        "name[-1]"
      ],
      "metadata": {
        "cellView": "form",
        "id": "TiA-m27f34p7",
        "colab": {
          "base_uri": "https://localhost:8080/",
          "height": 35
        },
        "outputId": "6bdd01df-57c4-4e6b-8a10-b6ff3f87b9e9"
      },
      "execution_count": 109,
      "outputs": [
        {
          "output_type": "execute_result",
          "data": {
            "text/plain": [
              "'H'"
            ],
            "application/vnd.google.colaboratory.intrinsic+json": {
              "type": "string"
            }
          },
          "metadata": {},
          "execution_count": 109
        }
      ]
    },
    {
      "cell_type": "markdown",
      "source": [
        "### Assignment 4"
      ],
      "metadata": {
        "id": "bNkqvfTJ4EQI"
      }
    },
    {
      "cell_type": "code",
      "source": [
        "# how many characters tha variable \"name\" has ?\n",
        "\n",
        "len(name)"
      ],
      "metadata": {
        "id": "kh_ZbiPl4HaA",
        "colab": {
          "base_uri": "https://localhost:8080/"
        },
        "outputId": "a4cf607e-4eef-41fb-f9cb-ef5a1a998570"
      },
      "execution_count": 110,
      "outputs": [
        {
          "output_type": "execute_result",
          "data": {
            "text/plain": [
              "10"
            ]
          },
          "metadata": {},
          "execution_count": 110
        }
      ]
    },
    {
      "cell_type": "code",
      "source": [
        "#@title Display the solution 4\n",
        "\n",
        "# how many characters tha variable \"name\" has ?\n",
        "\n",
        "len(name)"
      ],
      "metadata": {
        "cellView": "form",
        "id": "uqcAMLct4Pyb",
        "colab": {
          "base_uri": "https://localhost:8080/"
        },
        "outputId": "9b40e342-0f90-46e7-8593-3aeb9e20a09b"
      },
      "execution_count": 111,
      "outputs": [
        {
          "output_type": "execute_result",
          "data": {
            "text/plain": [
              "10"
            ]
          },
          "metadata": {},
          "execution_count": 111
        }
      ]
    },
    {
      "cell_type": "markdown",
      "metadata": {
        "id": "-Z4YCvbvNRp6"
      },
      "source": [
        "# 8.&nbsp;Tuples"
      ]
    },
    {
      "cell_type": "markdown",
      "metadata": {
        "id": "X_zcTMzYNu9R"
      },
      "source": [
        "A tuple is a collection which is ordered and unchangeable (imuatable)\n",
        "."
      ]
    },
    {
      "cell_type": "code",
      "execution_count": 112,
      "metadata": {
        "id": "6S7ixeisOEv3",
        "colab": {
          "base_uri": "https://localhost:8080/"
        },
        "outputId": "ae17b766-eac4-462c-d21e-d4e487d3afb8"
      },
      "outputs": [
        {
          "output_type": "stream",
          "name": "stdout",
          "text": [
            "('Dog', 'Cat', 'Frog')\n"
          ]
        }
      ],
      "source": [
        "tuple_a = ('Dog', 'Cat', 'Frog')\n",
        "print(tuple_a)"
      ]
    },
    {
      "cell_type": "code",
      "execution_count": 113,
      "metadata": {
        "id": "-cGHSxSYPlT2"
      },
      "outputs": [],
      "source": [
        "# inmutable\n",
        "\n",
        "# remove the hasgtag (#) in front of the below line code if you want to run the cell \n",
        "# tuple_a.append('Mouse')"
      ]
    },
    {
      "cell_type": "code",
      "execution_count": 114,
      "metadata": {
        "id": "H4i9_vbfPx3y",
        "colab": {
          "base_uri": "https://localhost:8080/",
          "height": 35
        },
        "outputId": "de197b25-0433-450d-ea47-36aa915d091a"
      },
      "outputs": [
        {
          "output_type": "execute_result",
          "data": {
            "text/plain": [
              "'Dog'"
            ],
            "application/vnd.google.colaboratory.intrinsic+json": {
              "type": "string"
            }
          },
          "metadata": {},
          "execution_count": 114
        }
      ],
      "source": [
        "# ordered\n",
        "\n",
        "tuple_a[0]"
      ]
    },
    {
      "cell_type": "markdown",
      "source": [
        "More about Tuples https://www.w3schools.com/python/python_tuples.asp"
      ],
      "metadata": {
        "id": "KeNK13iEhNgZ"
      }
    },
    {
      "cell_type": "markdown",
      "metadata": {
        "id": "VkCZO2ptNTTG"
      },
      "source": [
        "# 9.&nbsp;Dictionaries\n"
      ]
    },
    {
      "cell_type": "markdown",
      "source": [
        "Dictionaries are used to store data values in key:value pairs.\n",
        "\n",
        "A dictionary is a collection which is ordered*, changeable and do not allow duplicates."
      ],
      "metadata": {
        "id": "moJTUTDDicq0"
      }
    },
    {
      "cell_type": "code",
      "execution_count": 115,
      "metadata": {
        "id": "l_3rD9hUQNxF",
        "colab": {
          "base_uri": "https://localhost:8080/"
        },
        "outputId": "35d32ff4-c96d-4395-c764-9544e3704ef8"
      },
      "outputs": [
        {
          "output_type": "execute_result",
          "data": {
            "text/plain": [
              "{'key_1': 'value_0', 'key_2': 'value_2', 'key_3': 'value_3'}"
            ]
          },
          "metadata": {},
          "execution_count": 115
        }
      ],
      "source": [
        "# a dictionary is made of keys and values\n",
        "# dictionary have curly brackets\n",
        "\n",
        "dictionary = {\"key_1\":\"value_0\",\n",
        "               \"key_2\":\"value_2\",\n",
        "               \"key_3\":\"value_3\"}\n",
        "\n",
        "dictionary"
      ]
    },
    {
      "cell_type": "code",
      "execution_count": 116,
      "metadata": {
        "id": "ixlvde_9NEkX",
        "colab": {
          "base_uri": "https://localhost:8080/"
        },
        "outputId": "5dfd8987-c9e0-45d3-d072-4653a1873851"
      },
      "outputs": [
        {
          "output_type": "execute_result",
          "data": {
            "text/plain": [
              "{'name': 'Derrick', 'height': \"6'0\", 'location': 'Lost'}"
            ]
          },
          "metadata": {},
          "execution_count": 116
        }
      ],
      "source": [
        "# create a dictionary called 'our_dictionnary'\n",
        "\n",
        "our_dictionary = {\"name\":\"Derrick\",\n",
        "                  \"height\":\"6'0\",\n",
        "                  \"location\":\"Lost\"}\n",
        "                  \n",
        "# here \"name\" is the key and 'Derrick' is the value\n",
        "our_dictionary"
      ]
    },
    {
      "cell_type": "code",
      "execution_count": 117,
      "metadata": {
        "id": "DXd9Sn8sQ86w",
        "colab": {
          "base_uri": "https://localhost:8080/"
        },
        "outputId": "7d1f7a32-7210-4c2d-82a1-32a48ba3c894"
      },
      "outputs": [
        {
          "output_type": "stream",
          "name": "stdout",
          "text": [
            "value_0\n"
          ]
        }
      ],
      "source": [
        "# access dictionary by key\n",
        "\n",
        "print(dictionary[\"key_1\"])"
      ]
    },
    {
      "cell_type": "code",
      "execution_count": 118,
      "metadata": {
        "id": "pevivAIGRD2F",
        "colab": {
          "base_uri": "https://localhost:8080/"
        },
        "outputId": "d0c53917-76f6-4074-ec25-63984300a53c"
      },
      "outputs": [
        {
          "output_type": "stream",
          "name": "stdout",
          "text": [
            "{'key_1': 'value_1', 'key_2': 'value_2', 'key_3': 'value_3'}\n"
          ]
        }
      ],
      "source": [
        "# change a value by key\n",
        "\n",
        "dictionary[\"key_1\"] = \"value_1\"\n",
        "print(dictionary)\n"
      ]
    },
    {
      "cell_type": "code",
      "execution_count": 119,
      "metadata": {
        "id": "ly62zAkdRVsE",
        "colab": {
          "base_uri": "https://localhost:8080/"
        },
        "outputId": "8012b657-9753-4218-d5ba-0fec6d67ebcd"
      },
      "outputs": [
        {
          "output_type": "stream",
          "name": "stdout",
          "text": [
            "{'key_1': 'value_1', 'key_2': 'value_2', 'key_3': 'value_3', 'eye color': 'blue'}\n"
          ]
        }
      ],
      "source": [
        "# add an element to dictionary\n",
        "\n",
        "dictionary[\"eye color\"] = \"blue\"\n",
        "print(dictionary)"
      ]
    },
    {
      "cell_type": "code",
      "execution_count": 120,
      "metadata": {
        "id": "MSSZPPFTRcA6",
        "colab": {
          "base_uri": "https://localhost:8080/"
        },
        "outputId": "ccf8310f-2343-4126-cbec-b81904ee7090"
      },
      "outputs": [
        {
          "output_type": "stream",
          "name": "stdout",
          "text": [
            "{'key_1': 'value_1', 'key_2': 'value_2', 'key_3': 'value_3'}\n"
          ]
        }
      ],
      "source": [
        "# remove element\n",
        "dictionary.pop(\"eye color\")\n",
        "print(dictionary)\n"
      ]
    },
    {
      "cell_type": "markdown",
      "source": [
        "## Dictionary Practice ***"
      ],
      "metadata": {
        "id": "O0a13QpTjWcr"
      }
    },
    {
      "cell_type": "markdown",
      "source": [
        "### Assignment 1"
      ],
      "metadata": {
        "id": "OY_D2rFh40PD"
      }
    },
    {
      "cell_type": "code",
      "source": [
        "# create a dictionary \"my_dictionary\"\n",
        "# 1st key: 'names'\n",
        "# values of 1st key: ['Anna', 'John', 'Matt']\n",
        "# 2nd key: 'age'\n",
        "# values of 2nd key: [23, 42, 12]\n",
        "# print \"my_dictionary\"\n",
        "\n",
        "# create a dictionary called 'my_dictionnary'\n",
        "\n",
        "my_dictionary = {\"names\":['Anna', 'John', 'Matt'],\n",
        "                  \"age\":[23, 42, 12]}\n",
        "\n",
        "print(my_dictionary)\n"
      ],
      "metadata": {
        "id": "cCbfZyfAjY76",
        "colab": {
          "base_uri": "https://localhost:8080/"
        },
        "outputId": "554ba32e-a0e1-44b9-a0b4-c9449052157a"
      },
      "execution_count": 121,
      "outputs": [
        {
          "output_type": "stream",
          "name": "stdout",
          "text": [
            "{'names': ['Anna', 'John', 'Matt'], 'age': [23, 42, 12]}\n"
          ]
        }
      ]
    },
    {
      "cell_type": "code",
      "source": [
        "#@title Display the solution 1\n",
        "\n",
        "# create a dictionary \"my_dictionary\"\n",
        "# 1st key: 'names'\n",
        "# values of 1st key: ['Anna', 'John', 'Matt']\n",
        "# 2nd key: 'age'\n",
        "# values of 2nd key: [23, 42, 12]\n",
        "\n",
        "my_dictionary = {'names': ['Anna', 'John', 'Matt'],\n",
        "                 'age': [23, 42, 12]   \n",
        "                }\n",
        "\n",
        "# print \"my_dictionary\"\n",
        "print(my_dictionary)"
      ],
      "metadata": {
        "cellView": "form",
        "id": "oQEo8yWbHcqk",
        "colab": {
          "base_uri": "https://localhost:8080/"
        },
        "outputId": "b521cae9-ab98-430d-ba6b-37a1a0aeb364"
      },
      "execution_count": 122,
      "outputs": [
        {
          "output_type": "stream",
          "name": "stdout",
          "text": [
            "{'names': ['Anna', 'John', 'Matt'], 'age': [23, 42, 12]}\n"
          ]
        }
      ]
    },
    {
      "cell_type": "markdown",
      "source": [
        "### Assignment 2"
      ],
      "metadata": {
        "id": "NzmmTZjY44lb"
      }
    },
    {
      "cell_type": "code",
      "source": [
        "# add a new element with their gender: key='gender', values: ['F', 'M', 'M']\n",
        "\n",
        "my_dictionary[\"gender\"] = ['F', 'M', 'M']\n",
        "print(my_dictionary)\n"
      ],
      "metadata": {
        "id": "mpikw-IqHxdL",
        "colab": {
          "base_uri": "https://localhost:8080/"
        },
        "outputId": "d7781b1a-888b-4f0f-a01c-532ce31a7fa9"
      },
      "execution_count": 123,
      "outputs": [
        {
          "output_type": "stream",
          "name": "stdout",
          "text": [
            "{'names': ['Anna', 'John', 'Matt'], 'age': [23, 42, 12], 'gender': ['F', 'M', 'M']}\n"
          ]
        }
      ]
    },
    {
      "cell_type": "code",
      "source": [
        "#@title Display the solution 2\n",
        "\n",
        "# add a new element with their gender: key='gender', values: ['F', 'M', 'M']\n",
        "my_dictionary['gender']= ['F', 'M', 'M']\n",
        "print(my_dictionary)"
      ],
      "metadata": {
        "cellView": "form",
        "id": "K5evWdkQH2Mo",
        "colab": {
          "base_uri": "https://localhost:8080/"
        },
        "outputId": "de66328a-beb4-4d78-9c4b-a50035761371"
      },
      "execution_count": 124,
      "outputs": [
        {
          "output_type": "stream",
          "name": "stdout",
          "text": [
            "{'names': ['Anna', 'John', 'Matt'], 'age': [23, 42, 12], 'gender': ['F', 'M', 'M']}\n"
          ]
        }
      ]
    },
    {
      "cell_type": "markdown",
      "source": [
        "### Assignment 3"
      ],
      "metadata": {
        "id": "tTLbH9rQ46wB"
      }
    },
    {
      "cell_type": "code",
      "source": [
        "# remove key age\n",
        "\n",
        "my_dictionary.pop(\"age\")\n",
        "print(my_dictionary)"
      ],
      "metadata": {
        "id": "IIapMz2UHy6M",
        "colab": {
          "base_uri": "https://localhost:8080/"
        },
        "outputId": "2d7e9458-2845-42b4-f52d-8559f2dffb95"
      },
      "execution_count": 125,
      "outputs": [
        {
          "output_type": "stream",
          "name": "stdout",
          "text": [
            "{'names': ['Anna', 'John', 'Matt'], 'gender': ['F', 'M', 'M']}\n"
          ]
        }
      ]
    },
    {
      "cell_type": "code",
      "source": [
        "#@title Display the solution 3\n",
        "\n",
        "# remove key age\n",
        "#my_dictionary.pop(\"age\")\n",
        "print(my_dictionary)"
      ],
      "metadata": {
        "id": "ZACWoPZJH_W6",
        "colab": {
          "base_uri": "https://localhost:8080/"
        },
        "outputId": "31fc5ce3-cf95-47a0-e2c8-f0e614377368"
      },
      "execution_count": 126,
      "outputs": [
        {
          "output_type": "stream",
          "name": "stdout",
          "text": [
            "{'names': ['Anna', 'John', 'Matt'], 'gender': ['F', 'M', 'M']}\n"
          ]
        }
      ]
    },
    {
      "cell_type": "markdown",
      "metadata": {
        "id": "SvqYQEAVRr5q"
      },
      "source": [
        "# 10.&nbsp;DataFrame"
      ]
    },
    {
      "cell_type": "markdown",
      "source": [
        "The dataframe is like a table with 2 dimensions, where you have columns and rows"
      ],
      "metadata": {
        "id": "Do7mXNyhlYmN"
      }
    },
    {
      "cell_type": "code",
      "execution_count": 127,
      "metadata": {
        "id": "20L4u09nRlXK",
        "colab": {
          "base_uri": "https://localhost:8080/"
        },
        "outputId": "8b266e06-7a92-4142-8d65-06dbd7cb5b2b"
      },
      "outputs": [
        {
          "output_type": "execute_result",
          "data": {
            "text/plain": [
              "{'name': ['Jess', 'Nick', 'Winston', 'Tom', 'Alex'],\n",
              " 'age': ['30', '35', '40', '27', '52'],\n",
              " 'city': ['Paris', 'Berlin', 'Madrid', 'Paris', 'London'],\n",
              " 'country': ['France', 'Germany', 'Spain', 'France', 'UK']}"
            ]
          },
          "metadata": {},
          "execution_count": 127
        }
      ],
      "source": [
        "dataframe = {\"name\":['Jess', 'Nick', 'Winston', 'Tom', 'Alex'],\n",
        "              \"age\":['30', '35', '40', '27', '52'],\n",
        "              \"city\":['Paris', 'Berlin', 'Madrid', 'Paris', 'London'],\n",
        "             \"country\": ['France', 'Germany', 'Spain', 'France', 'UK']}\n",
        "\n",
        "dataframe"
      ]
    },
    {
      "cell_type": "code",
      "source": [
        "# import pandas package\n",
        "\n",
        "import pandas as pd"
      ],
      "metadata": {
        "id": "DA2iU__p_Dsg"
      },
      "execution_count": 128,
      "outputs": []
    },
    {
      "cell_type": "markdown",
      "source": [
        "More about pandas package https://pandas.pydata.org/"
      ],
      "metadata": {
        "id": "CsIMpaaj_LiP"
      }
    },
    {
      "cell_type": "code",
      "execution_count": 129,
      "metadata": {
        "id": "zsvwKaUsSKaI",
        "colab": {
          "base_uri": "https://localhost:8080/",
          "height": 206
        },
        "outputId": "6e5d15b0-40cb-4ccd-febe-75224824440f"
      },
      "outputs": [
        {
          "output_type": "execute_result",
          "data": {
            "text/plain": [
              "      name age    city  country\n",
              "0     Jess  30   Paris   France\n",
              "1     Nick  35  Berlin  Germany\n",
              "2  Winston  40  Madrid    Spain\n",
              "3      Tom  27   Paris   France\n",
              "4     Alex  52  London       UK"
            ],
            "text/html": [
              "\n",
              "  <div id=\"df-e4bbed46-a0ad-4c30-b18c-8dc1e49c4435\">\n",
              "    <div class=\"colab-df-container\">\n",
              "      <div>\n",
              "<style scoped>\n",
              "    .dataframe tbody tr th:only-of-type {\n",
              "        vertical-align: middle;\n",
              "    }\n",
              "\n",
              "    .dataframe tbody tr th {\n",
              "        vertical-align: top;\n",
              "    }\n",
              "\n",
              "    .dataframe thead th {\n",
              "        text-align: right;\n",
              "    }\n",
              "</style>\n",
              "<table border=\"1\" class=\"dataframe\">\n",
              "  <thead>\n",
              "    <tr style=\"text-align: right;\">\n",
              "      <th></th>\n",
              "      <th>name</th>\n",
              "      <th>age</th>\n",
              "      <th>city</th>\n",
              "      <th>country</th>\n",
              "    </tr>\n",
              "  </thead>\n",
              "  <tbody>\n",
              "    <tr>\n",
              "      <th>0</th>\n",
              "      <td>Jess</td>\n",
              "      <td>30</td>\n",
              "      <td>Paris</td>\n",
              "      <td>France</td>\n",
              "    </tr>\n",
              "    <tr>\n",
              "      <th>1</th>\n",
              "      <td>Nick</td>\n",
              "      <td>35</td>\n",
              "      <td>Berlin</td>\n",
              "      <td>Germany</td>\n",
              "    </tr>\n",
              "    <tr>\n",
              "      <th>2</th>\n",
              "      <td>Winston</td>\n",
              "      <td>40</td>\n",
              "      <td>Madrid</td>\n",
              "      <td>Spain</td>\n",
              "    </tr>\n",
              "    <tr>\n",
              "      <th>3</th>\n",
              "      <td>Tom</td>\n",
              "      <td>27</td>\n",
              "      <td>Paris</td>\n",
              "      <td>France</td>\n",
              "    </tr>\n",
              "    <tr>\n",
              "      <th>4</th>\n",
              "      <td>Alex</td>\n",
              "      <td>52</td>\n",
              "      <td>London</td>\n",
              "      <td>UK</td>\n",
              "    </tr>\n",
              "  </tbody>\n",
              "</table>\n",
              "</div>\n",
              "      <button class=\"colab-df-convert\" onclick=\"convertToInteractive('df-e4bbed46-a0ad-4c30-b18c-8dc1e49c4435')\"\n",
              "              title=\"Convert this dataframe to an interactive table.\"\n",
              "              style=\"display:none;\">\n",
              "        \n",
              "  <svg xmlns=\"http://www.w3.org/2000/svg\" height=\"24px\"viewBox=\"0 0 24 24\"\n",
              "       width=\"24px\">\n",
              "    <path d=\"M0 0h24v24H0V0z\" fill=\"none\"/>\n",
              "    <path d=\"M18.56 5.44l.94 2.06.94-2.06 2.06-.94-2.06-.94-.94-2.06-.94 2.06-2.06.94zm-11 1L8.5 8.5l.94-2.06 2.06-.94-2.06-.94L8.5 2.5l-.94 2.06-2.06.94zm10 10l.94 2.06.94-2.06 2.06-.94-2.06-.94-.94-2.06-.94 2.06-2.06.94z\"/><path d=\"M17.41 7.96l-1.37-1.37c-.4-.4-.92-.59-1.43-.59-.52 0-1.04.2-1.43.59L10.3 9.45l-7.72 7.72c-.78.78-.78 2.05 0 2.83L4 21.41c.39.39.9.59 1.41.59.51 0 1.02-.2 1.41-.59l7.78-7.78 2.81-2.81c.8-.78.8-2.07 0-2.86zM5.41 20L4 18.59l7.72-7.72 1.47 1.35L5.41 20z\"/>\n",
              "  </svg>\n",
              "      </button>\n",
              "      \n",
              "  <style>\n",
              "    .colab-df-container {\n",
              "      display:flex;\n",
              "      flex-wrap:wrap;\n",
              "      gap: 12px;\n",
              "    }\n",
              "\n",
              "    .colab-df-convert {\n",
              "      background-color: #E8F0FE;\n",
              "      border: none;\n",
              "      border-radius: 50%;\n",
              "      cursor: pointer;\n",
              "      display: none;\n",
              "      fill: #1967D2;\n",
              "      height: 32px;\n",
              "      padding: 0 0 0 0;\n",
              "      width: 32px;\n",
              "    }\n",
              "\n",
              "    .colab-df-convert:hover {\n",
              "      background-color: #E2EBFA;\n",
              "      box-shadow: 0px 1px 2px rgba(60, 64, 67, 0.3), 0px 1px 3px 1px rgba(60, 64, 67, 0.15);\n",
              "      fill: #174EA6;\n",
              "    }\n",
              "\n",
              "    [theme=dark] .colab-df-convert {\n",
              "      background-color: #3B4455;\n",
              "      fill: #D2E3FC;\n",
              "    }\n",
              "\n",
              "    [theme=dark] .colab-df-convert:hover {\n",
              "      background-color: #434B5C;\n",
              "      box-shadow: 0px 1px 3px 1px rgba(0, 0, 0, 0.15);\n",
              "      filter: drop-shadow(0px 1px 2px rgba(0, 0, 0, 0.3));\n",
              "      fill: #FFFFFF;\n",
              "    }\n",
              "  </style>\n",
              "\n",
              "      <script>\n",
              "        const buttonEl =\n",
              "          document.querySelector('#df-e4bbed46-a0ad-4c30-b18c-8dc1e49c4435 button.colab-df-convert');\n",
              "        buttonEl.style.display =\n",
              "          google.colab.kernel.accessAllowed ? 'block' : 'none';\n",
              "\n",
              "        async function convertToInteractive(key) {\n",
              "          const element = document.querySelector('#df-e4bbed46-a0ad-4c30-b18c-8dc1e49c4435');\n",
              "          const dataTable =\n",
              "            await google.colab.kernel.invokeFunction('convertToInteractive',\n",
              "                                                     [key], {});\n",
              "          if (!dataTable) return;\n",
              "\n",
              "          const docLinkHtml = 'Like what you see? Visit the ' +\n",
              "            '<a target=\"_blank\" href=https://colab.research.google.com/notebooks/data_table.ipynb>data table notebook</a>'\n",
              "            + ' to learn more about interactive tables.';\n",
              "          element.innerHTML = '';\n",
              "          dataTable['output_type'] = 'display_data';\n",
              "          await google.colab.output.renderOutput(dataTable, element);\n",
              "          const docLink = document.createElement('div');\n",
              "          docLink.innerHTML = docLinkHtml;\n",
              "          element.appendChild(docLink);\n",
              "        }\n",
              "      </script>\n",
              "    </div>\n",
              "  </div>\n",
              "  "
            ]
          },
          "metadata": {},
          "execution_count": 129
        }
      ],
      "source": [
        "# create a dataframe\n",
        "\n",
        "# load the the dictionary into a dataframe\n",
        "df1 = pd.DataFrame(dataframe)\n",
        "\n",
        "df1"
      ]
    },
    {
      "cell_type": "code",
      "execution_count": 130,
      "metadata": {
        "id": "JKCmX_eaSeeo",
        "colab": {
          "base_uri": "https://localhost:8080/",
          "height": 143
        },
        "outputId": "6bc99d65-c971-4856-c694-b00e8bcf26f4"
      },
      "outputs": [
        {
          "output_type": "execute_result",
          "data": {
            "text/plain": [
              "      name age    city  country\n",
              "0     Jess  30   Paris   France\n",
              "1     Nick  35  Berlin  Germany\n",
              "2  Winston  40  Madrid    Spain"
            ],
            "text/html": [
              "\n",
              "  <div id=\"df-3e3a138f-3d0c-479a-a43f-b117387f9c16\">\n",
              "    <div class=\"colab-df-container\">\n",
              "      <div>\n",
              "<style scoped>\n",
              "    .dataframe tbody tr th:only-of-type {\n",
              "        vertical-align: middle;\n",
              "    }\n",
              "\n",
              "    .dataframe tbody tr th {\n",
              "        vertical-align: top;\n",
              "    }\n",
              "\n",
              "    .dataframe thead th {\n",
              "        text-align: right;\n",
              "    }\n",
              "</style>\n",
              "<table border=\"1\" class=\"dataframe\">\n",
              "  <thead>\n",
              "    <tr style=\"text-align: right;\">\n",
              "      <th></th>\n",
              "      <th>name</th>\n",
              "      <th>age</th>\n",
              "      <th>city</th>\n",
              "      <th>country</th>\n",
              "    </tr>\n",
              "  </thead>\n",
              "  <tbody>\n",
              "    <tr>\n",
              "      <th>0</th>\n",
              "      <td>Jess</td>\n",
              "      <td>30</td>\n",
              "      <td>Paris</td>\n",
              "      <td>France</td>\n",
              "    </tr>\n",
              "    <tr>\n",
              "      <th>1</th>\n",
              "      <td>Nick</td>\n",
              "      <td>35</td>\n",
              "      <td>Berlin</td>\n",
              "      <td>Germany</td>\n",
              "    </tr>\n",
              "    <tr>\n",
              "      <th>2</th>\n",
              "      <td>Winston</td>\n",
              "      <td>40</td>\n",
              "      <td>Madrid</td>\n",
              "      <td>Spain</td>\n",
              "    </tr>\n",
              "  </tbody>\n",
              "</table>\n",
              "</div>\n",
              "      <button class=\"colab-df-convert\" onclick=\"convertToInteractive('df-3e3a138f-3d0c-479a-a43f-b117387f9c16')\"\n",
              "              title=\"Convert this dataframe to an interactive table.\"\n",
              "              style=\"display:none;\">\n",
              "        \n",
              "  <svg xmlns=\"http://www.w3.org/2000/svg\" height=\"24px\"viewBox=\"0 0 24 24\"\n",
              "       width=\"24px\">\n",
              "    <path d=\"M0 0h24v24H0V0z\" fill=\"none\"/>\n",
              "    <path d=\"M18.56 5.44l.94 2.06.94-2.06 2.06-.94-2.06-.94-.94-2.06-.94 2.06-2.06.94zm-11 1L8.5 8.5l.94-2.06 2.06-.94-2.06-.94L8.5 2.5l-.94 2.06-2.06.94zm10 10l.94 2.06.94-2.06 2.06-.94-2.06-.94-.94-2.06-.94 2.06-2.06.94z\"/><path d=\"M17.41 7.96l-1.37-1.37c-.4-.4-.92-.59-1.43-.59-.52 0-1.04.2-1.43.59L10.3 9.45l-7.72 7.72c-.78.78-.78 2.05 0 2.83L4 21.41c.39.39.9.59 1.41.59.51 0 1.02-.2 1.41-.59l7.78-7.78 2.81-2.81c.8-.78.8-2.07 0-2.86zM5.41 20L4 18.59l7.72-7.72 1.47 1.35L5.41 20z\"/>\n",
              "  </svg>\n",
              "      </button>\n",
              "      \n",
              "  <style>\n",
              "    .colab-df-container {\n",
              "      display:flex;\n",
              "      flex-wrap:wrap;\n",
              "      gap: 12px;\n",
              "    }\n",
              "\n",
              "    .colab-df-convert {\n",
              "      background-color: #E8F0FE;\n",
              "      border: none;\n",
              "      border-radius: 50%;\n",
              "      cursor: pointer;\n",
              "      display: none;\n",
              "      fill: #1967D2;\n",
              "      height: 32px;\n",
              "      padding: 0 0 0 0;\n",
              "      width: 32px;\n",
              "    }\n",
              "\n",
              "    .colab-df-convert:hover {\n",
              "      background-color: #E2EBFA;\n",
              "      box-shadow: 0px 1px 2px rgba(60, 64, 67, 0.3), 0px 1px 3px 1px rgba(60, 64, 67, 0.15);\n",
              "      fill: #174EA6;\n",
              "    }\n",
              "\n",
              "    [theme=dark] .colab-df-convert {\n",
              "      background-color: #3B4455;\n",
              "      fill: #D2E3FC;\n",
              "    }\n",
              "\n",
              "    [theme=dark] .colab-df-convert:hover {\n",
              "      background-color: #434B5C;\n",
              "      box-shadow: 0px 1px 3px 1px rgba(0, 0, 0, 0.15);\n",
              "      filter: drop-shadow(0px 1px 2px rgba(0, 0, 0, 0.3));\n",
              "      fill: #FFFFFF;\n",
              "    }\n",
              "  </style>\n",
              "\n",
              "      <script>\n",
              "        const buttonEl =\n",
              "          document.querySelector('#df-3e3a138f-3d0c-479a-a43f-b117387f9c16 button.colab-df-convert');\n",
              "        buttonEl.style.display =\n",
              "          google.colab.kernel.accessAllowed ? 'block' : 'none';\n",
              "\n",
              "        async function convertToInteractive(key) {\n",
              "          const element = document.querySelector('#df-3e3a138f-3d0c-479a-a43f-b117387f9c16');\n",
              "          const dataTable =\n",
              "            await google.colab.kernel.invokeFunction('convertToInteractive',\n",
              "                                                     [key], {});\n",
              "          if (!dataTable) return;\n",
              "\n",
              "          const docLinkHtml = 'Like what you see? Visit the ' +\n",
              "            '<a target=\"_blank\" href=https://colab.research.google.com/notebooks/data_table.ipynb>data table notebook</a>'\n",
              "            + ' to learn more about interactive tables.';\n",
              "          element.innerHTML = '';\n",
              "          dataTable['output_type'] = 'display_data';\n",
              "          await google.colab.output.renderOutput(dataTable, element);\n",
              "          const docLink = document.createElement('div');\n",
              "          docLink.innerHTML = docLinkHtml;\n",
              "          element.appendChild(docLink);\n",
              "        }\n",
              "      </script>\n",
              "    </div>\n",
              "  </div>\n",
              "  "
            ]
          },
          "metadata": {},
          "execution_count": 130
        }
      ],
      "source": [
        "# visualize the first 3 rows of df\n",
        "\n",
        "df1.head(3) # please note that the row index start at 0"
      ]
    },
    {
      "cell_type": "code",
      "source": [
        "# visualize the last 3 rows of df\n",
        "\n",
        "df1.tail(3) # please note that the row index start at 0"
      ],
      "metadata": {
        "id": "iQjspbRK5vH3",
        "colab": {
          "base_uri": "https://localhost:8080/",
          "height": 143
        },
        "outputId": "1437f181-99e3-4986-9ca3-7fa93fcc7260"
      },
      "execution_count": 131,
      "outputs": [
        {
          "output_type": "execute_result",
          "data": {
            "text/plain": [
              "      name age    city country\n",
              "2  Winston  40  Madrid   Spain\n",
              "3      Tom  27   Paris  France\n",
              "4     Alex  52  London      UK"
            ],
            "text/html": [
              "\n",
              "  <div id=\"df-b1836ac5-4ee4-4f34-b7c7-3a11099944be\">\n",
              "    <div class=\"colab-df-container\">\n",
              "      <div>\n",
              "<style scoped>\n",
              "    .dataframe tbody tr th:only-of-type {\n",
              "        vertical-align: middle;\n",
              "    }\n",
              "\n",
              "    .dataframe tbody tr th {\n",
              "        vertical-align: top;\n",
              "    }\n",
              "\n",
              "    .dataframe thead th {\n",
              "        text-align: right;\n",
              "    }\n",
              "</style>\n",
              "<table border=\"1\" class=\"dataframe\">\n",
              "  <thead>\n",
              "    <tr style=\"text-align: right;\">\n",
              "      <th></th>\n",
              "      <th>name</th>\n",
              "      <th>age</th>\n",
              "      <th>city</th>\n",
              "      <th>country</th>\n",
              "    </tr>\n",
              "  </thead>\n",
              "  <tbody>\n",
              "    <tr>\n",
              "      <th>2</th>\n",
              "      <td>Winston</td>\n",
              "      <td>40</td>\n",
              "      <td>Madrid</td>\n",
              "      <td>Spain</td>\n",
              "    </tr>\n",
              "    <tr>\n",
              "      <th>3</th>\n",
              "      <td>Tom</td>\n",
              "      <td>27</td>\n",
              "      <td>Paris</td>\n",
              "      <td>France</td>\n",
              "    </tr>\n",
              "    <tr>\n",
              "      <th>4</th>\n",
              "      <td>Alex</td>\n",
              "      <td>52</td>\n",
              "      <td>London</td>\n",
              "      <td>UK</td>\n",
              "    </tr>\n",
              "  </tbody>\n",
              "</table>\n",
              "</div>\n",
              "      <button class=\"colab-df-convert\" onclick=\"convertToInteractive('df-b1836ac5-4ee4-4f34-b7c7-3a11099944be')\"\n",
              "              title=\"Convert this dataframe to an interactive table.\"\n",
              "              style=\"display:none;\">\n",
              "        \n",
              "  <svg xmlns=\"http://www.w3.org/2000/svg\" height=\"24px\"viewBox=\"0 0 24 24\"\n",
              "       width=\"24px\">\n",
              "    <path d=\"M0 0h24v24H0V0z\" fill=\"none\"/>\n",
              "    <path d=\"M18.56 5.44l.94 2.06.94-2.06 2.06-.94-2.06-.94-.94-2.06-.94 2.06-2.06.94zm-11 1L8.5 8.5l.94-2.06 2.06-.94-2.06-.94L8.5 2.5l-.94 2.06-2.06.94zm10 10l.94 2.06.94-2.06 2.06-.94-2.06-.94-.94-2.06-.94 2.06-2.06.94z\"/><path d=\"M17.41 7.96l-1.37-1.37c-.4-.4-.92-.59-1.43-.59-.52 0-1.04.2-1.43.59L10.3 9.45l-7.72 7.72c-.78.78-.78 2.05 0 2.83L4 21.41c.39.39.9.59 1.41.59.51 0 1.02-.2 1.41-.59l7.78-7.78 2.81-2.81c.8-.78.8-2.07 0-2.86zM5.41 20L4 18.59l7.72-7.72 1.47 1.35L5.41 20z\"/>\n",
              "  </svg>\n",
              "      </button>\n",
              "      \n",
              "  <style>\n",
              "    .colab-df-container {\n",
              "      display:flex;\n",
              "      flex-wrap:wrap;\n",
              "      gap: 12px;\n",
              "    }\n",
              "\n",
              "    .colab-df-convert {\n",
              "      background-color: #E8F0FE;\n",
              "      border: none;\n",
              "      border-radius: 50%;\n",
              "      cursor: pointer;\n",
              "      display: none;\n",
              "      fill: #1967D2;\n",
              "      height: 32px;\n",
              "      padding: 0 0 0 0;\n",
              "      width: 32px;\n",
              "    }\n",
              "\n",
              "    .colab-df-convert:hover {\n",
              "      background-color: #E2EBFA;\n",
              "      box-shadow: 0px 1px 2px rgba(60, 64, 67, 0.3), 0px 1px 3px 1px rgba(60, 64, 67, 0.15);\n",
              "      fill: #174EA6;\n",
              "    }\n",
              "\n",
              "    [theme=dark] .colab-df-convert {\n",
              "      background-color: #3B4455;\n",
              "      fill: #D2E3FC;\n",
              "    }\n",
              "\n",
              "    [theme=dark] .colab-df-convert:hover {\n",
              "      background-color: #434B5C;\n",
              "      box-shadow: 0px 1px 3px 1px rgba(0, 0, 0, 0.15);\n",
              "      filter: drop-shadow(0px 1px 2px rgba(0, 0, 0, 0.3));\n",
              "      fill: #FFFFFF;\n",
              "    }\n",
              "  </style>\n",
              "\n",
              "      <script>\n",
              "        const buttonEl =\n",
              "          document.querySelector('#df-b1836ac5-4ee4-4f34-b7c7-3a11099944be button.colab-df-convert');\n",
              "        buttonEl.style.display =\n",
              "          google.colab.kernel.accessAllowed ? 'block' : 'none';\n",
              "\n",
              "        async function convertToInteractive(key) {\n",
              "          const element = document.querySelector('#df-b1836ac5-4ee4-4f34-b7c7-3a11099944be');\n",
              "          const dataTable =\n",
              "            await google.colab.kernel.invokeFunction('convertToInteractive',\n",
              "                                                     [key], {});\n",
              "          if (!dataTable) return;\n",
              "\n",
              "          const docLinkHtml = 'Like what you see? Visit the ' +\n",
              "            '<a target=\"_blank\" href=https://colab.research.google.com/notebooks/data_table.ipynb>data table notebook</a>'\n",
              "            + ' to learn more about interactive tables.';\n",
              "          element.innerHTML = '';\n",
              "          dataTable['output_type'] = 'display_data';\n",
              "          await google.colab.output.renderOutput(dataTable, element);\n",
              "          const docLink = document.createElement('div');\n",
              "          docLink.innerHTML = docLinkHtml;\n",
              "          element.appendChild(docLink);\n",
              "        }\n",
              "      </script>\n",
              "    </div>\n",
              "  </div>\n",
              "  "
            ]
          },
          "metadata": {},
          "execution_count": 131
        }
      ]
    },
    {
      "cell_type": "code",
      "execution_count": 132,
      "metadata": {
        "id": "Qbj76q-xTEYB",
        "colab": {
          "base_uri": "https://localhost:8080/"
        },
        "outputId": "e1b601bf-520f-46f6-f6ca-6a046caa2494"
      },
      "outputs": [
        {
          "output_type": "execute_result",
          "data": {
            "text/plain": [
              "(5, 4)"
            ]
          },
          "metadata": {},
          "execution_count": 132
        }
      ],
      "source": [
        "# df dimensions\n",
        "\n",
        "df1.shape # retunr nb of rows, and nb of columns"
      ]
    },
    {
      "cell_type": "code",
      "execution_count": 133,
      "metadata": {
        "id": "KHLBVTXjTH0W",
        "colab": {
          "base_uri": "https://localhost:8080/"
        },
        "outputId": "d68cf18e-a183-4954-9bf0-d6812875f15f"
      },
      "outputs": [
        {
          "output_type": "execute_result",
          "data": {
            "text/plain": [
              "5"
            ]
          },
          "metadata": {},
          "execution_count": 133
        }
      ],
      "source": [
        "# nb of rows\n",
        "\n",
        "df1.shape[0]"
      ]
    },
    {
      "cell_type": "code",
      "execution_count": 134,
      "metadata": {
        "id": "5IUZErk6TOhS",
        "colab": {
          "base_uri": "https://localhost:8080/"
        },
        "outputId": "bcba5811-b2fd-41f5-9d92-5d3ebdb087f4"
      },
      "outputs": [
        {
          "output_type": "execute_result",
          "data": {
            "text/plain": [
              "5"
            ]
          },
          "metadata": {},
          "execution_count": 134
        }
      ],
      "source": [
        "len(df1)"
      ]
    },
    {
      "cell_type": "code",
      "execution_count": 135,
      "metadata": {
        "id": "QFprcZGjTQSZ",
        "colab": {
          "base_uri": "https://localhost:8080/"
        },
        "outputId": "e7e71836-0256-441a-ab40-0eb0708aad45"
      },
      "outputs": [
        {
          "output_type": "execute_result",
          "data": {
            "text/plain": [
              "4"
            ]
          },
          "metadata": {},
          "execution_count": 135
        }
      ],
      "source": [
        "# nb. of columns\n",
        "df1.shape[1]"
      ]
    },
    {
      "cell_type": "code",
      "execution_count": 136,
      "metadata": {
        "id": "5Yqcxa8aTUPD",
        "colab": {
          "base_uri": "https://localhost:8080/"
        },
        "outputId": "4c5e3816-fd9e-43e6-ca04-5d33137f3ef5"
      },
      "outputs": [
        {
          "output_type": "execute_result",
          "data": {
            "text/plain": [
              "4"
            ]
          },
          "metadata": {},
          "execution_count": 136
        }
      ],
      "source": [
        "len(df1.columns)"
      ]
    },
    {
      "cell_type": "code",
      "execution_count": 137,
      "metadata": {
        "id": "N7UPeznrTXaF",
        "colab": {
          "base_uri": "https://localhost:8080/"
        },
        "outputId": "91cc2c0b-0de3-40f1-d4c8-d7e16cdf4d77"
      },
      "outputs": [
        {
          "output_type": "execute_result",
          "data": {
            "text/plain": [
              "Index(['name', 'age', 'city', 'country'], dtype='object')"
            ]
          },
          "metadata": {},
          "execution_count": 137
        }
      ],
      "source": [
        "# get df columns\n",
        "\n",
        "df1.columns"
      ]
    },
    {
      "cell_type": "code",
      "execution_count": 138,
      "metadata": {
        "id": "gMZxm5PBTbbT",
        "colab": {
          "base_uri": "https://localhost:8080/",
          "height": 35
        },
        "outputId": "3b811eb7-342a-4a89-951f-c1e85b591994"
      },
      "outputs": [
        {
          "output_type": "execute_result",
          "data": {
            "text/plain": [
              "'name'"
            ],
            "application/vnd.google.colaboratory.intrinsic+json": {
              "type": "string"
            }
          },
          "metadata": {},
          "execution_count": 138
        }
      ],
      "source": [
        "# 1st column index: starts at 0\n",
        "\n",
        "df1.columns[0]\n"
      ]
    },
    {
      "cell_type": "markdown",
      "metadata": {
        "id": "6LU-ODP8TpPl"
      },
      "source": [
        "## Locations: .iloc & .loc"
      ]
    },
    {
      "cell_type": "code",
      "source": [
        "df1.columns"
      ],
      "metadata": {
        "id": "ES2v3hfDcFft",
        "colab": {
          "base_uri": "https://localhost:8080/"
        },
        "outputId": "1088560d-706b-433a-9550-f1ca9494cd91"
      },
      "execution_count": 139,
      "outputs": [
        {
          "output_type": "execute_result",
          "data": {
            "text/plain": [
              "Index(['name', 'age', 'city', 'country'], dtype='object')"
            ]
          },
          "metadata": {},
          "execution_count": 139
        }
      ]
    },
    {
      "cell_type": "code",
      "execution_count": 140,
      "metadata": {
        "id": "CIVlcWu7TjH7",
        "colab": {
          "base_uri": "https://localhost:8080/"
        },
        "outputId": "40b8e0fc-c5d1-4e10-d3d2-32e643f1be28"
      },
      "outputs": [
        {
          "output_type": "execute_result",
          "data": {
            "text/plain": [
              "0    30\n",
              "1    35\n",
              "2    40\n",
              "3    27\n",
              "4    52\n",
              "Name: age, dtype: object"
            ]
          },
          "metadata": {},
          "execution_count": 140
        }
      ],
      "source": [
        "# access values by column name\n",
        "\n",
        "df1['age']"
      ]
    },
    {
      "cell_type": "code",
      "source": [
        "# another way to get values of a column\n",
        "\n",
        "df1.age"
      ],
      "metadata": {
        "id": "xZf_1Ox8iEO5",
        "colab": {
          "base_uri": "https://localhost:8080/"
        },
        "outputId": "38eb3277-51dd-4718-da90-92e3464b21b3"
      },
      "execution_count": 141,
      "outputs": [
        {
          "output_type": "execute_result",
          "data": {
            "text/plain": [
              "0    30\n",
              "1    35\n",
              "2    40\n",
              "3    27\n",
              "4    52\n",
              "Name: age, dtype: object"
            ]
          },
          "metadata": {},
          "execution_count": 141
        }
      ]
    },
    {
      "cell_type": "markdown",
      "source": [
        "TO access values from dataframe we use **.iloc** and **.loc** attributes"
      ],
      "metadata": {
        "id": "B0-676TUtflQ"
      }
    },
    {
      "cell_type": "markdown",
      "source": [
        "**.iloc**"
      ],
      "metadata": {
        "id": "MY-NbgI53D-M"
      }
    },
    {
      "cell_type": "markdown",
      "source": [
        "The pandas.DataFrame.iloc attribute is used to access elements from a pandas DataFrame using the integer position. \n",
        "\n",
        "The “.iloc” attribute allows inputs like an integer value, a list of integer values, and a slicing object with integers, and boolean array, etc.\n",
        "\n",
        "The attribute will raise an “IndexError” if the requested index is out of bounds, except for the slicing indexer object."
      ],
      "metadata": {
        "id": "ULjHVL_GtvJu"
      }
    },
    {
      "cell_type": "markdown",
      "source": [
        "iloc[row_position, column_position]"
      ],
      "metadata": {
        "id": "UpVrqgNPypXm"
      }
    },
    {
      "cell_type": "code",
      "source": [
        "print(df1)\n",
        "print('')\n",
        "\n",
        "# acces 1st row with .iloc\n",
        "df1.iloc[0] # a sing argument"
      ],
      "metadata": {
        "id": "raOFtmy6uq11",
        "colab": {
          "base_uri": "https://localhost:8080/"
        },
        "outputId": "1c370762-fde1-41e4-ab63-71cd41248820"
      },
      "execution_count": 142,
      "outputs": [
        {
          "output_type": "stream",
          "name": "stdout",
          "text": [
            "      name age    city  country\n",
            "0     Jess  30   Paris   France\n",
            "1     Nick  35  Berlin  Germany\n",
            "2  Winston  40  Madrid    Spain\n",
            "3      Tom  27   Paris   France\n",
            "4     Alex  52  London       UK\n",
            "\n"
          ]
        },
        {
          "output_type": "execute_result",
          "data": {
            "text/plain": [
              "name         Jess\n",
              "age            30\n",
              "city        Paris\n",
              "country    France\n",
              "Name: 0, dtype: object"
            ]
          },
          "metadata": {},
          "execution_count": 142
        }
      ]
    },
    {
      "cell_type": "code",
      "source": [
        "print(df1)\n",
        "print('')\n",
        "\n",
        "# acces the last row with .iloc\n",
        "df1.iloc[-1]"
      ],
      "metadata": {
        "id": "BvHA_OaCu9w3",
        "colab": {
          "base_uri": "https://localhost:8080/"
        },
        "outputId": "c5834688-9ec9-4e5b-bc2e-ab9e7282eea2"
      },
      "execution_count": 143,
      "outputs": [
        {
          "output_type": "stream",
          "name": "stdout",
          "text": [
            "      name age    city  country\n",
            "0     Jess  30   Paris   France\n",
            "1     Nick  35  Berlin  Germany\n",
            "2  Winston  40  Madrid    Spain\n",
            "3      Tom  27   Paris   France\n",
            "4     Alex  52  London       UK\n",
            "\n"
          ]
        },
        {
          "output_type": "execute_result",
          "data": {
            "text/plain": [
              "name         Alex\n",
              "age            52\n",
              "city       London\n",
              "country        UK\n",
              "Name: 4, dtype: object"
            ]
          },
          "metadata": {},
          "execution_count": 143
        }
      ]
    },
    {
      "cell_type": "code",
      "execution_count": 144,
      "metadata": {
        "id": "mCZA0A_MTwJ5",
        "colab": {
          "base_uri": "https://localhost:8080/"
        },
        "outputId": "4ec15dec-8f3a-4909-be7e-534d6cedd648"
      },
      "outputs": [
        {
          "output_type": "stream",
          "name": "stdout",
          "text": [
            "      name age    city  country\n",
            "0     Jess  30   Paris   France\n",
            "1     Nick  35  Berlin  Germany\n",
            "2  Winston  40  Madrid    Spain\n",
            "3      Tom  27   Paris   France\n",
            "4     Alex  52  London       UK\n",
            "\n",
            "the 1st element of df is:  Jess\n"
          ]
        }
      ],
      "source": [
        "# accessing a single element by index with .iloc attribute\n",
        "\n",
        "print(df1)\n",
        "print('')\n",
        "print('the 1st element of df is: ', df1.iloc[0, 0])"
      ]
    },
    {
      "cell_type": "code",
      "execution_count": 145,
      "metadata": {
        "id": "6h4TipVET-4y",
        "colab": {
          "base_uri": "https://localhost:8080/",
          "height": 35
        },
        "outputId": "21d06001-147f-4c55-a1a7-0cae1cc9943b"
      },
      "outputs": [
        {
          "output_type": "execute_result",
          "data": {
            "text/plain": [
              "'UK'"
            ],
            "application/vnd.google.colaboratory.intrinsic+json": {
              "type": "string"
            }
          },
          "metadata": {},
          "execution_count": 145
        }
      ],
      "source": [
        "# accessing the last element of the df\n",
        "df1.iloc[-1, -1]"
      ]
    },
    {
      "cell_type": "code",
      "execution_count": 146,
      "metadata": {
        "id": "2TmwbnFJUEME",
        "colab": {
          "base_uri": "https://localhost:8080/",
          "height": 157
        },
        "outputId": "a2b3ed79-1af7-4d62-cca6-f595d96c2938"
      },
      "outputs": [
        {
          "output_type": "stream",
          "name": "stdout",
          "text": [
            "      name age    city  country\n",
            "0     Jess  30   Paris   France\n",
            "1     Nick  35  Berlin  Germany\n",
            "2  Winston  40  Madrid    Spain\n",
            "3      Tom  27   Paris   France\n",
            "4     Alex  52  London       UK\n",
            "\n"
          ]
        },
        {
          "output_type": "execute_result",
          "data": {
            "text/plain": [
              "'40'"
            ],
            "application/vnd.google.colaboratory.intrinsic+json": {
              "type": "string"
            }
          },
          "metadata": {},
          "execution_count": 146
        }
      ],
      "source": [
        "# return element with value 40\n",
        "\n",
        "print(df1)\n",
        "print('')\n",
        "df1.iloc[2,1] # row index 2 and col index 1"
      ]
    },
    {
      "cell_type": "code",
      "source": [
        "# out of bounds index\n",
        "# ... romove the hashtag (#) in front of the line with code if you want to run the cell...\n",
        "\n",
        "# df1.iloc[12,2]"
      ],
      "metadata": {
        "id": "0HMhG2BduBtO"
      },
      "execution_count": 147,
      "outputs": []
    },
    {
      "cell_type": "code",
      "source": [
        "print(df1)\n",
        "print('')\n",
        "\n",
        "# accessing a range of values by index\n",
        "df1.iloc[:3, 1:3] # all elements till the 2nd row (not included) and columns from 1 to 3 (where 3 not included)"
      ],
      "metadata": {
        "id": "sTX-Dk8JvQPc",
        "colab": {
          "base_uri": "https://localhost:8080/",
          "height": 265
        },
        "outputId": "61d1cc6d-c04f-4541-f790-63e38db0e5e2"
      },
      "execution_count": 148,
      "outputs": [
        {
          "output_type": "stream",
          "name": "stdout",
          "text": [
            "      name age    city  country\n",
            "0     Jess  30   Paris   France\n",
            "1     Nick  35  Berlin  Germany\n",
            "2  Winston  40  Madrid    Spain\n",
            "3      Tom  27   Paris   France\n",
            "4     Alex  52  London       UK\n",
            "\n"
          ]
        },
        {
          "output_type": "execute_result",
          "data": {
            "text/plain": [
              "  age    city\n",
              "0  30   Paris\n",
              "1  35  Berlin\n",
              "2  40  Madrid"
            ],
            "text/html": [
              "\n",
              "  <div id=\"df-7f7ee0fd-01fc-46b9-9efd-fc516b78fb67\">\n",
              "    <div class=\"colab-df-container\">\n",
              "      <div>\n",
              "<style scoped>\n",
              "    .dataframe tbody tr th:only-of-type {\n",
              "        vertical-align: middle;\n",
              "    }\n",
              "\n",
              "    .dataframe tbody tr th {\n",
              "        vertical-align: top;\n",
              "    }\n",
              "\n",
              "    .dataframe thead th {\n",
              "        text-align: right;\n",
              "    }\n",
              "</style>\n",
              "<table border=\"1\" class=\"dataframe\">\n",
              "  <thead>\n",
              "    <tr style=\"text-align: right;\">\n",
              "      <th></th>\n",
              "      <th>age</th>\n",
              "      <th>city</th>\n",
              "    </tr>\n",
              "  </thead>\n",
              "  <tbody>\n",
              "    <tr>\n",
              "      <th>0</th>\n",
              "      <td>30</td>\n",
              "      <td>Paris</td>\n",
              "    </tr>\n",
              "    <tr>\n",
              "      <th>1</th>\n",
              "      <td>35</td>\n",
              "      <td>Berlin</td>\n",
              "    </tr>\n",
              "    <tr>\n",
              "      <th>2</th>\n",
              "      <td>40</td>\n",
              "      <td>Madrid</td>\n",
              "    </tr>\n",
              "  </tbody>\n",
              "</table>\n",
              "</div>\n",
              "      <button class=\"colab-df-convert\" onclick=\"convertToInteractive('df-7f7ee0fd-01fc-46b9-9efd-fc516b78fb67')\"\n",
              "              title=\"Convert this dataframe to an interactive table.\"\n",
              "              style=\"display:none;\">\n",
              "        \n",
              "  <svg xmlns=\"http://www.w3.org/2000/svg\" height=\"24px\"viewBox=\"0 0 24 24\"\n",
              "       width=\"24px\">\n",
              "    <path d=\"M0 0h24v24H0V0z\" fill=\"none\"/>\n",
              "    <path d=\"M18.56 5.44l.94 2.06.94-2.06 2.06-.94-2.06-.94-.94-2.06-.94 2.06-2.06.94zm-11 1L8.5 8.5l.94-2.06 2.06-.94-2.06-.94L8.5 2.5l-.94 2.06-2.06.94zm10 10l.94 2.06.94-2.06 2.06-.94-2.06-.94-.94-2.06-.94 2.06-2.06.94z\"/><path d=\"M17.41 7.96l-1.37-1.37c-.4-.4-.92-.59-1.43-.59-.52 0-1.04.2-1.43.59L10.3 9.45l-7.72 7.72c-.78.78-.78 2.05 0 2.83L4 21.41c.39.39.9.59 1.41.59.51 0 1.02-.2 1.41-.59l7.78-7.78 2.81-2.81c.8-.78.8-2.07 0-2.86zM5.41 20L4 18.59l7.72-7.72 1.47 1.35L5.41 20z\"/>\n",
              "  </svg>\n",
              "      </button>\n",
              "      \n",
              "  <style>\n",
              "    .colab-df-container {\n",
              "      display:flex;\n",
              "      flex-wrap:wrap;\n",
              "      gap: 12px;\n",
              "    }\n",
              "\n",
              "    .colab-df-convert {\n",
              "      background-color: #E8F0FE;\n",
              "      border: none;\n",
              "      border-radius: 50%;\n",
              "      cursor: pointer;\n",
              "      display: none;\n",
              "      fill: #1967D2;\n",
              "      height: 32px;\n",
              "      padding: 0 0 0 0;\n",
              "      width: 32px;\n",
              "    }\n",
              "\n",
              "    .colab-df-convert:hover {\n",
              "      background-color: #E2EBFA;\n",
              "      box-shadow: 0px 1px 2px rgba(60, 64, 67, 0.3), 0px 1px 3px 1px rgba(60, 64, 67, 0.15);\n",
              "      fill: #174EA6;\n",
              "    }\n",
              "\n",
              "    [theme=dark] .colab-df-convert {\n",
              "      background-color: #3B4455;\n",
              "      fill: #D2E3FC;\n",
              "    }\n",
              "\n",
              "    [theme=dark] .colab-df-convert:hover {\n",
              "      background-color: #434B5C;\n",
              "      box-shadow: 0px 1px 3px 1px rgba(0, 0, 0, 0.15);\n",
              "      filter: drop-shadow(0px 1px 2px rgba(0, 0, 0, 0.3));\n",
              "      fill: #FFFFFF;\n",
              "    }\n",
              "  </style>\n",
              "\n",
              "      <script>\n",
              "        const buttonEl =\n",
              "          document.querySelector('#df-7f7ee0fd-01fc-46b9-9efd-fc516b78fb67 button.colab-df-convert');\n",
              "        buttonEl.style.display =\n",
              "          google.colab.kernel.accessAllowed ? 'block' : 'none';\n",
              "\n",
              "        async function convertToInteractive(key) {\n",
              "          const element = document.querySelector('#df-7f7ee0fd-01fc-46b9-9efd-fc516b78fb67');\n",
              "          const dataTable =\n",
              "            await google.colab.kernel.invokeFunction('convertToInteractive',\n",
              "                                                     [key], {});\n",
              "          if (!dataTable) return;\n",
              "\n",
              "          const docLinkHtml = 'Like what you see? Visit the ' +\n",
              "            '<a target=\"_blank\" href=https://colab.research.google.com/notebooks/data_table.ipynb>data table notebook</a>'\n",
              "            + ' to learn more about interactive tables.';\n",
              "          element.innerHTML = '';\n",
              "          dataTable['output_type'] = 'display_data';\n",
              "          await google.colab.output.renderOutput(dataTable, element);\n",
              "          const docLink = document.createElement('div');\n",
              "          docLink.innerHTML = docLinkHtml;\n",
              "          element.appendChild(docLink);\n",
              "        }\n",
              "      </script>\n",
              "    </div>\n",
              "  </div>\n",
              "  "
            ]
          },
          "metadata": {},
          "execution_count": 148
        }
      ]
    },
    {
      "cell_type": "markdown",
      "source": [
        "**.loc** "
      ],
      "metadata": {
        "id": "2HV9UOOS3JOI"
      }
    },
    {
      "cell_type": "markdown",
      "source": [
        "The “.loc” is an attribute of the pandas.DataFrame. it is used to access elements from DataFrame based on row/column label indexing."
      ],
      "metadata": {
        "id": "7bZXVxdbs0t5"
      }
    },
    {
      "cell_type": "markdown",
      "source": [
        "loc[row_label, column_label]"
      ],
      "metadata": {
        "id": "UDgRy2cFywRY"
      }
    },
    {
      "cell_type": "code",
      "source": [
        "# the rows have indices, but no labels\n",
        "\n",
        "print(df1.shape)\n",
        "\n",
        "df1"
      ],
      "metadata": {
        "id": "AqWGf5FB5Y9s",
        "colab": {
          "base_uri": "https://localhost:8080/",
          "height": 224
        },
        "outputId": "a4036369-7709-420d-fba8-3d897f3aeb8a"
      },
      "execution_count": 149,
      "outputs": [
        {
          "output_type": "stream",
          "name": "stdout",
          "text": [
            "(5, 4)\n"
          ]
        },
        {
          "output_type": "execute_result",
          "data": {
            "text/plain": [
              "      name age    city  country\n",
              "0     Jess  30   Paris   France\n",
              "1     Nick  35  Berlin  Germany\n",
              "2  Winston  40  Madrid    Spain\n",
              "3      Tom  27   Paris   France\n",
              "4     Alex  52  London       UK"
            ],
            "text/html": [
              "\n",
              "  <div id=\"df-acffdda5-b550-4fde-b715-43b8a1a930f9\">\n",
              "    <div class=\"colab-df-container\">\n",
              "      <div>\n",
              "<style scoped>\n",
              "    .dataframe tbody tr th:only-of-type {\n",
              "        vertical-align: middle;\n",
              "    }\n",
              "\n",
              "    .dataframe tbody tr th {\n",
              "        vertical-align: top;\n",
              "    }\n",
              "\n",
              "    .dataframe thead th {\n",
              "        text-align: right;\n",
              "    }\n",
              "</style>\n",
              "<table border=\"1\" class=\"dataframe\">\n",
              "  <thead>\n",
              "    <tr style=\"text-align: right;\">\n",
              "      <th></th>\n",
              "      <th>name</th>\n",
              "      <th>age</th>\n",
              "      <th>city</th>\n",
              "      <th>country</th>\n",
              "    </tr>\n",
              "  </thead>\n",
              "  <tbody>\n",
              "    <tr>\n",
              "      <th>0</th>\n",
              "      <td>Jess</td>\n",
              "      <td>30</td>\n",
              "      <td>Paris</td>\n",
              "      <td>France</td>\n",
              "    </tr>\n",
              "    <tr>\n",
              "      <th>1</th>\n",
              "      <td>Nick</td>\n",
              "      <td>35</td>\n",
              "      <td>Berlin</td>\n",
              "      <td>Germany</td>\n",
              "    </tr>\n",
              "    <tr>\n",
              "      <th>2</th>\n",
              "      <td>Winston</td>\n",
              "      <td>40</td>\n",
              "      <td>Madrid</td>\n",
              "      <td>Spain</td>\n",
              "    </tr>\n",
              "    <tr>\n",
              "      <th>3</th>\n",
              "      <td>Tom</td>\n",
              "      <td>27</td>\n",
              "      <td>Paris</td>\n",
              "      <td>France</td>\n",
              "    </tr>\n",
              "    <tr>\n",
              "      <th>4</th>\n",
              "      <td>Alex</td>\n",
              "      <td>52</td>\n",
              "      <td>London</td>\n",
              "      <td>UK</td>\n",
              "    </tr>\n",
              "  </tbody>\n",
              "</table>\n",
              "</div>\n",
              "      <button class=\"colab-df-convert\" onclick=\"convertToInteractive('df-acffdda5-b550-4fde-b715-43b8a1a930f9')\"\n",
              "              title=\"Convert this dataframe to an interactive table.\"\n",
              "              style=\"display:none;\">\n",
              "        \n",
              "  <svg xmlns=\"http://www.w3.org/2000/svg\" height=\"24px\"viewBox=\"0 0 24 24\"\n",
              "       width=\"24px\">\n",
              "    <path d=\"M0 0h24v24H0V0z\" fill=\"none\"/>\n",
              "    <path d=\"M18.56 5.44l.94 2.06.94-2.06 2.06-.94-2.06-.94-.94-2.06-.94 2.06-2.06.94zm-11 1L8.5 8.5l.94-2.06 2.06-.94-2.06-.94L8.5 2.5l-.94 2.06-2.06.94zm10 10l.94 2.06.94-2.06 2.06-.94-2.06-.94-.94-2.06-.94 2.06-2.06.94z\"/><path d=\"M17.41 7.96l-1.37-1.37c-.4-.4-.92-.59-1.43-.59-.52 0-1.04.2-1.43.59L10.3 9.45l-7.72 7.72c-.78.78-.78 2.05 0 2.83L4 21.41c.39.39.9.59 1.41.59.51 0 1.02-.2 1.41-.59l7.78-7.78 2.81-2.81c.8-.78.8-2.07 0-2.86zM5.41 20L4 18.59l7.72-7.72 1.47 1.35L5.41 20z\"/>\n",
              "  </svg>\n",
              "      </button>\n",
              "      \n",
              "  <style>\n",
              "    .colab-df-container {\n",
              "      display:flex;\n",
              "      flex-wrap:wrap;\n",
              "      gap: 12px;\n",
              "    }\n",
              "\n",
              "    .colab-df-convert {\n",
              "      background-color: #E8F0FE;\n",
              "      border: none;\n",
              "      border-radius: 50%;\n",
              "      cursor: pointer;\n",
              "      display: none;\n",
              "      fill: #1967D2;\n",
              "      height: 32px;\n",
              "      padding: 0 0 0 0;\n",
              "      width: 32px;\n",
              "    }\n",
              "\n",
              "    .colab-df-convert:hover {\n",
              "      background-color: #E2EBFA;\n",
              "      box-shadow: 0px 1px 2px rgba(60, 64, 67, 0.3), 0px 1px 3px 1px rgba(60, 64, 67, 0.15);\n",
              "      fill: #174EA6;\n",
              "    }\n",
              "\n",
              "    [theme=dark] .colab-df-convert {\n",
              "      background-color: #3B4455;\n",
              "      fill: #D2E3FC;\n",
              "    }\n",
              "\n",
              "    [theme=dark] .colab-df-convert:hover {\n",
              "      background-color: #434B5C;\n",
              "      box-shadow: 0px 1px 3px 1px rgba(0, 0, 0, 0.15);\n",
              "      filter: drop-shadow(0px 1px 2px rgba(0, 0, 0, 0.3));\n",
              "      fill: #FFFFFF;\n",
              "    }\n",
              "  </style>\n",
              "\n",
              "      <script>\n",
              "        const buttonEl =\n",
              "          document.querySelector('#df-acffdda5-b550-4fde-b715-43b8a1a930f9 button.colab-df-convert');\n",
              "        buttonEl.style.display =\n",
              "          google.colab.kernel.accessAllowed ? 'block' : 'none';\n",
              "\n",
              "        async function convertToInteractive(key) {\n",
              "          const element = document.querySelector('#df-acffdda5-b550-4fde-b715-43b8a1a930f9');\n",
              "          const dataTable =\n",
              "            await google.colab.kernel.invokeFunction('convertToInteractive',\n",
              "                                                     [key], {});\n",
              "          if (!dataTable) return;\n",
              "\n",
              "          const docLinkHtml = 'Like what you see? Visit the ' +\n",
              "            '<a target=\"_blank\" href=https://colab.research.google.com/notebooks/data_table.ipynb>data table notebook</a>'\n",
              "            + ' to learn more about interactive tables.';\n",
              "          element.innerHTML = '';\n",
              "          dataTable['output_type'] = 'display_data';\n",
              "          await google.colab.output.renderOutput(dataTable, element);\n",
              "          const docLink = document.createElement('div');\n",
              "          docLink.innerHTML = docLinkHtml;\n",
              "          element.appendChild(docLink);\n",
              "        }\n",
              "      </script>\n",
              "    </div>\n",
              "  </div>\n",
              "  "
            ]
          },
          "metadata": {},
          "execution_count": 149
        }
      ]
    },
    {
      "cell_type": "code",
      "source": [
        "# reset the index of df, use the column name as index\n",
        "\n",
        "df1 = df1.set_index('name')\n",
        "print('the new shape of df1 is: ', df1.shape)\n",
        "print('')\n",
        "df1"
      ],
      "metadata": {
        "id": "jv7Kheu60Yrx",
        "colab": {
          "base_uri": "https://localhost:8080/",
          "height": 272
        },
        "outputId": "f1a9c003-fdb5-4250-8092-c6ded450ffb3"
      },
      "execution_count": 150,
      "outputs": [
        {
          "output_type": "stream",
          "name": "stdout",
          "text": [
            "the new shape of df1 is:  (5, 3)\n",
            "\n"
          ]
        },
        {
          "output_type": "execute_result",
          "data": {
            "text/plain": [
              "        age    city  country\n",
              "name                        \n",
              "Jess     30   Paris   France\n",
              "Nick     35  Berlin  Germany\n",
              "Winston  40  Madrid    Spain\n",
              "Tom      27   Paris   France\n",
              "Alex     52  London       UK"
            ],
            "text/html": [
              "\n",
              "  <div id=\"df-1e7966a2-61fe-4051-9347-3df38e9ce877\">\n",
              "    <div class=\"colab-df-container\">\n",
              "      <div>\n",
              "<style scoped>\n",
              "    .dataframe tbody tr th:only-of-type {\n",
              "        vertical-align: middle;\n",
              "    }\n",
              "\n",
              "    .dataframe tbody tr th {\n",
              "        vertical-align: top;\n",
              "    }\n",
              "\n",
              "    .dataframe thead th {\n",
              "        text-align: right;\n",
              "    }\n",
              "</style>\n",
              "<table border=\"1\" class=\"dataframe\">\n",
              "  <thead>\n",
              "    <tr style=\"text-align: right;\">\n",
              "      <th></th>\n",
              "      <th>age</th>\n",
              "      <th>city</th>\n",
              "      <th>country</th>\n",
              "    </tr>\n",
              "    <tr>\n",
              "      <th>name</th>\n",
              "      <th></th>\n",
              "      <th></th>\n",
              "      <th></th>\n",
              "    </tr>\n",
              "  </thead>\n",
              "  <tbody>\n",
              "    <tr>\n",
              "      <th>Jess</th>\n",
              "      <td>30</td>\n",
              "      <td>Paris</td>\n",
              "      <td>France</td>\n",
              "    </tr>\n",
              "    <tr>\n",
              "      <th>Nick</th>\n",
              "      <td>35</td>\n",
              "      <td>Berlin</td>\n",
              "      <td>Germany</td>\n",
              "    </tr>\n",
              "    <tr>\n",
              "      <th>Winston</th>\n",
              "      <td>40</td>\n",
              "      <td>Madrid</td>\n",
              "      <td>Spain</td>\n",
              "    </tr>\n",
              "    <tr>\n",
              "      <th>Tom</th>\n",
              "      <td>27</td>\n",
              "      <td>Paris</td>\n",
              "      <td>France</td>\n",
              "    </tr>\n",
              "    <tr>\n",
              "      <th>Alex</th>\n",
              "      <td>52</td>\n",
              "      <td>London</td>\n",
              "      <td>UK</td>\n",
              "    </tr>\n",
              "  </tbody>\n",
              "</table>\n",
              "</div>\n",
              "      <button class=\"colab-df-convert\" onclick=\"convertToInteractive('df-1e7966a2-61fe-4051-9347-3df38e9ce877')\"\n",
              "              title=\"Convert this dataframe to an interactive table.\"\n",
              "              style=\"display:none;\">\n",
              "        \n",
              "  <svg xmlns=\"http://www.w3.org/2000/svg\" height=\"24px\"viewBox=\"0 0 24 24\"\n",
              "       width=\"24px\">\n",
              "    <path d=\"M0 0h24v24H0V0z\" fill=\"none\"/>\n",
              "    <path d=\"M18.56 5.44l.94 2.06.94-2.06 2.06-.94-2.06-.94-.94-2.06-.94 2.06-2.06.94zm-11 1L8.5 8.5l.94-2.06 2.06-.94-2.06-.94L8.5 2.5l-.94 2.06-2.06.94zm10 10l.94 2.06.94-2.06 2.06-.94-2.06-.94-.94-2.06-.94 2.06-2.06.94z\"/><path d=\"M17.41 7.96l-1.37-1.37c-.4-.4-.92-.59-1.43-.59-.52 0-1.04.2-1.43.59L10.3 9.45l-7.72 7.72c-.78.78-.78 2.05 0 2.83L4 21.41c.39.39.9.59 1.41.59.51 0 1.02-.2 1.41-.59l7.78-7.78 2.81-2.81c.8-.78.8-2.07 0-2.86zM5.41 20L4 18.59l7.72-7.72 1.47 1.35L5.41 20z\"/>\n",
              "  </svg>\n",
              "      </button>\n",
              "      \n",
              "  <style>\n",
              "    .colab-df-container {\n",
              "      display:flex;\n",
              "      flex-wrap:wrap;\n",
              "      gap: 12px;\n",
              "    }\n",
              "\n",
              "    .colab-df-convert {\n",
              "      background-color: #E8F0FE;\n",
              "      border: none;\n",
              "      border-radius: 50%;\n",
              "      cursor: pointer;\n",
              "      display: none;\n",
              "      fill: #1967D2;\n",
              "      height: 32px;\n",
              "      padding: 0 0 0 0;\n",
              "      width: 32px;\n",
              "    }\n",
              "\n",
              "    .colab-df-convert:hover {\n",
              "      background-color: #E2EBFA;\n",
              "      box-shadow: 0px 1px 2px rgba(60, 64, 67, 0.3), 0px 1px 3px 1px rgba(60, 64, 67, 0.15);\n",
              "      fill: #174EA6;\n",
              "    }\n",
              "\n",
              "    [theme=dark] .colab-df-convert {\n",
              "      background-color: #3B4455;\n",
              "      fill: #D2E3FC;\n",
              "    }\n",
              "\n",
              "    [theme=dark] .colab-df-convert:hover {\n",
              "      background-color: #434B5C;\n",
              "      box-shadow: 0px 1px 3px 1px rgba(0, 0, 0, 0.15);\n",
              "      filter: drop-shadow(0px 1px 2px rgba(0, 0, 0, 0.3));\n",
              "      fill: #FFFFFF;\n",
              "    }\n",
              "  </style>\n",
              "\n",
              "      <script>\n",
              "        const buttonEl =\n",
              "          document.querySelector('#df-1e7966a2-61fe-4051-9347-3df38e9ce877 button.colab-df-convert');\n",
              "        buttonEl.style.display =\n",
              "          google.colab.kernel.accessAllowed ? 'block' : 'none';\n",
              "\n",
              "        async function convertToInteractive(key) {\n",
              "          const element = document.querySelector('#df-1e7966a2-61fe-4051-9347-3df38e9ce877');\n",
              "          const dataTable =\n",
              "            await google.colab.kernel.invokeFunction('convertToInteractive',\n",
              "                                                     [key], {});\n",
              "          if (!dataTable) return;\n",
              "\n",
              "          const docLinkHtml = 'Like what you see? Visit the ' +\n",
              "            '<a target=\"_blank\" href=https://colab.research.google.com/notebooks/data_table.ipynb>data table notebook</a>'\n",
              "            + ' to learn more about interactive tables.';\n",
              "          element.innerHTML = '';\n",
              "          dataTable['output_type'] = 'display_data';\n",
              "          await google.colab.output.renderOutput(dataTable, element);\n",
              "          const docLink = document.createElement('div');\n",
              "          docLink.innerHTML = docLinkHtml;\n",
              "          element.appendChild(docLink);\n",
              "        }\n",
              "      </script>\n",
              "    </div>\n",
              "  </div>\n",
              "  "
            ]
          },
          "metadata": {},
          "execution_count": 150
        }
      ]
    },
    {
      "cell_type": "code",
      "execution_count": 151,
      "metadata": {
        "id": "-sFSyWUiUM2W",
        "colab": {
          "base_uri": "https://localhost:8080/",
          "height": 192
        },
        "outputId": "8ec67680-0783-4394-bfed-636ce6a91663"
      },
      "outputs": [
        {
          "output_type": "stream",
          "name": "stdout",
          "text": [
            "        age    city  country\n",
            "name                        \n",
            "Jess     30   Paris   France\n",
            "Nick     35  Berlin  Germany\n",
            "Winston  40  Madrid    Spain\n",
            "Tom      27   Paris   France\n",
            "Alex     52  London       UK\n",
            "\n",
            "The country of Nick is: ... \n"
          ]
        },
        {
          "output_type": "execute_result",
          "data": {
            "text/plain": [
              "'Germany'"
            ],
            "application/vnd.google.colaboratory.intrinsic+json": {
              "type": "string"
            }
          },
          "metadata": {},
          "execution_count": 151
        }
      ],
      "source": [
        "# access an element by labels\n",
        "\n",
        "print(df1)\n",
        "print('')\n",
        "print('The country of Nick is: ... ')\n",
        "df1.loc['Nick', 'country']"
      ]
    },
    {
      "cell_type": "code",
      "source": [
        "# access a range of elements by labels\n",
        "print(df1)\n",
        "print('')\n",
        "print('The countris of Nick and Winston is: ... ')\n",
        "df1.loc['Nick':'Tom', 'country']\n"
      ],
      "metadata": {
        "id": "aLnMucbz0XRT",
        "colab": {
          "base_uri": "https://localhost:8080/"
        },
        "outputId": "3b25c976-bcc8-47ff-96fd-000de13c3576"
      },
      "execution_count": 152,
      "outputs": [
        {
          "output_type": "stream",
          "name": "stdout",
          "text": [
            "        age    city  country\n",
            "name                        \n",
            "Jess     30   Paris   France\n",
            "Nick     35  Berlin  Germany\n",
            "Winston  40  Madrid    Spain\n",
            "Tom      27   Paris   France\n",
            "Alex     52  London       UK\n",
            "\n",
            "The countris of Nick and Winston is: ... \n"
          ]
        },
        {
          "output_type": "execute_result",
          "data": {
            "text/plain": [
              "name\n",
              "Nick       Germany\n",
              "Winston      Spain\n",
              "Tom         France\n",
              "Name: country, dtype: object"
            ]
          },
          "metadata": {},
          "execution_count": 152
        }
      ]
    },
    {
      "cell_type": "code",
      "execution_count": 153,
      "metadata": {
        "id": "hAS784HJUTsa",
        "colab": {
          "base_uri": "https://localhost:8080/"
        },
        "outputId": "817154e5-6084-45d9-f25b-340ef2a73de9"
      },
      "outputs": [
        {
          "output_type": "execute_result",
          "data": {
            "text/plain": [
              "name\n",
              "Alex         UK\n",
              "Nick    Germany\n",
              "Name: country, dtype: object"
            ]
          },
          "metadata": {},
          "execution_count": 153
        }
      ],
      "source": [
        "# the country of specific rows\n",
        "\n",
        "df1.loc[['Alex', 'Nick'], 'country']"
      ]
    },
    {
      "cell_type": "code",
      "source": [
        "# the country and city of specific rows\n",
        "\n",
        "df1.loc[['Alex', 'Nick'], ['country', 'city']]"
      ],
      "metadata": {
        "id": "GqJ-vGab68fm",
        "colab": {
          "base_uri": "https://localhost:8080/",
          "height": 143
        },
        "outputId": "c83dbefa-4738-47d0-b431-c0baaebf2472"
      },
      "execution_count": 154,
      "outputs": [
        {
          "output_type": "execute_result",
          "data": {
            "text/plain": [
              "      country    city\n",
              "name                 \n",
              "Alex       UK  London\n",
              "Nick  Germany  Berlin"
            ],
            "text/html": [
              "\n",
              "  <div id=\"df-8396e853-a231-48c6-a8cf-f045b1718e19\">\n",
              "    <div class=\"colab-df-container\">\n",
              "      <div>\n",
              "<style scoped>\n",
              "    .dataframe tbody tr th:only-of-type {\n",
              "        vertical-align: middle;\n",
              "    }\n",
              "\n",
              "    .dataframe tbody tr th {\n",
              "        vertical-align: top;\n",
              "    }\n",
              "\n",
              "    .dataframe thead th {\n",
              "        text-align: right;\n",
              "    }\n",
              "</style>\n",
              "<table border=\"1\" class=\"dataframe\">\n",
              "  <thead>\n",
              "    <tr style=\"text-align: right;\">\n",
              "      <th></th>\n",
              "      <th>country</th>\n",
              "      <th>city</th>\n",
              "    </tr>\n",
              "    <tr>\n",
              "      <th>name</th>\n",
              "      <th></th>\n",
              "      <th></th>\n",
              "    </tr>\n",
              "  </thead>\n",
              "  <tbody>\n",
              "    <tr>\n",
              "      <th>Alex</th>\n",
              "      <td>UK</td>\n",
              "      <td>London</td>\n",
              "    </tr>\n",
              "    <tr>\n",
              "      <th>Nick</th>\n",
              "      <td>Germany</td>\n",
              "      <td>Berlin</td>\n",
              "    </tr>\n",
              "  </tbody>\n",
              "</table>\n",
              "</div>\n",
              "      <button class=\"colab-df-convert\" onclick=\"convertToInteractive('df-8396e853-a231-48c6-a8cf-f045b1718e19')\"\n",
              "              title=\"Convert this dataframe to an interactive table.\"\n",
              "              style=\"display:none;\">\n",
              "        \n",
              "  <svg xmlns=\"http://www.w3.org/2000/svg\" height=\"24px\"viewBox=\"0 0 24 24\"\n",
              "       width=\"24px\">\n",
              "    <path d=\"M0 0h24v24H0V0z\" fill=\"none\"/>\n",
              "    <path d=\"M18.56 5.44l.94 2.06.94-2.06 2.06-.94-2.06-.94-.94-2.06-.94 2.06-2.06.94zm-11 1L8.5 8.5l.94-2.06 2.06-.94-2.06-.94L8.5 2.5l-.94 2.06-2.06.94zm10 10l.94 2.06.94-2.06 2.06-.94-2.06-.94-.94-2.06-.94 2.06-2.06.94z\"/><path d=\"M17.41 7.96l-1.37-1.37c-.4-.4-.92-.59-1.43-.59-.52 0-1.04.2-1.43.59L10.3 9.45l-7.72 7.72c-.78.78-.78 2.05 0 2.83L4 21.41c.39.39.9.59 1.41.59.51 0 1.02-.2 1.41-.59l7.78-7.78 2.81-2.81c.8-.78.8-2.07 0-2.86zM5.41 20L4 18.59l7.72-7.72 1.47 1.35L5.41 20z\"/>\n",
              "  </svg>\n",
              "      </button>\n",
              "      \n",
              "  <style>\n",
              "    .colab-df-container {\n",
              "      display:flex;\n",
              "      flex-wrap:wrap;\n",
              "      gap: 12px;\n",
              "    }\n",
              "\n",
              "    .colab-df-convert {\n",
              "      background-color: #E8F0FE;\n",
              "      border: none;\n",
              "      border-radius: 50%;\n",
              "      cursor: pointer;\n",
              "      display: none;\n",
              "      fill: #1967D2;\n",
              "      height: 32px;\n",
              "      padding: 0 0 0 0;\n",
              "      width: 32px;\n",
              "    }\n",
              "\n",
              "    .colab-df-convert:hover {\n",
              "      background-color: #E2EBFA;\n",
              "      box-shadow: 0px 1px 2px rgba(60, 64, 67, 0.3), 0px 1px 3px 1px rgba(60, 64, 67, 0.15);\n",
              "      fill: #174EA6;\n",
              "    }\n",
              "\n",
              "    [theme=dark] .colab-df-convert {\n",
              "      background-color: #3B4455;\n",
              "      fill: #D2E3FC;\n",
              "    }\n",
              "\n",
              "    [theme=dark] .colab-df-convert:hover {\n",
              "      background-color: #434B5C;\n",
              "      box-shadow: 0px 1px 3px 1px rgba(0, 0, 0, 0.15);\n",
              "      filter: drop-shadow(0px 1px 2px rgba(0, 0, 0, 0.3));\n",
              "      fill: #FFFFFF;\n",
              "    }\n",
              "  </style>\n",
              "\n",
              "      <script>\n",
              "        const buttonEl =\n",
              "          document.querySelector('#df-8396e853-a231-48c6-a8cf-f045b1718e19 button.colab-df-convert');\n",
              "        buttonEl.style.display =\n",
              "          google.colab.kernel.accessAllowed ? 'block' : 'none';\n",
              "\n",
              "        async function convertToInteractive(key) {\n",
              "          const element = document.querySelector('#df-8396e853-a231-48c6-a8cf-f045b1718e19');\n",
              "          const dataTable =\n",
              "            await google.colab.kernel.invokeFunction('convertToInteractive',\n",
              "                                                     [key], {});\n",
              "          if (!dataTable) return;\n",
              "\n",
              "          const docLinkHtml = 'Like what you see? Visit the ' +\n",
              "            '<a target=\"_blank\" href=https://colab.research.google.com/notebooks/data_table.ipynb>data table notebook</a>'\n",
              "            + ' to learn more about interactive tables.';\n",
              "          element.innerHTML = '';\n",
              "          dataTable['output_type'] = 'display_data';\n",
              "          await google.colab.output.renderOutput(dataTable, element);\n",
              "          const docLink = document.createElement('div');\n",
              "          docLink.innerHTML = docLinkHtml;\n",
              "          element.appendChild(docLink);\n",
              "        }\n",
              "      </script>\n",
              "    </div>\n",
              "  </div>\n",
              "  "
            ]
          },
          "metadata": {},
          "execution_count": 154
        }
      ]
    },
    {
      "cell_type": "markdown",
      "source": [
        "More about locations https://towardsdatascience.com/how-to-use-loc-and-iloc-for-selecting-data-in-pandas-bd09cb4c3d79\n",
        "\n",
        "https://www.tutorialspoint.com/how-to-access-pandas-dataframe-elements-using-the-loc-attribute\n",
        "\n",
        "https://www.tutorialspoint.com/how-to-access-pandas-dataframe-elements-using-the-iloc-attribute"
      ],
      "metadata": {
        "id": "8w69PGY29rJv"
      }
    },
    {
      "cell_type": "markdown",
      "metadata": {
        "id": "ak4ZKHL5WPFB"
      },
      "source": [
        "## Filter"
      ]
    },
    {
      "cell_type": "code",
      "source": [
        "df1"
      ],
      "metadata": {
        "id": "K3ieWuq0h_gF",
        "colab": {
          "base_uri": "https://localhost:8080/",
          "height": 238
        },
        "outputId": "de7ca5ea-78a2-4845-81d8-77989eb0db7f"
      },
      "execution_count": 155,
      "outputs": [
        {
          "output_type": "execute_result",
          "data": {
            "text/plain": [
              "        age    city  country\n",
              "name                        \n",
              "Jess     30   Paris   France\n",
              "Nick     35  Berlin  Germany\n",
              "Winston  40  Madrid    Spain\n",
              "Tom      27   Paris   France\n",
              "Alex     52  London       UK"
            ],
            "text/html": [
              "\n",
              "  <div id=\"df-31e6fe41-359c-4169-9e57-fd72b517dd3f\">\n",
              "    <div class=\"colab-df-container\">\n",
              "      <div>\n",
              "<style scoped>\n",
              "    .dataframe tbody tr th:only-of-type {\n",
              "        vertical-align: middle;\n",
              "    }\n",
              "\n",
              "    .dataframe tbody tr th {\n",
              "        vertical-align: top;\n",
              "    }\n",
              "\n",
              "    .dataframe thead th {\n",
              "        text-align: right;\n",
              "    }\n",
              "</style>\n",
              "<table border=\"1\" class=\"dataframe\">\n",
              "  <thead>\n",
              "    <tr style=\"text-align: right;\">\n",
              "      <th></th>\n",
              "      <th>age</th>\n",
              "      <th>city</th>\n",
              "      <th>country</th>\n",
              "    </tr>\n",
              "    <tr>\n",
              "      <th>name</th>\n",
              "      <th></th>\n",
              "      <th></th>\n",
              "      <th></th>\n",
              "    </tr>\n",
              "  </thead>\n",
              "  <tbody>\n",
              "    <tr>\n",
              "      <th>Jess</th>\n",
              "      <td>30</td>\n",
              "      <td>Paris</td>\n",
              "      <td>France</td>\n",
              "    </tr>\n",
              "    <tr>\n",
              "      <th>Nick</th>\n",
              "      <td>35</td>\n",
              "      <td>Berlin</td>\n",
              "      <td>Germany</td>\n",
              "    </tr>\n",
              "    <tr>\n",
              "      <th>Winston</th>\n",
              "      <td>40</td>\n",
              "      <td>Madrid</td>\n",
              "      <td>Spain</td>\n",
              "    </tr>\n",
              "    <tr>\n",
              "      <th>Tom</th>\n",
              "      <td>27</td>\n",
              "      <td>Paris</td>\n",
              "      <td>France</td>\n",
              "    </tr>\n",
              "    <tr>\n",
              "      <th>Alex</th>\n",
              "      <td>52</td>\n",
              "      <td>London</td>\n",
              "      <td>UK</td>\n",
              "    </tr>\n",
              "  </tbody>\n",
              "</table>\n",
              "</div>\n",
              "      <button class=\"colab-df-convert\" onclick=\"convertToInteractive('df-31e6fe41-359c-4169-9e57-fd72b517dd3f')\"\n",
              "              title=\"Convert this dataframe to an interactive table.\"\n",
              "              style=\"display:none;\">\n",
              "        \n",
              "  <svg xmlns=\"http://www.w3.org/2000/svg\" height=\"24px\"viewBox=\"0 0 24 24\"\n",
              "       width=\"24px\">\n",
              "    <path d=\"M0 0h24v24H0V0z\" fill=\"none\"/>\n",
              "    <path d=\"M18.56 5.44l.94 2.06.94-2.06 2.06-.94-2.06-.94-.94-2.06-.94 2.06-2.06.94zm-11 1L8.5 8.5l.94-2.06 2.06-.94-2.06-.94L8.5 2.5l-.94 2.06-2.06.94zm10 10l.94 2.06.94-2.06 2.06-.94-2.06-.94-.94-2.06-.94 2.06-2.06.94z\"/><path d=\"M17.41 7.96l-1.37-1.37c-.4-.4-.92-.59-1.43-.59-.52 0-1.04.2-1.43.59L10.3 9.45l-7.72 7.72c-.78.78-.78 2.05 0 2.83L4 21.41c.39.39.9.59 1.41.59.51 0 1.02-.2 1.41-.59l7.78-7.78 2.81-2.81c.8-.78.8-2.07 0-2.86zM5.41 20L4 18.59l7.72-7.72 1.47 1.35L5.41 20z\"/>\n",
              "  </svg>\n",
              "      </button>\n",
              "      \n",
              "  <style>\n",
              "    .colab-df-container {\n",
              "      display:flex;\n",
              "      flex-wrap:wrap;\n",
              "      gap: 12px;\n",
              "    }\n",
              "\n",
              "    .colab-df-convert {\n",
              "      background-color: #E8F0FE;\n",
              "      border: none;\n",
              "      border-radius: 50%;\n",
              "      cursor: pointer;\n",
              "      display: none;\n",
              "      fill: #1967D2;\n",
              "      height: 32px;\n",
              "      padding: 0 0 0 0;\n",
              "      width: 32px;\n",
              "    }\n",
              "\n",
              "    .colab-df-convert:hover {\n",
              "      background-color: #E2EBFA;\n",
              "      box-shadow: 0px 1px 2px rgba(60, 64, 67, 0.3), 0px 1px 3px 1px rgba(60, 64, 67, 0.15);\n",
              "      fill: #174EA6;\n",
              "    }\n",
              "\n",
              "    [theme=dark] .colab-df-convert {\n",
              "      background-color: #3B4455;\n",
              "      fill: #D2E3FC;\n",
              "    }\n",
              "\n",
              "    [theme=dark] .colab-df-convert:hover {\n",
              "      background-color: #434B5C;\n",
              "      box-shadow: 0px 1px 3px 1px rgba(0, 0, 0, 0.15);\n",
              "      filter: drop-shadow(0px 1px 2px rgba(0, 0, 0, 0.3));\n",
              "      fill: #FFFFFF;\n",
              "    }\n",
              "  </style>\n",
              "\n",
              "      <script>\n",
              "        const buttonEl =\n",
              "          document.querySelector('#df-31e6fe41-359c-4169-9e57-fd72b517dd3f button.colab-df-convert');\n",
              "        buttonEl.style.display =\n",
              "          google.colab.kernel.accessAllowed ? 'block' : 'none';\n",
              "\n",
              "        async function convertToInteractive(key) {\n",
              "          const element = document.querySelector('#df-31e6fe41-359c-4169-9e57-fd72b517dd3f');\n",
              "          const dataTable =\n",
              "            await google.colab.kernel.invokeFunction('convertToInteractive',\n",
              "                                                     [key], {});\n",
              "          if (!dataTable) return;\n",
              "\n",
              "          const docLinkHtml = 'Like what you see? Visit the ' +\n",
              "            '<a target=\"_blank\" href=https://colab.research.google.com/notebooks/data_table.ipynb>data table notebook</a>'\n",
              "            + ' to learn more about interactive tables.';\n",
              "          element.innerHTML = '';\n",
              "          dataTable['output_type'] = 'display_data';\n",
              "          await google.colab.output.renderOutput(dataTable, element);\n",
              "          const docLink = document.createElement('div');\n",
              "          docLink.innerHTML = docLinkHtml;\n",
              "          element.appendChild(docLink);\n",
              "        }\n",
              "      </script>\n",
              "    </div>\n",
              "  </div>\n",
              "  "
            ]
          },
          "metadata": {},
          "execution_count": 155
        }
      ]
    },
    {
      "cell_type": "code",
      "execution_count": 156,
      "metadata": {
        "id": "c6kUmHEKVxYQ",
        "colab": {
          "base_uri": "https://localhost:8080/",
          "height": 143
        },
        "outputId": "cf717f91-955d-4c2d-a14d-3ac03ad2ee7c"
      },
      "outputs": [
        {
          "output_type": "execute_result",
          "data": {
            "text/plain": [
              "     age   city country\n",
              "name                   \n",
              "Jess  30  Paris  France\n",
              "Tom   27  Paris  France"
            ],
            "text/html": [
              "\n",
              "  <div id=\"df-d8664ad1-7a18-4df0-855f-43065ad6da96\">\n",
              "    <div class=\"colab-df-container\">\n",
              "      <div>\n",
              "<style scoped>\n",
              "    .dataframe tbody tr th:only-of-type {\n",
              "        vertical-align: middle;\n",
              "    }\n",
              "\n",
              "    .dataframe tbody tr th {\n",
              "        vertical-align: top;\n",
              "    }\n",
              "\n",
              "    .dataframe thead th {\n",
              "        text-align: right;\n",
              "    }\n",
              "</style>\n",
              "<table border=\"1\" class=\"dataframe\">\n",
              "  <thead>\n",
              "    <tr style=\"text-align: right;\">\n",
              "      <th></th>\n",
              "      <th>age</th>\n",
              "      <th>city</th>\n",
              "      <th>country</th>\n",
              "    </tr>\n",
              "    <tr>\n",
              "      <th>name</th>\n",
              "      <th></th>\n",
              "      <th></th>\n",
              "      <th></th>\n",
              "    </tr>\n",
              "  </thead>\n",
              "  <tbody>\n",
              "    <tr>\n",
              "      <th>Jess</th>\n",
              "      <td>30</td>\n",
              "      <td>Paris</td>\n",
              "      <td>France</td>\n",
              "    </tr>\n",
              "    <tr>\n",
              "      <th>Tom</th>\n",
              "      <td>27</td>\n",
              "      <td>Paris</td>\n",
              "      <td>France</td>\n",
              "    </tr>\n",
              "  </tbody>\n",
              "</table>\n",
              "</div>\n",
              "      <button class=\"colab-df-convert\" onclick=\"convertToInteractive('df-d8664ad1-7a18-4df0-855f-43065ad6da96')\"\n",
              "              title=\"Convert this dataframe to an interactive table.\"\n",
              "              style=\"display:none;\">\n",
              "        \n",
              "  <svg xmlns=\"http://www.w3.org/2000/svg\" height=\"24px\"viewBox=\"0 0 24 24\"\n",
              "       width=\"24px\">\n",
              "    <path d=\"M0 0h24v24H0V0z\" fill=\"none\"/>\n",
              "    <path d=\"M18.56 5.44l.94 2.06.94-2.06 2.06-.94-2.06-.94-.94-2.06-.94 2.06-2.06.94zm-11 1L8.5 8.5l.94-2.06 2.06-.94-2.06-.94L8.5 2.5l-.94 2.06-2.06.94zm10 10l.94 2.06.94-2.06 2.06-.94-2.06-.94-.94-2.06-.94 2.06-2.06.94z\"/><path d=\"M17.41 7.96l-1.37-1.37c-.4-.4-.92-.59-1.43-.59-.52 0-1.04.2-1.43.59L10.3 9.45l-7.72 7.72c-.78.78-.78 2.05 0 2.83L4 21.41c.39.39.9.59 1.41.59.51 0 1.02-.2 1.41-.59l7.78-7.78 2.81-2.81c.8-.78.8-2.07 0-2.86zM5.41 20L4 18.59l7.72-7.72 1.47 1.35L5.41 20z\"/>\n",
              "  </svg>\n",
              "      </button>\n",
              "      \n",
              "  <style>\n",
              "    .colab-df-container {\n",
              "      display:flex;\n",
              "      flex-wrap:wrap;\n",
              "      gap: 12px;\n",
              "    }\n",
              "\n",
              "    .colab-df-convert {\n",
              "      background-color: #E8F0FE;\n",
              "      border: none;\n",
              "      border-radius: 50%;\n",
              "      cursor: pointer;\n",
              "      display: none;\n",
              "      fill: #1967D2;\n",
              "      height: 32px;\n",
              "      padding: 0 0 0 0;\n",
              "      width: 32px;\n",
              "    }\n",
              "\n",
              "    .colab-df-convert:hover {\n",
              "      background-color: #E2EBFA;\n",
              "      box-shadow: 0px 1px 2px rgba(60, 64, 67, 0.3), 0px 1px 3px 1px rgba(60, 64, 67, 0.15);\n",
              "      fill: #174EA6;\n",
              "    }\n",
              "\n",
              "    [theme=dark] .colab-df-convert {\n",
              "      background-color: #3B4455;\n",
              "      fill: #D2E3FC;\n",
              "    }\n",
              "\n",
              "    [theme=dark] .colab-df-convert:hover {\n",
              "      background-color: #434B5C;\n",
              "      box-shadow: 0px 1px 3px 1px rgba(0, 0, 0, 0.15);\n",
              "      filter: drop-shadow(0px 1px 2px rgba(0, 0, 0, 0.3));\n",
              "      fill: #FFFFFF;\n",
              "    }\n",
              "  </style>\n",
              "\n",
              "      <script>\n",
              "        const buttonEl =\n",
              "          document.querySelector('#df-d8664ad1-7a18-4df0-855f-43065ad6da96 button.colab-df-convert');\n",
              "        buttonEl.style.display =\n",
              "          google.colab.kernel.accessAllowed ? 'block' : 'none';\n",
              "\n",
              "        async function convertToInteractive(key) {\n",
              "          const element = document.querySelector('#df-d8664ad1-7a18-4df0-855f-43065ad6da96');\n",
              "          const dataTable =\n",
              "            await google.colab.kernel.invokeFunction('convertToInteractive',\n",
              "                                                     [key], {});\n",
              "          if (!dataTable) return;\n",
              "\n",
              "          const docLinkHtml = 'Like what you see? Visit the ' +\n",
              "            '<a target=\"_blank\" href=https://colab.research.google.com/notebooks/data_table.ipynb>data table notebook</a>'\n",
              "            + ' to learn more about interactive tables.';\n",
              "          element.innerHTML = '';\n",
              "          dataTable['output_type'] = 'display_data';\n",
              "          await google.colab.output.renderOutput(dataTable, element);\n",
              "          const docLink = document.createElement('div');\n",
              "          docLink.innerHTML = docLinkHtml;\n",
              "          element.appendChild(docLink);\n",
              "        }\n",
              "      </script>\n",
              "    </div>\n",
              "  </div>\n",
              "  "
            ]
          },
          "metadata": {},
          "execution_count": 156
        }
      ],
      "source": [
        "# filter all data that are in Paris\n",
        "\n",
        "df1[df1['city'] == 'Paris']"
      ]
    },
    {
      "cell_type": "markdown",
      "metadata": {
        "id": "nQMIX8T4WujJ"
      },
      "source": [
        "## Join dataframes"
      ]
    },
    {
      "cell_type": "code",
      "execution_count": 157,
      "metadata": {
        "id": "W3dCne-CWc9v",
        "colab": {
          "base_uri": "https://localhost:8080/",
          "height": 112
        },
        "outputId": "552dc25d-7cdc-4b1b-dbbd-df2a3747901b"
      },
      "outputs": [
        {
          "output_type": "execute_result",
          "data": {
            "text/plain": [
              "     prénom age    city pays\n",
              "0   Matthew  32  London   UK\n",
              "1  Philippe  45  London   UK"
            ],
            "text/html": [
              "\n",
              "  <div id=\"df-0a3e4d6f-d39c-4dac-99f3-862faaeb2b9a\">\n",
              "    <div class=\"colab-df-container\">\n",
              "      <div>\n",
              "<style scoped>\n",
              "    .dataframe tbody tr th:only-of-type {\n",
              "        vertical-align: middle;\n",
              "    }\n",
              "\n",
              "    .dataframe tbody tr th {\n",
              "        vertical-align: top;\n",
              "    }\n",
              "\n",
              "    .dataframe thead th {\n",
              "        text-align: right;\n",
              "    }\n",
              "</style>\n",
              "<table border=\"1\" class=\"dataframe\">\n",
              "  <thead>\n",
              "    <tr style=\"text-align: right;\">\n",
              "      <th></th>\n",
              "      <th>prénom</th>\n",
              "      <th>age</th>\n",
              "      <th>city</th>\n",
              "      <th>pays</th>\n",
              "    </tr>\n",
              "  </thead>\n",
              "  <tbody>\n",
              "    <tr>\n",
              "      <th>0</th>\n",
              "      <td>Matthew</td>\n",
              "      <td>32</td>\n",
              "      <td>London</td>\n",
              "      <td>UK</td>\n",
              "    </tr>\n",
              "    <tr>\n",
              "      <th>1</th>\n",
              "      <td>Philippe</td>\n",
              "      <td>45</td>\n",
              "      <td>London</td>\n",
              "      <td>UK</td>\n",
              "    </tr>\n",
              "  </tbody>\n",
              "</table>\n",
              "</div>\n",
              "      <button class=\"colab-df-convert\" onclick=\"convertToInteractive('df-0a3e4d6f-d39c-4dac-99f3-862faaeb2b9a')\"\n",
              "              title=\"Convert this dataframe to an interactive table.\"\n",
              "              style=\"display:none;\">\n",
              "        \n",
              "  <svg xmlns=\"http://www.w3.org/2000/svg\" height=\"24px\"viewBox=\"0 0 24 24\"\n",
              "       width=\"24px\">\n",
              "    <path d=\"M0 0h24v24H0V0z\" fill=\"none\"/>\n",
              "    <path d=\"M18.56 5.44l.94 2.06.94-2.06 2.06-.94-2.06-.94-.94-2.06-.94 2.06-2.06.94zm-11 1L8.5 8.5l.94-2.06 2.06-.94-2.06-.94L8.5 2.5l-.94 2.06-2.06.94zm10 10l.94 2.06.94-2.06 2.06-.94-2.06-.94-.94-2.06-.94 2.06-2.06.94z\"/><path d=\"M17.41 7.96l-1.37-1.37c-.4-.4-.92-.59-1.43-.59-.52 0-1.04.2-1.43.59L10.3 9.45l-7.72 7.72c-.78.78-.78 2.05 0 2.83L4 21.41c.39.39.9.59 1.41.59.51 0 1.02-.2 1.41-.59l7.78-7.78 2.81-2.81c.8-.78.8-2.07 0-2.86zM5.41 20L4 18.59l7.72-7.72 1.47 1.35L5.41 20z\"/>\n",
              "  </svg>\n",
              "      </button>\n",
              "      \n",
              "  <style>\n",
              "    .colab-df-container {\n",
              "      display:flex;\n",
              "      flex-wrap:wrap;\n",
              "      gap: 12px;\n",
              "    }\n",
              "\n",
              "    .colab-df-convert {\n",
              "      background-color: #E8F0FE;\n",
              "      border: none;\n",
              "      border-radius: 50%;\n",
              "      cursor: pointer;\n",
              "      display: none;\n",
              "      fill: #1967D2;\n",
              "      height: 32px;\n",
              "      padding: 0 0 0 0;\n",
              "      width: 32px;\n",
              "    }\n",
              "\n",
              "    .colab-df-convert:hover {\n",
              "      background-color: #E2EBFA;\n",
              "      box-shadow: 0px 1px 2px rgba(60, 64, 67, 0.3), 0px 1px 3px 1px rgba(60, 64, 67, 0.15);\n",
              "      fill: #174EA6;\n",
              "    }\n",
              "\n",
              "    [theme=dark] .colab-df-convert {\n",
              "      background-color: #3B4455;\n",
              "      fill: #D2E3FC;\n",
              "    }\n",
              "\n",
              "    [theme=dark] .colab-df-convert:hover {\n",
              "      background-color: #434B5C;\n",
              "      box-shadow: 0px 1px 3px 1px rgba(0, 0, 0, 0.15);\n",
              "      filter: drop-shadow(0px 1px 2px rgba(0, 0, 0, 0.3));\n",
              "      fill: #FFFFFF;\n",
              "    }\n",
              "  </style>\n",
              "\n",
              "      <script>\n",
              "        const buttonEl =\n",
              "          document.querySelector('#df-0a3e4d6f-d39c-4dac-99f3-862faaeb2b9a button.colab-df-convert');\n",
              "        buttonEl.style.display =\n",
              "          google.colab.kernel.accessAllowed ? 'block' : 'none';\n",
              "\n",
              "        async function convertToInteractive(key) {\n",
              "          const element = document.querySelector('#df-0a3e4d6f-d39c-4dac-99f3-862faaeb2b9a');\n",
              "          const dataTable =\n",
              "            await google.colab.kernel.invokeFunction('convertToInteractive',\n",
              "                                                     [key], {});\n",
              "          if (!dataTable) return;\n",
              "\n",
              "          const docLinkHtml = 'Like what you see? Visit the ' +\n",
              "            '<a target=\"_blank\" href=https://colab.research.google.com/notebooks/data_table.ipynb>data table notebook</a>'\n",
              "            + ' to learn more about interactive tables.';\n",
              "          element.innerHTML = '';\n",
              "          dataTable['output_type'] = 'display_data';\n",
              "          await google.colab.output.renderOutput(dataTable, element);\n",
              "          const docLink = document.createElement('div');\n",
              "          docLink.innerHTML = docLinkHtml;\n",
              "          element.appendChild(docLink);\n",
              "        }\n",
              "      </script>\n",
              "    </div>\n",
              "  </div>\n",
              "  "
            ]
          },
          "metadata": {},
          "execution_count": 157
        }
      ],
      "source": [
        "dataframe_1 = {\"prénom\":['Matthew', 'Philippe'],\n",
        "              \"age\":['32', '45'],\n",
        "              \"city\":['London', 'London'],\n",
        "               \"pays\": ['UK', 'UK']}\n",
        "\n",
        "df2 = pd.DataFrame(dataframe_1)\n",
        "\n",
        "df2"
      ]
    },
    {
      "cell_type": "code",
      "source": [
        "df2.shape"
      ],
      "metadata": {
        "id": "Yg-McGE7gpoy",
        "colab": {
          "base_uri": "https://localhost:8080/"
        },
        "outputId": "ef33f2a0-10a5-4f5d-8abb-dfc94983ff88"
      },
      "execution_count": 158,
      "outputs": [
        {
          "output_type": "execute_result",
          "data": {
            "text/plain": [
              "(2, 4)"
            ]
          },
          "metadata": {},
          "execution_count": 158
        }
      ]
    },
    {
      "cell_type": "code",
      "execution_count": 159,
      "metadata": {
        "id": "xIvXdfzNXCCq",
        "colab": {
          "base_uri": "https://localhost:8080/"
        },
        "outputId": "7cc56261-1be1-47d9-c6a5-92534c9079ca"
      },
      "outputs": [
        {
          "output_type": "stream",
          "name": "stdout",
          "text": [
            "Index(['prénom', 'age', 'city', 'pays'], dtype='object')\n"
          ]
        }
      ],
      "source": [
        "print(df2.columns)"
      ]
    },
    {
      "cell_type": "code",
      "execution_count": 160,
      "metadata": {
        "id": "_ARwE949XNVH",
        "colab": {
          "base_uri": "https://localhost:8080/",
          "height": 112
        },
        "outputId": "790ca683-1b2c-44cd-bc75-3bc6cc7e96c5"
      },
      "outputs": [
        {
          "output_type": "execute_result",
          "data": {
            "text/plain": [
              "       name age    city country\n",
              "0   Matthew  32  London      UK\n",
              "1  Philippe  45  London      UK"
            ],
            "text/html": [
              "\n",
              "  <div id=\"df-61f54dd8-90e8-4c41-9922-8d6afeda2328\">\n",
              "    <div class=\"colab-df-container\">\n",
              "      <div>\n",
              "<style scoped>\n",
              "    .dataframe tbody tr th:only-of-type {\n",
              "        vertical-align: middle;\n",
              "    }\n",
              "\n",
              "    .dataframe tbody tr th {\n",
              "        vertical-align: top;\n",
              "    }\n",
              "\n",
              "    .dataframe thead th {\n",
              "        text-align: right;\n",
              "    }\n",
              "</style>\n",
              "<table border=\"1\" class=\"dataframe\">\n",
              "  <thead>\n",
              "    <tr style=\"text-align: right;\">\n",
              "      <th></th>\n",
              "      <th>name</th>\n",
              "      <th>age</th>\n",
              "      <th>city</th>\n",
              "      <th>country</th>\n",
              "    </tr>\n",
              "  </thead>\n",
              "  <tbody>\n",
              "    <tr>\n",
              "      <th>0</th>\n",
              "      <td>Matthew</td>\n",
              "      <td>32</td>\n",
              "      <td>London</td>\n",
              "      <td>UK</td>\n",
              "    </tr>\n",
              "    <tr>\n",
              "      <th>1</th>\n",
              "      <td>Philippe</td>\n",
              "      <td>45</td>\n",
              "      <td>London</td>\n",
              "      <td>UK</td>\n",
              "    </tr>\n",
              "  </tbody>\n",
              "</table>\n",
              "</div>\n",
              "      <button class=\"colab-df-convert\" onclick=\"convertToInteractive('df-61f54dd8-90e8-4c41-9922-8d6afeda2328')\"\n",
              "              title=\"Convert this dataframe to an interactive table.\"\n",
              "              style=\"display:none;\">\n",
              "        \n",
              "  <svg xmlns=\"http://www.w3.org/2000/svg\" height=\"24px\"viewBox=\"0 0 24 24\"\n",
              "       width=\"24px\">\n",
              "    <path d=\"M0 0h24v24H0V0z\" fill=\"none\"/>\n",
              "    <path d=\"M18.56 5.44l.94 2.06.94-2.06 2.06-.94-2.06-.94-.94-2.06-.94 2.06-2.06.94zm-11 1L8.5 8.5l.94-2.06 2.06-.94-2.06-.94L8.5 2.5l-.94 2.06-2.06.94zm10 10l.94 2.06.94-2.06 2.06-.94-2.06-.94-.94-2.06-.94 2.06-2.06.94z\"/><path d=\"M17.41 7.96l-1.37-1.37c-.4-.4-.92-.59-1.43-.59-.52 0-1.04.2-1.43.59L10.3 9.45l-7.72 7.72c-.78.78-.78 2.05 0 2.83L4 21.41c.39.39.9.59 1.41.59.51 0 1.02-.2 1.41-.59l7.78-7.78 2.81-2.81c.8-.78.8-2.07 0-2.86zM5.41 20L4 18.59l7.72-7.72 1.47 1.35L5.41 20z\"/>\n",
              "  </svg>\n",
              "      </button>\n",
              "      \n",
              "  <style>\n",
              "    .colab-df-container {\n",
              "      display:flex;\n",
              "      flex-wrap:wrap;\n",
              "      gap: 12px;\n",
              "    }\n",
              "\n",
              "    .colab-df-convert {\n",
              "      background-color: #E8F0FE;\n",
              "      border: none;\n",
              "      border-radius: 50%;\n",
              "      cursor: pointer;\n",
              "      display: none;\n",
              "      fill: #1967D2;\n",
              "      height: 32px;\n",
              "      padding: 0 0 0 0;\n",
              "      width: 32px;\n",
              "    }\n",
              "\n",
              "    .colab-df-convert:hover {\n",
              "      background-color: #E2EBFA;\n",
              "      box-shadow: 0px 1px 2px rgba(60, 64, 67, 0.3), 0px 1px 3px 1px rgba(60, 64, 67, 0.15);\n",
              "      fill: #174EA6;\n",
              "    }\n",
              "\n",
              "    [theme=dark] .colab-df-convert {\n",
              "      background-color: #3B4455;\n",
              "      fill: #D2E3FC;\n",
              "    }\n",
              "\n",
              "    [theme=dark] .colab-df-convert:hover {\n",
              "      background-color: #434B5C;\n",
              "      box-shadow: 0px 1px 3px 1px rgba(0, 0, 0, 0.15);\n",
              "      filter: drop-shadow(0px 1px 2px rgba(0, 0, 0, 0.3));\n",
              "      fill: #FFFFFF;\n",
              "    }\n",
              "  </style>\n",
              "\n",
              "      <script>\n",
              "        const buttonEl =\n",
              "          document.querySelector('#df-61f54dd8-90e8-4c41-9922-8d6afeda2328 button.colab-df-convert');\n",
              "        buttonEl.style.display =\n",
              "          google.colab.kernel.accessAllowed ? 'block' : 'none';\n",
              "\n",
              "        async function convertToInteractive(key) {\n",
              "          const element = document.querySelector('#df-61f54dd8-90e8-4c41-9922-8d6afeda2328');\n",
              "          const dataTable =\n",
              "            await google.colab.kernel.invokeFunction('convertToInteractive',\n",
              "                                                     [key], {});\n",
              "          if (!dataTable) return;\n",
              "\n",
              "          const docLinkHtml = 'Like what you see? Visit the ' +\n",
              "            '<a target=\"_blank\" href=https://colab.research.google.com/notebooks/data_table.ipynb>data table notebook</a>'\n",
              "            + ' to learn more about interactive tables.';\n",
              "          element.innerHTML = '';\n",
              "          dataTable['output_type'] = 'display_data';\n",
              "          await google.colab.output.renderOutput(dataTable, element);\n",
              "          const docLink = document.createElement('div');\n",
              "          docLink.innerHTML = docLinkHtml;\n",
              "          element.appendChild(docLink);\n",
              "        }\n",
              "      </script>\n",
              "    </div>\n",
              "  </div>\n",
              "  "
            ]
          },
          "metadata": {},
          "execution_count": 160
        }
      ],
      "source": [
        "# change df columns names\n",
        "\n",
        "df2.columns = ['name', 'age', 'city', 'country']\n",
        "df2.head()"
      ]
    },
    {
      "cell_type": "code",
      "source": [
        "# compare both dfs column names\n",
        "\n",
        "print('the column names of 1st df are: ', df1.columns)\n",
        "print('the column names of 2nd df are: ', df2.columns)"
      ],
      "metadata": {
        "id": "5ahVjwLU4J1d",
        "colab": {
          "base_uri": "https://localhost:8080/"
        },
        "outputId": "1d67b864-5225-45f2-c415-878b8ab3e0e5"
      },
      "execution_count": 161,
      "outputs": [
        {
          "output_type": "stream",
          "name": "stdout",
          "text": [
            "the column names of 1st df are:  Index(['age', 'city', 'country'], dtype='object')\n",
            "the column names of 2nd df are:  Index(['name', 'age', 'city', 'country'], dtype='object')\n"
          ]
        }
      ]
    },
    {
      "cell_type": "code",
      "execution_count": 162,
      "metadata": {
        "id": "U76Y_nvdXf_B",
        "colab": {
          "base_uri": "https://localhost:8080/",
          "height": 373
        },
        "outputId": "f552cec9-1d9e-4a28-df91-8a17e3ab4d70"
      },
      "outputs": [
        {
          "output_type": "stream",
          "name": "stdout",
          "text": [
            "the df1 Shape is :  (5, 3)\n",
            "the df2 Shape is :  (2, 4)\n",
            "the new joined Dataframe Shape is :  (7, 4)\n",
            "\n",
            "\n",
            "The output is not what we really wanted as we have NaN values in columns and not all indices are the names...\n"
          ]
        },
        {
          "output_type": "execute_result",
          "data": {
            "text/plain": [
              "        age    city  country      name\n",
              "Jess     30   Paris   France       NaN\n",
              "Nick     35  Berlin  Germany       NaN\n",
              "Winston  40  Madrid    Spain       NaN\n",
              "Tom      27   Paris   France       NaN\n",
              "Alex     52  London       UK       NaN\n",
              "0        32  London       UK   Matthew\n",
              "1        45  London       UK  Philippe"
            ],
            "text/html": [
              "\n",
              "  <div id=\"df-0ea1f027-a7e9-4009-b47f-af6e0d76d602\">\n",
              "    <div class=\"colab-df-container\">\n",
              "      <div>\n",
              "<style scoped>\n",
              "    .dataframe tbody tr th:only-of-type {\n",
              "        vertical-align: middle;\n",
              "    }\n",
              "\n",
              "    .dataframe tbody tr th {\n",
              "        vertical-align: top;\n",
              "    }\n",
              "\n",
              "    .dataframe thead th {\n",
              "        text-align: right;\n",
              "    }\n",
              "</style>\n",
              "<table border=\"1\" class=\"dataframe\">\n",
              "  <thead>\n",
              "    <tr style=\"text-align: right;\">\n",
              "      <th></th>\n",
              "      <th>age</th>\n",
              "      <th>city</th>\n",
              "      <th>country</th>\n",
              "      <th>name</th>\n",
              "    </tr>\n",
              "  </thead>\n",
              "  <tbody>\n",
              "    <tr>\n",
              "      <th>Jess</th>\n",
              "      <td>30</td>\n",
              "      <td>Paris</td>\n",
              "      <td>France</td>\n",
              "      <td>NaN</td>\n",
              "    </tr>\n",
              "    <tr>\n",
              "      <th>Nick</th>\n",
              "      <td>35</td>\n",
              "      <td>Berlin</td>\n",
              "      <td>Germany</td>\n",
              "      <td>NaN</td>\n",
              "    </tr>\n",
              "    <tr>\n",
              "      <th>Winston</th>\n",
              "      <td>40</td>\n",
              "      <td>Madrid</td>\n",
              "      <td>Spain</td>\n",
              "      <td>NaN</td>\n",
              "    </tr>\n",
              "    <tr>\n",
              "      <th>Tom</th>\n",
              "      <td>27</td>\n",
              "      <td>Paris</td>\n",
              "      <td>France</td>\n",
              "      <td>NaN</td>\n",
              "    </tr>\n",
              "    <tr>\n",
              "      <th>Alex</th>\n",
              "      <td>52</td>\n",
              "      <td>London</td>\n",
              "      <td>UK</td>\n",
              "      <td>NaN</td>\n",
              "    </tr>\n",
              "    <tr>\n",
              "      <th>0</th>\n",
              "      <td>32</td>\n",
              "      <td>London</td>\n",
              "      <td>UK</td>\n",
              "      <td>Matthew</td>\n",
              "    </tr>\n",
              "    <tr>\n",
              "      <th>1</th>\n",
              "      <td>45</td>\n",
              "      <td>London</td>\n",
              "      <td>UK</td>\n",
              "      <td>Philippe</td>\n",
              "    </tr>\n",
              "  </tbody>\n",
              "</table>\n",
              "</div>\n",
              "      <button class=\"colab-df-convert\" onclick=\"convertToInteractive('df-0ea1f027-a7e9-4009-b47f-af6e0d76d602')\"\n",
              "              title=\"Convert this dataframe to an interactive table.\"\n",
              "              style=\"display:none;\">\n",
              "        \n",
              "  <svg xmlns=\"http://www.w3.org/2000/svg\" height=\"24px\"viewBox=\"0 0 24 24\"\n",
              "       width=\"24px\">\n",
              "    <path d=\"M0 0h24v24H0V0z\" fill=\"none\"/>\n",
              "    <path d=\"M18.56 5.44l.94 2.06.94-2.06 2.06-.94-2.06-.94-.94-2.06-.94 2.06-2.06.94zm-11 1L8.5 8.5l.94-2.06 2.06-.94-2.06-.94L8.5 2.5l-.94 2.06-2.06.94zm10 10l.94 2.06.94-2.06 2.06-.94-2.06-.94-.94-2.06-.94 2.06-2.06.94z\"/><path d=\"M17.41 7.96l-1.37-1.37c-.4-.4-.92-.59-1.43-.59-.52 0-1.04.2-1.43.59L10.3 9.45l-7.72 7.72c-.78.78-.78 2.05 0 2.83L4 21.41c.39.39.9.59 1.41.59.51 0 1.02-.2 1.41-.59l7.78-7.78 2.81-2.81c.8-.78.8-2.07 0-2.86zM5.41 20L4 18.59l7.72-7.72 1.47 1.35L5.41 20z\"/>\n",
              "  </svg>\n",
              "      </button>\n",
              "      \n",
              "  <style>\n",
              "    .colab-df-container {\n",
              "      display:flex;\n",
              "      flex-wrap:wrap;\n",
              "      gap: 12px;\n",
              "    }\n",
              "\n",
              "    .colab-df-convert {\n",
              "      background-color: #E8F0FE;\n",
              "      border: none;\n",
              "      border-radius: 50%;\n",
              "      cursor: pointer;\n",
              "      display: none;\n",
              "      fill: #1967D2;\n",
              "      height: 32px;\n",
              "      padding: 0 0 0 0;\n",
              "      width: 32px;\n",
              "    }\n",
              "\n",
              "    .colab-df-convert:hover {\n",
              "      background-color: #E2EBFA;\n",
              "      box-shadow: 0px 1px 2px rgba(60, 64, 67, 0.3), 0px 1px 3px 1px rgba(60, 64, 67, 0.15);\n",
              "      fill: #174EA6;\n",
              "    }\n",
              "\n",
              "    [theme=dark] .colab-df-convert {\n",
              "      background-color: #3B4455;\n",
              "      fill: #D2E3FC;\n",
              "    }\n",
              "\n",
              "    [theme=dark] .colab-df-convert:hover {\n",
              "      background-color: #434B5C;\n",
              "      box-shadow: 0px 1px 3px 1px rgba(0, 0, 0, 0.15);\n",
              "      filter: drop-shadow(0px 1px 2px rgba(0, 0, 0, 0.3));\n",
              "      fill: #FFFFFF;\n",
              "    }\n",
              "  </style>\n",
              "\n",
              "      <script>\n",
              "        const buttonEl =\n",
              "          document.querySelector('#df-0ea1f027-a7e9-4009-b47f-af6e0d76d602 button.colab-df-convert');\n",
              "        buttonEl.style.display =\n",
              "          google.colab.kernel.accessAllowed ? 'block' : 'none';\n",
              "\n",
              "        async function convertToInteractive(key) {\n",
              "          const element = document.querySelector('#df-0ea1f027-a7e9-4009-b47f-af6e0d76d602');\n",
              "          const dataTable =\n",
              "            await google.colab.kernel.invokeFunction('convertToInteractive',\n",
              "                                                     [key], {});\n",
              "          if (!dataTable) return;\n",
              "\n",
              "          const docLinkHtml = 'Like what you see? Visit the ' +\n",
              "            '<a target=\"_blank\" href=https://colab.research.google.com/notebooks/data_table.ipynb>data table notebook</a>'\n",
              "            + ' to learn more about interactive tables.';\n",
              "          element.innerHTML = '';\n",
              "          dataTable['output_type'] = 'display_data';\n",
              "          await google.colab.output.renderOutput(dataTable, element);\n",
              "          const docLink = document.createElement('div');\n",
              "          docLink.innerHTML = docLinkHtml;\n",
              "          element.appendChild(docLink);\n",
              "        }\n",
              "      </script>\n",
              "    </div>\n",
              "  </div>\n",
              "  "
            ]
          },
          "metadata": {},
          "execution_count": 162
        }
      ],
      "source": [
        "# join the dfs into a single one\n",
        "\n",
        "# concatenate all df into a single one\n",
        "df = pd.concat([df1, df2]) # it will use the column names  to join by\n",
        "\n",
        "# check dataframes shapes\n",
        "print('the df1 Shape is : ', df1.shape)\n",
        "print('the df2 Shape is : ', df2.shape)\n",
        "print('the new joined Dataframe Shape is : ', df.shape)\n",
        "print('')\n",
        "\n",
        "# visualize the new df\n",
        "print('')\n",
        "print('The output is not what we really wanted as we have NaN values in columns and not all indices are the names...')\n",
        "df"
      ]
    },
    {
      "cell_type": "code",
      "execution_count": 163,
      "metadata": {
        "id": "4evaUxEyX8rx",
        "colab": {
          "base_uri": "https://localhost:8080/",
          "height": 143
        },
        "outputId": "2c77c658-e932-4224-c2ae-4879ea6f05f4"
      },
      "outputs": [
        {
          "output_type": "execute_result",
          "data": {
            "text/plain": [
              "         age    city country\n",
              "name                        \n",
              "Matthew   32  London      UK\n",
              "Philippe  45  London      UK"
            ],
            "text/html": [
              "\n",
              "  <div id=\"df-3f021828-3a14-45de-83fb-48f43f513baf\">\n",
              "    <div class=\"colab-df-container\">\n",
              "      <div>\n",
              "<style scoped>\n",
              "    .dataframe tbody tr th:only-of-type {\n",
              "        vertical-align: middle;\n",
              "    }\n",
              "\n",
              "    .dataframe tbody tr th {\n",
              "        vertical-align: top;\n",
              "    }\n",
              "\n",
              "    .dataframe thead th {\n",
              "        text-align: right;\n",
              "    }\n",
              "</style>\n",
              "<table border=\"1\" class=\"dataframe\">\n",
              "  <thead>\n",
              "    <tr style=\"text-align: right;\">\n",
              "      <th></th>\n",
              "      <th>age</th>\n",
              "      <th>city</th>\n",
              "      <th>country</th>\n",
              "    </tr>\n",
              "    <tr>\n",
              "      <th>name</th>\n",
              "      <th></th>\n",
              "      <th></th>\n",
              "      <th></th>\n",
              "    </tr>\n",
              "  </thead>\n",
              "  <tbody>\n",
              "    <tr>\n",
              "      <th>Matthew</th>\n",
              "      <td>32</td>\n",
              "      <td>London</td>\n",
              "      <td>UK</td>\n",
              "    </tr>\n",
              "    <tr>\n",
              "      <th>Philippe</th>\n",
              "      <td>45</td>\n",
              "      <td>London</td>\n",
              "      <td>UK</td>\n",
              "    </tr>\n",
              "  </tbody>\n",
              "</table>\n",
              "</div>\n",
              "      <button class=\"colab-df-convert\" onclick=\"convertToInteractive('df-3f021828-3a14-45de-83fb-48f43f513baf')\"\n",
              "              title=\"Convert this dataframe to an interactive table.\"\n",
              "              style=\"display:none;\">\n",
              "        \n",
              "  <svg xmlns=\"http://www.w3.org/2000/svg\" height=\"24px\"viewBox=\"0 0 24 24\"\n",
              "       width=\"24px\">\n",
              "    <path d=\"M0 0h24v24H0V0z\" fill=\"none\"/>\n",
              "    <path d=\"M18.56 5.44l.94 2.06.94-2.06 2.06-.94-2.06-.94-.94-2.06-.94 2.06-2.06.94zm-11 1L8.5 8.5l.94-2.06 2.06-.94-2.06-.94L8.5 2.5l-.94 2.06-2.06.94zm10 10l.94 2.06.94-2.06 2.06-.94-2.06-.94-.94-2.06-.94 2.06-2.06.94z\"/><path d=\"M17.41 7.96l-1.37-1.37c-.4-.4-.92-.59-1.43-.59-.52 0-1.04.2-1.43.59L10.3 9.45l-7.72 7.72c-.78.78-.78 2.05 0 2.83L4 21.41c.39.39.9.59 1.41.59.51 0 1.02-.2 1.41-.59l7.78-7.78 2.81-2.81c.8-.78.8-2.07 0-2.86zM5.41 20L4 18.59l7.72-7.72 1.47 1.35L5.41 20z\"/>\n",
              "  </svg>\n",
              "      </button>\n",
              "      \n",
              "  <style>\n",
              "    .colab-df-container {\n",
              "      display:flex;\n",
              "      flex-wrap:wrap;\n",
              "      gap: 12px;\n",
              "    }\n",
              "\n",
              "    .colab-df-convert {\n",
              "      background-color: #E8F0FE;\n",
              "      border: none;\n",
              "      border-radius: 50%;\n",
              "      cursor: pointer;\n",
              "      display: none;\n",
              "      fill: #1967D2;\n",
              "      height: 32px;\n",
              "      padding: 0 0 0 0;\n",
              "      width: 32px;\n",
              "    }\n",
              "\n",
              "    .colab-df-convert:hover {\n",
              "      background-color: #E2EBFA;\n",
              "      box-shadow: 0px 1px 2px rgba(60, 64, 67, 0.3), 0px 1px 3px 1px rgba(60, 64, 67, 0.15);\n",
              "      fill: #174EA6;\n",
              "    }\n",
              "\n",
              "    [theme=dark] .colab-df-convert {\n",
              "      background-color: #3B4455;\n",
              "      fill: #D2E3FC;\n",
              "    }\n",
              "\n",
              "    [theme=dark] .colab-df-convert:hover {\n",
              "      background-color: #434B5C;\n",
              "      box-shadow: 0px 1px 3px 1px rgba(0, 0, 0, 0.15);\n",
              "      filter: drop-shadow(0px 1px 2px rgba(0, 0, 0, 0.3));\n",
              "      fill: #FFFFFF;\n",
              "    }\n",
              "  </style>\n",
              "\n",
              "      <script>\n",
              "        const buttonEl =\n",
              "          document.querySelector('#df-3f021828-3a14-45de-83fb-48f43f513baf button.colab-df-convert');\n",
              "        buttonEl.style.display =\n",
              "          google.colab.kernel.accessAllowed ? 'block' : 'none';\n",
              "\n",
              "        async function convertToInteractive(key) {\n",
              "          const element = document.querySelector('#df-3f021828-3a14-45de-83fb-48f43f513baf');\n",
              "          const dataTable =\n",
              "            await google.colab.kernel.invokeFunction('convertToInteractive',\n",
              "                                                     [key], {});\n",
              "          if (!dataTable) return;\n",
              "\n",
              "          const docLinkHtml = 'Like what you see? Visit the ' +\n",
              "            '<a target=\"_blank\" href=https://colab.research.google.com/notebooks/data_table.ipynb>data table notebook</a>'\n",
              "            + ' to learn more about interactive tables.';\n",
              "          element.innerHTML = '';\n",
              "          dataTable['output_type'] = 'display_data';\n",
              "          await google.colab.output.renderOutput(dataTable, element);\n",
              "          const docLink = document.createElement('div');\n",
              "          docLink.innerHTML = docLinkHtml;\n",
              "          element.appendChild(docLink);\n",
              "        }\n",
              "      </script>\n",
              "    </div>\n",
              "  </div>\n",
              "  "
            ]
          },
          "metadata": {},
          "execution_count": 163
        }
      ],
      "source": [
        "# to be obtain a homogeneous df we need both dfs to be structured the same\n",
        "# use name column as df index for df2 as df1 did\n",
        "\n",
        "df2 = df2.set_index('name')\n",
        "df2.head()"
      ]
    },
    {
      "cell_type": "code",
      "source": [
        "df2.head()"
      ],
      "metadata": {
        "id": "Q-Ejj4WQiMPB",
        "colab": {
          "base_uri": "https://localhost:8080/",
          "height": 143
        },
        "outputId": "f54fe1c4-3625-408f-f4c2-f0b463f6320f"
      },
      "execution_count": 164,
      "outputs": [
        {
          "output_type": "execute_result",
          "data": {
            "text/plain": [
              "         age    city country\n",
              "name                        \n",
              "Matthew   32  London      UK\n",
              "Philippe  45  London      UK"
            ],
            "text/html": [
              "\n",
              "  <div id=\"df-e7c50bc8-d0ee-4d2d-b6de-8204ca13cfcf\">\n",
              "    <div class=\"colab-df-container\">\n",
              "      <div>\n",
              "<style scoped>\n",
              "    .dataframe tbody tr th:only-of-type {\n",
              "        vertical-align: middle;\n",
              "    }\n",
              "\n",
              "    .dataframe tbody tr th {\n",
              "        vertical-align: top;\n",
              "    }\n",
              "\n",
              "    .dataframe thead th {\n",
              "        text-align: right;\n",
              "    }\n",
              "</style>\n",
              "<table border=\"1\" class=\"dataframe\">\n",
              "  <thead>\n",
              "    <tr style=\"text-align: right;\">\n",
              "      <th></th>\n",
              "      <th>age</th>\n",
              "      <th>city</th>\n",
              "      <th>country</th>\n",
              "    </tr>\n",
              "    <tr>\n",
              "      <th>name</th>\n",
              "      <th></th>\n",
              "      <th></th>\n",
              "      <th></th>\n",
              "    </tr>\n",
              "  </thead>\n",
              "  <tbody>\n",
              "    <tr>\n",
              "      <th>Matthew</th>\n",
              "      <td>32</td>\n",
              "      <td>London</td>\n",
              "      <td>UK</td>\n",
              "    </tr>\n",
              "    <tr>\n",
              "      <th>Philippe</th>\n",
              "      <td>45</td>\n",
              "      <td>London</td>\n",
              "      <td>UK</td>\n",
              "    </tr>\n",
              "  </tbody>\n",
              "</table>\n",
              "</div>\n",
              "      <button class=\"colab-df-convert\" onclick=\"convertToInteractive('df-e7c50bc8-d0ee-4d2d-b6de-8204ca13cfcf')\"\n",
              "              title=\"Convert this dataframe to an interactive table.\"\n",
              "              style=\"display:none;\">\n",
              "        \n",
              "  <svg xmlns=\"http://www.w3.org/2000/svg\" height=\"24px\"viewBox=\"0 0 24 24\"\n",
              "       width=\"24px\">\n",
              "    <path d=\"M0 0h24v24H0V0z\" fill=\"none\"/>\n",
              "    <path d=\"M18.56 5.44l.94 2.06.94-2.06 2.06-.94-2.06-.94-.94-2.06-.94 2.06-2.06.94zm-11 1L8.5 8.5l.94-2.06 2.06-.94-2.06-.94L8.5 2.5l-.94 2.06-2.06.94zm10 10l.94 2.06.94-2.06 2.06-.94-2.06-.94-.94-2.06-.94 2.06-2.06.94z\"/><path d=\"M17.41 7.96l-1.37-1.37c-.4-.4-.92-.59-1.43-.59-.52 0-1.04.2-1.43.59L10.3 9.45l-7.72 7.72c-.78.78-.78 2.05 0 2.83L4 21.41c.39.39.9.59 1.41.59.51 0 1.02-.2 1.41-.59l7.78-7.78 2.81-2.81c.8-.78.8-2.07 0-2.86zM5.41 20L4 18.59l7.72-7.72 1.47 1.35L5.41 20z\"/>\n",
              "  </svg>\n",
              "      </button>\n",
              "      \n",
              "  <style>\n",
              "    .colab-df-container {\n",
              "      display:flex;\n",
              "      flex-wrap:wrap;\n",
              "      gap: 12px;\n",
              "    }\n",
              "\n",
              "    .colab-df-convert {\n",
              "      background-color: #E8F0FE;\n",
              "      border: none;\n",
              "      border-radius: 50%;\n",
              "      cursor: pointer;\n",
              "      display: none;\n",
              "      fill: #1967D2;\n",
              "      height: 32px;\n",
              "      padding: 0 0 0 0;\n",
              "      width: 32px;\n",
              "    }\n",
              "\n",
              "    .colab-df-convert:hover {\n",
              "      background-color: #E2EBFA;\n",
              "      box-shadow: 0px 1px 2px rgba(60, 64, 67, 0.3), 0px 1px 3px 1px rgba(60, 64, 67, 0.15);\n",
              "      fill: #174EA6;\n",
              "    }\n",
              "\n",
              "    [theme=dark] .colab-df-convert {\n",
              "      background-color: #3B4455;\n",
              "      fill: #D2E3FC;\n",
              "    }\n",
              "\n",
              "    [theme=dark] .colab-df-convert:hover {\n",
              "      background-color: #434B5C;\n",
              "      box-shadow: 0px 1px 3px 1px rgba(0, 0, 0, 0.15);\n",
              "      filter: drop-shadow(0px 1px 2px rgba(0, 0, 0, 0.3));\n",
              "      fill: #FFFFFF;\n",
              "    }\n",
              "  </style>\n",
              "\n",
              "      <script>\n",
              "        const buttonEl =\n",
              "          document.querySelector('#df-e7c50bc8-d0ee-4d2d-b6de-8204ca13cfcf button.colab-df-convert');\n",
              "        buttonEl.style.display =\n",
              "          google.colab.kernel.accessAllowed ? 'block' : 'none';\n",
              "\n",
              "        async function convertToInteractive(key) {\n",
              "          const element = document.querySelector('#df-e7c50bc8-d0ee-4d2d-b6de-8204ca13cfcf');\n",
              "          const dataTable =\n",
              "            await google.colab.kernel.invokeFunction('convertToInteractive',\n",
              "                                                     [key], {});\n",
              "          if (!dataTable) return;\n",
              "\n",
              "          const docLinkHtml = 'Like what you see? Visit the ' +\n",
              "            '<a target=\"_blank\" href=https://colab.research.google.com/notebooks/data_table.ipynb>data table notebook</a>'\n",
              "            + ' to learn more about interactive tables.';\n",
              "          element.innerHTML = '';\n",
              "          dataTable['output_type'] = 'display_data';\n",
              "          await google.colab.output.renderOutput(dataTable, element);\n",
              "          const docLink = document.createElement('div');\n",
              "          docLink.innerHTML = docLinkHtml;\n",
              "          element.appendChild(docLink);\n",
              "        }\n",
              "      </script>\n",
              "    </div>\n",
              "  </div>\n",
              "  "
            ]
          },
          "metadata": {},
          "execution_count": 164
        }
      ]
    },
    {
      "cell_type": "code",
      "source": [
        "# to reset the indices use .reste_index() method\n",
        "\n",
        "df2.reset_index()"
      ],
      "metadata": {
        "id": "D82EONMqMxUm",
        "colab": {
          "base_uri": "https://localhost:8080/",
          "height": 112
        },
        "outputId": "b12b614b-7b21-4ef7-fce9-017b022b361a"
      },
      "execution_count": 165,
      "outputs": [
        {
          "output_type": "execute_result",
          "data": {
            "text/plain": [
              "       name age    city country\n",
              "0   Matthew  32  London      UK\n",
              "1  Philippe  45  London      UK"
            ],
            "text/html": [
              "\n",
              "  <div id=\"df-e32879e1-4d2f-4078-8bc5-0f2046e158f1\">\n",
              "    <div class=\"colab-df-container\">\n",
              "      <div>\n",
              "<style scoped>\n",
              "    .dataframe tbody tr th:only-of-type {\n",
              "        vertical-align: middle;\n",
              "    }\n",
              "\n",
              "    .dataframe tbody tr th {\n",
              "        vertical-align: top;\n",
              "    }\n",
              "\n",
              "    .dataframe thead th {\n",
              "        text-align: right;\n",
              "    }\n",
              "</style>\n",
              "<table border=\"1\" class=\"dataframe\">\n",
              "  <thead>\n",
              "    <tr style=\"text-align: right;\">\n",
              "      <th></th>\n",
              "      <th>name</th>\n",
              "      <th>age</th>\n",
              "      <th>city</th>\n",
              "      <th>country</th>\n",
              "    </tr>\n",
              "  </thead>\n",
              "  <tbody>\n",
              "    <tr>\n",
              "      <th>0</th>\n",
              "      <td>Matthew</td>\n",
              "      <td>32</td>\n",
              "      <td>London</td>\n",
              "      <td>UK</td>\n",
              "    </tr>\n",
              "    <tr>\n",
              "      <th>1</th>\n",
              "      <td>Philippe</td>\n",
              "      <td>45</td>\n",
              "      <td>London</td>\n",
              "      <td>UK</td>\n",
              "    </tr>\n",
              "  </tbody>\n",
              "</table>\n",
              "</div>\n",
              "      <button class=\"colab-df-convert\" onclick=\"convertToInteractive('df-e32879e1-4d2f-4078-8bc5-0f2046e158f1')\"\n",
              "              title=\"Convert this dataframe to an interactive table.\"\n",
              "              style=\"display:none;\">\n",
              "        \n",
              "  <svg xmlns=\"http://www.w3.org/2000/svg\" height=\"24px\"viewBox=\"0 0 24 24\"\n",
              "       width=\"24px\">\n",
              "    <path d=\"M0 0h24v24H0V0z\" fill=\"none\"/>\n",
              "    <path d=\"M18.56 5.44l.94 2.06.94-2.06 2.06-.94-2.06-.94-.94-2.06-.94 2.06-2.06.94zm-11 1L8.5 8.5l.94-2.06 2.06-.94-2.06-.94L8.5 2.5l-.94 2.06-2.06.94zm10 10l.94 2.06.94-2.06 2.06-.94-2.06-.94-.94-2.06-.94 2.06-2.06.94z\"/><path d=\"M17.41 7.96l-1.37-1.37c-.4-.4-.92-.59-1.43-.59-.52 0-1.04.2-1.43.59L10.3 9.45l-7.72 7.72c-.78.78-.78 2.05 0 2.83L4 21.41c.39.39.9.59 1.41.59.51 0 1.02-.2 1.41-.59l7.78-7.78 2.81-2.81c.8-.78.8-2.07 0-2.86zM5.41 20L4 18.59l7.72-7.72 1.47 1.35L5.41 20z\"/>\n",
              "  </svg>\n",
              "      </button>\n",
              "      \n",
              "  <style>\n",
              "    .colab-df-container {\n",
              "      display:flex;\n",
              "      flex-wrap:wrap;\n",
              "      gap: 12px;\n",
              "    }\n",
              "\n",
              "    .colab-df-convert {\n",
              "      background-color: #E8F0FE;\n",
              "      border: none;\n",
              "      border-radius: 50%;\n",
              "      cursor: pointer;\n",
              "      display: none;\n",
              "      fill: #1967D2;\n",
              "      height: 32px;\n",
              "      padding: 0 0 0 0;\n",
              "      width: 32px;\n",
              "    }\n",
              "\n",
              "    .colab-df-convert:hover {\n",
              "      background-color: #E2EBFA;\n",
              "      box-shadow: 0px 1px 2px rgba(60, 64, 67, 0.3), 0px 1px 3px 1px rgba(60, 64, 67, 0.15);\n",
              "      fill: #174EA6;\n",
              "    }\n",
              "\n",
              "    [theme=dark] .colab-df-convert {\n",
              "      background-color: #3B4455;\n",
              "      fill: #D2E3FC;\n",
              "    }\n",
              "\n",
              "    [theme=dark] .colab-df-convert:hover {\n",
              "      background-color: #434B5C;\n",
              "      box-shadow: 0px 1px 3px 1px rgba(0, 0, 0, 0.15);\n",
              "      filter: drop-shadow(0px 1px 2px rgba(0, 0, 0, 0.3));\n",
              "      fill: #FFFFFF;\n",
              "    }\n",
              "  </style>\n",
              "\n",
              "      <script>\n",
              "        const buttonEl =\n",
              "          document.querySelector('#df-e32879e1-4d2f-4078-8bc5-0f2046e158f1 button.colab-df-convert');\n",
              "        buttonEl.style.display =\n",
              "          google.colab.kernel.accessAllowed ? 'block' : 'none';\n",
              "\n",
              "        async function convertToInteractive(key) {\n",
              "          const element = document.querySelector('#df-e32879e1-4d2f-4078-8bc5-0f2046e158f1');\n",
              "          const dataTable =\n",
              "            await google.colab.kernel.invokeFunction('convertToInteractive',\n",
              "                                                     [key], {});\n",
              "          if (!dataTable) return;\n",
              "\n",
              "          const docLinkHtml = 'Like what you see? Visit the ' +\n",
              "            '<a target=\"_blank\" href=https://colab.research.google.com/notebooks/data_table.ipynb>data table notebook</a>'\n",
              "            + ' to learn more about interactive tables.';\n",
              "          element.innerHTML = '';\n",
              "          dataTable['output_type'] = 'display_data';\n",
              "          await google.colab.output.renderOutput(dataTable, element);\n",
              "          const docLink = document.createElement('div');\n",
              "          docLink.innerHTML = docLinkHtml;\n",
              "          element.appendChild(docLink);\n",
              "        }\n",
              "      </script>\n",
              "    </div>\n",
              "  </div>\n",
              "  "
            ]
          },
          "metadata": {},
          "execution_count": 165
        }
      ]
    },
    {
      "cell_type": "code",
      "execution_count": 166,
      "metadata": {
        "id": "SCMpegPvXvX5",
        "colab": {
          "base_uri": "https://localhost:8080/",
          "height": 404
        },
        "outputId": "e5198698-ea96-4f87-81df-e1cb5a6cee2f"
      },
      "outputs": [
        {
          "output_type": "stream",
          "name": "stdout",
          "text": [
            "the df1 Shape is :  (5, 3)\n",
            "the df2 Shape is :  (2, 3)\n",
            "the new joined Dataframe Shape is :  (7, 3)\n",
            "\n",
            "\n",
            "Now we have a homogeneous df\n"
          ]
        },
        {
          "output_type": "execute_result",
          "data": {
            "text/plain": [
              "         age    city  country\n",
              "name                         \n",
              "Jess      30   Paris   France\n",
              "Nick      35  Berlin  Germany\n",
              "Winston   40  Madrid    Spain\n",
              "Tom       27   Paris   France\n",
              "Alex      52  London       UK\n",
              "Matthew   32  London       UK\n",
              "Philippe  45  London       UK"
            ],
            "text/html": [
              "\n",
              "  <div id=\"df-b86e7b70-e973-410c-9dcb-b03e3357b5a7\">\n",
              "    <div class=\"colab-df-container\">\n",
              "      <div>\n",
              "<style scoped>\n",
              "    .dataframe tbody tr th:only-of-type {\n",
              "        vertical-align: middle;\n",
              "    }\n",
              "\n",
              "    .dataframe tbody tr th {\n",
              "        vertical-align: top;\n",
              "    }\n",
              "\n",
              "    .dataframe thead th {\n",
              "        text-align: right;\n",
              "    }\n",
              "</style>\n",
              "<table border=\"1\" class=\"dataframe\">\n",
              "  <thead>\n",
              "    <tr style=\"text-align: right;\">\n",
              "      <th></th>\n",
              "      <th>age</th>\n",
              "      <th>city</th>\n",
              "      <th>country</th>\n",
              "    </tr>\n",
              "    <tr>\n",
              "      <th>name</th>\n",
              "      <th></th>\n",
              "      <th></th>\n",
              "      <th></th>\n",
              "    </tr>\n",
              "  </thead>\n",
              "  <tbody>\n",
              "    <tr>\n",
              "      <th>Jess</th>\n",
              "      <td>30</td>\n",
              "      <td>Paris</td>\n",
              "      <td>France</td>\n",
              "    </tr>\n",
              "    <tr>\n",
              "      <th>Nick</th>\n",
              "      <td>35</td>\n",
              "      <td>Berlin</td>\n",
              "      <td>Germany</td>\n",
              "    </tr>\n",
              "    <tr>\n",
              "      <th>Winston</th>\n",
              "      <td>40</td>\n",
              "      <td>Madrid</td>\n",
              "      <td>Spain</td>\n",
              "    </tr>\n",
              "    <tr>\n",
              "      <th>Tom</th>\n",
              "      <td>27</td>\n",
              "      <td>Paris</td>\n",
              "      <td>France</td>\n",
              "    </tr>\n",
              "    <tr>\n",
              "      <th>Alex</th>\n",
              "      <td>52</td>\n",
              "      <td>London</td>\n",
              "      <td>UK</td>\n",
              "    </tr>\n",
              "    <tr>\n",
              "      <th>Matthew</th>\n",
              "      <td>32</td>\n",
              "      <td>London</td>\n",
              "      <td>UK</td>\n",
              "    </tr>\n",
              "    <tr>\n",
              "      <th>Philippe</th>\n",
              "      <td>45</td>\n",
              "      <td>London</td>\n",
              "      <td>UK</td>\n",
              "    </tr>\n",
              "  </tbody>\n",
              "</table>\n",
              "</div>\n",
              "      <button class=\"colab-df-convert\" onclick=\"convertToInteractive('df-b86e7b70-e973-410c-9dcb-b03e3357b5a7')\"\n",
              "              title=\"Convert this dataframe to an interactive table.\"\n",
              "              style=\"display:none;\">\n",
              "        \n",
              "  <svg xmlns=\"http://www.w3.org/2000/svg\" height=\"24px\"viewBox=\"0 0 24 24\"\n",
              "       width=\"24px\">\n",
              "    <path d=\"M0 0h24v24H0V0z\" fill=\"none\"/>\n",
              "    <path d=\"M18.56 5.44l.94 2.06.94-2.06 2.06-.94-2.06-.94-.94-2.06-.94 2.06-2.06.94zm-11 1L8.5 8.5l.94-2.06 2.06-.94-2.06-.94L8.5 2.5l-.94 2.06-2.06.94zm10 10l.94 2.06.94-2.06 2.06-.94-2.06-.94-.94-2.06-.94 2.06-2.06.94z\"/><path d=\"M17.41 7.96l-1.37-1.37c-.4-.4-.92-.59-1.43-.59-.52 0-1.04.2-1.43.59L10.3 9.45l-7.72 7.72c-.78.78-.78 2.05 0 2.83L4 21.41c.39.39.9.59 1.41.59.51 0 1.02-.2 1.41-.59l7.78-7.78 2.81-2.81c.8-.78.8-2.07 0-2.86zM5.41 20L4 18.59l7.72-7.72 1.47 1.35L5.41 20z\"/>\n",
              "  </svg>\n",
              "      </button>\n",
              "      \n",
              "  <style>\n",
              "    .colab-df-container {\n",
              "      display:flex;\n",
              "      flex-wrap:wrap;\n",
              "      gap: 12px;\n",
              "    }\n",
              "\n",
              "    .colab-df-convert {\n",
              "      background-color: #E8F0FE;\n",
              "      border: none;\n",
              "      border-radius: 50%;\n",
              "      cursor: pointer;\n",
              "      display: none;\n",
              "      fill: #1967D2;\n",
              "      height: 32px;\n",
              "      padding: 0 0 0 0;\n",
              "      width: 32px;\n",
              "    }\n",
              "\n",
              "    .colab-df-convert:hover {\n",
              "      background-color: #E2EBFA;\n",
              "      box-shadow: 0px 1px 2px rgba(60, 64, 67, 0.3), 0px 1px 3px 1px rgba(60, 64, 67, 0.15);\n",
              "      fill: #174EA6;\n",
              "    }\n",
              "\n",
              "    [theme=dark] .colab-df-convert {\n",
              "      background-color: #3B4455;\n",
              "      fill: #D2E3FC;\n",
              "    }\n",
              "\n",
              "    [theme=dark] .colab-df-convert:hover {\n",
              "      background-color: #434B5C;\n",
              "      box-shadow: 0px 1px 3px 1px rgba(0, 0, 0, 0.15);\n",
              "      filter: drop-shadow(0px 1px 2px rgba(0, 0, 0, 0.3));\n",
              "      fill: #FFFFFF;\n",
              "    }\n",
              "  </style>\n",
              "\n",
              "      <script>\n",
              "        const buttonEl =\n",
              "          document.querySelector('#df-b86e7b70-e973-410c-9dcb-b03e3357b5a7 button.colab-df-convert');\n",
              "        buttonEl.style.display =\n",
              "          google.colab.kernel.accessAllowed ? 'block' : 'none';\n",
              "\n",
              "        async function convertToInteractive(key) {\n",
              "          const element = document.querySelector('#df-b86e7b70-e973-410c-9dcb-b03e3357b5a7');\n",
              "          const dataTable =\n",
              "            await google.colab.kernel.invokeFunction('convertToInteractive',\n",
              "                                                     [key], {});\n",
              "          if (!dataTable) return;\n",
              "\n",
              "          const docLinkHtml = 'Like what you see? Visit the ' +\n",
              "            '<a target=\"_blank\" href=https://colab.research.google.com/notebooks/data_table.ipynb>data table notebook</a>'\n",
              "            + ' to learn more about interactive tables.';\n",
              "          element.innerHTML = '';\n",
              "          dataTable['output_type'] = 'display_data';\n",
              "          await google.colab.output.renderOutput(dataTable, element);\n",
              "          const docLink = document.createElement('div');\n",
              "          docLink.innerHTML = docLinkHtml;\n",
              "          element.appendChild(docLink);\n",
              "        }\n",
              "      </script>\n",
              "    </div>\n",
              "  </div>\n",
              "  "
            ]
          },
          "metadata": {},
          "execution_count": 166
        }
      ],
      "source": [
        "# join the dfs into a single one\n",
        "\n",
        "# concatenate all df into a single one\n",
        "df = pd.concat([df1, df2]) # it will use the column names  to join by\n",
        "\n",
        "# check dataframes shapes\n",
        "print('the df1 Shape is : ', df1.shape)\n",
        "print('the df2 Shape is : ', df2.shape)\n",
        "print('the new joined Dataframe Shape is : ', df.shape)\n",
        "print('')\n",
        "\n",
        "# visualize the new df\n",
        "print('')\n",
        "print('Now we have a homogeneous df')\n",
        "df"
      ]
    },
    {
      "cell_type": "markdown",
      "source": [
        "## Add columns or rows"
      ],
      "metadata": {
        "id": "cdOAL37p7q5V"
      }
    },
    {
      "cell_type": "code",
      "source": [
        "# add region a column region where all the values will be 'Europe'\n",
        "\n",
        "df['region'] = 'Europe'\n",
        "df"
      ],
      "metadata": {
        "id": "beCG9jQalfDY",
        "colab": {
          "base_uri": "https://localhost:8080/",
          "height": 300
        },
        "outputId": "085a0d2a-af6c-4971-b85f-55aa2b85b4ee"
      },
      "execution_count": 167,
      "outputs": [
        {
          "output_type": "execute_result",
          "data": {
            "text/plain": [
              "         age    city  country  region\n",
              "name                                 \n",
              "Jess      30   Paris   France  Europe\n",
              "Nick      35  Berlin  Germany  Europe\n",
              "Winston   40  Madrid    Spain  Europe\n",
              "Tom       27   Paris   France  Europe\n",
              "Alex      52  London       UK  Europe\n",
              "Matthew   32  London       UK  Europe\n",
              "Philippe  45  London       UK  Europe"
            ],
            "text/html": [
              "\n",
              "  <div id=\"df-b286d428-6a0d-4293-8382-283d97146a04\">\n",
              "    <div class=\"colab-df-container\">\n",
              "      <div>\n",
              "<style scoped>\n",
              "    .dataframe tbody tr th:only-of-type {\n",
              "        vertical-align: middle;\n",
              "    }\n",
              "\n",
              "    .dataframe tbody tr th {\n",
              "        vertical-align: top;\n",
              "    }\n",
              "\n",
              "    .dataframe thead th {\n",
              "        text-align: right;\n",
              "    }\n",
              "</style>\n",
              "<table border=\"1\" class=\"dataframe\">\n",
              "  <thead>\n",
              "    <tr style=\"text-align: right;\">\n",
              "      <th></th>\n",
              "      <th>age</th>\n",
              "      <th>city</th>\n",
              "      <th>country</th>\n",
              "      <th>region</th>\n",
              "    </tr>\n",
              "    <tr>\n",
              "      <th>name</th>\n",
              "      <th></th>\n",
              "      <th></th>\n",
              "      <th></th>\n",
              "      <th></th>\n",
              "    </tr>\n",
              "  </thead>\n",
              "  <tbody>\n",
              "    <tr>\n",
              "      <th>Jess</th>\n",
              "      <td>30</td>\n",
              "      <td>Paris</td>\n",
              "      <td>France</td>\n",
              "      <td>Europe</td>\n",
              "    </tr>\n",
              "    <tr>\n",
              "      <th>Nick</th>\n",
              "      <td>35</td>\n",
              "      <td>Berlin</td>\n",
              "      <td>Germany</td>\n",
              "      <td>Europe</td>\n",
              "    </tr>\n",
              "    <tr>\n",
              "      <th>Winston</th>\n",
              "      <td>40</td>\n",
              "      <td>Madrid</td>\n",
              "      <td>Spain</td>\n",
              "      <td>Europe</td>\n",
              "    </tr>\n",
              "    <tr>\n",
              "      <th>Tom</th>\n",
              "      <td>27</td>\n",
              "      <td>Paris</td>\n",
              "      <td>France</td>\n",
              "      <td>Europe</td>\n",
              "    </tr>\n",
              "    <tr>\n",
              "      <th>Alex</th>\n",
              "      <td>52</td>\n",
              "      <td>London</td>\n",
              "      <td>UK</td>\n",
              "      <td>Europe</td>\n",
              "    </tr>\n",
              "    <tr>\n",
              "      <th>Matthew</th>\n",
              "      <td>32</td>\n",
              "      <td>London</td>\n",
              "      <td>UK</td>\n",
              "      <td>Europe</td>\n",
              "    </tr>\n",
              "    <tr>\n",
              "      <th>Philippe</th>\n",
              "      <td>45</td>\n",
              "      <td>London</td>\n",
              "      <td>UK</td>\n",
              "      <td>Europe</td>\n",
              "    </tr>\n",
              "  </tbody>\n",
              "</table>\n",
              "</div>\n",
              "      <button class=\"colab-df-convert\" onclick=\"convertToInteractive('df-b286d428-6a0d-4293-8382-283d97146a04')\"\n",
              "              title=\"Convert this dataframe to an interactive table.\"\n",
              "              style=\"display:none;\">\n",
              "        \n",
              "  <svg xmlns=\"http://www.w3.org/2000/svg\" height=\"24px\"viewBox=\"0 0 24 24\"\n",
              "       width=\"24px\">\n",
              "    <path d=\"M0 0h24v24H0V0z\" fill=\"none\"/>\n",
              "    <path d=\"M18.56 5.44l.94 2.06.94-2.06 2.06-.94-2.06-.94-.94-2.06-.94 2.06-2.06.94zm-11 1L8.5 8.5l.94-2.06 2.06-.94-2.06-.94L8.5 2.5l-.94 2.06-2.06.94zm10 10l.94 2.06.94-2.06 2.06-.94-2.06-.94-.94-2.06-.94 2.06-2.06.94z\"/><path d=\"M17.41 7.96l-1.37-1.37c-.4-.4-.92-.59-1.43-.59-.52 0-1.04.2-1.43.59L10.3 9.45l-7.72 7.72c-.78.78-.78 2.05 0 2.83L4 21.41c.39.39.9.59 1.41.59.51 0 1.02-.2 1.41-.59l7.78-7.78 2.81-2.81c.8-.78.8-2.07 0-2.86zM5.41 20L4 18.59l7.72-7.72 1.47 1.35L5.41 20z\"/>\n",
              "  </svg>\n",
              "      </button>\n",
              "      \n",
              "  <style>\n",
              "    .colab-df-container {\n",
              "      display:flex;\n",
              "      flex-wrap:wrap;\n",
              "      gap: 12px;\n",
              "    }\n",
              "\n",
              "    .colab-df-convert {\n",
              "      background-color: #E8F0FE;\n",
              "      border: none;\n",
              "      border-radius: 50%;\n",
              "      cursor: pointer;\n",
              "      display: none;\n",
              "      fill: #1967D2;\n",
              "      height: 32px;\n",
              "      padding: 0 0 0 0;\n",
              "      width: 32px;\n",
              "    }\n",
              "\n",
              "    .colab-df-convert:hover {\n",
              "      background-color: #E2EBFA;\n",
              "      box-shadow: 0px 1px 2px rgba(60, 64, 67, 0.3), 0px 1px 3px 1px rgba(60, 64, 67, 0.15);\n",
              "      fill: #174EA6;\n",
              "    }\n",
              "\n",
              "    [theme=dark] .colab-df-convert {\n",
              "      background-color: #3B4455;\n",
              "      fill: #D2E3FC;\n",
              "    }\n",
              "\n",
              "    [theme=dark] .colab-df-convert:hover {\n",
              "      background-color: #434B5C;\n",
              "      box-shadow: 0px 1px 3px 1px rgba(0, 0, 0, 0.15);\n",
              "      filter: drop-shadow(0px 1px 2px rgba(0, 0, 0, 0.3));\n",
              "      fill: #FFFFFF;\n",
              "    }\n",
              "  </style>\n",
              "\n",
              "      <script>\n",
              "        const buttonEl =\n",
              "          document.querySelector('#df-b286d428-6a0d-4293-8382-283d97146a04 button.colab-df-convert');\n",
              "        buttonEl.style.display =\n",
              "          google.colab.kernel.accessAllowed ? 'block' : 'none';\n",
              "\n",
              "        async function convertToInteractive(key) {\n",
              "          const element = document.querySelector('#df-b286d428-6a0d-4293-8382-283d97146a04');\n",
              "          const dataTable =\n",
              "            await google.colab.kernel.invokeFunction('convertToInteractive',\n",
              "                                                     [key], {});\n",
              "          if (!dataTable) return;\n",
              "\n",
              "          const docLinkHtml = 'Like what you see? Visit the ' +\n",
              "            '<a target=\"_blank\" href=https://colab.research.google.com/notebooks/data_table.ipynb>data table notebook</a>'\n",
              "            + ' to learn more about interactive tables.';\n",
              "          element.innerHTML = '';\n",
              "          dataTable['output_type'] = 'display_data';\n",
              "          await google.colab.output.renderOutput(dataTable, element);\n",
              "          const docLink = document.createElement('div');\n",
              "          docLink.innerHTML = docLinkHtml;\n",
              "          element.appendChild(docLink);\n",
              "        }\n",
              "      </script>\n",
              "    </div>\n",
              "  </div>\n",
              "  "
            ]
          },
          "metadata": {},
          "execution_count": 167
        }
      ]
    },
    {
      "cell_type": "code",
      "source": [
        "df.shape"
      ],
      "metadata": {
        "id": "8ILPZjAeil7p",
        "colab": {
          "base_uri": "https://localhost:8080/"
        },
        "outputId": "47b3e76a-51ac-4973-fae2-1186fc1c6f00"
      },
      "execution_count": 168,
      "outputs": [
        {
          "output_type": "execute_result",
          "data": {
            "text/plain": [
              "(7, 4)"
            ]
          },
          "metadata": {},
          "execution_count": 168
        }
      ]
    },
    {
      "cell_type": "code",
      "source": [
        "# add a column salary, with respective values\n",
        "# please keep in mind that the length has to be the same\n",
        "\n",
        "salary = ['40000', '45000', '50000', '55000', '60000', '65000', '70000'] # the list has to have the same nb of element as the nb of rows\n",
        "\n",
        "print('the length of salary is: ', len(salary))\n",
        "# if the length of salary is NOT the same as the nb of rows, python will give an error ...\n",
        "print('')\n",
        "\n",
        "df['salary']= salary\n",
        "\n",
        "print(df.shape)\n",
        "df"
      ],
      "metadata": {
        "id": "cykZ_PfvllnZ",
        "colab": {
          "base_uri": "https://localhost:8080/",
          "height": 352
        },
        "outputId": "d08393e4-ef2e-4855-fb7d-2fa08e207593"
      },
      "execution_count": 169,
      "outputs": [
        {
          "output_type": "stream",
          "name": "stdout",
          "text": [
            "the length of salary is:  7\n",
            "\n",
            "(7, 5)\n"
          ]
        },
        {
          "output_type": "execute_result",
          "data": {
            "text/plain": [
              "         age    city  country  region salary\n",
              "name                                        \n",
              "Jess      30   Paris   France  Europe  40000\n",
              "Nick      35  Berlin  Germany  Europe  45000\n",
              "Winston   40  Madrid    Spain  Europe  50000\n",
              "Tom       27   Paris   France  Europe  55000\n",
              "Alex      52  London       UK  Europe  60000\n",
              "Matthew   32  London       UK  Europe  65000\n",
              "Philippe  45  London       UK  Europe  70000"
            ],
            "text/html": [
              "\n",
              "  <div id=\"df-0804767e-fb49-444e-bd82-45ae335c6c77\">\n",
              "    <div class=\"colab-df-container\">\n",
              "      <div>\n",
              "<style scoped>\n",
              "    .dataframe tbody tr th:only-of-type {\n",
              "        vertical-align: middle;\n",
              "    }\n",
              "\n",
              "    .dataframe tbody tr th {\n",
              "        vertical-align: top;\n",
              "    }\n",
              "\n",
              "    .dataframe thead th {\n",
              "        text-align: right;\n",
              "    }\n",
              "</style>\n",
              "<table border=\"1\" class=\"dataframe\">\n",
              "  <thead>\n",
              "    <tr style=\"text-align: right;\">\n",
              "      <th></th>\n",
              "      <th>age</th>\n",
              "      <th>city</th>\n",
              "      <th>country</th>\n",
              "      <th>region</th>\n",
              "      <th>salary</th>\n",
              "    </tr>\n",
              "    <tr>\n",
              "      <th>name</th>\n",
              "      <th></th>\n",
              "      <th></th>\n",
              "      <th></th>\n",
              "      <th></th>\n",
              "      <th></th>\n",
              "    </tr>\n",
              "  </thead>\n",
              "  <tbody>\n",
              "    <tr>\n",
              "      <th>Jess</th>\n",
              "      <td>30</td>\n",
              "      <td>Paris</td>\n",
              "      <td>France</td>\n",
              "      <td>Europe</td>\n",
              "      <td>40000</td>\n",
              "    </tr>\n",
              "    <tr>\n",
              "      <th>Nick</th>\n",
              "      <td>35</td>\n",
              "      <td>Berlin</td>\n",
              "      <td>Germany</td>\n",
              "      <td>Europe</td>\n",
              "      <td>45000</td>\n",
              "    </tr>\n",
              "    <tr>\n",
              "      <th>Winston</th>\n",
              "      <td>40</td>\n",
              "      <td>Madrid</td>\n",
              "      <td>Spain</td>\n",
              "      <td>Europe</td>\n",
              "      <td>50000</td>\n",
              "    </tr>\n",
              "    <tr>\n",
              "      <th>Tom</th>\n",
              "      <td>27</td>\n",
              "      <td>Paris</td>\n",
              "      <td>France</td>\n",
              "      <td>Europe</td>\n",
              "      <td>55000</td>\n",
              "    </tr>\n",
              "    <tr>\n",
              "      <th>Alex</th>\n",
              "      <td>52</td>\n",
              "      <td>London</td>\n",
              "      <td>UK</td>\n",
              "      <td>Europe</td>\n",
              "      <td>60000</td>\n",
              "    </tr>\n",
              "    <tr>\n",
              "      <th>Matthew</th>\n",
              "      <td>32</td>\n",
              "      <td>London</td>\n",
              "      <td>UK</td>\n",
              "      <td>Europe</td>\n",
              "      <td>65000</td>\n",
              "    </tr>\n",
              "    <tr>\n",
              "      <th>Philippe</th>\n",
              "      <td>45</td>\n",
              "      <td>London</td>\n",
              "      <td>UK</td>\n",
              "      <td>Europe</td>\n",
              "      <td>70000</td>\n",
              "    </tr>\n",
              "  </tbody>\n",
              "</table>\n",
              "</div>\n",
              "      <button class=\"colab-df-convert\" onclick=\"convertToInteractive('df-0804767e-fb49-444e-bd82-45ae335c6c77')\"\n",
              "              title=\"Convert this dataframe to an interactive table.\"\n",
              "              style=\"display:none;\">\n",
              "        \n",
              "  <svg xmlns=\"http://www.w3.org/2000/svg\" height=\"24px\"viewBox=\"0 0 24 24\"\n",
              "       width=\"24px\">\n",
              "    <path d=\"M0 0h24v24H0V0z\" fill=\"none\"/>\n",
              "    <path d=\"M18.56 5.44l.94 2.06.94-2.06 2.06-.94-2.06-.94-.94-2.06-.94 2.06-2.06.94zm-11 1L8.5 8.5l.94-2.06 2.06-.94-2.06-.94L8.5 2.5l-.94 2.06-2.06.94zm10 10l.94 2.06.94-2.06 2.06-.94-2.06-.94-.94-2.06-.94 2.06-2.06.94z\"/><path d=\"M17.41 7.96l-1.37-1.37c-.4-.4-.92-.59-1.43-.59-.52 0-1.04.2-1.43.59L10.3 9.45l-7.72 7.72c-.78.78-.78 2.05 0 2.83L4 21.41c.39.39.9.59 1.41.59.51 0 1.02-.2 1.41-.59l7.78-7.78 2.81-2.81c.8-.78.8-2.07 0-2.86zM5.41 20L4 18.59l7.72-7.72 1.47 1.35L5.41 20z\"/>\n",
              "  </svg>\n",
              "      </button>\n",
              "      \n",
              "  <style>\n",
              "    .colab-df-container {\n",
              "      display:flex;\n",
              "      flex-wrap:wrap;\n",
              "      gap: 12px;\n",
              "    }\n",
              "\n",
              "    .colab-df-convert {\n",
              "      background-color: #E8F0FE;\n",
              "      border: none;\n",
              "      border-radius: 50%;\n",
              "      cursor: pointer;\n",
              "      display: none;\n",
              "      fill: #1967D2;\n",
              "      height: 32px;\n",
              "      padding: 0 0 0 0;\n",
              "      width: 32px;\n",
              "    }\n",
              "\n",
              "    .colab-df-convert:hover {\n",
              "      background-color: #E2EBFA;\n",
              "      box-shadow: 0px 1px 2px rgba(60, 64, 67, 0.3), 0px 1px 3px 1px rgba(60, 64, 67, 0.15);\n",
              "      fill: #174EA6;\n",
              "    }\n",
              "\n",
              "    [theme=dark] .colab-df-convert {\n",
              "      background-color: #3B4455;\n",
              "      fill: #D2E3FC;\n",
              "    }\n",
              "\n",
              "    [theme=dark] .colab-df-convert:hover {\n",
              "      background-color: #434B5C;\n",
              "      box-shadow: 0px 1px 3px 1px rgba(0, 0, 0, 0.15);\n",
              "      filter: drop-shadow(0px 1px 2px rgba(0, 0, 0, 0.3));\n",
              "      fill: #FFFFFF;\n",
              "    }\n",
              "  </style>\n",
              "\n",
              "      <script>\n",
              "        const buttonEl =\n",
              "          document.querySelector('#df-0804767e-fb49-444e-bd82-45ae335c6c77 button.colab-df-convert');\n",
              "        buttonEl.style.display =\n",
              "          google.colab.kernel.accessAllowed ? 'block' : 'none';\n",
              "\n",
              "        async function convertToInteractive(key) {\n",
              "          const element = document.querySelector('#df-0804767e-fb49-444e-bd82-45ae335c6c77');\n",
              "          const dataTable =\n",
              "            await google.colab.kernel.invokeFunction('convertToInteractive',\n",
              "                                                     [key], {});\n",
              "          if (!dataTable) return;\n",
              "\n",
              "          const docLinkHtml = 'Like what you see? Visit the ' +\n",
              "            '<a target=\"_blank\" href=https://colab.research.google.com/notebooks/data_table.ipynb>data table notebook</a>'\n",
              "            + ' to learn more about interactive tables.';\n",
              "          element.innerHTML = '';\n",
              "          dataTable['output_type'] = 'display_data';\n",
              "          await google.colab.output.renderOutput(dataTable, element);\n",
              "          const docLink = document.createElement('div');\n",
              "          docLink.innerHTML = docLinkHtml;\n",
              "          element.appendChild(docLink);\n",
              "        }\n",
              "      </script>\n",
              "    </div>\n",
              "  </div>\n",
              "  "
            ]
          },
          "metadata": {},
          "execution_count": 169
        }
      ]
    },
    {
      "cell_type": "code",
      "source": [
        "# add a new row\n",
        "df.loc['John']= [40, 'New York','USA', 'North America', '75000']\n",
        "df"
      ],
      "metadata": {
        "id": "a6aaUu4x9QZP",
        "colab": {
          "base_uri": "https://localhost:8080/",
          "height": 332
        },
        "outputId": "903dee2a-9933-42b0-d4ad-a60c4d433220"
      },
      "execution_count": 170,
      "outputs": [
        {
          "output_type": "execute_result",
          "data": {
            "text/plain": [
              "         age      city  country         region salary\n",
              "name                                                 \n",
              "Jess      30     Paris   France         Europe  40000\n",
              "Nick      35    Berlin  Germany         Europe  45000\n",
              "Winston   40    Madrid    Spain         Europe  50000\n",
              "Tom       27     Paris   France         Europe  55000\n",
              "Alex      52    London       UK         Europe  60000\n",
              "Matthew   32    London       UK         Europe  65000\n",
              "Philippe  45    London       UK         Europe  70000\n",
              "John      40  New York      USA  North America  75000"
            ],
            "text/html": [
              "\n",
              "  <div id=\"df-024d0385-338e-48a8-af17-1cb11401aa1b\">\n",
              "    <div class=\"colab-df-container\">\n",
              "      <div>\n",
              "<style scoped>\n",
              "    .dataframe tbody tr th:only-of-type {\n",
              "        vertical-align: middle;\n",
              "    }\n",
              "\n",
              "    .dataframe tbody tr th {\n",
              "        vertical-align: top;\n",
              "    }\n",
              "\n",
              "    .dataframe thead th {\n",
              "        text-align: right;\n",
              "    }\n",
              "</style>\n",
              "<table border=\"1\" class=\"dataframe\">\n",
              "  <thead>\n",
              "    <tr style=\"text-align: right;\">\n",
              "      <th></th>\n",
              "      <th>age</th>\n",
              "      <th>city</th>\n",
              "      <th>country</th>\n",
              "      <th>region</th>\n",
              "      <th>salary</th>\n",
              "    </tr>\n",
              "    <tr>\n",
              "      <th>name</th>\n",
              "      <th></th>\n",
              "      <th></th>\n",
              "      <th></th>\n",
              "      <th></th>\n",
              "      <th></th>\n",
              "    </tr>\n",
              "  </thead>\n",
              "  <tbody>\n",
              "    <tr>\n",
              "      <th>Jess</th>\n",
              "      <td>30</td>\n",
              "      <td>Paris</td>\n",
              "      <td>France</td>\n",
              "      <td>Europe</td>\n",
              "      <td>40000</td>\n",
              "    </tr>\n",
              "    <tr>\n",
              "      <th>Nick</th>\n",
              "      <td>35</td>\n",
              "      <td>Berlin</td>\n",
              "      <td>Germany</td>\n",
              "      <td>Europe</td>\n",
              "      <td>45000</td>\n",
              "    </tr>\n",
              "    <tr>\n",
              "      <th>Winston</th>\n",
              "      <td>40</td>\n",
              "      <td>Madrid</td>\n",
              "      <td>Spain</td>\n",
              "      <td>Europe</td>\n",
              "      <td>50000</td>\n",
              "    </tr>\n",
              "    <tr>\n",
              "      <th>Tom</th>\n",
              "      <td>27</td>\n",
              "      <td>Paris</td>\n",
              "      <td>France</td>\n",
              "      <td>Europe</td>\n",
              "      <td>55000</td>\n",
              "    </tr>\n",
              "    <tr>\n",
              "      <th>Alex</th>\n",
              "      <td>52</td>\n",
              "      <td>London</td>\n",
              "      <td>UK</td>\n",
              "      <td>Europe</td>\n",
              "      <td>60000</td>\n",
              "    </tr>\n",
              "    <tr>\n",
              "      <th>Matthew</th>\n",
              "      <td>32</td>\n",
              "      <td>London</td>\n",
              "      <td>UK</td>\n",
              "      <td>Europe</td>\n",
              "      <td>65000</td>\n",
              "    </tr>\n",
              "    <tr>\n",
              "      <th>Philippe</th>\n",
              "      <td>45</td>\n",
              "      <td>London</td>\n",
              "      <td>UK</td>\n",
              "      <td>Europe</td>\n",
              "      <td>70000</td>\n",
              "    </tr>\n",
              "    <tr>\n",
              "      <th>John</th>\n",
              "      <td>40</td>\n",
              "      <td>New York</td>\n",
              "      <td>USA</td>\n",
              "      <td>North America</td>\n",
              "      <td>75000</td>\n",
              "    </tr>\n",
              "  </tbody>\n",
              "</table>\n",
              "</div>\n",
              "      <button class=\"colab-df-convert\" onclick=\"convertToInteractive('df-024d0385-338e-48a8-af17-1cb11401aa1b')\"\n",
              "              title=\"Convert this dataframe to an interactive table.\"\n",
              "              style=\"display:none;\">\n",
              "        \n",
              "  <svg xmlns=\"http://www.w3.org/2000/svg\" height=\"24px\"viewBox=\"0 0 24 24\"\n",
              "       width=\"24px\">\n",
              "    <path d=\"M0 0h24v24H0V0z\" fill=\"none\"/>\n",
              "    <path d=\"M18.56 5.44l.94 2.06.94-2.06 2.06-.94-2.06-.94-.94-2.06-.94 2.06-2.06.94zm-11 1L8.5 8.5l.94-2.06 2.06-.94-2.06-.94L8.5 2.5l-.94 2.06-2.06.94zm10 10l.94 2.06.94-2.06 2.06-.94-2.06-.94-.94-2.06-.94 2.06-2.06.94z\"/><path d=\"M17.41 7.96l-1.37-1.37c-.4-.4-.92-.59-1.43-.59-.52 0-1.04.2-1.43.59L10.3 9.45l-7.72 7.72c-.78.78-.78 2.05 0 2.83L4 21.41c.39.39.9.59 1.41.59.51 0 1.02-.2 1.41-.59l7.78-7.78 2.81-2.81c.8-.78.8-2.07 0-2.86zM5.41 20L4 18.59l7.72-7.72 1.47 1.35L5.41 20z\"/>\n",
              "  </svg>\n",
              "      </button>\n",
              "      \n",
              "  <style>\n",
              "    .colab-df-container {\n",
              "      display:flex;\n",
              "      flex-wrap:wrap;\n",
              "      gap: 12px;\n",
              "    }\n",
              "\n",
              "    .colab-df-convert {\n",
              "      background-color: #E8F0FE;\n",
              "      border: none;\n",
              "      border-radius: 50%;\n",
              "      cursor: pointer;\n",
              "      display: none;\n",
              "      fill: #1967D2;\n",
              "      height: 32px;\n",
              "      padding: 0 0 0 0;\n",
              "      width: 32px;\n",
              "    }\n",
              "\n",
              "    .colab-df-convert:hover {\n",
              "      background-color: #E2EBFA;\n",
              "      box-shadow: 0px 1px 2px rgba(60, 64, 67, 0.3), 0px 1px 3px 1px rgba(60, 64, 67, 0.15);\n",
              "      fill: #174EA6;\n",
              "    }\n",
              "\n",
              "    [theme=dark] .colab-df-convert {\n",
              "      background-color: #3B4455;\n",
              "      fill: #D2E3FC;\n",
              "    }\n",
              "\n",
              "    [theme=dark] .colab-df-convert:hover {\n",
              "      background-color: #434B5C;\n",
              "      box-shadow: 0px 1px 3px 1px rgba(0, 0, 0, 0.15);\n",
              "      filter: drop-shadow(0px 1px 2px rgba(0, 0, 0, 0.3));\n",
              "      fill: #FFFFFF;\n",
              "    }\n",
              "  </style>\n",
              "\n",
              "      <script>\n",
              "        const buttonEl =\n",
              "          document.querySelector('#df-024d0385-338e-48a8-af17-1cb11401aa1b button.colab-df-convert');\n",
              "        buttonEl.style.display =\n",
              "          google.colab.kernel.accessAllowed ? 'block' : 'none';\n",
              "\n",
              "        async function convertToInteractive(key) {\n",
              "          const element = document.querySelector('#df-024d0385-338e-48a8-af17-1cb11401aa1b');\n",
              "          const dataTable =\n",
              "            await google.colab.kernel.invokeFunction('convertToInteractive',\n",
              "                                                     [key], {});\n",
              "          if (!dataTable) return;\n",
              "\n",
              "          const docLinkHtml = 'Like what you see? Visit the ' +\n",
              "            '<a target=\"_blank\" href=https://colab.research.google.com/notebooks/data_table.ipynb>data table notebook</a>'\n",
              "            + ' to learn more about interactive tables.';\n",
              "          element.innerHTML = '';\n",
              "          dataTable['output_type'] = 'display_data';\n",
              "          await google.colab.output.renderOutput(dataTable, element);\n",
              "          const docLink = document.createElement('div');\n",
              "          docLink.innerHTML = docLinkHtml;\n",
              "          element.appendChild(docLink);\n",
              "        }\n",
              "      </script>\n",
              "    </div>\n",
              "  </div>\n",
              "  "
            ]
          },
          "metadata": {},
          "execution_count": 170
        }
      ]
    },
    {
      "cell_type": "markdown",
      "source": [
        "## Modify the df"
      ],
      "metadata": {
        "id": "Ksid4CP_D3Ce"
      }
    },
    {
      "cell_type": "code",
      "source": [
        "# Philippe moved to Paris (==> 'city') in France (==> 'country') and we want to update the df\n",
        "\n",
        "# modify the df with .loc method\n",
        "\n",
        "df.loc['Philippe', ['city', 'country']] = ['Paris', 'France']\n",
        "df"
      ],
      "metadata": {
        "id": "vBsA8cZEBf66",
        "colab": {
          "base_uri": "https://localhost:8080/",
          "height": 332
        },
        "outputId": "81b6d5b5-7712-421e-a2df-9eafc4a7a8a5"
      },
      "execution_count": 171,
      "outputs": [
        {
          "output_type": "execute_result",
          "data": {
            "text/plain": [
              "         age      city  country         region salary\n",
              "name                                                 \n",
              "Jess      30     Paris   France         Europe  40000\n",
              "Nick      35    Berlin  Germany         Europe  45000\n",
              "Winston   40    Madrid    Spain         Europe  50000\n",
              "Tom       27     Paris   France         Europe  55000\n",
              "Alex      52    London       UK         Europe  60000\n",
              "Matthew   32    London       UK         Europe  65000\n",
              "Philippe  45     Paris   France         Europe  70000\n",
              "John      40  New York      USA  North America  75000"
            ],
            "text/html": [
              "\n",
              "  <div id=\"df-04b84a67-e329-43c4-bbd7-71f60370e650\">\n",
              "    <div class=\"colab-df-container\">\n",
              "      <div>\n",
              "<style scoped>\n",
              "    .dataframe tbody tr th:only-of-type {\n",
              "        vertical-align: middle;\n",
              "    }\n",
              "\n",
              "    .dataframe tbody tr th {\n",
              "        vertical-align: top;\n",
              "    }\n",
              "\n",
              "    .dataframe thead th {\n",
              "        text-align: right;\n",
              "    }\n",
              "</style>\n",
              "<table border=\"1\" class=\"dataframe\">\n",
              "  <thead>\n",
              "    <tr style=\"text-align: right;\">\n",
              "      <th></th>\n",
              "      <th>age</th>\n",
              "      <th>city</th>\n",
              "      <th>country</th>\n",
              "      <th>region</th>\n",
              "      <th>salary</th>\n",
              "    </tr>\n",
              "    <tr>\n",
              "      <th>name</th>\n",
              "      <th></th>\n",
              "      <th></th>\n",
              "      <th></th>\n",
              "      <th></th>\n",
              "      <th></th>\n",
              "    </tr>\n",
              "  </thead>\n",
              "  <tbody>\n",
              "    <tr>\n",
              "      <th>Jess</th>\n",
              "      <td>30</td>\n",
              "      <td>Paris</td>\n",
              "      <td>France</td>\n",
              "      <td>Europe</td>\n",
              "      <td>40000</td>\n",
              "    </tr>\n",
              "    <tr>\n",
              "      <th>Nick</th>\n",
              "      <td>35</td>\n",
              "      <td>Berlin</td>\n",
              "      <td>Germany</td>\n",
              "      <td>Europe</td>\n",
              "      <td>45000</td>\n",
              "    </tr>\n",
              "    <tr>\n",
              "      <th>Winston</th>\n",
              "      <td>40</td>\n",
              "      <td>Madrid</td>\n",
              "      <td>Spain</td>\n",
              "      <td>Europe</td>\n",
              "      <td>50000</td>\n",
              "    </tr>\n",
              "    <tr>\n",
              "      <th>Tom</th>\n",
              "      <td>27</td>\n",
              "      <td>Paris</td>\n",
              "      <td>France</td>\n",
              "      <td>Europe</td>\n",
              "      <td>55000</td>\n",
              "    </tr>\n",
              "    <tr>\n",
              "      <th>Alex</th>\n",
              "      <td>52</td>\n",
              "      <td>London</td>\n",
              "      <td>UK</td>\n",
              "      <td>Europe</td>\n",
              "      <td>60000</td>\n",
              "    </tr>\n",
              "    <tr>\n",
              "      <th>Matthew</th>\n",
              "      <td>32</td>\n",
              "      <td>London</td>\n",
              "      <td>UK</td>\n",
              "      <td>Europe</td>\n",
              "      <td>65000</td>\n",
              "    </tr>\n",
              "    <tr>\n",
              "      <th>Philippe</th>\n",
              "      <td>45</td>\n",
              "      <td>Paris</td>\n",
              "      <td>France</td>\n",
              "      <td>Europe</td>\n",
              "      <td>70000</td>\n",
              "    </tr>\n",
              "    <tr>\n",
              "      <th>John</th>\n",
              "      <td>40</td>\n",
              "      <td>New York</td>\n",
              "      <td>USA</td>\n",
              "      <td>North America</td>\n",
              "      <td>75000</td>\n",
              "    </tr>\n",
              "  </tbody>\n",
              "</table>\n",
              "</div>\n",
              "      <button class=\"colab-df-convert\" onclick=\"convertToInteractive('df-04b84a67-e329-43c4-bbd7-71f60370e650')\"\n",
              "              title=\"Convert this dataframe to an interactive table.\"\n",
              "              style=\"display:none;\">\n",
              "        \n",
              "  <svg xmlns=\"http://www.w3.org/2000/svg\" height=\"24px\"viewBox=\"0 0 24 24\"\n",
              "       width=\"24px\">\n",
              "    <path d=\"M0 0h24v24H0V0z\" fill=\"none\"/>\n",
              "    <path d=\"M18.56 5.44l.94 2.06.94-2.06 2.06-.94-2.06-.94-.94-2.06-.94 2.06-2.06.94zm-11 1L8.5 8.5l.94-2.06 2.06-.94-2.06-.94L8.5 2.5l-.94 2.06-2.06.94zm10 10l.94 2.06.94-2.06 2.06-.94-2.06-.94-.94-2.06-.94 2.06-2.06.94z\"/><path d=\"M17.41 7.96l-1.37-1.37c-.4-.4-.92-.59-1.43-.59-.52 0-1.04.2-1.43.59L10.3 9.45l-7.72 7.72c-.78.78-.78 2.05 0 2.83L4 21.41c.39.39.9.59 1.41.59.51 0 1.02-.2 1.41-.59l7.78-7.78 2.81-2.81c.8-.78.8-2.07 0-2.86zM5.41 20L4 18.59l7.72-7.72 1.47 1.35L5.41 20z\"/>\n",
              "  </svg>\n",
              "      </button>\n",
              "      \n",
              "  <style>\n",
              "    .colab-df-container {\n",
              "      display:flex;\n",
              "      flex-wrap:wrap;\n",
              "      gap: 12px;\n",
              "    }\n",
              "\n",
              "    .colab-df-convert {\n",
              "      background-color: #E8F0FE;\n",
              "      border: none;\n",
              "      border-radius: 50%;\n",
              "      cursor: pointer;\n",
              "      display: none;\n",
              "      fill: #1967D2;\n",
              "      height: 32px;\n",
              "      padding: 0 0 0 0;\n",
              "      width: 32px;\n",
              "    }\n",
              "\n",
              "    .colab-df-convert:hover {\n",
              "      background-color: #E2EBFA;\n",
              "      box-shadow: 0px 1px 2px rgba(60, 64, 67, 0.3), 0px 1px 3px 1px rgba(60, 64, 67, 0.15);\n",
              "      fill: #174EA6;\n",
              "    }\n",
              "\n",
              "    [theme=dark] .colab-df-convert {\n",
              "      background-color: #3B4455;\n",
              "      fill: #D2E3FC;\n",
              "    }\n",
              "\n",
              "    [theme=dark] .colab-df-convert:hover {\n",
              "      background-color: #434B5C;\n",
              "      box-shadow: 0px 1px 3px 1px rgba(0, 0, 0, 0.15);\n",
              "      filter: drop-shadow(0px 1px 2px rgba(0, 0, 0, 0.3));\n",
              "      fill: #FFFFFF;\n",
              "    }\n",
              "  </style>\n",
              "\n",
              "      <script>\n",
              "        const buttonEl =\n",
              "          document.querySelector('#df-04b84a67-e329-43c4-bbd7-71f60370e650 button.colab-df-convert');\n",
              "        buttonEl.style.display =\n",
              "          google.colab.kernel.accessAllowed ? 'block' : 'none';\n",
              "\n",
              "        async function convertToInteractive(key) {\n",
              "          const element = document.querySelector('#df-04b84a67-e329-43c4-bbd7-71f60370e650');\n",
              "          const dataTable =\n",
              "            await google.colab.kernel.invokeFunction('convertToInteractive',\n",
              "                                                     [key], {});\n",
              "          if (!dataTable) return;\n",
              "\n",
              "          const docLinkHtml = 'Like what you see? Visit the ' +\n",
              "            '<a target=\"_blank\" href=https://colab.research.google.com/notebooks/data_table.ipynb>data table notebook</a>'\n",
              "            + ' to learn more about interactive tables.';\n",
              "          element.innerHTML = '';\n",
              "          dataTable['output_type'] = 'display_data';\n",
              "          await google.colab.output.renderOutput(dataTable, element);\n",
              "          const docLink = document.createElement('div');\n",
              "          docLink.innerHTML = docLinkHtml;\n",
              "          element.appendChild(docLink);\n",
              "        }\n",
              "      </script>\n",
              "    </div>\n",
              "  </div>\n",
              "  "
            ]
          },
          "metadata": {},
          "execution_count": 171
        }
      ]
    },
    {
      "cell_type": "code",
      "source": [
        "# Philippe moved back to London, in UK and even got a promotion and we want to update the df\n",
        "\n",
        "# modify df with .iloc method\n",
        "\n",
        "# the row of 'Philipp' hase the index 6\n",
        "# the indicies for 'city', 'country' and 'salary' columns are : 1, 2, 4 \n",
        "\n",
        "df.iloc[6, [1, 2, 4]]= ['London', 'UK', '80000'] \n",
        "\n",
        "df"
      ],
      "metadata": {
        "id": "SR-kgJjkCJH9",
        "colab": {
          "base_uri": "https://localhost:8080/",
          "height": 332
        },
        "outputId": "37324d5a-5d97-40d6-8935-ea6f8e42adc5"
      },
      "execution_count": 172,
      "outputs": [
        {
          "output_type": "execute_result",
          "data": {
            "text/plain": [
              "         age      city  country         region salary\n",
              "name                                                 \n",
              "Jess      30     Paris   France         Europe  40000\n",
              "Nick      35    Berlin  Germany         Europe  45000\n",
              "Winston   40    Madrid    Spain         Europe  50000\n",
              "Tom       27     Paris   France         Europe  55000\n",
              "Alex      52    London       UK         Europe  60000\n",
              "Matthew   32    London       UK         Europe  65000\n",
              "Philippe  45    London       UK         Europe  80000\n",
              "John      40  New York      USA  North America  75000"
            ],
            "text/html": [
              "\n",
              "  <div id=\"df-f609bcf7-fd45-4b78-96e5-b03d8c4f8c75\">\n",
              "    <div class=\"colab-df-container\">\n",
              "      <div>\n",
              "<style scoped>\n",
              "    .dataframe tbody tr th:only-of-type {\n",
              "        vertical-align: middle;\n",
              "    }\n",
              "\n",
              "    .dataframe tbody tr th {\n",
              "        vertical-align: top;\n",
              "    }\n",
              "\n",
              "    .dataframe thead th {\n",
              "        text-align: right;\n",
              "    }\n",
              "</style>\n",
              "<table border=\"1\" class=\"dataframe\">\n",
              "  <thead>\n",
              "    <tr style=\"text-align: right;\">\n",
              "      <th></th>\n",
              "      <th>age</th>\n",
              "      <th>city</th>\n",
              "      <th>country</th>\n",
              "      <th>region</th>\n",
              "      <th>salary</th>\n",
              "    </tr>\n",
              "    <tr>\n",
              "      <th>name</th>\n",
              "      <th></th>\n",
              "      <th></th>\n",
              "      <th></th>\n",
              "      <th></th>\n",
              "      <th></th>\n",
              "    </tr>\n",
              "  </thead>\n",
              "  <tbody>\n",
              "    <tr>\n",
              "      <th>Jess</th>\n",
              "      <td>30</td>\n",
              "      <td>Paris</td>\n",
              "      <td>France</td>\n",
              "      <td>Europe</td>\n",
              "      <td>40000</td>\n",
              "    </tr>\n",
              "    <tr>\n",
              "      <th>Nick</th>\n",
              "      <td>35</td>\n",
              "      <td>Berlin</td>\n",
              "      <td>Germany</td>\n",
              "      <td>Europe</td>\n",
              "      <td>45000</td>\n",
              "    </tr>\n",
              "    <tr>\n",
              "      <th>Winston</th>\n",
              "      <td>40</td>\n",
              "      <td>Madrid</td>\n",
              "      <td>Spain</td>\n",
              "      <td>Europe</td>\n",
              "      <td>50000</td>\n",
              "    </tr>\n",
              "    <tr>\n",
              "      <th>Tom</th>\n",
              "      <td>27</td>\n",
              "      <td>Paris</td>\n",
              "      <td>France</td>\n",
              "      <td>Europe</td>\n",
              "      <td>55000</td>\n",
              "    </tr>\n",
              "    <tr>\n",
              "      <th>Alex</th>\n",
              "      <td>52</td>\n",
              "      <td>London</td>\n",
              "      <td>UK</td>\n",
              "      <td>Europe</td>\n",
              "      <td>60000</td>\n",
              "    </tr>\n",
              "    <tr>\n",
              "      <th>Matthew</th>\n",
              "      <td>32</td>\n",
              "      <td>London</td>\n",
              "      <td>UK</td>\n",
              "      <td>Europe</td>\n",
              "      <td>65000</td>\n",
              "    </tr>\n",
              "    <tr>\n",
              "      <th>Philippe</th>\n",
              "      <td>45</td>\n",
              "      <td>London</td>\n",
              "      <td>UK</td>\n",
              "      <td>Europe</td>\n",
              "      <td>80000</td>\n",
              "    </tr>\n",
              "    <tr>\n",
              "      <th>John</th>\n",
              "      <td>40</td>\n",
              "      <td>New York</td>\n",
              "      <td>USA</td>\n",
              "      <td>North America</td>\n",
              "      <td>75000</td>\n",
              "    </tr>\n",
              "  </tbody>\n",
              "</table>\n",
              "</div>\n",
              "      <button class=\"colab-df-convert\" onclick=\"convertToInteractive('df-f609bcf7-fd45-4b78-96e5-b03d8c4f8c75')\"\n",
              "              title=\"Convert this dataframe to an interactive table.\"\n",
              "              style=\"display:none;\">\n",
              "        \n",
              "  <svg xmlns=\"http://www.w3.org/2000/svg\" height=\"24px\"viewBox=\"0 0 24 24\"\n",
              "       width=\"24px\">\n",
              "    <path d=\"M0 0h24v24H0V0z\" fill=\"none\"/>\n",
              "    <path d=\"M18.56 5.44l.94 2.06.94-2.06 2.06-.94-2.06-.94-.94-2.06-.94 2.06-2.06.94zm-11 1L8.5 8.5l.94-2.06 2.06-.94-2.06-.94L8.5 2.5l-.94 2.06-2.06.94zm10 10l.94 2.06.94-2.06 2.06-.94-2.06-.94-.94-2.06-.94 2.06-2.06.94z\"/><path d=\"M17.41 7.96l-1.37-1.37c-.4-.4-.92-.59-1.43-.59-.52 0-1.04.2-1.43.59L10.3 9.45l-7.72 7.72c-.78.78-.78 2.05 0 2.83L4 21.41c.39.39.9.59 1.41.59.51 0 1.02-.2 1.41-.59l7.78-7.78 2.81-2.81c.8-.78.8-2.07 0-2.86zM5.41 20L4 18.59l7.72-7.72 1.47 1.35L5.41 20z\"/>\n",
              "  </svg>\n",
              "      </button>\n",
              "      \n",
              "  <style>\n",
              "    .colab-df-container {\n",
              "      display:flex;\n",
              "      flex-wrap:wrap;\n",
              "      gap: 12px;\n",
              "    }\n",
              "\n",
              "    .colab-df-convert {\n",
              "      background-color: #E8F0FE;\n",
              "      border: none;\n",
              "      border-radius: 50%;\n",
              "      cursor: pointer;\n",
              "      display: none;\n",
              "      fill: #1967D2;\n",
              "      height: 32px;\n",
              "      padding: 0 0 0 0;\n",
              "      width: 32px;\n",
              "    }\n",
              "\n",
              "    .colab-df-convert:hover {\n",
              "      background-color: #E2EBFA;\n",
              "      box-shadow: 0px 1px 2px rgba(60, 64, 67, 0.3), 0px 1px 3px 1px rgba(60, 64, 67, 0.15);\n",
              "      fill: #174EA6;\n",
              "    }\n",
              "\n",
              "    [theme=dark] .colab-df-convert {\n",
              "      background-color: #3B4455;\n",
              "      fill: #D2E3FC;\n",
              "    }\n",
              "\n",
              "    [theme=dark] .colab-df-convert:hover {\n",
              "      background-color: #434B5C;\n",
              "      box-shadow: 0px 1px 3px 1px rgba(0, 0, 0, 0.15);\n",
              "      filter: drop-shadow(0px 1px 2px rgba(0, 0, 0, 0.3));\n",
              "      fill: #FFFFFF;\n",
              "    }\n",
              "  </style>\n",
              "\n",
              "      <script>\n",
              "        const buttonEl =\n",
              "          document.querySelector('#df-f609bcf7-fd45-4b78-96e5-b03d8c4f8c75 button.colab-df-convert');\n",
              "        buttonEl.style.display =\n",
              "          google.colab.kernel.accessAllowed ? 'block' : 'none';\n",
              "\n",
              "        async function convertToInteractive(key) {\n",
              "          const element = document.querySelector('#df-f609bcf7-fd45-4b78-96e5-b03d8c4f8c75');\n",
              "          const dataTable =\n",
              "            await google.colab.kernel.invokeFunction('convertToInteractive',\n",
              "                                                     [key], {});\n",
              "          if (!dataTable) return;\n",
              "\n",
              "          const docLinkHtml = 'Like what you see? Visit the ' +\n",
              "            '<a target=\"_blank\" href=https://colab.research.google.com/notebooks/data_table.ipynb>data table notebook</a>'\n",
              "            + ' to learn more about interactive tables.';\n",
              "          element.innerHTML = '';\n",
              "          dataTable['output_type'] = 'display_data';\n",
              "          await google.colab.output.renderOutput(dataTable, element);\n",
              "          const docLink = document.createElement('div');\n",
              "          docLink.innerHTML = docLinkHtml;\n",
              "          element.appendChild(docLink);\n",
              "        }\n",
              "      </script>\n",
              "    </div>\n",
              "  </div>\n",
              "  "
            ]
          },
          "metadata": {},
          "execution_count": 172
        }
      ]
    },
    {
      "cell_type": "markdown",
      "source": [
        "## Explore df"
      ],
      "metadata": {
        "id": "6XtJyKUF8H5r"
      }
    },
    {
      "cell_type": "code",
      "execution_count": 173,
      "metadata": {
        "id": "yseGtfbScVfi",
        "colab": {
          "base_uri": "https://localhost:8080/"
        },
        "outputId": "5ae0660d-d4bc-4102-f110-1f45750d5dd8"
      },
      "outputs": [
        {
          "output_type": "stream",
          "name": "stdout",
          "text": [
            "<class 'pandas.core.frame.DataFrame'>\n",
            "Index: 8 entries, Jess to John\n",
            "Data columns (total 5 columns):\n",
            " #   Column   Non-Null Count  Dtype \n",
            "---  ------   --------------  ----- \n",
            " 0   age      8 non-null      object\n",
            " 1   city     8 non-null      object\n",
            " 2   country  8 non-null      object\n",
            " 3   region   8 non-null      object\n",
            " 4   salary   8 non-null      object\n",
            "dtypes: object(5)\n",
            "memory usage: 684.0+ bytes\n"
          ]
        }
      ],
      "source": [
        "# general info of df\n",
        "# have a closer look at the output...\n",
        "# Dtype indicates you the data type containing in the columns\n",
        "# have a closer look at Dtype of 'age' and 'city'\n",
        "\n",
        "df.info()"
      ]
    },
    {
      "cell_type": "code",
      "execution_count": 174,
      "metadata": {
        "id": "QvQMEv9_coSn",
        "colab": {
          "base_uri": "https://localhost:8080/"
        },
        "outputId": "f159501c-fa72-4df4-9ecc-2c18cbecec3d"
      },
      "outputs": [
        {
          "output_type": "stream",
          "name": "stdout",
          "text": [
            "<class 'pandas.core.frame.DataFrame'>\n",
            "Index: 8 entries, Jess to John\n",
            "Data columns (total 5 columns):\n",
            " #   Column   Non-Null Count  Dtype \n",
            "---  ------   --------------  ----- \n",
            " 0   age      8 non-null      int64 \n",
            " 1   city     8 non-null      object\n",
            " 2   country  8 non-null      object\n",
            " 3   region   8 non-null      object\n",
            " 4   salary   8 non-null      int64 \n",
            "dtypes: int64(2), object(3)\n",
            "memory usage: 684.0+ bytes\n"
          ]
        }
      ],
      "source": [
        "# salary and age are perceived as object dtype, but we want it as numeric\n",
        "\n",
        "# convert column of a DataFrame\n",
        "df[\"age\"] = pd.to_numeric(df[\"age\"])\n",
        "df[\"salary\"] = pd.to_numeric(df.salary)\n",
        "\n",
        "# check again the general information of the df and see the difference\n",
        "df.info()"
      ]
    },
    {
      "cell_type": "code",
      "execution_count": 175,
      "metadata": {
        "id": "gltC1Y6Pcx6Q",
        "colab": {
          "base_uri": "https://localhost:8080/",
          "height": 300
        },
        "outputId": "4a21db26-2e01-4be0-be85-9beb5051cb55"
      },
      "outputs": [
        {
          "output_type": "execute_result",
          "data": {
            "text/plain": [
              "             age        salary\n",
              "count   8.000000      8.000000\n",
              "mean   37.625000  58750.000000\n",
              "std     8.296944  14078.859532\n",
              "min    27.000000  40000.000000\n",
              "25%    31.500000  48750.000000\n",
              "50%    37.500000  57500.000000\n",
              "75%    41.250000  67500.000000\n",
              "max    52.000000  80000.000000"
            ],
            "text/html": [
              "\n",
              "  <div id=\"df-dca88652-608f-472e-b6a6-809dbd8dac55\">\n",
              "    <div class=\"colab-df-container\">\n",
              "      <div>\n",
              "<style scoped>\n",
              "    .dataframe tbody tr th:only-of-type {\n",
              "        vertical-align: middle;\n",
              "    }\n",
              "\n",
              "    .dataframe tbody tr th {\n",
              "        vertical-align: top;\n",
              "    }\n",
              "\n",
              "    .dataframe thead th {\n",
              "        text-align: right;\n",
              "    }\n",
              "</style>\n",
              "<table border=\"1\" class=\"dataframe\">\n",
              "  <thead>\n",
              "    <tr style=\"text-align: right;\">\n",
              "      <th></th>\n",
              "      <th>age</th>\n",
              "      <th>salary</th>\n",
              "    </tr>\n",
              "  </thead>\n",
              "  <tbody>\n",
              "    <tr>\n",
              "      <th>count</th>\n",
              "      <td>8.000000</td>\n",
              "      <td>8.000000</td>\n",
              "    </tr>\n",
              "    <tr>\n",
              "      <th>mean</th>\n",
              "      <td>37.625000</td>\n",
              "      <td>58750.000000</td>\n",
              "    </tr>\n",
              "    <tr>\n",
              "      <th>std</th>\n",
              "      <td>8.296944</td>\n",
              "      <td>14078.859532</td>\n",
              "    </tr>\n",
              "    <tr>\n",
              "      <th>min</th>\n",
              "      <td>27.000000</td>\n",
              "      <td>40000.000000</td>\n",
              "    </tr>\n",
              "    <tr>\n",
              "      <th>25%</th>\n",
              "      <td>31.500000</td>\n",
              "      <td>48750.000000</td>\n",
              "    </tr>\n",
              "    <tr>\n",
              "      <th>50%</th>\n",
              "      <td>37.500000</td>\n",
              "      <td>57500.000000</td>\n",
              "    </tr>\n",
              "    <tr>\n",
              "      <th>75%</th>\n",
              "      <td>41.250000</td>\n",
              "      <td>67500.000000</td>\n",
              "    </tr>\n",
              "    <tr>\n",
              "      <th>max</th>\n",
              "      <td>52.000000</td>\n",
              "      <td>80000.000000</td>\n",
              "    </tr>\n",
              "  </tbody>\n",
              "</table>\n",
              "</div>\n",
              "      <button class=\"colab-df-convert\" onclick=\"convertToInteractive('df-dca88652-608f-472e-b6a6-809dbd8dac55')\"\n",
              "              title=\"Convert this dataframe to an interactive table.\"\n",
              "              style=\"display:none;\">\n",
              "        \n",
              "  <svg xmlns=\"http://www.w3.org/2000/svg\" height=\"24px\"viewBox=\"0 0 24 24\"\n",
              "       width=\"24px\">\n",
              "    <path d=\"M0 0h24v24H0V0z\" fill=\"none\"/>\n",
              "    <path d=\"M18.56 5.44l.94 2.06.94-2.06 2.06-.94-2.06-.94-.94-2.06-.94 2.06-2.06.94zm-11 1L8.5 8.5l.94-2.06 2.06-.94-2.06-.94L8.5 2.5l-.94 2.06-2.06.94zm10 10l.94 2.06.94-2.06 2.06-.94-2.06-.94-.94-2.06-.94 2.06-2.06.94z\"/><path d=\"M17.41 7.96l-1.37-1.37c-.4-.4-.92-.59-1.43-.59-.52 0-1.04.2-1.43.59L10.3 9.45l-7.72 7.72c-.78.78-.78 2.05 0 2.83L4 21.41c.39.39.9.59 1.41.59.51 0 1.02-.2 1.41-.59l7.78-7.78 2.81-2.81c.8-.78.8-2.07 0-2.86zM5.41 20L4 18.59l7.72-7.72 1.47 1.35L5.41 20z\"/>\n",
              "  </svg>\n",
              "      </button>\n",
              "      \n",
              "  <style>\n",
              "    .colab-df-container {\n",
              "      display:flex;\n",
              "      flex-wrap:wrap;\n",
              "      gap: 12px;\n",
              "    }\n",
              "\n",
              "    .colab-df-convert {\n",
              "      background-color: #E8F0FE;\n",
              "      border: none;\n",
              "      border-radius: 50%;\n",
              "      cursor: pointer;\n",
              "      display: none;\n",
              "      fill: #1967D2;\n",
              "      height: 32px;\n",
              "      padding: 0 0 0 0;\n",
              "      width: 32px;\n",
              "    }\n",
              "\n",
              "    .colab-df-convert:hover {\n",
              "      background-color: #E2EBFA;\n",
              "      box-shadow: 0px 1px 2px rgba(60, 64, 67, 0.3), 0px 1px 3px 1px rgba(60, 64, 67, 0.15);\n",
              "      fill: #174EA6;\n",
              "    }\n",
              "\n",
              "    [theme=dark] .colab-df-convert {\n",
              "      background-color: #3B4455;\n",
              "      fill: #D2E3FC;\n",
              "    }\n",
              "\n",
              "    [theme=dark] .colab-df-convert:hover {\n",
              "      background-color: #434B5C;\n",
              "      box-shadow: 0px 1px 3px 1px rgba(0, 0, 0, 0.15);\n",
              "      filter: drop-shadow(0px 1px 2px rgba(0, 0, 0, 0.3));\n",
              "      fill: #FFFFFF;\n",
              "    }\n",
              "  </style>\n",
              "\n",
              "      <script>\n",
              "        const buttonEl =\n",
              "          document.querySelector('#df-dca88652-608f-472e-b6a6-809dbd8dac55 button.colab-df-convert');\n",
              "        buttonEl.style.display =\n",
              "          google.colab.kernel.accessAllowed ? 'block' : 'none';\n",
              "\n",
              "        async function convertToInteractive(key) {\n",
              "          const element = document.querySelector('#df-dca88652-608f-472e-b6a6-809dbd8dac55');\n",
              "          const dataTable =\n",
              "            await google.colab.kernel.invokeFunction('convertToInteractive',\n",
              "                                                     [key], {});\n",
              "          if (!dataTable) return;\n",
              "\n",
              "          const docLinkHtml = 'Like what you see? Visit the ' +\n",
              "            '<a target=\"_blank\" href=https://colab.research.google.com/notebooks/data_table.ipynb>data table notebook</a>'\n",
              "            + ' to learn more about interactive tables.';\n",
              "          element.innerHTML = '';\n",
              "          dataTable['output_type'] = 'display_data';\n",
              "          await google.colab.output.renderOutput(dataTable, element);\n",
              "          const docLink = document.createElement('div');\n",
              "          docLink.innerHTML = docLinkHtml;\n",
              "          element.appendChild(docLink);\n",
              "        }\n",
              "      </script>\n",
              "    </div>\n",
              "  </div>\n",
              "  "
            ]
          },
          "metadata": {},
          "execution_count": 175
        }
      ],
      "source": [
        "# use .describe() method to have an brief overview of general statisctics \n",
        "\n",
        "df.describe()"
      ]
    },
    {
      "cell_type": "code",
      "execution_count": 176,
      "metadata": {
        "id": "YE3QM_BhYrHs",
        "colab": {
          "base_uri": "https://localhost:8080/"
        },
        "outputId": "96eda07b-d2ee-4278-8eea-6e8c7808aacf"
      },
      "outputs": [
        {
          "output_type": "execute_result",
          "data": {
            "text/plain": [
              "array(['Paris', 'Berlin', 'Madrid', 'London', 'New York'], dtype=object)"
            ]
          },
          "metadata": {},
          "execution_count": 176
        }
      ],
      "source": [
        "# distinct cities with method .unique()\n",
        "\n",
        "df.city.unique()"
      ]
    },
    {
      "cell_type": "code",
      "execution_count": 177,
      "metadata": {
        "id": "Rn6swduVY9o6",
        "colab": {
          "base_uri": "https://localhost:8080/"
        },
        "outputId": "7c380d2d-3d91-49c7-f8e6-19dc033d3ff7"
      },
      "outputs": [
        {
          "output_type": "execute_result",
          "data": {
            "text/plain": [
              "5"
            ]
          },
          "metadata": {},
          "execution_count": 177
        }
      ],
      "source": [
        "# number of distinct cities\n",
        "len(df['city'].unique())"
      ]
    },
    {
      "cell_type": "markdown",
      "metadata": {
        "id": "8dRDNJTZbKGx"
      },
      "source": [
        "## Groupby"
      ]
    },
    {
      "cell_type": "markdown",
      "source": [
        "More about groupby method in pandas https://pandas.pydata.org/docs/reference/api/pandas.DataFrame.groupby.html"
      ],
      "metadata": {
        "id": "ERNOF46jQHUj"
      }
    },
    {
      "cell_type": "code",
      "execution_count": 178,
      "metadata": {
        "id": "lLkDe2Q-bPZb",
        "colab": {
          "base_uri": "https://localhost:8080/"
        },
        "outputId": "ce8c35f9-a0f6-4fa5-fdcc-8e23df5afec9"
      },
      "outputs": [
        {
          "output_type": "execute_result",
          "data": {
            "text/plain": [
              "city\n",
              "Berlin      35.0\n",
              "London      43.0\n",
              "Madrid      40.0\n",
              "New York    40.0\n",
              "Paris       28.5\n",
              "Name: age, dtype: float64"
            ]
          },
          "metadata": {},
          "execution_count": 178
        }
      ],
      "source": [
        "# check the mean age by city\n",
        "df.groupby(by=[\"city\"])['age'].mean()"
      ]
    },
    {
      "cell_type": "code",
      "execution_count": 179,
      "metadata": {
        "id": "Cjqu7rrhZzrc",
        "colab": {
          "base_uri": "https://localhost:8080/"
        },
        "outputId": "3d210dc5-e613-4acc-f854-443fc705c015"
      },
      "outputs": [
        {
          "output_type": "execute_result",
          "data": {
            "text/plain": [
              "city\n",
              "Berlin       45000\n",
              "London      205000\n",
              "Madrid       50000\n",
              "New York     75000\n",
              "Paris        95000\n",
              "Name: salary, dtype: int64"
            ]
          },
          "metadata": {},
          "execution_count": 179
        }
      ],
      "source": [
        "# check the total salary by city\n",
        "df.groupby(by=[\"city\"])['salary'].sum()"
      ]
    },
    {
      "cell_type": "code",
      "source": [
        "# check how many city we have by country\n",
        "df.groupby(by=[\"country\"])['city'].count()"
      ],
      "metadata": {
        "id": "h42ADRKYQWkF",
        "colab": {
          "base_uri": "https://localhost:8080/"
        },
        "outputId": "27cd510e-9e44-41a0-a575-2f16ef8cf48c"
      },
      "execution_count": 180,
      "outputs": [
        {
          "output_type": "execute_result",
          "data": {
            "text/plain": [
              "country\n",
              "France     2\n",
              "Germany    1\n",
              "Spain      1\n",
              "UK         3\n",
              "USA        1\n",
              "Name: city, dtype: int64"
            ]
          },
          "metadata": {},
          "execution_count": 180
        }
      ]
    },
    {
      "cell_type": "code",
      "execution_count": 181,
      "metadata": {
        "id": "5Ygrjq15eHcb",
        "colab": {
          "base_uri": "https://localhost:8080/"
        },
        "outputId": "68d8e278-c1d5-4ece-e437-5f9430266df2"
      },
      "outputs": [
        {
          "output_type": "execute_result",
          "data": {
            "text/plain": [
              "region         country\n",
              "Europe         France     47500.000000\n",
              "               Germany    45000.000000\n",
              "               Spain      50000.000000\n",
              "               UK         68333.333333\n",
              "North America  USA        75000.000000\n",
              "Name: salary, dtype: float64"
            ]
          },
          "metadata": {},
          "execution_count": 181
        }
      ],
      "source": [
        "# group by 2 variables\n",
        "\n",
        "df.groupby(by=['region', \"country\"])['salary'].mean()"
      ]
    },
    {
      "cell_type": "markdown",
      "metadata": {
        "id": "Iaab7nlWe-43"
      },
      "source": [
        "## Pivot"
      ]
    },
    {
      "cell_type": "markdown",
      "source": [
        "Create a spreadsheet-style pivot table as a DataFrame.\n",
        "\n",
        "The levels in the pivot table will be stored in MultiIndex objects (hierarchical indexes) on the index and columns of the result DataFrame"
      ],
      "metadata": {
        "id": "ETOwQZXnIWvk"
      }
    },
    {
      "cell_type": "markdown",
      "source": [
        "More about pivot function in python https://pandas.pydata.org/docs/reference/api/pandas.pivot_table.html"
      ],
      "metadata": {
        "id": "inZ1PdfsIYVl"
      }
    },
    {
      "cell_type": "code",
      "execution_count": 182,
      "metadata": {
        "id": "EmV20Ha_eIy6",
        "colab": {
          "base_uri": "https://localhost:8080/",
          "height": 366
        },
        "outputId": "0a7cd870-1d0c-4bf8-85de-3d835db8b2fd"
      },
      "outputs": [
        {
          "output_type": "stream",
          "name": "stdout",
          "text": [
            "the dataframe we will want to pivot..\n",
            "\n"
          ]
        },
        {
          "output_type": "execute_result",
          "data": {
            "text/plain": [
              "     Box Color   Size  Qty  Weigth\n",
              "0   wood   red  small    1       2\n",
              "1   wood   red  large    2       4\n",
              "2   wood   red  large    2       5\n",
              "3   wood  blue  small    3       5\n",
              "4   wood  blue  small    3       6\n",
              "5  paper   red  large    4       6\n",
              "6  paper   red  small    5       8\n",
              "7  paper  blue  small    6       9\n",
              "8  paper  blue  large    7       9"
            ],
            "text/html": [
              "\n",
              "  <div id=\"df-672e1a50-fba3-4dce-8582-e4486bb4be12\">\n",
              "    <div class=\"colab-df-container\">\n",
              "      <div>\n",
              "<style scoped>\n",
              "    .dataframe tbody tr th:only-of-type {\n",
              "        vertical-align: middle;\n",
              "    }\n",
              "\n",
              "    .dataframe tbody tr th {\n",
              "        vertical-align: top;\n",
              "    }\n",
              "\n",
              "    .dataframe thead th {\n",
              "        text-align: right;\n",
              "    }\n",
              "</style>\n",
              "<table border=\"1\" class=\"dataframe\">\n",
              "  <thead>\n",
              "    <tr style=\"text-align: right;\">\n",
              "      <th></th>\n",
              "      <th>Box</th>\n",
              "      <th>Color</th>\n",
              "      <th>Size</th>\n",
              "      <th>Qty</th>\n",
              "      <th>Weigth</th>\n",
              "    </tr>\n",
              "  </thead>\n",
              "  <tbody>\n",
              "    <tr>\n",
              "      <th>0</th>\n",
              "      <td>wood</td>\n",
              "      <td>red</td>\n",
              "      <td>small</td>\n",
              "      <td>1</td>\n",
              "      <td>2</td>\n",
              "    </tr>\n",
              "    <tr>\n",
              "      <th>1</th>\n",
              "      <td>wood</td>\n",
              "      <td>red</td>\n",
              "      <td>large</td>\n",
              "      <td>2</td>\n",
              "      <td>4</td>\n",
              "    </tr>\n",
              "    <tr>\n",
              "      <th>2</th>\n",
              "      <td>wood</td>\n",
              "      <td>red</td>\n",
              "      <td>large</td>\n",
              "      <td>2</td>\n",
              "      <td>5</td>\n",
              "    </tr>\n",
              "    <tr>\n",
              "      <th>3</th>\n",
              "      <td>wood</td>\n",
              "      <td>blue</td>\n",
              "      <td>small</td>\n",
              "      <td>3</td>\n",
              "      <td>5</td>\n",
              "    </tr>\n",
              "    <tr>\n",
              "      <th>4</th>\n",
              "      <td>wood</td>\n",
              "      <td>blue</td>\n",
              "      <td>small</td>\n",
              "      <td>3</td>\n",
              "      <td>6</td>\n",
              "    </tr>\n",
              "    <tr>\n",
              "      <th>5</th>\n",
              "      <td>paper</td>\n",
              "      <td>red</td>\n",
              "      <td>large</td>\n",
              "      <td>4</td>\n",
              "      <td>6</td>\n",
              "    </tr>\n",
              "    <tr>\n",
              "      <th>6</th>\n",
              "      <td>paper</td>\n",
              "      <td>red</td>\n",
              "      <td>small</td>\n",
              "      <td>5</td>\n",
              "      <td>8</td>\n",
              "    </tr>\n",
              "    <tr>\n",
              "      <th>7</th>\n",
              "      <td>paper</td>\n",
              "      <td>blue</td>\n",
              "      <td>small</td>\n",
              "      <td>6</td>\n",
              "      <td>9</td>\n",
              "    </tr>\n",
              "    <tr>\n",
              "      <th>8</th>\n",
              "      <td>paper</td>\n",
              "      <td>blue</td>\n",
              "      <td>large</td>\n",
              "      <td>7</td>\n",
              "      <td>9</td>\n",
              "    </tr>\n",
              "  </tbody>\n",
              "</table>\n",
              "</div>\n",
              "      <button class=\"colab-df-convert\" onclick=\"convertToInteractive('df-672e1a50-fba3-4dce-8582-e4486bb4be12')\"\n",
              "              title=\"Convert this dataframe to an interactive table.\"\n",
              "              style=\"display:none;\">\n",
              "        \n",
              "  <svg xmlns=\"http://www.w3.org/2000/svg\" height=\"24px\"viewBox=\"0 0 24 24\"\n",
              "       width=\"24px\">\n",
              "    <path d=\"M0 0h24v24H0V0z\" fill=\"none\"/>\n",
              "    <path d=\"M18.56 5.44l.94 2.06.94-2.06 2.06-.94-2.06-.94-.94-2.06-.94 2.06-2.06.94zm-11 1L8.5 8.5l.94-2.06 2.06-.94-2.06-.94L8.5 2.5l-.94 2.06-2.06.94zm10 10l.94 2.06.94-2.06 2.06-.94-2.06-.94-.94-2.06-.94 2.06-2.06.94z\"/><path d=\"M17.41 7.96l-1.37-1.37c-.4-.4-.92-.59-1.43-.59-.52 0-1.04.2-1.43.59L10.3 9.45l-7.72 7.72c-.78.78-.78 2.05 0 2.83L4 21.41c.39.39.9.59 1.41.59.51 0 1.02-.2 1.41-.59l7.78-7.78 2.81-2.81c.8-.78.8-2.07 0-2.86zM5.41 20L4 18.59l7.72-7.72 1.47 1.35L5.41 20z\"/>\n",
              "  </svg>\n",
              "      </button>\n",
              "      \n",
              "  <style>\n",
              "    .colab-df-container {\n",
              "      display:flex;\n",
              "      flex-wrap:wrap;\n",
              "      gap: 12px;\n",
              "    }\n",
              "\n",
              "    .colab-df-convert {\n",
              "      background-color: #E8F0FE;\n",
              "      border: none;\n",
              "      border-radius: 50%;\n",
              "      cursor: pointer;\n",
              "      display: none;\n",
              "      fill: #1967D2;\n",
              "      height: 32px;\n",
              "      padding: 0 0 0 0;\n",
              "      width: 32px;\n",
              "    }\n",
              "\n",
              "    .colab-df-convert:hover {\n",
              "      background-color: #E2EBFA;\n",
              "      box-shadow: 0px 1px 2px rgba(60, 64, 67, 0.3), 0px 1px 3px 1px rgba(60, 64, 67, 0.15);\n",
              "      fill: #174EA6;\n",
              "    }\n",
              "\n",
              "    [theme=dark] .colab-df-convert {\n",
              "      background-color: #3B4455;\n",
              "      fill: #D2E3FC;\n",
              "    }\n",
              "\n",
              "    [theme=dark] .colab-df-convert:hover {\n",
              "      background-color: #434B5C;\n",
              "      box-shadow: 0px 1px 3px 1px rgba(0, 0, 0, 0.15);\n",
              "      filter: drop-shadow(0px 1px 2px rgba(0, 0, 0, 0.3));\n",
              "      fill: #FFFFFF;\n",
              "    }\n",
              "  </style>\n",
              "\n",
              "      <script>\n",
              "        const buttonEl =\n",
              "          document.querySelector('#df-672e1a50-fba3-4dce-8582-e4486bb4be12 button.colab-df-convert');\n",
              "        buttonEl.style.display =\n",
              "          google.colab.kernel.accessAllowed ? 'block' : 'none';\n",
              "\n",
              "        async function convertToInteractive(key) {\n",
              "          const element = document.querySelector('#df-672e1a50-fba3-4dce-8582-e4486bb4be12');\n",
              "          const dataTable =\n",
              "            await google.colab.kernel.invokeFunction('convertToInteractive',\n",
              "                                                     [key], {});\n",
              "          if (!dataTable) return;\n",
              "\n",
              "          const docLinkHtml = 'Like what you see? Visit the ' +\n",
              "            '<a target=\"_blank\" href=https://colab.research.google.com/notebooks/data_table.ipynb>data table notebook</a>'\n",
              "            + ' to learn more about interactive tables.';\n",
              "          element.innerHTML = '';\n",
              "          dataTable['output_type'] = 'display_data';\n",
              "          await google.colab.output.renderOutput(dataTable, element);\n",
              "          const docLink = document.createElement('div');\n",
              "          docLink.innerHTML = docLinkHtml;\n",
              "          element.appendChild(docLink);\n",
              "        }\n",
              "      </script>\n",
              "    </div>\n",
              "  </div>\n",
              "  "
            ]
          },
          "metadata": {},
          "execution_count": 182
        }
      ],
      "source": [
        "# create a table that contains data about some packaging\n",
        "\n",
        "# the Box can be of wood or paper\n",
        "# in colors red or blue\n",
        "# of size small or large\n",
        "# with thier respective quantity and weight\n",
        "\n",
        "table = pd.DataFrame({\"Box\": [\"wood\", \"wood\", \"wood\", \"wood\", \"wood\",\n",
        "                         \"paper\", \"paper\", \"paper\", \"paper\"],\n",
        "                   \"Color\": [\"red\", \"red\", \"red\", \"blue\", \"blue\",\n",
        "                         \"red\", \"red\", \"blue\", \"blue\"],\n",
        "                   \"Size\": [\"small\", \"large\", \"large\", \"small\",\n",
        "                         \"small\", \"large\", \"small\", \"small\",\n",
        "                         \"large\"],\n",
        "                   \"Qty\": [1, 2, 2, 3, 3, 4, 5, 6, 7],\n",
        "                   \"Weigth\": [2, 4, 5, 5, 6, 6, 8, 9, 9]})\n",
        "\n",
        "print('the dataframe we will want to pivot..')\n",
        "print('')\n",
        "table"
      ]
    },
    {
      "cell_type": "code",
      "source": [
        "# import numpy module that help to work with numerical datatypes\n",
        "\n",
        "import numpy as np"
      ],
      "metadata": {
        "id": "uQCkFye9_Rrn"
      },
      "execution_count": 183,
      "outputs": []
    },
    {
      "cell_type": "markdown",
      "source": [
        "MOre about numpy package https://numpy.org/"
      ],
      "metadata": {
        "id": "Fsil3Mql_SZ5"
      }
    },
    {
      "cell_type": "code",
      "execution_count": 184,
      "metadata": {
        "id": "fI5V4JMQfC_O",
        "colab": {
          "base_uri": "https://localhost:8080/",
          "height": 206
        },
        "outputId": "9224be7e-9d32-4a20-b5aa-c53d0acc6014"
      },
      "outputs": [
        {
          "output_type": "execute_result",
          "data": {
            "text/plain": [
              "Size         large  small\n",
              "Box   Color              \n",
              "paper blue     7.0    6.0\n",
              "      red      4.0    5.0\n",
              "wood  blue     NaN    6.0\n",
              "      red      4.0    1.0"
            ],
            "text/html": [
              "\n",
              "  <div id=\"df-aacca714-0578-4ba5-b017-6f0a84d2bb43\">\n",
              "    <div class=\"colab-df-container\">\n",
              "      <div>\n",
              "<style scoped>\n",
              "    .dataframe tbody tr th:only-of-type {\n",
              "        vertical-align: middle;\n",
              "    }\n",
              "\n",
              "    .dataframe tbody tr th {\n",
              "        vertical-align: top;\n",
              "    }\n",
              "\n",
              "    .dataframe thead th {\n",
              "        text-align: right;\n",
              "    }\n",
              "</style>\n",
              "<table border=\"1\" class=\"dataframe\">\n",
              "  <thead>\n",
              "    <tr style=\"text-align: right;\">\n",
              "      <th></th>\n",
              "      <th>Size</th>\n",
              "      <th>large</th>\n",
              "      <th>small</th>\n",
              "    </tr>\n",
              "    <tr>\n",
              "      <th>Box</th>\n",
              "      <th>Color</th>\n",
              "      <th></th>\n",
              "      <th></th>\n",
              "    </tr>\n",
              "  </thead>\n",
              "  <tbody>\n",
              "    <tr>\n",
              "      <th rowspan=\"2\" valign=\"top\">paper</th>\n",
              "      <th>blue</th>\n",
              "      <td>7.0</td>\n",
              "      <td>6.0</td>\n",
              "    </tr>\n",
              "    <tr>\n",
              "      <th>red</th>\n",
              "      <td>4.0</td>\n",
              "      <td>5.0</td>\n",
              "    </tr>\n",
              "    <tr>\n",
              "      <th rowspan=\"2\" valign=\"top\">wood</th>\n",
              "      <th>blue</th>\n",
              "      <td>NaN</td>\n",
              "      <td>6.0</td>\n",
              "    </tr>\n",
              "    <tr>\n",
              "      <th>red</th>\n",
              "      <td>4.0</td>\n",
              "      <td>1.0</td>\n",
              "    </tr>\n",
              "  </tbody>\n",
              "</table>\n",
              "</div>\n",
              "      <button class=\"colab-df-convert\" onclick=\"convertToInteractive('df-aacca714-0578-4ba5-b017-6f0a84d2bb43')\"\n",
              "              title=\"Convert this dataframe to an interactive table.\"\n",
              "              style=\"display:none;\">\n",
              "        \n",
              "  <svg xmlns=\"http://www.w3.org/2000/svg\" height=\"24px\"viewBox=\"0 0 24 24\"\n",
              "       width=\"24px\">\n",
              "    <path d=\"M0 0h24v24H0V0z\" fill=\"none\"/>\n",
              "    <path d=\"M18.56 5.44l.94 2.06.94-2.06 2.06-.94-2.06-.94-.94-2.06-.94 2.06-2.06.94zm-11 1L8.5 8.5l.94-2.06 2.06-.94-2.06-.94L8.5 2.5l-.94 2.06-2.06.94zm10 10l.94 2.06.94-2.06 2.06-.94-2.06-.94-.94-2.06-.94 2.06-2.06.94z\"/><path d=\"M17.41 7.96l-1.37-1.37c-.4-.4-.92-.59-1.43-.59-.52 0-1.04.2-1.43.59L10.3 9.45l-7.72 7.72c-.78.78-.78 2.05 0 2.83L4 21.41c.39.39.9.59 1.41.59.51 0 1.02-.2 1.41-.59l7.78-7.78 2.81-2.81c.8-.78.8-2.07 0-2.86zM5.41 20L4 18.59l7.72-7.72 1.47 1.35L5.41 20z\"/>\n",
              "  </svg>\n",
              "      </button>\n",
              "      \n",
              "  <style>\n",
              "    .colab-df-container {\n",
              "      display:flex;\n",
              "      flex-wrap:wrap;\n",
              "      gap: 12px;\n",
              "    }\n",
              "\n",
              "    .colab-df-convert {\n",
              "      background-color: #E8F0FE;\n",
              "      border: none;\n",
              "      border-radius: 50%;\n",
              "      cursor: pointer;\n",
              "      display: none;\n",
              "      fill: #1967D2;\n",
              "      height: 32px;\n",
              "      padding: 0 0 0 0;\n",
              "      width: 32px;\n",
              "    }\n",
              "\n",
              "    .colab-df-convert:hover {\n",
              "      background-color: #E2EBFA;\n",
              "      box-shadow: 0px 1px 2px rgba(60, 64, 67, 0.3), 0px 1px 3px 1px rgba(60, 64, 67, 0.15);\n",
              "      fill: #174EA6;\n",
              "    }\n",
              "\n",
              "    [theme=dark] .colab-df-convert {\n",
              "      background-color: #3B4455;\n",
              "      fill: #D2E3FC;\n",
              "    }\n",
              "\n",
              "    [theme=dark] .colab-df-convert:hover {\n",
              "      background-color: #434B5C;\n",
              "      box-shadow: 0px 1px 3px 1px rgba(0, 0, 0, 0.15);\n",
              "      filter: drop-shadow(0px 1px 2px rgba(0, 0, 0, 0.3));\n",
              "      fill: #FFFFFF;\n",
              "    }\n",
              "  </style>\n",
              "\n",
              "      <script>\n",
              "        const buttonEl =\n",
              "          document.querySelector('#df-aacca714-0578-4ba5-b017-6f0a84d2bb43 button.colab-df-convert');\n",
              "        buttonEl.style.display =\n",
              "          google.colab.kernel.accessAllowed ? 'block' : 'none';\n",
              "\n",
              "        async function convertToInteractive(key) {\n",
              "          const element = document.querySelector('#df-aacca714-0578-4ba5-b017-6f0a84d2bb43');\n",
              "          const dataTable =\n",
              "            await google.colab.kernel.invokeFunction('convertToInteractive',\n",
              "                                                     [key], {});\n",
              "          if (!dataTable) return;\n",
              "\n",
              "          const docLinkHtml = 'Like what you see? Visit the ' +\n",
              "            '<a target=\"_blank\" href=https://colab.research.google.com/notebooks/data_table.ipynb>data table notebook</a>'\n",
              "            + ' to learn more about interactive tables.';\n",
              "          element.innerHTML = '';\n",
              "          dataTable['output_type'] = 'display_data';\n",
              "          await google.colab.output.renderOutput(dataTable, element);\n",
              "          const docLink = document.createElement('div');\n",
              "          docLink.innerHTML = docLinkHtml;\n",
              "          element.appendChild(docLink);\n",
              "        }\n",
              "      </script>\n",
              "    </div>\n",
              "  </div>\n",
              "  "
            ]
          },
          "metadata": {},
          "execution_count": 184
        }
      ],
      "source": [
        "# pivot table dataframe, to get the sum of Qty by Box and Color (rows), and split by Size (columns)\n",
        "\n",
        "pivot = pd.pivot_table(table, # data to pivot\n",
        "                       index=['Box', 'Color'], # Grouper, Keys to group by on the pivot table index.\n",
        "                       columns=['Size'], # Keys to group by on the pivot table column., will be the columns value\n",
        "                       values='Qty', # column to aggregate\n",
        "                       aggfunc= np.sum)# the aggregation function is the sum ==> np.sum (we will use sum function from numpy package)\n",
        "\n",
        "pivot"
      ]
    },
    {
      "cell_type": "markdown",
      "source": [
        "## DataFrame Practice ***"
      ],
      "metadata": {
        "id": "GimcEwZddelu"
      }
    },
    {
      "cell_type": "markdown",
      "source": [
        "### Assignment 1"
      ],
      "metadata": {
        "id": "_-nzzLzH5EkI"
      }
    },
    {
      "cell_type": "code",
      "source": [
        "# create a variable called \"data\" with a dictionnary (*** with {} syntax ***) and print it out\n",
        "\n",
        "# 1s key:value pair : 'Name':['Jai', 'Princi', 'Gaurav', 'Anuj']\n",
        "# 2nd key:value pair : 'Age':[27, 24, 22, 32]\n",
        "# 3rd key:value pair : 'Address':['Delhi', 'Kanpur', 'Kanpur', 'Delhi']\n",
        "# 4th key:value pair : 'Country': ['India', 'India', 'India', 'India']\n",
        "# 5th key;value pair : 'Qualification':['Phd', 'MA', 'MCA', 'Phd']\n",
        "\n",
        "data = {'Name':['Jai', 'Princi', 'Gaurav', 'Anuj'],\n",
        "        'Age':[27, 24, 22, 32],\n",
        "        'Address':['Delhi', 'Kanpur', 'Kanpur', 'Delhi'],\n",
        "        'Country': ['India', 'India', 'India', 'India'],\n",
        "        'Qualification':['Phd', 'MA', 'MCA', 'Phd']}\n",
        "\n",
        "print(data)\n"
      ],
      "metadata": {
        "id": "Ck2SCc3FKggz",
        "colab": {
          "base_uri": "https://localhost:8080/"
        },
        "outputId": "efe8dc5a-5223-4cc6-9dfa-808533fe697b"
      },
      "execution_count": 185,
      "outputs": [
        {
          "output_type": "stream",
          "name": "stdout",
          "text": [
            "{'Name': ['Jai', 'Princi', 'Gaurav', 'Anuj'], 'Age': [27, 24, 22, 32], 'Address': ['Delhi', 'Kanpur', 'Kanpur', 'Delhi'], 'Country': ['India', 'India', 'India', 'India'], 'Qualification': ['Phd', 'MA', 'MCA', 'Phd']}\n"
          ]
        }
      ]
    },
    {
      "cell_type": "code",
      "source": [
        "#@title Display Solution 1\n",
        "\n",
        "# Define a dictionary containing employee data\n",
        "data = {'Name':['Jai', 'Princi', 'Gaurav', 'Anuj'],\n",
        "        'Age':[27, 24, 22, 32],\n",
        "        'Address':['Delhi', 'Kanpur', 'Kanpur', 'Delhi'],\n",
        "        'Country': ['India', 'India', 'India', 'India'],\n",
        "        'Qualification':['Phd', 'MA', 'MCA', 'Phd']}\n",
        "\n",
        "data"
      ],
      "metadata": {
        "id": "hbVjzUCsKuHQ",
        "colab": {
          "base_uri": "https://localhost:8080/"
        },
        "outputId": "989afca2-d5ad-44fe-d80a-ee01bce8e05c"
      },
      "execution_count": 186,
      "outputs": [
        {
          "output_type": "execute_result",
          "data": {
            "text/plain": [
              "{'Name': ['Jai', 'Princi', 'Gaurav', 'Anuj'],\n",
              " 'Age': [27, 24, 22, 32],\n",
              " 'Address': ['Delhi', 'Kanpur', 'Kanpur', 'Delhi'],\n",
              " 'Country': ['India', 'India', 'India', 'India'],\n",
              " 'Qualification': ['Phd', 'MA', 'MCA', 'Phd']}"
            ]
          },
          "metadata": {},
          "execution_count": 186
        }
      ]
    },
    {
      "cell_type": "markdown",
      "source": [
        "### Assignment 2"
      ],
      "metadata": {
        "id": "zT4HdbHp5G4a"
      }
    },
    {
      "cell_type": "code",
      "source": [
        "# create a dataframe 'df1' from dictionary \"data\"\n",
        "\n",
        "# don't forget to import pandas package as pd \n",
        "\n",
        "import pandas as pd\n",
        "\n",
        "df1 = pd.DataFrame(data)\n",
        "\n",
        "df1\n",
        "\n"
      ],
      "metadata": {
        "id": "5JNrb-5DLiyY",
        "colab": {
          "base_uri": "https://localhost:8080/",
          "height": 175
        },
        "outputId": "971777be-8b64-4ae0-b7e8-678a9350bed9"
      },
      "execution_count": 187,
      "outputs": [
        {
          "output_type": "execute_result",
          "data": {
            "text/plain": [
              "     Name  Age Address Country Qualification\n",
              "0     Jai   27   Delhi   India           Phd\n",
              "1  Princi   24  Kanpur   India            MA\n",
              "2  Gaurav   22  Kanpur   India           MCA\n",
              "3    Anuj   32   Delhi   India           Phd"
            ],
            "text/html": [
              "\n",
              "  <div id=\"df-4d84e53f-cc88-4ec1-b7f1-95d02b6d7cc1\">\n",
              "    <div class=\"colab-df-container\">\n",
              "      <div>\n",
              "<style scoped>\n",
              "    .dataframe tbody tr th:only-of-type {\n",
              "        vertical-align: middle;\n",
              "    }\n",
              "\n",
              "    .dataframe tbody tr th {\n",
              "        vertical-align: top;\n",
              "    }\n",
              "\n",
              "    .dataframe thead th {\n",
              "        text-align: right;\n",
              "    }\n",
              "</style>\n",
              "<table border=\"1\" class=\"dataframe\">\n",
              "  <thead>\n",
              "    <tr style=\"text-align: right;\">\n",
              "      <th></th>\n",
              "      <th>Name</th>\n",
              "      <th>Age</th>\n",
              "      <th>Address</th>\n",
              "      <th>Country</th>\n",
              "      <th>Qualification</th>\n",
              "    </tr>\n",
              "  </thead>\n",
              "  <tbody>\n",
              "    <tr>\n",
              "      <th>0</th>\n",
              "      <td>Jai</td>\n",
              "      <td>27</td>\n",
              "      <td>Delhi</td>\n",
              "      <td>India</td>\n",
              "      <td>Phd</td>\n",
              "    </tr>\n",
              "    <tr>\n",
              "      <th>1</th>\n",
              "      <td>Princi</td>\n",
              "      <td>24</td>\n",
              "      <td>Kanpur</td>\n",
              "      <td>India</td>\n",
              "      <td>MA</td>\n",
              "    </tr>\n",
              "    <tr>\n",
              "      <th>2</th>\n",
              "      <td>Gaurav</td>\n",
              "      <td>22</td>\n",
              "      <td>Kanpur</td>\n",
              "      <td>India</td>\n",
              "      <td>MCA</td>\n",
              "    </tr>\n",
              "    <tr>\n",
              "      <th>3</th>\n",
              "      <td>Anuj</td>\n",
              "      <td>32</td>\n",
              "      <td>Delhi</td>\n",
              "      <td>India</td>\n",
              "      <td>Phd</td>\n",
              "    </tr>\n",
              "  </tbody>\n",
              "</table>\n",
              "</div>\n",
              "      <button class=\"colab-df-convert\" onclick=\"convertToInteractive('df-4d84e53f-cc88-4ec1-b7f1-95d02b6d7cc1')\"\n",
              "              title=\"Convert this dataframe to an interactive table.\"\n",
              "              style=\"display:none;\">\n",
              "        \n",
              "  <svg xmlns=\"http://www.w3.org/2000/svg\" height=\"24px\"viewBox=\"0 0 24 24\"\n",
              "       width=\"24px\">\n",
              "    <path d=\"M0 0h24v24H0V0z\" fill=\"none\"/>\n",
              "    <path d=\"M18.56 5.44l.94 2.06.94-2.06 2.06-.94-2.06-.94-.94-2.06-.94 2.06-2.06.94zm-11 1L8.5 8.5l.94-2.06 2.06-.94-2.06-.94L8.5 2.5l-.94 2.06-2.06.94zm10 10l.94 2.06.94-2.06 2.06-.94-2.06-.94-.94-2.06-.94 2.06-2.06.94z\"/><path d=\"M17.41 7.96l-1.37-1.37c-.4-.4-.92-.59-1.43-.59-.52 0-1.04.2-1.43.59L10.3 9.45l-7.72 7.72c-.78.78-.78 2.05 0 2.83L4 21.41c.39.39.9.59 1.41.59.51 0 1.02-.2 1.41-.59l7.78-7.78 2.81-2.81c.8-.78.8-2.07 0-2.86zM5.41 20L4 18.59l7.72-7.72 1.47 1.35L5.41 20z\"/>\n",
              "  </svg>\n",
              "      </button>\n",
              "      \n",
              "  <style>\n",
              "    .colab-df-container {\n",
              "      display:flex;\n",
              "      flex-wrap:wrap;\n",
              "      gap: 12px;\n",
              "    }\n",
              "\n",
              "    .colab-df-convert {\n",
              "      background-color: #E8F0FE;\n",
              "      border: none;\n",
              "      border-radius: 50%;\n",
              "      cursor: pointer;\n",
              "      display: none;\n",
              "      fill: #1967D2;\n",
              "      height: 32px;\n",
              "      padding: 0 0 0 0;\n",
              "      width: 32px;\n",
              "    }\n",
              "\n",
              "    .colab-df-convert:hover {\n",
              "      background-color: #E2EBFA;\n",
              "      box-shadow: 0px 1px 2px rgba(60, 64, 67, 0.3), 0px 1px 3px 1px rgba(60, 64, 67, 0.15);\n",
              "      fill: #174EA6;\n",
              "    }\n",
              "\n",
              "    [theme=dark] .colab-df-convert {\n",
              "      background-color: #3B4455;\n",
              "      fill: #D2E3FC;\n",
              "    }\n",
              "\n",
              "    [theme=dark] .colab-df-convert:hover {\n",
              "      background-color: #434B5C;\n",
              "      box-shadow: 0px 1px 3px 1px rgba(0, 0, 0, 0.15);\n",
              "      filter: drop-shadow(0px 1px 2px rgba(0, 0, 0, 0.3));\n",
              "      fill: #FFFFFF;\n",
              "    }\n",
              "  </style>\n",
              "\n",
              "      <script>\n",
              "        const buttonEl =\n",
              "          document.querySelector('#df-4d84e53f-cc88-4ec1-b7f1-95d02b6d7cc1 button.colab-df-convert');\n",
              "        buttonEl.style.display =\n",
              "          google.colab.kernel.accessAllowed ? 'block' : 'none';\n",
              "\n",
              "        async function convertToInteractive(key) {\n",
              "          const element = document.querySelector('#df-4d84e53f-cc88-4ec1-b7f1-95d02b6d7cc1');\n",
              "          const dataTable =\n",
              "            await google.colab.kernel.invokeFunction('convertToInteractive',\n",
              "                                                     [key], {});\n",
              "          if (!dataTable) return;\n",
              "\n",
              "          const docLinkHtml = 'Like what you see? Visit the ' +\n",
              "            '<a target=\"_blank\" href=https://colab.research.google.com/notebooks/data_table.ipynb>data table notebook</a>'\n",
              "            + ' to learn more about interactive tables.';\n",
              "          element.innerHTML = '';\n",
              "          dataTable['output_type'] = 'display_data';\n",
              "          await google.colab.output.renderOutput(dataTable, element);\n",
              "          const docLink = document.createElement('div');\n",
              "          docLink.innerHTML = docLinkHtml;\n",
              "          element.appendChild(docLink);\n",
              "        }\n",
              "      </script>\n",
              "    </div>\n",
              "  </div>\n",
              "  "
            ]
          },
          "metadata": {},
          "execution_count": 187
        }
      ]
    },
    {
      "cell_type": "code",
      "source": [
        "#@title Display solution 2\n",
        "\n",
        "import pandas as pd\n",
        "\n",
        "# Convert the dictionary into DataFrame and call it df1\n",
        "df1 = pd.DataFrame(data)\n",
        "\n",
        "df1"
      ],
      "metadata": {
        "id": "XVUjwFTmLkuJ",
        "cellView": "form",
        "colab": {
          "base_uri": "https://localhost:8080/",
          "height": 175
        },
        "outputId": "67b119d5-9010-457a-e68a-644669858348"
      },
      "execution_count": 188,
      "outputs": [
        {
          "output_type": "execute_result",
          "data": {
            "text/plain": [
              "     Name  Age Address Country Qualification\n",
              "0     Jai   27   Delhi   India           Phd\n",
              "1  Princi   24  Kanpur   India            MA\n",
              "2  Gaurav   22  Kanpur   India           MCA\n",
              "3    Anuj   32   Delhi   India           Phd"
            ],
            "text/html": [
              "\n",
              "  <div id=\"df-add5eacb-90f2-4579-b5d9-b5804f0c9743\">\n",
              "    <div class=\"colab-df-container\">\n",
              "      <div>\n",
              "<style scoped>\n",
              "    .dataframe tbody tr th:only-of-type {\n",
              "        vertical-align: middle;\n",
              "    }\n",
              "\n",
              "    .dataframe tbody tr th {\n",
              "        vertical-align: top;\n",
              "    }\n",
              "\n",
              "    .dataframe thead th {\n",
              "        text-align: right;\n",
              "    }\n",
              "</style>\n",
              "<table border=\"1\" class=\"dataframe\">\n",
              "  <thead>\n",
              "    <tr style=\"text-align: right;\">\n",
              "      <th></th>\n",
              "      <th>Name</th>\n",
              "      <th>Age</th>\n",
              "      <th>Address</th>\n",
              "      <th>Country</th>\n",
              "      <th>Qualification</th>\n",
              "    </tr>\n",
              "  </thead>\n",
              "  <tbody>\n",
              "    <tr>\n",
              "      <th>0</th>\n",
              "      <td>Jai</td>\n",
              "      <td>27</td>\n",
              "      <td>Delhi</td>\n",
              "      <td>India</td>\n",
              "      <td>Phd</td>\n",
              "    </tr>\n",
              "    <tr>\n",
              "      <th>1</th>\n",
              "      <td>Princi</td>\n",
              "      <td>24</td>\n",
              "      <td>Kanpur</td>\n",
              "      <td>India</td>\n",
              "      <td>MA</td>\n",
              "    </tr>\n",
              "    <tr>\n",
              "      <th>2</th>\n",
              "      <td>Gaurav</td>\n",
              "      <td>22</td>\n",
              "      <td>Kanpur</td>\n",
              "      <td>India</td>\n",
              "      <td>MCA</td>\n",
              "    </tr>\n",
              "    <tr>\n",
              "      <th>3</th>\n",
              "      <td>Anuj</td>\n",
              "      <td>32</td>\n",
              "      <td>Delhi</td>\n",
              "      <td>India</td>\n",
              "      <td>Phd</td>\n",
              "    </tr>\n",
              "  </tbody>\n",
              "</table>\n",
              "</div>\n",
              "      <button class=\"colab-df-convert\" onclick=\"convertToInteractive('df-add5eacb-90f2-4579-b5d9-b5804f0c9743')\"\n",
              "              title=\"Convert this dataframe to an interactive table.\"\n",
              "              style=\"display:none;\">\n",
              "        \n",
              "  <svg xmlns=\"http://www.w3.org/2000/svg\" height=\"24px\"viewBox=\"0 0 24 24\"\n",
              "       width=\"24px\">\n",
              "    <path d=\"M0 0h24v24H0V0z\" fill=\"none\"/>\n",
              "    <path d=\"M18.56 5.44l.94 2.06.94-2.06 2.06-.94-2.06-.94-.94-2.06-.94 2.06-2.06.94zm-11 1L8.5 8.5l.94-2.06 2.06-.94-2.06-.94L8.5 2.5l-.94 2.06-2.06.94zm10 10l.94 2.06.94-2.06 2.06-.94-2.06-.94-.94-2.06-.94 2.06-2.06.94z\"/><path d=\"M17.41 7.96l-1.37-1.37c-.4-.4-.92-.59-1.43-.59-.52 0-1.04.2-1.43.59L10.3 9.45l-7.72 7.72c-.78.78-.78 2.05 0 2.83L4 21.41c.39.39.9.59 1.41.59.51 0 1.02-.2 1.41-.59l7.78-7.78 2.81-2.81c.8-.78.8-2.07 0-2.86zM5.41 20L4 18.59l7.72-7.72 1.47 1.35L5.41 20z\"/>\n",
              "  </svg>\n",
              "      </button>\n",
              "      \n",
              "  <style>\n",
              "    .colab-df-container {\n",
              "      display:flex;\n",
              "      flex-wrap:wrap;\n",
              "      gap: 12px;\n",
              "    }\n",
              "\n",
              "    .colab-df-convert {\n",
              "      background-color: #E8F0FE;\n",
              "      border: none;\n",
              "      border-radius: 50%;\n",
              "      cursor: pointer;\n",
              "      display: none;\n",
              "      fill: #1967D2;\n",
              "      height: 32px;\n",
              "      padding: 0 0 0 0;\n",
              "      width: 32px;\n",
              "    }\n",
              "\n",
              "    .colab-df-convert:hover {\n",
              "      background-color: #E2EBFA;\n",
              "      box-shadow: 0px 1px 2px rgba(60, 64, 67, 0.3), 0px 1px 3px 1px rgba(60, 64, 67, 0.15);\n",
              "      fill: #174EA6;\n",
              "    }\n",
              "\n",
              "    [theme=dark] .colab-df-convert {\n",
              "      background-color: #3B4455;\n",
              "      fill: #D2E3FC;\n",
              "    }\n",
              "\n",
              "    [theme=dark] .colab-df-convert:hover {\n",
              "      background-color: #434B5C;\n",
              "      box-shadow: 0px 1px 3px 1px rgba(0, 0, 0, 0.15);\n",
              "      filter: drop-shadow(0px 1px 2px rgba(0, 0, 0, 0.3));\n",
              "      fill: #FFFFFF;\n",
              "    }\n",
              "  </style>\n",
              "\n",
              "      <script>\n",
              "        const buttonEl =\n",
              "          document.querySelector('#df-add5eacb-90f2-4579-b5d9-b5804f0c9743 button.colab-df-convert');\n",
              "        buttonEl.style.display =\n",
              "          google.colab.kernel.accessAllowed ? 'block' : 'none';\n",
              "\n",
              "        async function convertToInteractive(key) {\n",
              "          const element = document.querySelector('#df-add5eacb-90f2-4579-b5d9-b5804f0c9743');\n",
              "          const dataTable =\n",
              "            await google.colab.kernel.invokeFunction('convertToInteractive',\n",
              "                                                     [key], {});\n",
              "          if (!dataTable) return;\n",
              "\n",
              "          const docLinkHtml = 'Like what you see? Visit the ' +\n",
              "            '<a target=\"_blank\" href=https://colab.research.google.com/notebooks/data_table.ipynb>data table notebook</a>'\n",
              "            + ' to learn more about interactive tables.';\n",
              "          element.innerHTML = '';\n",
              "          dataTable['output_type'] = 'display_data';\n",
              "          await google.colab.output.renderOutput(dataTable, element);\n",
              "          const docLink = document.createElement('div');\n",
              "          docLink.innerHTML = docLinkHtml;\n",
              "          element.appendChild(docLink);\n",
              "        }\n",
              "      </script>\n",
              "    </div>\n",
              "  </div>\n",
              "  "
            ]
          },
          "metadata": {},
          "execution_count": 188
        }
      ]
    },
    {
      "cell_type": "markdown",
      "source": [
        "### Assignment 3"
      ],
      "metadata": {
        "id": "DKH2o6lU5Jf7"
      }
    },
    {
      "cell_type": "code",
      "source": [
        "# display the first 2 rows of df1\n",
        "\n",
        "# your code here"
      ],
      "metadata": {
        "id": "EWYP7I17MpLW"
      },
      "execution_count": 189,
      "outputs": []
    },
    {
      "cell_type": "code",
      "source": [
        "#@title Display Solution 3\n",
        "\n",
        "# display the first 2 rows of df1\n",
        "\n",
        "df1.head(2)"
      ],
      "metadata": {
        "id": "b5OyVrxcMtIc",
        "cellView": "form",
        "colab": {
          "base_uri": "https://localhost:8080/",
          "height": 112
        },
        "outputId": "aa9141c7-b265-478e-dc81-91ca900fcc90"
      },
      "execution_count": 190,
      "outputs": [
        {
          "output_type": "execute_result",
          "data": {
            "text/plain": [
              "     Name  Age Address Country Qualification\n",
              "0     Jai   27   Delhi   India           Phd\n",
              "1  Princi   24  Kanpur   India            MA"
            ],
            "text/html": [
              "\n",
              "  <div id=\"df-74b4d3fd-1632-4efe-8164-7a70dbc116db\">\n",
              "    <div class=\"colab-df-container\">\n",
              "      <div>\n",
              "<style scoped>\n",
              "    .dataframe tbody tr th:only-of-type {\n",
              "        vertical-align: middle;\n",
              "    }\n",
              "\n",
              "    .dataframe tbody tr th {\n",
              "        vertical-align: top;\n",
              "    }\n",
              "\n",
              "    .dataframe thead th {\n",
              "        text-align: right;\n",
              "    }\n",
              "</style>\n",
              "<table border=\"1\" class=\"dataframe\">\n",
              "  <thead>\n",
              "    <tr style=\"text-align: right;\">\n",
              "      <th></th>\n",
              "      <th>Name</th>\n",
              "      <th>Age</th>\n",
              "      <th>Address</th>\n",
              "      <th>Country</th>\n",
              "      <th>Qualification</th>\n",
              "    </tr>\n",
              "  </thead>\n",
              "  <tbody>\n",
              "    <tr>\n",
              "      <th>0</th>\n",
              "      <td>Jai</td>\n",
              "      <td>27</td>\n",
              "      <td>Delhi</td>\n",
              "      <td>India</td>\n",
              "      <td>Phd</td>\n",
              "    </tr>\n",
              "    <tr>\n",
              "      <th>1</th>\n",
              "      <td>Princi</td>\n",
              "      <td>24</td>\n",
              "      <td>Kanpur</td>\n",
              "      <td>India</td>\n",
              "      <td>MA</td>\n",
              "    </tr>\n",
              "  </tbody>\n",
              "</table>\n",
              "</div>\n",
              "      <button class=\"colab-df-convert\" onclick=\"convertToInteractive('df-74b4d3fd-1632-4efe-8164-7a70dbc116db')\"\n",
              "              title=\"Convert this dataframe to an interactive table.\"\n",
              "              style=\"display:none;\">\n",
              "        \n",
              "  <svg xmlns=\"http://www.w3.org/2000/svg\" height=\"24px\"viewBox=\"0 0 24 24\"\n",
              "       width=\"24px\">\n",
              "    <path d=\"M0 0h24v24H0V0z\" fill=\"none\"/>\n",
              "    <path d=\"M18.56 5.44l.94 2.06.94-2.06 2.06-.94-2.06-.94-.94-2.06-.94 2.06-2.06.94zm-11 1L8.5 8.5l.94-2.06 2.06-.94-2.06-.94L8.5 2.5l-.94 2.06-2.06.94zm10 10l.94 2.06.94-2.06 2.06-.94-2.06-.94-.94-2.06-.94 2.06-2.06.94z\"/><path d=\"M17.41 7.96l-1.37-1.37c-.4-.4-.92-.59-1.43-.59-.52 0-1.04.2-1.43.59L10.3 9.45l-7.72 7.72c-.78.78-.78 2.05 0 2.83L4 21.41c.39.39.9.59 1.41.59.51 0 1.02-.2 1.41-.59l7.78-7.78 2.81-2.81c.8-.78.8-2.07 0-2.86zM5.41 20L4 18.59l7.72-7.72 1.47 1.35L5.41 20z\"/>\n",
              "  </svg>\n",
              "      </button>\n",
              "      \n",
              "  <style>\n",
              "    .colab-df-container {\n",
              "      display:flex;\n",
              "      flex-wrap:wrap;\n",
              "      gap: 12px;\n",
              "    }\n",
              "\n",
              "    .colab-df-convert {\n",
              "      background-color: #E8F0FE;\n",
              "      border: none;\n",
              "      border-radius: 50%;\n",
              "      cursor: pointer;\n",
              "      display: none;\n",
              "      fill: #1967D2;\n",
              "      height: 32px;\n",
              "      padding: 0 0 0 0;\n",
              "      width: 32px;\n",
              "    }\n",
              "\n",
              "    .colab-df-convert:hover {\n",
              "      background-color: #E2EBFA;\n",
              "      box-shadow: 0px 1px 2px rgba(60, 64, 67, 0.3), 0px 1px 3px 1px rgba(60, 64, 67, 0.15);\n",
              "      fill: #174EA6;\n",
              "    }\n",
              "\n",
              "    [theme=dark] .colab-df-convert {\n",
              "      background-color: #3B4455;\n",
              "      fill: #D2E3FC;\n",
              "    }\n",
              "\n",
              "    [theme=dark] .colab-df-convert:hover {\n",
              "      background-color: #434B5C;\n",
              "      box-shadow: 0px 1px 3px 1px rgba(0, 0, 0, 0.15);\n",
              "      filter: drop-shadow(0px 1px 2px rgba(0, 0, 0, 0.3));\n",
              "      fill: #FFFFFF;\n",
              "    }\n",
              "  </style>\n",
              "\n",
              "      <script>\n",
              "        const buttonEl =\n",
              "          document.querySelector('#df-74b4d3fd-1632-4efe-8164-7a70dbc116db button.colab-df-convert');\n",
              "        buttonEl.style.display =\n",
              "          google.colab.kernel.accessAllowed ? 'block' : 'none';\n",
              "\n",
              "        async function convertToInteractive(key) {\n",
              "          const element = document.querySelector('#df-74b4d3fd-1632-4efe-8164-7a70dbc116db');\n",
              "          const dataTable =\n",
              "            await google.colab.kernel.invokeFunction('convertToInteractive',\n",
              "                                                     [key], {});\n",
              "          if (!dataTable) return;\n",
              "\n",
              "          const docLinkHtml = 'Like what you see? Visit the ' +\n",
              "            '<a target=\"_blank\" href=https://colab.research.google.com/notebooks/data_table.ipynb>data table notebook</a>'\n",
              "            + ' to learn more about interactive tables.';\n",
              "          element.innerHTML = '';\n",
              "          dataTable['output_type'] = 'display_data';\n",
              "          await google.colab.output.renderOutput(dataTable, element);\n",
              "          const docLink = document.createElement('div');\n",
              "          docLink.innerHTML = docLinkHtml;\n",
              "          element.appendChild(docLink);\n",
              "        }\n",
              "      </script>\n",
              "    </div>\n",
              "  </div>\n",
              "  "
            ]
          },
          "metadata": {},
          "execution_count": 190
        }
      ]
    },
    {
      "cell_type": "markdown",
      "source": [
        "### Assignment 4"
      ],
      "metadata": {
        "id": "Y78eiOGS5MYE"
      }
    },
    {
      "cell_type": "code",
      "source": [
        "# display the last row of the df1\n",
        "\n",
        "df1.tail(1)"
      ],
      "metadata": {
        "id": "5IMpy0KmM4vf",
        "colab": {
          "base_uri": "https://localhost:8080/",
          "height": 81
        },
        "outputId": "dbdacff9-2ed5-48a4-a7db-f86abba42a5e"
      },
      "execution_count": 191,
      "outputs": [
        {
          "output_type": "execute_result",
          "data": {
            "text/plain": [
              "   Name  Age Address Country Qualification\n",
              "3  Anuj   32   Delhi   India           Phd"
            ],
            "text/html": [
              "\n",
              "  <div id=\"df-4e92d2dc-1221-4333-906c-b7f691e5d5c4\">\n",
              "    <div class=\"colab-df-container\">\n",
              "      <div>\n",
              "<style scoped>\n",
              "    .dataframe tbody tr th:only-of-type {\n",
              "        vertical-align: middle;\n",
              "    }\n",
              "\n",
              "    .dataframe tbody tr th {\n",
              "        vertical-align: top;\n",
              "    }\n",
              "\n",
              "    .dataframe thead th {\n",
              "        text-align: right;\n",
              "    }\n",
              "</style>\n",
              "<table border=\"1\" class=\"dataframe\">\n",
              "  <thead>\n",
              "    <tr style=\"text-align: right;\">\n",
              "      <th></th>\n",
              "      <th>Name</th>\n",
              "      <th>Age</th>\n",
              "      <th>Address</th>\n",
              "      <th>Country</th>\n",
              "      <th>Qualification</th>\n",
              "    </tr>\n",
              "  </thead>\n",
              "  <tbody>\n",
              "    <tr>\n",
              "      <th>3</th>\n",
              "      <td>Anuj</td>\n",
              "      <td>32</td>\n",
              "      <td>Delhi</td>\n",
              "      <td>India</td>\n",
              "      <td>Phd</td>\n",
              "    </tr>\n",
              "  </tbody>\n",
              "</table>\n",
              "</div>\n",
              "      <button class=\"colab-df-convert\" onclick=\"convertToInteractive('df-4e92d2dc-1221-4333-906c-b7f691e5d5c4')\"\n",
              "              title=\"Convert this dataframe to an interactive table.\"\n",
              "              style=\"display:none;\">\n",
              "        \n",
              "  <svg xmlns=\"http://www.w3.org/2000/svg\" height=\"24px\"viewBox=\"0 0 24 24\"\n",
              "       width=\"24px\">\n",
              "    <path d=\"M0 0h24v24H0V0z\" fill=\"none\"/>\n",
              "    <path d=\"M18.56 5.44l.94 2.06.94-2.06 2.06-.94-2.06-.94-.94-2.06-.94 2.06-2.06.94zm-11 1L8.5 8.5l.94-2.06 2.06-.94-2.06-.94L8.5 2.5l-.94 2.06-2.06.94zm10 10l.94 2.06.94-2.06 2.06-.94-2.06-.94-.94-2.06-.94 2.06-2.06.94z\"/><path d=\"M17.41 7.96l-1.37-1.37c-.4-.4-.92-.59-1.43-.59-.52 0-1.04.2-1.43.59L10.3 9.45l-7.72 7.72c-.78.78-.78 2.05 0 2.83L4 21.41c.39.39.9.59 1.41.59.51 0 1.02-.2 1.41-.59l7.78-7.78 2.81-2.81c.8-.78.8-2.07 0-2.86zM5.41 20L4 18.59l7.72-7.72 1.47 1.35L5.41 20z\"/>\n",
              "  </svg>\n",
              "      </button>\n",
              "      \n",
              "  <style>\n",
              "    .colab-df-container {\n",
              "      display:flex;\n",
              "      flex-wrap:wrap;\n",
              "      gap: 12px;\n",
              "    }\n",
              "\n",
              "    .colab-df-convert {\n",
              "      background-color: #E8F0FE;\n",
              "      border: none;\n",
              "      border-radius: 50%;\n",
              "      cursor: pointer;\n",
              "      display: none;\n",
              "      fill: #1967D2;\n",
              "      height: 32px;\n",
              "      padding: 0 0 0 0;\n",
              "      width: 32px;\n",
              "    }\n",
              "\n",
              "    .colab-df-convert:hover {\n",
              "      background-color: #E2EBFA;\n",
              "      box-shadow: 0px 1px 2px rgba(60, 64, 67, 0.3), 0px 1px 3px 1px rgba(60, 64, 67, 0.15);\n",
              "      fill: #174EA6;\n",
              "    }\n",
              "\n",
              "    [theme=dark] .colab-df-convert {\n",
              "      background-color: #3B4455;\n",
              "      fill: #D2E3FC;\n",
              "    }\n",
              "\n",
              "    [theme=dark] .colab-df-convert:hover {\n",
              "      background-color: #434B5C;\n",
              "      box-shadow: 0px 1px 3px 1px rgba(0, 0, 0, 0.15);\n",
              "      filter: drop-shadow(0px 1px 2px rgba(0, 0, 0, 0.3));\n",
              "      fill: #FFFFFF;\n",
              "    }\n",
              "  </style>\n",
              "\n",
              "      <script>\n",
              "        const buttonEl =\n",
              "          document.querySelector('#df-4e92d2dc-1221-4333-906c-b7f691e5d5c4 button.colab-df-convert');\n",
              "        buttonEl.style.display =\n",
              "          google.colab.kernel.accessAllowed ? 'block' : 'none';\n",
              "\n",
              "        async function convertToInteractive(key) {\n",
              "          const element = document.querySelector('#df-4e92d2dc-1221-4333-906c-b7f691e5d5c4');\n",
              "          const dataTable =\n",
              "            await google.colab.kernel.invokeFunction('convertToInteractive',\n",
              "                                                     [key], {});\n",
              "          if (!dataTable) return;\n",
              "\n",
              "          const docLinkHtml = 'Like what you see? Visit the ' +\n",
              "            '<a target=\"_blank\" href=https://colab.research.google.com/notebooks/data_table.ipynb>data table notebook</a>'\n",
              "            + ' to learn more about interactive tables.';\n",
              "          element.innerHTML = '';\n",
              "          dataTable['output_type'] = 'display_data';\n",
              "          await google.colab.output.renderOutput(dataTable, element);\n",
              "          const docLink = document.createElement('div');\n",
              "          docLink.innerHTML = docLinkHtml;\n",
              "          element.appendChild(docLink);\n",
              "        }\n",
              "      </script>\n",
              "    </div>\n",
              "  </div>\n",
              "  "
            ]
          },
          "metadata": {},
          "execution_count": 191
        }
      ]
    },
    {
      "cell_type": "code",
      "source": [
        "#@title Display Solution 4\n",
        "\n",
        "df1.tail(1)"
      ],
      "metadata": {
        "id": "VUDV3miSM9Lt",
        "colab": {
          "base_uri": "https://localhost:8080/",
          "height": 81
        },
        "outputId": "57688ace-e7b3-4266-e510-3da0a640d0ba"
      },
      "execution_count": 192,
      "outputs": [
        {
          "output_type": "execute_result",
          "data": {
            "text/plain": [
              "   Name  Age Address Country Qualification\n",
              "3  Anuj   32   Delhi   India           Phd"
            ],
            "text/html": [
              "\n",
              "  <div id=\"df-2d30cb55-1027-4453-999f-022c26181360\">\n",
              "    <div class=\"colab-df-container\">\n",
              "      <div>\n",
              "<style scoped>\n",
              "    .dataframe tbody tr th:only-of-type {\n",
              "        vertical-align: middle;\n",
              "    }\n",
              "\n",
              "    .dataframe tbody tr th {\n",
              "        vertical-align: top;\n",
              "    }\n",
              "\n",
              "    .dataframe thead th {\n",
              "        text-align: right;\n",
              "    }\n",
              "</style>\n",
              "<table border=\"1\" class=\"dataframe\">\n",
              "  <thead>\n",
              "    <tr style=\"text-align: right;\">\n",
              "      <th></th>\n",
              "      <th>Name</th>\n",
              "      <th>Age</th>\n",
              "      <th>Address</th>\n",
              "      <th>Country</th>\n",
              "      <th>Qualification</th>\n",
              "    </tr>\n",
              "  </thead>\n",
              "  <tbody>\n",
              "    <tr>\n",
              "      <th>3</th>\n",
              "      <td>Anuj</td>\n",
              "      <td>32</td>\n",
              "      <td>Delhi</td>\n",
              "      <td>India</td>\n",
              "      <td>Phd</td>\n",
              "    </tr>\n",
              "  </tbody>\n",
              "</table>\n",
              "</div>\n",
              "      <button class=\"colab-df-convert\" onclick=\"convertToInteractive('df-2d30cb55-1027-4453-999f-022c26181360')\"\n",
              "              title=\"Convert this dataframe to an interactive table.\"\n",
              "              style=\"display:none;\">\n",
              "        \n",
              "  <svg xmlns=\"http://www.w3.org/2000/svg\" height=\"24px\"viewBox=\"0 0 24 24\"\n",
              "       width=\"24px\">\n",
              "    <path d=\"M0 0h24v24H0V0z\" fill=\"none\"/>\n",
              "    <path d=\"M18.56 5.44l.94 2.06.94-2.06 2.06-.94-2.06-.94-.94-2.06-.94 2.06-2.06.94zm-11 1L8.5 8.5l.94-2.06 2.06-.94-2.06-.94L8.5 2.5l-.94 2.06-2.06.94zm10 10l.94 2.06.94-2.06 2.06-.94-2.06-.94-.94-2.06-.94 2.06-2.06.94z\"/><path d=\"M17.41 7.96l-1.37-1.37c-.4-.4-.92-.59-1.43-.59-.52 0-1.04.2-1.43.59L10.3 9.45l-7.72 7.72c-.78.78-.78 2.05 0 2.83L4 21.41c.39.39.9.59 1.41.59.51 0 1.02-.2 1.41-.59l7.78-7.78 2.81-2.81c.8-.78.8-2.07 0-2.86zM5.41 20L4 18.59l7.72-7.72 1.47 1.35L5.41 20z\"/>\n",
              "  </svg>\n",
              "      </button>\n",
              "      \n",
              "  <style>\n",
              "    .colab-df-container {\n",
              "      display:flex;\n",
              "      flex-wrap:wrap;\n",
              "      gap: 12px;\n",
              "    }\n",
              "\n",
              "    .colab-df-convert {\n",
              "      background-color: #E8F0FE;\n",
              "      border: none;\n",
              "      border-radius: 50%;\n",
              "      cursor: pointer;\n",
              "      display: none;\n",
              "      fill: #1967D2;\n",
              "      height: 32px;\n",
              "      padding: 0 0 0 0;\n",
              "      width: 32px;\n",
              "    }\n",
              "\n",
              "    .colab-df-convert:hover {\n",
              "      background-color: #E2EBFA;\n",
              "      box-shadow: 0px 1px 2px rgba(60, 64, 67, 0.3), 0px 1px 3px 1px rgba(60, 64, 67, 0.15);\n",
              "      fill: #174EA6;\n",
              "    }\n",
              "\n",
              "    [theme=dark] .colab-df-convert {\n",
              "      background-color: #3B4455;\n",
              "      fill: #D2E3FC;\n",
              "    }\n",
              "\n",
              "    [theme=dark] .colab-df-convert:hover {\n",
              "      background-color: #434B5C;\n",
              "      box-shadow: 0px 1px 3px 1px rgba(0, 0, 0, 0.15);\n",
              "      filter: drop-shadow(0px 1px 2px rgba(0, 0, 0, 0.3));\n",
              "      fill: #FFFFFF;\n",
              "    }\n",
              "  </style>\n",
              "\n",
              "      <script>\n",
              "        const buttonEl =\n",
              "          document.querySelector('#df-2d30cb55-1027-4453-999f-022c26181360 button.colab-df-convert');\n",
              "        buttonEl.style.display =\n",
              "          google.colab.kernel.accessAllowed ? 'block' : 'none';\n",
              "\n",
              "        async function convertToInteractive(key) {\n",
              "          const element = document.querySelector('#df-2d30cb55-1027-4453-999f-022c26181360');\n",
              "          const dataTable =\n",
              "            await google.colab.kernel.invokeFunction('convertToInteractive',\n",
              "                                                     [key], {});\n",
              "          if (!dataTable) return;\n",
              "\n",
              "          const docLinkHtml = 'Like what you see? Visit the ' +\n",
              "            '<a target=\"_blank\" href=https://colab.research.google.com/notebooks/data_table.ipynb>data table notebook</a>'\n",
              "            + ' to learn more about interactive tables.';\n",
              "          element.innerHTML = '';\n",
              "          dataTable['output_type'] = 'display_data';\n",
              "          await google.colab.output.renderOutput(dataTable, element);\n",
              "          const docLink = document.createElement('div');\n",
              "          docLink.innerHTML = docLinkHtml;\n",
              "          element.appendChild(docLink);\n",
              "        }\n",
              "      </script>\n",
              "    </div>\n",
              "  </div>\n",
              "  "
            ]
          },
          "metadata": {},
          "execution_count": 192
        }
      ]
    },
    {
      "cell_type": "markdown",
      "source": [
        "### Assignment 5"
      ],
      "metadata": {
        "id": "R7Ci0uvU5O64"
      }
    },
    {
      "cell_type": "code",
      "source": [
        "# what are the dimensions of df1\n",
        "\n",
        "df1.shape"
      ],
      "metadata": {
        "id": "ZLE-vvqXNEEQ",
        "colab": {
          "base_uri": "https://localhost:8080/"
        },
        "outputId": "966c5a76-b153-46b5-f6f3-a9cc507e9558"
      },
      "execution_count": 193,
      "outputs": [
        {
          "output_type": "execute_result",
          "data": {
            "text/plain": [
              "(4, 5)"
            ]
          },
          "metadata": {},
          "execution_count": 193
        }
      ]
    },
    {
      "cell_type": "code",
      "source": [
        "#@title Display Solution 5\n",
        "\n",
        "# what are the dimensions of df1\n",
        "\n",
        "df1.shape"
      ],
      "metadata": {
        "id": "4ndeXkVxNHRZ",
        "cellView": "form",
        "colab": {
          "base_uri": "https://localhost:8080/"
        },
        "outputId": "a7982be8-166e-4daf-ec02-2bb7cdd25d9c"
      },
      "execution_count": 194,
      "outputs": [
        {
          "output_type": "execute_result",
          "data": {
            "text/plain": [
              "(4, 5)"
            ]
          },
          "metadata": {},
          "execution_count": 194
        }
      ]
    },
    {
      "cell_type": "markdown",
      "source": [
        "### Assignment 6"
      ],
      "metadata": {
        "id": "TyZREfW65Rc8"
      }
    },
    {
      "cell_type": "code",
      "source": [
        "# how many rows the df1 have ?\n",
        "\n",
        "df1.shape[0]"
      ],
      "metadata": {
        "id": "BNElze5tNNd7",
        "colab": {
          "base_uri": "https://localhost:8080/"
        },
        "outputId": "a5bf65d7-163d-4da1-d687-57293d01fdaf"
      },
      "execution_count": 195,
      "outputs": [
        {
          "output_type": "execute_result",
          "data": {
            "text/plain": [
              "4"
            ]
          },
          "metadata": {},
          "execution_count": 195
        }
      ]
    },
    {
      "cell_type": "code",
      "source": [
        "#@title Display Solution 6\n",
        "\n",
        "# how many rows ?\n",
        "\n",
        "print(len(df1))\n",
        "\n",
        "# OR ...\n",
        "\n",
        "df1.shape[0]\n"
      ],
      "metadata": {
        "id": "RGxr9pTUNSHZ",
        "cellView": "form",
        "colab": {
          "base_uri": "https://localhost:8080/"
        },
        "outputId": "4d14ed07-5dc2-4381-9898-fa8a96f59538"
      },
      "execution_count": 196,
      "outputs": [
        {
          "output_type": "stream",
          "name": "stdout",
          "text": [
            "4\n"
          ]
        },
        {
          "output_type": "execute_result",
          "data": {
            "text/plain": [
              "4"
            ]
          },
          "metadata": {},
          "execution_count": 196
        }
      ]
    },
    {
      "cell_type": "markdown",
      "source": [
        "### Assignment 7"
      ],
      "metadata": {
        "id": "VN6U40jk5TdH"
      }
    },
    {
      "cell_type": "code",
      "source": [
        "# how many columns\n",
        "\n",
        "df1.shape[1]"
      ],
      "metadata": {
        "id": "irc8-kylNf8S",
        "colab": {
          "base_uri": "https://localhost:8080/"
        },
        "outputId": "a7133426-1978-4d96-ef2b-562f3bb02a0a"
      },
      "execution_count": 197,
      "outputs": [
        {
          "output_type": "execute_result",
          "data": {
            "text/plain": [
              "5"
            ]
          },
          "metadata": {},
          "execution_count": 197
        }
      ]
    },
    {
      "cell_type": "code",
      "source": [
        "#@title Display Solution 7\n",
        "\n",
        "# how many columns\n",
        "\n",
        "print(df1.shape[1])\n",
        "\n",
        "# or \n",
        "\n",
        "len(df1.columns)"
      ],
      "metadata": {
        "id": "L-zQAhgVNiyO",
        "cellView": "form",
        "colab": {
          "base_uri": "https://localhost:8080/"
        },
        "outputId": "560e00dc-b2c7-49e6-c99d-4be0145df0bf"
      },
      "execution_count": 198,
      "outputs": [
        {
          "output_type": "stream",
          "name": "stdout",
          "text": [
            "5\n"
          ]
        },
        {
          "output_type": "execute_result",
          "data": {
            "text/plain": [
              "5"
            ]
          },
          "metadata": {},
          "execution_count": 198
        }
      ]
    },
    {
      "cell_type": "markdown",
      "source": [
        "### Assignment 8"
      ],
      "metadata": {
        "id": "_9p5rmqz5WBe"
      }
    },
    {
      "cell_type": "code",
      "source": [
        "# what are the names of the columns\n",
        "\n",
        "df1.columns"
      ],
      "metadata": {
        "id": "k0I9WeR9N3BI",
        "colab": {
          "base_uri": "https://localhost:8080/"
        },
        "outputId": "2e68c01a-84ac-4b32-d3a2-d47a43a51bd4"
      },
      "execution_count": 199,
      "outputs": [
        {
          "output_type": "execute_result",
          "data": {
            "text/plain": [
              "Index(['Name', 'Age', 'Address', 'Country', 'Qualification'], dtype='object')"
            ]
          },
          "metadata": {},
          "execution_count": 199
        }
      ]
    },
    {
      "cell_type": "code",
      "source": [
        "#@title Display Solution 8\n",
        "\n",
        "# what are the name of the columns\n",
        "\n",
        "df1.columns"
      ],
      "metadata": {
        "id": "ny_IhL20N43m",
        "cellView": "form",
        "colab": {
          "base_uri": "https://localhost:8080/"
        },
        "outputId": "7ccdae4f-a1d5-40e9-a093-1bca2c83790d"
      },
      "execution_count": 200,
      "outputs": [
        {
          "output_type": "execute_result",
          "data": {
            "text/plain": [
              "Index(['Name', 'Age', 'Address', 'Country', 'Qualification'], dtype='object')"
            ]
          },
          "metadata": {},
          "execution_count": 200
        }
      ]
    },
    {
      "cell_type": "markdown",
      "source": [
        "### Assignment 9"
      ],
      "metadata": {
        "id": "gsRWqggO5YM8"
      }
    },
    {
      "cell_type": "code",
      "source": [
        "# return the name of the second columns (the outcomu shoud be 'Age')\n",
        "\n",
        "df1.columns[1]"
      ],
      "metadata": {
        "id": "nDYKxYCBODpg",
        "colab": {
          "base_uri": "https://localhost:8080/",
          "height": 35
        },
        "outputId": "e369ce37-e356-4a5a-d806-4239289827eb"
      },
      "execution_count": 201,
      "outputs": [
        {
          "output_type": "execute_result",
          "data": {
            "text/plain": [
              "'Age'"
            ],
            "application/vnd.google.colaboratory.intrinsic+json": {
              "type": "string"
            }
          },
          "metadata": {},
          "execution_count": 201
        }
      ]
    },
    {
      "cell_type": "code",
      "source": [
        "#@title Display Solution 9\n",
        "\n",
        "# return the name of the second columns (in Python logic)\n",
        "\n",
        "df1.columns[1]"
      ],
      "metadata": {
        "id": "SkQlN37wOHmB",
        "cellView": "form",
        "colab": {
          "base_uri": "https://localhost:8080/",
          "height": 35
        },
        "outputId": "c764624a-a95f-4772-b43a-fd67281f4219"
      },
      "execution_count": 202,
      "outputs": [
        {
          "output_type": "execute_result",
          "data": {
            "text/plain": [
              "'Age'"
            ],
            "application/vnd.google.colaboratory.intrinsic+json": {
              "type": "string"
            }
          },
          "metadata": {},
          "execution_count": 202
        }
      ]
    },
    {
      "cell_type": "markdown",
      "source": [
        "### Locations & Slicing"
      ],
      "metadata": {
        "id": "r1-KCvcKOZSY"
      }
    },
    {
      "cell_type": "markdown",
      "source": [
        "### Assignment 10"
      ],
      "metadata": {
        "id": "ejKpeIs85a8l"
      }
    },
    {
      "cell_type": "code",
      "source": [
        "###  Locations -----------\n",
        "\n",
        "# access the 2nd row (with .iloc) (in python logic)\n",
        "# !!! don't forget the indexation starting from 0 !!!\n",
        "\n",
        "df1.iloc[1]"
      ],
      "metadata": {
        "id": "laHH7hA3Odfv",
        "colab": {
          "base_uri": "https://localhost:8080/"
        },
        "outputId": "deffd209-0c5d-41af-b8cb-38d66cfaa615"
      },
      "execution_count": 203,
      "outputs": [
        {
          "output_type": "execute_result",
          "data": {
            "text/plain": [
              "Name             Princi\n",
              "Age                  24\n",
              "Address          Kanpur\n",
              "Country           India\n",
              "Qualification        MA\n",
              "Name: 1, dtype: object"
            ]
          },
          "metadata": {},
          "execution_count": 203
        }
      ]
    },
    {
      "cell_type": "code",
      "source": [
        "#@title Display Solution 10\n",
        "\n",
        "# access the 2nd row\n",
        "\n",
        "print('the whole dataframe...')\n",
        "print(df1)\n",
        "print('')\n",
        "print('the 2nd row...at index 1...')\n",
        "df1.iloc[1]"
      ],
      "metadata": {
        "id": "nTM-4cDZOjfl",
        "cellView": "form",
        "colab": {
          "base_uri": "https://localhost:8080/"
        },
        "outputId": "f2a52d87-dc50-4b69-c188-c51d1d8d4452"
      },
      "execution_count": 204,
      "outputs": [
        {
          "output_type": "stream",
          "name": "stdout",
          "text": [
            "the whole dataframe...\n",
            "     Name  Age Address Country Qualification\n",
            "0     Jai   27   Delhi   India           Phd\n",
            "1  Princi   24  Kanpur   India            MA\n",
            "2  Gaurav   22  Kanpur   India           MCA\n",
            "3    Anuj   32   Delhi   India           Phd\n",
            "\n",
            "the 2nd row...at index 1...\n"
          ]
        },
        {
          "output_type": "execute_result",
          "data": {
            "text/plain": [
              "Name             Princi\n",
              "Age                  24\n",
              "Address          Kanpur\n",
              "Country           India\n",
              "Qualification        MA\n",
              "Name: 1, dtype: object"
            ]
          },
          "metadata": {},
          "execution_count": 204
        }
      ]
    },
    {
      "cell_type": "markdown",
      "source": [
        "### Assignment 11"
      ],
      "metadata": {
        "id": "YKUT0gyE5cz0"
      }
    },
    {
      "cell_type": "code",
      "source": [
        "# return the data with .iloc as below..\n",
        "\n",
        "'''\n",
        "Age  Adress \n",
        "24   Kanpur\n",
        "22   Kanpur\n",
        "'''\n",
        "\n",
        "df1.iloc[1:3,1:3]"
      ],
      "metadata": {
        "id": "qYgKSeCnO8Y9",
        "colab": {
          "base_uri": "https://localhost:8080/",
          "height": 112
        },
        "outputId": "e74fc7ac-7058-4d6a-d61b-0469cb1499a8"
      },
      "execution_count": 205,
      "outputs": [
        {
          "output_type": "execute_result",
          "data": {
            "text/plain": [
              "   Age Address\n",
              "1   24  Kanpur\n",
              "2   22  Kanpur"
            ],
            "text/html": [
              "\n",
              "  <div id=\"df-059cf373-e160-47cb-ab52-cd24c4d30390\">\n",
              "    <div class=\"colab-df-container\">\n",
              "      <div>\n",
              "<style scoped>\n",
              "    .dataframe tbody tr th:only-of-type {\n",
              "        vertical-align: middle;\n",
              "    }\n",
              "\n",
              "    .dataframe tbody tr th {\n",
              "        vertical-align: top;\n",
              "    }\n",
              "\n",
              "    .dataframe thead th {\n",
              "        text-align: right;\n",
              "    }\n",
              "</style>\n",
              "<table border=\"1\" class=\"dataframe\">\n",
              "  <thead>\n",
              "    <tr style=\"text-align: right;\">\n",
              "      <th></th>\n",
              "      <th>Age</th>\n",
              "      <th>Address</th>\n",
              "    </tr>\n",
              "  </thead>\n",
              "  <tbody>\n",
              "    <tr>\n",
              "      <th>1</th>\n",
              "      <td>24</td>\n",
              "      <td>Kanpur</td>\n",
              "    </tr>\n",
              "    <tr>\n",
              "      <th>2</th>\n",
              "      <td>22</td>\n",
              "      <td>Kanpur</td>\n",
              "    </tr>\n",
              "  </tbody>\n",
              "</table>\n",
              "</div>\n",
              "      <button class=\"colab-df-convert\" onclick=\"convertToInteractive('df-059cf373-e160-47cb-ab52-cd24c4d30390')\"\n",
              "              title=\"Convert this dataframe to an interactive table.\"\n",
              "              style=\"display:none;\">\n",
              "        \n",
              "  <svg xmlns=\"http://www.w3.org/2000/svg\" height=\"24px\"viewBox=\"0 0 24 24\"\n",
              "       width=\"24px\">\n",
              "    <path d=\"M0 0h24v24H0V0z\" fill=\"none\"/>\n",
              "    <path d=\"M18.56 5.44l.94 2.06.94-2.06 2.06-.94-2.06-.94-.94-2.06-.94 2.06-2.06.94zm-11 1L8.5 8.5l.94-2.06 2.06-.94-2.06-.94L8.5 2.5l-.94 2.06-2.06.94zm10 10l.94 2.06.94-2.06 2.06-.94-2.06-.94-.94-2.06-.94 2.06-2.06.94z\"/><path d=\"M17.41 7.96l-1.37-1.37c-.4-.4-.92-.59-1.43-.59-.52 0-1.04.2-1.43.59L10.3 9.45l-7.72 7.72c-.78.78-.78 2.05 0 2.83L4 21.41c.39.39.9.59 1.41.59.51 0 1.02-.2 1.41-.59l7.78-7.78 2.81-2.81c.8-.78.8-2.07 0-2.86zM5.41 20L4 18.59l7.72-7.72 1.47 1.35L5.41 20z\"/>\n",
              "  </svg>\n",
              "      </button>\n",
              "      \n",
              "  <style>\n",
              "    .colab-df-container {\n",
              "      display:flex;\n",
              "      flex-wrap:wrap;\n",
              "      gap: 12px;\n",
              "    }\n",
              "\n",
              "    .colab-df-convert {\n",
              "      background-color: #E8F0FE;\n",
              "      border: none;\n",
              "      border-radius: 50%;\n",
              "      cursor: pointer;\n",
              "      display: none;\n",
              "      fill: #1967D2;\n",
              "      height: 32px;\n",
              "      padding: 0 0 0 0;\n",
              "      width: 32px;\n",
              "    }\n",
              "\n",
              "    .colab-df-convert:hover {\n",
              "      background-color: #E2EBFA;\n",
              "      box-shadow: 0px 1px 2px rgba(60, 64, 67, 0.3), 0px 1px 3px 1px rgba(60, 64, 67, 0.15);\n",
              "      fill: #174EA6;\n",
              "    }\n",
              "\n",
              "    [theme=dark] .colab-df-convert {\n",
              "      background-color: #3B4455;\n",
              "      fill: #D2E3FC;\n",
              "    }\n",
              "\n",
              "    [theme=dark] .colab-df-convert:hover {\n",
              "      background-color: #434B5C;\n",
              "      box-shadow: 0px 1px 3px 1px rgba(0, 0, 0, 0.15);\n",
              "      filter: drop-shadow(0px 1px 2px rgba(0, 0, 0, 0.3));\n",
              "      fill: #FFFFFF;\n",
              "    }\n",
              "  </style>\n",
              "\n",
              "      <script>\n",
              "        const buttonEl =\n",
              "          document.querySelector('#df-059cf373-e160-47cb-ab52-cd24c4d30390 button.colab-df-convert');\n",
              "        buttonEl.style.display =\n",
              "          google.colab.kernel.accessAllowed ? 'block' : 'none';\n",
              "\n",
              "        async function convertToInteractive(key) {\n",
              "          const element = document.querySelector('#df-059cf373-e160-47cb-ab52-cd24c4d30390');\n",
              "          const dataTable =\n",
              "            await google.colab.kernel.invokeFunction('convertToInteractive',\n",
              "                                                     [key], {});\n",
              "          if (!dataTable) return;\n",
              "\n",
              "          const docLinkHtml = 'Like what you see? Visit the ' +\n",
              "            '<a target=\"_blank\" href=https://colab.research.google.com/notebooks/data_table.ipynb>data table notebook</a>'\n",
              "            + ' to learn more about interactive tables.';\n",
              "          element.innerHTML = '';\n",
              "          dataTable['output_type'] = 'display_data';\n",
              "          await google.colab.output.renderOutput(dataTable, element);\n",
              "          const docLink = document.createElement('div');\n",
              "          docLink.innerHTML = docLinkHtml;\n",
              "          element.appendChild(docLink);\n",
              "        }\n",
              "      </script>\n",
              "    </div>\n",
              "  </div>\n",
              "  "
            ]
          },
          "metadata": {},
          "execution_count": 205
        }
      ]
    },
    {
      "cell_type": "code",
      "source": [
        "#@title Display Solution 11\n",
        "\n",
        "# return the data with .iloc\n",
        "\n",
        "'''\n",
        "Age  Adress \n",
        "24   Kanpur\n",
        "22   Kanpur\n",
        "'''\n",
        "\n",
        "df1.iloc[1:3, 1:3]"
      ],
      "metadata": {
        "id": "WWqXTZdmO_R4",
        "cellView": "form",
        "colab": {
          "base_uri": "https://localhost:8080/",
          "height": 112
        },
        "outputId": "36c486de-def2-4da9-e57c-e0ae6d224b77"
      },
      "execution_count": 206,
      "outputs": [
        {
          "output_type": "execute_result",
          "data": {
            "text/plain": [
              "   Age Address\n",
              "1   24  Kanpur\n",
              "2   22  Kanpur"
            ],
            "text/html": [
              "\n",
              "  <div id=\"df-a7fd8c5b-ca8e-4298-a562-c3c014c78992\">\n",
              "    <div class=\"colab-df-container\">\n",
              "      <div>\n",
              "<style scoped>\n",
              "    .dataframe tbody tr th:only-of-type {\n",
              "        vertical-align: middle;\n",
              "    }\n",
              "\n",
              "    .dataframe tbody tr th {\n",
              "        vertical-align: top;\n",
              "    }\n",
              "\n",
              "    .dataframe thead th {\n",
              "        text-align: right;\n",
              "    }\n",
              "</style>\n",
              "<table border=\"1\" class=\"dataframe\">\n",
              "  <thead>\n",
              "    <tr style=\"text-align: right;\">\n",
              "      <th></th>\n",
              "      <th>Age</th>\n",
              "      <th>Address</th>\n",
              "    </tr>\n",
              "  </thead>\n",
              "  <tbody>\n",
              "    <tr>\n",
              "      <th>1</th>\n",
              "      <td>24</td>\n",
              "      <td>Kanpur</td>\n",
              "    </tr>\n",
              "    <tr>\n",
              "      <th>2</th>\n",
              "      <td>22</td>\n",
              "      <td>Kanpur</td>\n",
              "    </tr>\n",
              "  </tbody>\n",
              "</table>\n",
              "</div>\n",
              "      <button class=\"colab-df-convert\" onclick=\"convertToInteractive('df-a7fd8c5b-ca8e-4298-a562-c3c014c78992')\"\n",
              "              title=\"Convert this dataframe to an interactive table.\"\n",
              "              style=\"display:none;\">\n",
              "        \n",
              "  <svg xmlns=\"http://www.w3.org/2000/svg\" height=\"24px\"viewBox=\"0 0 24 24\"\n",
              "       width=\"24px\">\n",
              "    <path d=\"M0 0h24v24H0V0z\" fill=\"none\"/>\n",
              "    <path d=\"M18.56 5.44l.94 2.06.94-2.06 2.06-.94-2.06-.94-.94-2.06-.94 2.06-2.06.94zm-11 1L8.5 8.5l.94-2.06 2.06-.94-2.06-.94L8.5 2.5l-.94 2.06-2.06.94zm10 10l.94 2.06.94-2.06 2.06-.94-2.06-.94-.94-2.06-.94 2.06-2.06.94z\"/><path d=\"M17.41 7.96l-1.37-1.37c-.4-.4-.92-.59-1.43-.59-.52 0-1.04.2-1.43.59L10.3 9.45l-7.72 7.72c-.78.78-.78 2.05 0 2.83L4 21.41c.39.39.9.59 1.41.59.51 0 1.02-.2 1.41-.59l7.78-7.78 2.81-2.81c.8-.78.8-2.07 0-2.86zM5.41 20L4 18.59l7.72-7.72 1.47 1.35L5.41 20z\"/>\n",
              "  </svg>\n",
              "      </button>\n",
              "      \n",
              "  <style>\n",
              "    .colab-df-container {\n",
              "      display:flex;\n",
              "      flex-wrap:wrap;\n",
              "      gap: 12px;\n",
              "    }\n",
              "\n",
              "    .colab-df-convert {\n",
              "      background-color: #E8F0FE;\n",
              "      border: none;\n",
              "      border-radius: 50%;\n",
              "      cursor: pointer;\n",
              "      display: none;\n",
              "      fill: #1967D2;\n",
              "      height: 32px;\n",
              "      padding: 0 0 0 0;\n",
              "      width: 32px;\n",
              "    }\n",
              "\n",
              "    .colab-df-convert:hover {\n",
              "      background-color: #E2EBFA;\n",
              "      box-shadow: 0px 1px 2px rgba(60, 64, 67, 0.3), 0px 1px 3px 1px rgba(60, 64, 67, 0.15);\n",
              "      fill: #174EA6;\n",
              "    }\n",
              "\n",
              "    [theme=dark] .colab-df-convert {\n",
              "      background-color: #3B4455;\n",
              "      fill: #D2E3FC;\n",
              "    }\n",
              "\n",
              "    [theme=dark] .colab-df-convert:hover {\n",
              "      background-color: #434B5C;\n",
              "      box-shadow: 0px 1px 3px 1px rgba(0, 0, 0, 0.15);\n",
              "      filter: drop-shadow(0px 1px 2px rgba(0, 0, 0, 0.3));\n",
              "      fill: #FFFFFF;\n",
              "    }\n",
              "  </style>\n",
              "\n",
              "      <script>\n",
              "        const buttonEl =\n",
              "          document.querySelector('#df-a7fd8c5b-ca8e-4298-a562-c3c014c78992 button.colab-df-convert');\n",
              "        buttonEl.style.display =\n",
              "          google.colab.kernel.accessAllowed ? 'block' : 'none';\n",
              "\n",
              "        async function convertToInteractive(key) {\n",
              "          const element = document.querySelector('#df-a7fd8c5b-ca8e-4298-a562-c3c014c78992');\n",
              "          const dataTable =\n",
              "            await google.colab.kernel.invokeFunction('convertToInteractive',\n",
              "                                                     [key], {});\n",
              "          if (!dataTable) return;\n",
              "\n",
              "          const docLinkHtml = 'Like what you see? Visit the ' +\n",
              "            '<a target=\"_blank\" href=https://colab.research.google.com/notebooks/data_table.ipynb>data table notebook</a>'\n",
              "            + ' to learn more about interactive tables.';\n",
              "          element.innerHTML = '';\n",
              "          dataTable['output_type'] = 'display_data';\n",
              "          await google.colab.output.renderOutput(dataTable, element);\n",
              "          const docLink = document.createElement('div');\n",
              "          docLink.innerHTML = docLinkHtml;\n",
              "          element.appendChild(docLink);\n",
              "        }\n",
              "      </script>\n",
              "    </div>\n",
              "  </div>\n",
              "  "
            ]
          },
          "metadata": {},
          "execution_count": 206
        }
      ]
    },
    {
      "cell_type": "markdown",
      "source": [
        "### Assignment 12"
      ],
      "metadata": {
        "id": "5dlajHs_5fr9"
      }
    },
    {
      "cell_type": "code",
      "source": [
        "# return the data with .iloc as below ...\n",
        "\n",
        "'''\n",
        "Name  Age \n",
        "Jay   27\n",
        "Anuj  32\n",
        "'''\n",
        "print(df1)\n",
        "df1.iloc[[0,-1],[0,1]] \n",
        "#first and second row [0,1], first, second and third columns [0,1,2] \n",
        "\n"
      ],
      "metadata": {
        "id": "8dVE-xcxQFFw",
        "colab": {
          "base_uri": "https://localhost:8080/",
          "height": 199
        },
        "outputId": "768554c8-f20f-4cba-f486-341c91b78ac0"
      },
      "execution_count": 207,
      "outputs": [
        {
          "output_type": "stream",
          "name": "stdout",
          "text": [
            "     Name  Age Address Country Qualification\n",
            "0     Jai   27   Delhi   India           Phd\n",
            "1  Princi   24  Kanpur   India            MA\n",
            "2  Gaurav   22  Kanpur   India           MCA\n",
            "3    Anuj   32   Delhi   India           Phd\n"
          ]
        },
        {
          "output_type": "execute_result",
          "data": {
            "text/plain": [
              "   Name  Age\n",
              "0   Jai   27\n",
              "3  Anuj   32"
            ],
            "text/html": [
              "\n",
              "  <div id=\"df-7f807fc8-eaca-4629-a4f3-fa2500e8b850\">\n",
              "    <div class=\"colab-df-container\">\n",
              "      <div>\n",
              "<style scoped>\n",
              "    .dataframe tbody tr th:only-of-type {\n",
              "        vertical-align: middle;\n",
              "    }\n",
              "\n",
              "    .dataframe tbody tr th {\n",
              "        vertical-align: top;\n",
              "    }\n",
              "\n",
              "    .dataframe thead th {\n",
              "        text-align: right;\n",
              "    }\n",
              "</style>\n",
              "<table border=\"1\" class=\"dataframe\">\n",
              "  <thead>\n",
              "    <tr style=\"text-align: right;\">\n",
              "      <th></th>\n",
              "      <th>Name</th>\n",
              "      <th>Age</th>\n",
              "    </tr>\n",
              "  </thead>\n",
              "  <tbody>\n",
              "    <tr>\n",
              "      <th>0</th>\n",
              "      <td>Jai</td>\n",
              "      <td>27</td>\n",
              "    </tr>\n",
              "    <tr>\n",
              "      <th>3</th>\n",
              "      <td>Anuj</td>\n",
              "      <td>32</td>\n",
              "    </tr>\n",
              "  </tbody>\n",
              "</table>\n",
              "</div>\n",
              "      <button class=\"colab-df-convert\" onclick=\"convertToInteractive('df-7f807fc8-eaca-4629-a4f3-fa2500e8b850')\"\n",
              "              title=\"Convert this dataframe to an interactive table.\"\n",
              "              style=\"display:none;\">\n",
              "        \n",
              "  <svg xmlns=\"http://www.w3.org/2000/svg\" height=\"24px\"viewBox=\"0 0 24 24\"\n",
              "       width=\"24px\">\n",
              "    <path d=\"M0 0h24v24H0V0z\" fill=\"none\"/>\n",
              "    <path d=\"M18.56 5.44l.94 2.06.94-2.06 2.06-.94-2.06-.94-.94-2.06-.94 2.06-2.06.94zm-11 1L8.5 8.5l.94-2.06 2.06-.94-2.06-.94L8.5 2.5l-.94 2.06-2.06.94zm10 10l.94 2.06.94-2.06 2.06-.94-2.06-.94-.94-2.06-.94 2.06-2.06.94z\"/><path d=\"M17.41 7.96l-1.37-1.37c-.4-.4-.92-.59-1.43-.59-.52 0-1.04.2-1.43.59L10.3 9.45l-7.72 7.72c-.78.78-.78 2.05 0 2.83L4 21.41c.39.39.9.59 1.41.59.51 0 1.02-.2 1.41-.59l7.78-7.78 2.81-2.81c.8-.78.8-2.07 0-2.86zM5.41 20L4 18.59l7.72-7.72 1.47 1.35L5.41 20z\"/>\n",
              "  </svg>\n",
              "      </button>\n",
              "      \n",
              "  <style>\n",
              "    .colab-df-container {\n",
              "      display:flex;\n",
              "      flex-wrap:wrap;\n",
              "      gap: 12px;\n",
              "    }\n",
              "\n",
              "    .colab-df-convert {\n",
              "      background-color: #E8F0FE;\n",
              "      border: none;\n",
              "      border-radius: 50%;\n",
              "      cursor: pointer;\n",
              "      display: none;\n",
              "      fill: #1967D2;\n",
              "      height: 32px;\n",
              "      padding: 0 0 0 0;\n",
              "      width: 32px;\n",
              "    }\n",
              "\n",
              "    .colab-df-convert:hover {\n",
              "      background-color: #E2EBFA;\n",
              "      box-shadow: 0px 1px 2px rgba(60, 64, 67, 0.3), 0px 1px 3px 1px rgba(60, 64, 67, 0.15);\n",
              "      fill: #174EA6;\n",
              "    }\n",
              "\n",
              "    [theme=dark] .colab-df-convert {\n",
              "      background-color: #3B4455;\n",
              "      fill: #D2E3FC;\n",
              "    }\n",
              "\n",
              "    [theme=dark] .colab-df-convert:hover {\n",
              "      background-color: #434B5C;\n",
              "      box-shadow: 0px 1px 3px 1px rgba(0, 0, 0, 0.15);\n",
              "      filter: drop-shadow(0px 1px 2px rgba(0, 0, 0, 0.3));\n",
              "      fill: #FFFFFF;\n",
              "    }\n",
              "  </style>\n",
              "\n",
              "      <script>\n",
              "        const buttonEl =\n",
              "          document.querySelector('#df-7f807fc8-eaca-4629-a4f3-fa2500e8b850 button.colab-df-convert');\n",
              "        buttonEl.style.display =\n",
              "          google.colab.kernel.accessAllowed ? 'block' : 'none';\n",
              "\n",
              "        async function convertToInteractive(key) {\n",
              "          const element = document.querySelector('#df-7f807fc8-eaca-4629-a4f3-fa2500e8b850');\n",
              "          const dataTable =\n",
              "            await google.colab.kernel.invokeFunction('convertToInteractive',\n",
              "                                                     [key], {});\n",
              "          if (!dataTable) return;\n",
              "\n",
              "          const docLinkHtml = 'Like what you see? Visit the ' +\n",
              "            '<a target=\"_blank\" href=https://colab.research.google.com/notebooks/data_table.ipynb>data table notebook</a>'\n",
              "            + ' to learn more about interactive tables.';\n",
              "          element.innerHTML = '';\n",
              "          dataTable['output_type'] = 'display_data';\n",
              "          await google.colab.output.renderOutput(dataTable, element);\n",
              "          const docLink = document.createElement('div');\n",
              "          docLink.innerHTML = docLinkHtml;\n",
              "          element.appendChild(docLink);\n",
              "        }\n",
              "      </script>\n",
              "    </div>\n",
              "  </div>\n",
              "  "
            ]
          },
          "metadata": {},
          "execution_count": 207
        }
      ]
    },
    {
      "cell_type": "code",
      "source": [
        "#@title Display Solution 12\n",
        "\n",
        "# return the data with .iloc\n",
        "\n",
        "'''\n",
        "Name  Age \n",
        "Jay   27\n",
        "Anuj  32\n",
        "'''\n",
        "\n",
        "\n",
        "df1.iloc[[0, -1], [0,1]]"
      ],
      "metadata": {
        "id": "kUqkUu8SQT2a",
        "colab": {
          "base_uri": "https://localhost:8080/",
          "height": 112
        },
        "outputId": "3275badf-9e16-408a-e6a6-a191bea6e01c"
      },
      "execution_count": 208,
      "outputs": [
        {
          "output_type": "execute_result",
          "data": {
            "text/plain": [
              "   Name  Age\n",
              "0   Jai   27\n",
              "3  Anuj   32"
            ],
            "text/html": [
              "\n",
              "  <div id=\"df-bbec60dc-f1bb-4e54-b800-3ef44808ae58\">\n",
              "    <div class=\"colab-df-container\">\n",
              "      <div>\n",
              "<style scoped>\n",
              "    .dataframe tbody tr th:only-of-type {\n",
              "        vertical-align: middle;\n",
              "    }\n",
              "\n",
              "    .dataframe tbody tr th {\n",
              "        vertical-align: top;\n",
              "    }\n",
              "\n",
              "    .dataframe thead th {\n",
              "        text-align: right;\n",
              "    }\n",
              "</style>\n",
              "<table border=\"1\" class=\"dataframe\">\n",
              "  <thead>\n",
              "    <tr style=\"text-align: right;\">\n",
              "      <th></th>\n",
              "      <th>Name</th>\n",
              "      <th>Age</th>\n",
              "    </tr>\n",
              "  </thead>\n",
              "  <tbody>\n",
              "    <tr>\n",
              "      <th>0</th>\n",
              "      <td>Jai</td>\n",
              "      <td>27</td>\n",
              "    </tr>\n",
              "    <tr>\n",
              "      <th>3</th>\n",
              "      <td>Anuj</td>\n",
              "      <td>32</td>\n",
              "    </tr>\n",
              "  </tbody>\n",
              "</table>\n",
              "</div>\n",
              "      <button class=\"colab-df-convert\" onclick=\"convertToInteractive('df-bbec60dc-f1bb-4e54-b800-3ef44808ae58')\"\n",
              "              title=\"Convert this dataframe to an interactive table.\"\n",
              "              style=\"display:none;\">\n",
              "        \n",
              "  <svg xmlns=\"http://www.w3.org/2000/svg\" height=\"24px\"viewBox=\"0 0 24 24\"\n",
              "       width=\"24px\">\n",
              "    <path d=\"M0 0h24v24H0V0z\" fill=\"none\"/>\n",
              "    <path d=\"M18.56 5.44l.94 2.06.94-2.06 2.06-.94-2.06-.94-.94-2.06-.94 2.06-2.06.94zm-11 1L8.5 8.5l.94-2.06 2.06-.94-2.06-.94L8.5 2.5l-.94 2.06-2.06.94zm10 10l.94 2.06.94-2.06 2.06-.94-2.06-.94-.94-2.06-.94 2.06-2.06.94z\"/><path d=\"M17.41 7.96l-1.37-1.37c-.4-.4-.92-.59-1.43-.59-.52 0-1.04.2-1.43.59L10.3 9.45l-7.72 7.72c-.78.78-.78 2.05 0 2.83L4 21.41c.39.39.9.59 1.41.59.51 0 1.02-.2 1.41-.59l7.78-7.78 2.81-2.81c.8-.78.8-2.07 0-2.86zM5.41 20L4 18.59l7.72-7.72 1.47 1.35L5.41 20z\"/>\n",
              "  </svg>\n",
              "      </button>\n",
              "      \n",
              "  <style>\n",
              "    .colab-df-container {\n",
              "      display:flex;\n",
              "      flex-wrap:wrap;\n",
              "      gap: 12px;\n",
              "    }\n",
              "\n",
              "    .colab-df-convert {\n",
              "      background-color: #E8F0FE;\n",
              "      border: none;\n",
              "      border-radius: 50%;\n",
              "      cursor: pointer;\n",
              "      display: none;\n",
              "      fill: #1967D2;\n",
              "      height: 32px;\n",
              "      padding: 0 0 0 0;\n",
              "      width: 32px;\n",
              "    }\n",
              "\n",
              "    .colab-df-convert:hover {\n",
              "      background-color: #E2EBFA;\n",
              "      box-shadow: 0px 1px 2px rgba(60, 64, 67, 0.3), 0px 1px 3px 1px rgba(60, 64, 67, 0.15);\n",
              "      fill: #174EA6;\n",
              "    }\n",
              "\n",
              "    [theme=dark] .colab-df-convert {\n",
              "      background-color: #3B4455;\n",
              "      fill: #D2E3FC;\n",
              "    }\n",
              "\n",
              "    [theme=dark] .colab-df-convert:hover {\n",
              "      background-color: #434B5C;\n",
              "      box-shadow: 0px 1px 3px 1px rgba(0, 0, 0, 0.15);\n",
              "      filter: drop-shadow(0px 1px 2px rgba(0, 0, 0, 0.3));\n",
              "      fill: #FFFFFF;\n",
              "    }\n",
              "  </style>\n",
              "\n",
              "      <script>\n",
              "        const buttonEl =\n",
              "          document.querySelector('#df-bbec60dc-f1bb-4e54-b800-3ef44808ae58 button.colab-df-convert');\n",
              "        buttonEl.style.display =\n",
              "          google.colab.kernel.accessAllowed ? 'block' : 'none';\n",
              "\n",
              "        async function convertToInteractive(key) {\n",
              "          const element = document.querySelector('#df-bbec60dc-f1bb-4e54-b800-3ef44808ae58');\n",
              "          const dataTable =\n",
              "            await google.colab.kernel.invokeFunction('convertToInteractive',\n",
              "                                                     [key], {});\n",
              "          if (!dataTable) return;\n",
              "\n",
              "          const docLinkHtml = 'Like what you see? Visit the ' +\n",
              "            '<a target=\"_blank\" href=https://colab.research.google.com/notebooks/data_table.ipynb>data table notebook</a>'\n",
              "            + ' to learn more about interactive tables.';\n",
              "          element.innerHTML = '';\n",
              "          dataTable['output_type'] = 'display_data';\n",
              "          await google.colab.output.renderOutput(dataTable, element);\n",
              "          const docLink = document.createElement('div');\n",
              "          docLink.innerHTML = docLinkHtml;\n",
              "          element.appendChild(docLink);\n",
              "        }\n",
              "      </script>\n",
              "    </div>\n",
              "  </div>\n",
              "  "
            ]
          },
          "metadata": {},
          "execution_count": 208
        }
      ]
    },
    {
      "cell_type": "markdown",
      "source": [
        "### Assignment 13"
      ],
      "metadata": {
        "id": "NyAjSuco5itD"
      }
    },
    {
      "cell_type": "code",
      "source": [
        "# return 'Qualification' for rows from 'Jai' to 'Anuj' with .loc \n",
        "\n",
        "# don't forget to reset the index by using column 'Name' (*** .set_index() ***)\n",
        "df1 = df1.set_index('Name')\n",
        "print(df1)\n",
        "print('')\n",
        "df1['Qualification']"
      ],
      "metadata": {
        "id": "FTurB5eqPfFM",
        "colab": {
          "base_uri": "https://localhost:8080/"
        },
        "outputId": "0e3e8579-dda9-4aa2-8a47-12633ccfc40d"
      },
      "execution_count": 209,
      "outputs": [
        {
          "output_type": "stream",
          "name": "stdout",
          "text": [
            "        Age Address Country Qualification\n",
            "Name                                     \n",
            "Jai      27   Delhi   India           Phd\n",
            "Princi   24  Kanpur   India            MA\n",
            "Gaurav   22  Kanpur   India           MCA\n",
            "Anuj     32   Delhi   India           Phd\n",
            "\n"
          ]
        },
        {
          "output_type": "execute_result",
          "data": {
            "text/plain": [
              "Name\n",
              "Jai       Phd\n",
              "Princi     MA\n",
              "Gaurav    MCA\n",
              "Anuj      Phd\n",
              "Name: Qualification, dtype: object"
            ]
          },
          "metadata": {},
          "execution_count": 209
        }
      ]
    },
    {
      "cell_type": "code",
      "source": [
        "#@title Display Solution 13\n",
        "\n",
        "# return qualification for 'Jai' to 'Anuj' with .loc (!!! reset the index)\n",
        "\n",
        "print(df1)\n",
        "\n",
        "print('')\n",
        "\n",
        "# reset index\n",
        "#df1 = df1.set_index('Name')\n",
        "\n",
        "# 'Qualification' for rows from 'Jai' to 'Anuj' with .loc \n",
        "df1.loc['Jai':'Anuj', 'Qualification']\n"
      ],
      "metadata": {
        "id": "LenGjne0PjD9",
        "cellView": "form",
        "colab": {
          "base_uri": "https://localhost:8080/"
        },
        "outputId": "7b7c8385-7801-4063-e454-1b0efa5922be"
      },
      "execution_count": 210,
      "outputs": [
        {
          "output_type": "stream",
          "name": "stdout",
          "text": [
            "        Age Address Country Qualification\n",
            "Name                                     \n",
            "Jai      27   Delhi   India           Phd\n",
            "Princi   24  Kanpur   India            MA\n",
            "Gaurav   22  Kanpur   India           MCA\n",
            "Anuj     32   Delhi   India           Phd\n",
            "\n"
          ]
        },
        {
          "output_type": "execute_result",
          "data": {
            "text/plain": [
              "Name\n",
              "Jai       Phd\n",
              "Princi     MA\n",
              "Gaurav    MCA\n",
              "Anuj      Phd\n",
              "Name: Qualification, dtype: object"
            ]
          },
          "metadata": {},
          "execution_count": 210
        }
      ]
    },
    {
      "cell_type": "markdown",
      "source": [
        "### Assignment 14"
      ],
      "metadata": {
        "id": "GeKpisxz5m-K"
      }
    },
    {
      "cell_type": "code",
      "source": [
        "# return the Qualification and Address for 'Jai' , 'Anuj', 'Gaurav' with .loc\n",
        "\n",
        "print(df1)\n",
        "print('')\n",
        "df1.loc[['Jai' , 'Anuj', 'Gaurav'], ['Qualification','Address']]\n"
      ],
      "metadata": {
        "id": "exiLcd-HSLu0",
        "colab": {
          "base_uri": "https://localhost:8080/",
          "height": 296
        },
        "outputId": "20722c62-f042-469c-ef97-183decd780aa"
      },
      "execution_count": 211,
      "outputs": [
        {
          "output_type": "stream",
          "name": "stdout",
          "text": [
            "        Age Address Country Qualification\n",
            "Name                                     \n",
            "Jai      27   Delhi   India           Phd\n",
            "Princi   24  Kanpur   India            MA\n",
            "Gaurav   22  Kanpur   India           MCA\n",
            "Anuj     32   Delhi   India           Phd\n",
            "\n"
          ]
        },
        {
          "output_type": "execute_result",
          "data": {
            "text/plain": [
              "       Qualification Address\n",
              "Name                        \n",
              "Jai              Phd   Delhi\n",
              "Anuj             Phd   Delhi\n",
              "Gaurav           MCA  Kanpur"
            ],
            "text/html": [
              "\n",
              "  <div id=\"df-d0df2f36-5c55-4f16-841a-6aabcf0e570d\">\n",
              "    <div class=\"colab-df-container\">\n",
              "      <div>\n",
              "<style scoped>\n",
              "    .dataframe tbody tr th:only-of-type {\n",
              "        vertical-align: middle;\n",
              "    }\n",
              "\n",
              "    .dataframe tbody tr th {\n",
              "        vertical-align: top;\n",
              "    }\n",
              "\n",
              "    .dataframe thead th {\n",
              "        text-align: right;\n",
              "    }\n",
              "</style>\n",
              "<table border=\"1\" class=\"dataframe\">\n",
              "  <thead>\n",
              "    <tr style=\"text-align: right;\">\n",
              "      <th></th>\n",
              "      <th>Qualification</th>\n",
              "      <th>Address</th>\n",
              "    </tr>\n",
              "    <tr>\n",
              "      <th>Name</th>\n",
              "      <th></th>\n",
              "      <th></th>\n",
              "    </tr>\n",
              "  </thead>\n",
              "  <tbody>\n",
              "    <tr>\n",
              "      <th>Jai</th>\n",
              "      <td>Phd</td>\n",
              "      <td>Delhi</td>\n",
              "    </tr>\n",
              "    <tr>\n",
              "      <th>Anuj</th>\n",
              "      <td>Phd</td>\n",
              "      <td>Delhi</td>\n",
              "    </tr>\n",
              "    <tr>\n",
              "      <th>Gaurav</th>\n",
              "      <td>MCA</td>\n",
              "      <td>Kanpur</td>\n",
              "    </tr>\n",
              "  </tbody>\n",
              "</table>\n",
              "</div>\n",
              "      <button class=\"colab-df-convert\" onclick=\"convertToInteractive('df-d0df2f36-5c55-4f16-841a-6aabcf0e570d')\"\n",
              "              title=\"Convert this dataframe to an interactive table.\"\n",
              "              style=\"display:none;\">\n",
              "        \n",
              "  <svg xmlns=\"http://www.w3.org/2000/svg\" height=\"24px\"viewBox=\"0 0 24 24\"\n",
              "       width=\"24px\">\n",
              "    <path d=\"M0 0h24v24H0V0z\" fill=\"none\"/>\n",
              "    <path d=\"M18.56 5.44l.94 2.06.94-2.06 2.06-.94-2.06-.94-.94-2.06-.94 2.06-2.06.94zm-11 1L8.5 8.5l.94-2.06 2.06-.94-2.06-.94L8.5 2.5l-.94 2.06-2.06.94zm10 10l.94 2.06.94-2.06 2.06-.94-2.06-.94-.94-2.06-.94 2.06-2.06.94z\"/><path d=\"M17.41 7.96l-1.37-1.37c-.4-.4-.92-.59-1.43-.59-.52 0-1.04.2-1.43.59L10.3 9.45l-7.72 7.72c-.78.78-.78 2.05 0 2.83L4 21.41c.39.39.9.59 1.41.59.51 0 1.02-.2 1.41-.59l7.78-7.78 2.81-2.81c.8-.78.8-2.07 0-2.86zM5.41 20L4 18.59l7.72-7.72 1.47 1.35L5.41 20z\"/>\n",
              "  </svg>\n",
              "      </button>\n",
              "      \n",
              "  <style>\n",
              "    .colab-df-container {\n",
              "      display:flex;\n",
              "      flex-wrap:wrap;\n",
              "      gap: 12px;\n",
              "    }\n",
              "\n",
              "    .colab-df-convert {\n",
              "      background-color: #E8F0FE;\n",
              "      border: none;\n",
              "      border-radius: 50%;\n",
              "      cursor: pointer;\n",
              "      display: none;\n",
              "      fill: #1967D2;\n",
              "      height: 32px;\n",
              "      padding: 0 0 0 0;\n",
              "      width: 32px;\n",
              "    }\n",
              "\n",
              "    .colab-df-convert:hover {\n",
              "      background-color: #E2EBFA;\n",
              "      box-shadow: 0px 1px 2px rgba(60, 64, 67, 0.3), 0px 1px 3px 1px rgba(60, 64, 67, 0.15);\n",
              "      fill: #174EA6;\n",
              "    }\n",
              "\n",
              "    [theme=dark] .colab-df-convert {\n",
              "      background-color: #3B4455;\n",
              "      fill: #D2E3FC;\n",
              "    }\n",
              "\n",
              "    [theme=dark] .colab-df-convert:hover {\n",
              "      background-color: #434B5C;\n",
              "      box-shadow: 0px 1px 3px 1px rgba(0, 0, 0, 0.15);\n",
              "      filter: drop-shadow(0px 1px 2px rgba(0, 0, 0, 0.3));\n",
              "      fill: #FFFFFF;\n",
              "    }\n",
              "  </style>\n",
              "\n",
              "      <script>\n",
              "        const buttonEl =\n",
              "          document.querySelector('#df-d0df2f36-5c55-4f16-841a-6aabcf0e570d button.colab-df-convert');\n",
              "        buttonEl.style.display =\n",
              "          google.colab.kernel.accessAllowed ? 'block' : 'none';\n",
              "\n",
              "        async function convertToInteractive(key) {\n",
              "          const element = document.querySelector('#df-d0df2f36-5c55-4f16-841a-6aabcf0e570d');\n",
              "          const dataTable =\n",
              "            await google.colab.kernel.invokeFunction('convertToInteractive',\n",
              "                                                     [key], {});\n",
              "          if (!dataTable) return;\n",
              "\n",
              "          const docLinkHtml = 'Like what you see? Visit the ' +\n",
              "            '<a target=\"_blank\" href=https://colab.research.google.com/notebooks/data_table.ipynb>data table notebook</a>'\n",
              "            + ' to learn more about interactive tables.';\n",
              "          element.innerHTML = '';\n",
              "          dataTable['output_type'] = 'display_data';\n",
              "          await google.colab.output.renderOutput(dataTable, element);\n",
              "          const docLink = document.createElement('div');\n",
              "          docLink.innerHTML = docLinkHtml;\n",
              "          element.appendChild(docLink);\n",
              "        }\n",
              "      </script>\n",
              "    </div>\n",
              "  </div>\n",
              "  "
            ]
          },
          "metadata": {},
          "execution_count": 211
        }
      ]
    },
    {
      "cell_type": "code",
      "source": [
        "#@title Display Solution 14\n",
        "\n",
        "# return the Qualification and Address for 'Jai' , 'Anuj', 'Gaurav' with .loc\n",
        "\n",
        "\n",
        "df1.loc[['Jai' , 'Anuj', 'Gaurav'], ['Qualification', 'Address']]"
      ],
      "metadata": {
        "id": "x62nPf_FSQM0",
        "colab": {
          "base_uri": "https://localhost:8080/",
          "height": 175
        },
        "outputId": "c0965604-345c-4617-c438-8bb5f6375ca9"
      },
      "execution_count": 212,
      "outputs": [
        {
          "output_type": "execute_result",
          "data": {
            "text/plain": [
              "       Qualification Address\n",
              "Name                        \n",
              "Jai              Phd   Delhi\n",
              "Anuj             Phd   Delhi\n",
              "Gaurav           MCA  Kanpur"
            ],
            "text/html": [
              "\n",
              "  <div id=\"df-479d9238-f5e1-428e-b67e-6fbb6e4dc716\">\n",
              "    <div class=\"colab-df-container\">\n",
              "      <div>\n",
              "<style scoped>\n",
              "    .dataframe tbody tr th:only-of-type {\n",
              "        vertical-align: middle;\n",
              "    }\n",
              "\n",
              "    .dataframe tbody tr th {\n",
              "        vertical-align: top;\n",
              "    }\n",
              "\n",
              "    .dataframe thead th {\n",
              "        text-align: right;\n",
              "    }\n",
              "</style>\n",
              "<table border=\"1\" class=\"dataframe\">\n",
              "  <thead>\n",
              "    <tr style=\"text-align: right;\">\n",
              "      <th></th>\n",
              "      <th>Qualification</th>\n",
              "      <th>Address</th>\n",
              "    </tr>\n",
              "    <tr>\n",
              "      <th>Name</th>\n",
              "      <th></th>\n",
              "      <th></th>\n",
              "    </tr>\n",
              "  </thead>\n",
              "  <tbody>\n",
              "    <tr>\n",
              "      <th>Jai</th>\n",
              "      <td>Phd</td>\n",
              "      <td>Delhi</td>\n",
              "    </tr>\n",
              "    <tr>\n",
              "      <th>Anuj</th>\n",
              "      <td>Phd</td>\n",
              "      <td>Delhi</td>\n",
              "    </tr>\n",
              "    <tr>\n",
              "      <th>Gaurav</th>\n",
              "      <td>MCA</td>\n",
              "      <td>Kanpur</td>\n",
              "    </tr>\n",
              "  </tbody>\n",
              "</table>\n",
              "</div>\n",
              "      <button class=\"colab-df-convert\" onclick=\"convertToInteractive('df-479d9238-f5e1-428e-b67e-6fbb6e4dc716')\"\n",
              "              title=\"Convert this dataframe to an interactive table.\"\n",
              "              style=\"display:none;\">\n",
              "        \n",
              "  <svg xmlns=\"http://www.w3.org/2000/svg\" height=\"24px\"viewBox=\"0 0 24 24\"\n",
              "       width=\"24px\">\n",
              "    <path d=\"M0 0h24v24H0V0z\" fill=\"none\"/>\n",
              "    <path d=\"M18.56 5.44l.94 2.06.94-2.06 2.06-.94-2.06-.94-.94-2.06-.94 2.06-2.06.94zm-11 1L8.5 8.5l.94-2.06 2.06-.94-2.06-.94L8.5 2.5l-.94 2.06-2.06.94zm10 10l.94 2.06.94-2.06 2.06-.94-2.06-.94-.94-2.06-.94 2.06-2.06.94z\"/><path d=\"M17.41 7.96l-1.37-1.37c-.4-.4-.92-.59-1.43-.59-.52 0-1.04.2-1.43.59L10.3 9.45l-7.72 7.72c-.78.78-.78 2.05 0 2.83L4 21.41c.39.39.9.59 1.41.59.51 0 1.02-.2 1.41-.59l7.78-7.78 2.81-2.81c.8-.78.8-2.07 0-2.86zM5.41 20L4 18.59l7.72-7.72 1.47 1.35L5.41 20z\"/>\n",
              "  </svg>\n",
              "      </button>\n",
              "      \n",
              "  <style>\n",
              "    .colab-df-container {\n",
              "      display:flex;\n",
              "      flex-wrap:wrap;\n",
              "      gap: 12px;\n",
              "    }\n",
              "\n",
              "    .colab-df-convert {\n",
              "      background-color: #E8F0FE;\n",
              "      border: none;\n",
              "      border-radius: 50%;\n",
              "      cursor: pointer;\n",
              "      display: none;\n",
              "      fill: #1967D2;\n",
              "      height: 32px;\n",
              "      padding: 0 0 0 0;\n",
              "      width: 32px;\n",
              "    }\n",
              "\n",
              "    .colab-df-convert:hover {\n",
              "      background-color: #E2EBFA;\n",
              "      box-shadow: 0px 1px 2px rgba(60, 64, 67, 0.3), 0px 1px 3px 1px rgba(60, 64, 67, 0.15);\n",
              "      fill: #174EA6;\n",
              "    }\n",
              "\n",
              "    [theme=dark] .colab-df-convert {\n",
              "      background-color: #3B4455;\n",
              "      fill: #D2E3FC;\n",
              "    }\n",
              "\n",
              "    [theme=dark] .colab-df-convert:hover {\n",
              "      background-color: #434B5C;\n",
              "      box-shadow: 0px 1px 3px 1px rgba(0, 0, 0, 0.15);\n",
              "      filter: drop-shadow(0px 1px 2px rgba(0, 0, 0, 0.3));\n",
              "      fill: #FFFFFF;\n",
              "    }\n",
              "  </style>\n",
              "\n",
              "      <script>\n",
              "        const buttonEl =\n",
              "          document.querySelector('#df-479d9238-f5e1-428e-b67e-6fbb6e4dc716 button.colab-df-convert');\n",
              "        buttonEl.style.display =\n",
              "          google.colab.kernel.accessAllowed ? 'block' : 'none';\n",
              "\n",
              "        async function convertToInteractive(key) {\n",
              "          const element = document.querySelector('#df-479d9238-f5e1-428e-b67e-6fbb6e4dc716');\n",
              "          const dataTable =\n",
              "            await google.colab.kernel.invokeFunction('convertToInteractive',\n",
              "                                                     [key], {});\n",
              "          if (!dataTable) return;\n",
              "\n",
              "          const docLinkHtml = 'Like what you see? Visit the ' +\n",
              "            '<a target=\"_blank\" href=https://colab.research.google.com/notebooks/data_table.ipynb>data table notebook</a>'\n",
              "            + ' to learn more about interactive tables.';\n",
              "          element.innerHTML = '';\n",
              "          dataTable['output_type'] = 'display_data';\n",
              "          await google.colab.output.renderOutput(dataTable, element);\n",
              "          const docLink = document.createElement('div');\n",
              "          docLink.innerHTML = docLinkHtml;\n",
              "          element.appendChild(docLink);\n",
              "        }\n",
              "      </script>\n",
              "    </div>\n",
              "  </div>\n",
              "  "
            ]
          },
          "metadata": {},
          "execution_count": 212
        }
      ]
    },
    {
      "cell_type": "markdown",
      "source": [
        "### Filtering"
      ],
      "metadata": {
        "id": "JcOqOEImTHyx"
      }
    },
    {
      "cell_type": "markdown",
      "source": [
        "## Assignment 15"
      ],
      "metadata": {
        "id": "yC0udtAk5poF"
      }
    },
    {
      "cell_type": "code",
      "source": [
        "####  Filter -------------\n",
        "\n",
        "# access only the data where Qualification is Phd\n",
        "\n",
        "df1[df1['Qualification'] == 'Phd']\n"
      ],
      "metadata": {
        "id": "7zS_dMQ9SjGn",
        "colab": {
          "base_uri": "https://localhost:8080/",
          "height": 143
        },
        "outputId": "f3f987ab-fe75-4029-c1dd-1c1a0f3b418c"
      },
      "execution_count": 213,
      "outputs": [
        {
          "output_type": "execute_result",
          "data": {
            "text/plain": [
              "      Age Address Country Qualification\n",
              "Name                                   \n",
              "Jai    27   Delhi   India           Phd\n",
              "Anuj   32   Delhi   India           Phd"
            ],
            "text/html": [
              "\n",
              "  <div id=\"df-746f41bc-6d8b-4bda-be9e-9d23ce41a5f0\">\n",
              "    <div class=\"colab-df-container\">\n",
              "      <div>\n",
              "<style scoped>\n",
              "    .dataframe tbody tr th:only-of-type {\n",
              "        vertical-align: middle;\n",
              "    }\n",
              "\n",
              "    .dataframe tbody tr th {\n",
              "        vertical-align: top;\n",
              "    }\n",
              "\n",
              "    .dataframe thead th {\n",
              "        text-align: right;\n",
              "    }\n",
              "</style>\n",
              "<table border=\"1\" class=\"dataframe\">\n",
              "  <thead>\n",
              "    <tr style=\"text-align: right;\">\n",
              "      <th></th>\n",
              "      <th>Age</th>\n",
              "      <th>Address</th>\n",
              "      <th>Country</th>\n",
              "      <th>Qualification</th>\n",
              "    </tr>\n",
              "    <tr>\n",
              "      <th>Name</th>\n",
              "      <th></th>\n",
              "      <th></th>\n",
              "      <th></th>\n",
              "      <th></th>\n",
              "    </tr>\n",
              "  </thead>\n",
              "  <tbody>\n",
              "    <tr>\n",
              "      <th>Jai</th>\n",
              "      <td>27</td>\n",
              "      <td>Delhi</td>\n",
              "      <td>India</td>\n",
              "      <td>Phd</td>\n",
              "    </tr>\n",
              "    <tr>\n",
              "      <th>Anuj</th>\n",
              "      <td>32</td>\n",
              "      <td>Delhi</td>\n",
              "      <td>India</td>\n",
              "      <td>Phd</td>\n",
              "    </tr>\n",
              "  </tbody>\n",
              "</table>\n",
              "</div>\n",
              "      <button class=\"colab-df-convert\" onclick=\"convertToInteractive('df-746f41bc-6d8b-4bda-be9e-9d23ce41a5f0')\"\n",
              "              title=\"Convert this dataframe to an interactive table.\"\n",
              "              style=\"display:none;\">\n",
              "        \n",
              "  <svg xmlns=\"http://www.w3.org/2000/svg\" height=\"24px\"viewBox=\"0 0 24 24\"\n",
              "       width=\"24px\">\n",
              "    <path d=\"M0 0h24v24H0V0z\" fill=\"none\"/>\n",
              "    <path d=\"M18.56 5.44l.94 2.06.94-2.06 2.06-.94-2.06-.94-.94-2.06-.94 2.06-2.06.94zm-11 1L8.5 8.5l.94-2.06 2.06-.94-2.06-.94L8.5 2.5l-.94 2.06-2.06.94zm10 10l.94 2.06.94-2.06 2.06-.94-2.06-.94-.94-2.06-.94 2.06-2.06.94z\"/><path d=\"M17.41 7.96l-1.37-1.37c-.4-.4-.92-.59-1.43-.59-.52 0-1.04.2-1.43.59L10.3 9.45l-7.72 7.72c-.78.78-.78 2.05 0 2.83L4 21.41c.39.39.9.59 1.41.59.51 0 1.02-.2 1.41-.59l7.78-7.78 2.81-2.81c.8-.78.8-2.07 0-2.86zM5.41 20L4 18.59l7.72-7.72 1.47 1.35L5.41 20z\"/>\n",
              "  </svg>\n",
              "      </button>\n",
              "      \n",
              "  <style>\n",
              "    .colab-df-container {\n",
              "      display:flex;\n",
              "      flex-wrap:wrap;\n",
              "      gap: 12px;\n",
              "    }\n",
              "\n",
              "    .colab-df-convert {\n",
              "      background-color: #E8F0FE;\n",
              "      border: none;\n",
              "      border-radius: 50%;\n",
              "      cursor: pointer;\n",
              "      display: none;\n",
              "      fill: #1967D2;\n",
              "      height: 32px;\n",
              "      padding: 0 0 0 0;\n",
              "      width: 32px;\n",
              "    }\n",
              "\n",
              "    .colab-df-convert:hover {\n",
              "      background-color: #E2EBFA;\n",
              "      box-shadow: 0px 1px 2px rgba(60, 64, 67, 0.3), 0px 1px 3px 1px rgba(60, 64, 67, 0.15);\n",
              "      fill: #174EA6;\n",
              "    }\n",
              "\n",
              "    [theme=dark] .colab-df-convert {\n",
              "      background-color: #3B4455;\n",
              "      fill: #D2E3FC;\n",
              "    }\n",
              "\n",
              "    [theme=dark] .colab-df-convert:hover {\n",
              "      background-color: #434B5C;\n",
              "      box-shadow: 0px 1px 3px 1px rgba(0, 0, 0, 0.15);\n",
              "      filter: drop-shadow(0px 1px 2px rgba(0, 0, 0, 0.3));\n",
              "      fill: #FFFFFF;\n",
              "    }\n",
              "  </style>\n",
              "\n",
              "      <script>\n",
              "        const buttonEl =\n",
              "          document.querySelector('#df-746f41bc-6d8b-4bda-be9e-9d23ce41a5f0 button.colab-df-convert');\n",
              "        buttonEl.style.display =\n",
              "          google.colab.kernel.accessAllowed ? 'block' : 'none';\n",
              "\n",
              "        async function convertToInteractive(key) {\n",
              "          const element = document.querySelector('#df-746f41bc-6d8b-4bda-be9e-9d23ce41a5f0');\n",
              "          const dataTable =\n",
              "            await google.colab.kernel.invokeFunction('convertToInteractive',\n",
              "                                                     [key], {});\n",
              "          if (!dataTable) return;\n",
              "\n",
              "          const docLinkHtml = 'Like what you see? Visit the ' +\n",
              "            '<a target=\"_blank\" href=https://colab.research.google.com/notebooks/data_table.ipynb>data table notebook</a>'\n",
              "            + ' to learn more about interactive tables.';\n",
              "          element.innerHTML = '';\n",
              "          dataTable['output_type'] = 'display_data';\n",
              "          await google.colab.output.renderOutput(dataTable, element);\n",
              "          const docLink = document.createElement('div');\n",
              "          docLink.innerHTML = docLinkHtml;\n",
              "          element.appendChild(docLink);\n",
              "        }\n",
              "      </script>\n",
              "    </div>\n",
              "  </div>\n",
              "  "
            ]
          },
          "metadata": {},
          "execution_count": 213
        }
      ]
    },
    {
      "cell_type": "code",
      "source": [
        "#@title Display Solution 15\n",
        "\n",
        "# access only the data where Qualification is Phd\n",
        "\n",
        "\n",
        "df1[df1['Qualification'] == 'Phd']"
      ],
      "metadata": {
        "id": "WTSE7Ev5SnFh",
        "cellView": "form",
        "colab": {
          "base_uri": "https://localhost:8080/",
          "height": 143
        },
        "outputId": "69dc84b7-7bc2-48b1-fe93-dedfeb64930b"
      },
      "execution_count": 214,
      "outputs": [
        {
          "output_type": "execute_result",
          "data": {
            "text/plain": [
              "      Age Address Country Qualification\n",
              "Name                                   \n",
              "Jai    27   Delhi   India           Phd\n",
              "Anuj   32   Delhi   India           Phd"
            ],
            "text/html": [
              "\n",
              "  <div id=\"df-0d18bc67-e39a-446c-a62a-ab49e89e4c73\">\n",
              "    <div class=\"colab-df-container\">\n",
              "      <div>\n",
              "<style scoped>\n",
              "    .dataframe tbody tr th:only-of-type {\n",
              "        vertical-align: middle;\n",
              "    }\n",
              "\n",
              "    .dataframe tbody tr th {\n",
              "        vertical-align: top;\n",
              "    }\n",
              "\n",
              "    .dataframe thead th {\n",
              "        text-align: right;\n",
              "    }\n",
              "</style>\n",
              "<table border=\"1\" class=\"dataframe\">\n",
              "  <thead>\n",
              "    <tr style=\"text-align: right;\">\n",
              "      <th></th>\n",
              "      <th>Age</th>\n",
              "      <th>Address</th>\n",
              "      <th>Country</th>\n",
              "      <th>Qualification</th>\n",
              "    </tr>\n",
              "    <tr>\n",
              "      <th>Name</th>\n",
              "      <th></th>\n",
              "      <th></th>\n",
              "      <th></th>\n",
              "      <th></th>\n",
              "    </tr>\n",
              "  </thead>\n",
              "  <tbody>\n",
              "    <tr>\n",
              "      <th>Jai</th>\n",
              "      <td>27</td>\n",
              "      <td>Delhi</td>\n",
              "      <td>India</td>\n",
              "      <td>Phd</td>\n",
              "    </tr>\n",
              "    <tr>\n",
              "      <th>Anuj</th>\n",
              "      <td>32</td>\n",
              "      <td>Delhi</td>\n",
              "      <td>India</td>\n",
              "      <td>Phd</td>\n",
              "    </tr>\n",
              "  </tbody>\n",
              "</table>\n",
              "</div>\n",
              "      <button class=\"colab-df-convert\" onclick=\"convertToInteractive('df-0d18bc67-e39a-446c-a62a-ab49e89e4c73')\"\n",
              "              title=\"Convert this dataframe to an interactive table.\"\n",
              "              style=\"display:none;\">\n",
              "        \n",
              "  <svg xmlns=\"http://www.w3.org/2000/svg\" height=\"24px\"viewBox=\"0 0 24 24\"\n",
              "       width=\"24px\">\n",
              "    <path d=\"M0 0h24v24H0V0z\" fill=\"none\"/>\n",
              "    <path d=\"M18.56 5.44l.94 2.06.94-2.06 2.06-.94-2.06-.94-.94-2.06-.94 2.06-2.06.94zm-11 1L8.5 8.5l.94-2.06 2.06-.94-2.06-.94L8.5 2.5l-.94 2.06-2.06.94zm10 10l.94 2.06.94-2.06 2.06-.94-2.06-.94-.94-2.06-.94 2.06-2.06.94z\"/><path d=\"M17.41 7.96l-1.37-1.37c-.4-.4-.92-.59-1.43-.59-.52 0-1.04.2-1.43.59L10.3 9.45l-7.72 7.72c-.78.78-.78 2.05 0 2.83L4 21.41c.39.39.9.59 1.41.59.51 0 1.02-.2 1.41-.59l7.78-7.78 2.81-2.81c.8-.78.8-2.07 0-2.86zM5.41 20L4 18.59l7.72-7.72 1.47 1.35L5.41 20z\"/>\n",
              "  </svg>\n",
              "      </button>\n",
              "      \n",
              "  <style>\n",
              "    .colab-df-container {\n",
              "      display:flex;\n",
              "      flex-wrap:wrap;\n",
              "      gap: 12px;\n",
              "    }\n",
              "\n",
              "    .colab-df-convert {\n",
              "      background-color: #E8F0FE;\n",
              "      border: none;\n",
              "      border-radius: 50%;\n",
              "      cursor: pointer;\n",
              "      display: none;\n",
              "      fill: #1967D2;\n",
              "      height: 32px;\n",
              "      padding: 0 0 0 0;\n",
              "      width: 32px;\n",
              "    }\n",
              "\n",
              "    .colab-df-convert:hover {\n",
              "      background-color: #E2EBFA;\n",
              "      box-shadow: 0px 1px 2px rgba(60, 64, 67, 0.3), 0px 1px 3px 1px rgba(60, 64, 67, 0.15);\n",
              "      fill: #174EA6;\n",
              "    }\n",
              "\n",
              "    [theme=dark] .colab-df-convert {\n",
              "      background-color: #3B4455;\n",
              "      fill: #D2E3FC;\n",
              "    }\n",
              "\n",
              "    [theme=dark] .colab-df-convert:hover {\n",
              "      background-color: #434B5C;\n",
              "      box-shadow: 0px 1px 3px 1px rgba(0, 0, 0, 0.15);\n",
              "      filter: drop-shadow(0px 1px 2px rgba(0, 0, 0, 0.3));\n",
              "      fill: #FFFFFF;\n",
              "    }\n",
              "  </style>\n",
              "\n",
              "      <script>\n",
              "        const buttonEl =\n",
              "          document.querySelector('#df-0d18bc67-e39a-446c-a62a-ab49e89e4c73 button.colab-df-convert');\n",
              "        buttonEl.style.display =\n",
              "          google.colab.kernel.accessAllowed ? 'block' : 'none';\n",
              "\n",
              "        async function convertToInteractive(key) {\n",
              "          const element = document.querySelector('#df-0d18bc67-e39a-446c-a62a-ab49e89e4c73');\n",
              "          const dataTable =\n",
              "            await google.colab.kernel.invokeFunction('convertToInteractive',\n",
              "                                                     [key], {});\n",
              "          if (!dataTable) return;\n",
              "\n",
              "          const docLinkHtml = 'Like what you see? Visit the ' +\n",
              "            '<a target=\"_blank\" href=https://colab.research.google.com/notebooks/data_table.ipynb>data table notebook</a>'\n",
              "            + ' to learn more about interactive tables.';\n",
              "          element.innerHTML = '';\n",
              "          dataTable['output_type'] = 'display_data';\n",
              "          await google.colab.output.renderOutput(dataTable, element);\n",
              "          const docLink = document.createElement('div');\n",
              "          docLink.innerHTML = docLinkHtml;\n",
              "          element.appendChild(docLink);\n",
              "        }\n",
              "      </script>\n",
              "    </div>\n",
              "  </div>\n",
              "  "
            ]
          },
          "metadata": {},
          "execution_count": 214
        }
      ]
    },
    {
      "cell_type": "markdown",
      "source": [
        "### Join dataframes"
      ],
      "metadata": {
        "id": "l-TJHO8fTDhn"
      }
    },
    {
      "cell_type": "markdown",
      "source": [
        "### Assignment 16"
      ],
      "metadata": {
        "id": "23_EZFIn5r0r"
      }
    },
    {
      "cell_type": "code",
      "source": [
        "#### Join dfs ---------\n",
        "\n",
        "# create another dataframe df2\n",
        "\n",
        "# Define a dictionary called 'data' containing employee information\n",
        "data = {'Name':['Matt', 'Joe'],\n",
        "        'Age':[65, 43 ],\n",
        "        'Address':['Monge', 'Chatelet'],\n",
        "        'Country' : ['France', 'France'],\n",
        "        'Qualification':[ 'MCA', 'Phd']}\n",
        " \n",
        "# Convert the dictionary into DataFrame and call it df2\n",
        "\n",
        "df2 = pd.DataFrame(data)\n",
        "\n",
        "df2\n"
      ],
      "metadata": {
        "id": "opNOR0hXTGxa",
        "colab": {
          "base_uri": "https://localhost:8080/",
          "height": 112
        },
        "outputId": "8e810f47-25bd-4de9-f32f-4037e4f34e87"
      },
      "execution_count": 215,
      "outputs": [
        {
          "output_type": "execute_result",
          "data": {
            "text/plain": [
              "   Name  Age   Address Country Qualification\n",
              "0  Matt   65     Monge  France           MCA\n",
              "1   Joe   43  Chatelet  France           Phd"
            ],
            "text/html": [
              "\n",
              "  <div id=\"df-f1b936b1-230c-4eca-af5c-d95da0867be4\">\n",
              "    <div class=\"colab-df-container\">\n",
              "      <div>\n",
              "<style scoped>\n",
              "    .dataframe tbody tr th:only-of-type {\n",
              "        vertical-align: middle;\n",
              "    }\n",
              "\n",
              "    .dataframe tbody tr th {\n",
              "        vertical-align: top;\n",
              "    }\n",
              "\n",
              "    .dataframe thead th {\n",
              "        text-align: right;\n",
              "    }\n",
              "</style>\n",
              "<table border=\"1\" class=\"dataframe\">\n",
              "  <thead>\n",
              "    <tr style=\"text-align: right;\">\n",
              "      <th></th>\n",
              "      <th>Name</th>\n",
              "      <th>Age</th>\n",
              "      <th>Address</th>\n",
              "      <th>Country</th>\n",
              "      <th>Qualification</th>\n",
              "    </tr>\n",
              "  </thead>\n",
              "  <tbody>\n",
              "    <tr>\n",
              "      <th>0</th>\n",
              "      <td>Matt</td>\n",
              "      <td>65</td>\n",
              "      <td>Monge</td>\n",
              "      <td>France</td>\n",
              "      <td>MCA</td>\n",
              "    </tr>\n",
              "    <tr>\n",
              "      <th>1</th>\n",
              "      <td>Joe</td>\n",
              "      <td>43</td>\n",
              "      <td>Chatelet</td>\n",
              "      <td>France</td>\n",
              "      <td>Phd</td>\n",
              "    </tr>\n",
              "  </tbody>\n",
              "</table>\n",
              "</div>\n",
              "      <button class=\"colab-df-convert\" onclick=\"convertToInteractive('df-f1b936b1-230c-4eca-af5c-d95da0867be4')\"\n",
              "              title=\"Convert this dataframe to an interactive table.\"\n",
              "              style=\"display:none;\">\n",
              "        \n",
              "  <svg xmlns=\"http://www.w3.org/2000/svg\" height=\"24px\"viewBox=\"0 0 24 24\"\n",
              "       width=\"24px\">\n",
              "    <path d=\"M0 0h24v24H0V0z\" fill=\"none\"/>\n",
              "    <path d=\"M18.56 5.44l.94 2.06.94-2.06 2.06-.94-2.06-.94-.94-2.06-.94 2.06-2.06.94zm-11 1L8.5 8.5l.94-2.06 2.06-.94-2.06-.94L8.5 2.5l-.94 2.06-2.06.94zm10 10l.94 2.06.94-2.06 2.06-.94-2.06-.94-.94-2.06-.94 2.06-2.06.94z\"/><path d=\"M17.41 7.96l-1.37-1.37c-.4-.4-.92-.59-1.43-.59-.52 0-1.04.2-1.43.59L10.3 9.45l-7.72 7.72c-.78.78-.78 2.05 0 2.83L4 21.41c.39.39.9.59 1.41.59.51 0 1.02-.2 1.41-.59l7.78-7.78 2.81-2.81c.8-.78.8-2.07 0-2.86zM5.41 20L4 18.59l7.72-7.72 1.47 1.35L5.41 20z\"/>\n",
              "  </svg>\n",
              "      </button>\n",
              "      \n",
              "  <style>\n",
              "    .colab-df-container {\n",
              "      display:flex;\n",
              "      flex-wrap:wrap;\n",
              "      gap: 12px;\n",
              "    }\n",
              "\n",
              "    .colab-df-convert {\n",
              "      background-color: #E8F0FE;\n",
              "      border: none;\n",
              "      border-radius: 50%;\n",
              "      cursor: pointer;\n",
              "      display: none;\n",
              "      fill: #1967D2;\n",
              "      height: 32px;\n",
              "      padding: 0 0 0 0;\n",
              "      width: 32px;\n",
              "    }\n",
              "\n",
              "    .colab-df-convert:hover {\n",
              "      background-color: #E2EBFA;\n",
              "      box-shadow: 0px 1px 2px rgba(60, 64, 67, 0.3), 0px 1px 3px 1px rgba(60, 64, 67, 0.15);\n",
              "      fill: #174EA6;\n",
              "    }\n",
              "\n",
              "    [theme=dark] .colab-df-convert {\n",
              "      background-color: #3B4455;\n",
              "      fill: #D2E3FC;\n",
              "    }\n",
              "\n",
              "    [theme=dark] .colab-df-convert:hover {\n",
              "      background-color: #434B5C;\n",
              "      box-shadow: 0px 1px 3px 1px rgba(0, 0, 0, 0.15);\n",
              "      filter: drop-shadow(0px 1px 2px rgba(0, 0, 0, 0.3));\n",
              "      fill: #FFFFFF;\n",
              "    }\n",
              "  </style>\n",
              "\n",
              "      <script>\n",
              "        const buttonEl =\n",
              "          document.querySelector('#df-f1b936b1-230c-4eca-af5c-d95da0867be4 button.colab-df-convert');\n",
              "        buttonEl.style.display =\n",
              "          google.colab.kernel.accessAllowed ? 'block' : 'none';\n",
              "\n",
              "        async function convertToInteractive(key) {\n",
              "          const element = document.querySelector('#df-f1b936b1-230c-4eca-af5c-d95da0867be4');\n",
              "          const dataTable =\n",
              "            await google.colab.kernel.invokeFunction('convertToInteractive',\n",
              "                                                     [key], {});\n",
              "          if (!dataTable) return;\n",
              "\n",
              "          const docLinkHtml = 'Like what you see? Visit the ' +\n",
              "            '<a target=\"_blank\" href=https://colab.research.google.com/notebooks/data_table.ipynb>data table notebook</a>'\n",
              "            + ' to learn more about interactive tables.';\n",
              "          element.innerHTML = '';\n",
              "          dataTable['output_type'] = 'display_data';\n",
              "          await google.colab.output.renderOutput(dataTable, element);\n",
              "          const docLink = document.createElement('div');\n",
              "          docLink.innerHTML = docLinkHtml;\n",
              "          element.appendChild(docLink);\n",
              "        }\n",
              "      </script>\n",
              "    </div>\n",
              "  </div>\n",
              "  "
            ]
          },
          "metadata": {},
          "execution_count": 215
        }
      ]
    },
    {
      "cell_type": "code",
      "source": [
        "#@title Display Solution 16\n",
        "\n",
        "# Define a dictionary containing employee data\n",
        "data = {'Name':['Matt', 'Joe'],\n",
        "        'Age':[65, 43 ],\n",
        "        'Address':['Monge', 'Chatelet'],\n",
        "        'Country' : ['France', 'France'],\n",
        "        'Qualification':[ 'MCA', 'Phd']}\n",
        "\n",
        "# Load the data into DataFrame and call it df2\n",
        "df2 = pd.DataFrame(data)\n",
        "\n",
        "# visualize the new df2\n",
        "df2"
      ],
      "metadata": {
        "id": "l126o6SfTT6m",
        "cellView": "form",
        "colab": {
          "base_uri": "https://localhost:8080/",
          "height": 112
        },
        "outputId": "cdff9a32-452f-442d-8609-ebb3103d5a7f"
      },
      "execution_count": 216,
      "outputs": [
        {
          "output_type": "execute_result",
          "data": {
            "text/plain": [
              "   Name  Age   Address Country Qualification\n",
              "0  Matt   65     Monge  France           MCA\n",
              "1   Joe   43  Chatelet  France           Phd"
            ],
            "text/html": [
              "\n",
              "  <div id=\"df-5f92c85e-353c-4551-80b4-2a1ebb93c595\">\n",
              "    <div class=\"colab-df-container\">\n",
              "      <div>\n",
              "<style scoped>\n",
              "    .dataframe tbody tr th:only-of-type {\n",
              "        vertical-align: middle;\n",
              "    }\n",
              "\n",
              "    .dataframe tbody tr th {\n",
              "        vertical-align: top;\n",
              "    }\n",
              "\n",
              "    .dataframe thead th {\n",
              "        text-align: right;\n",
              "    }\n",
              "</style>\n",
              "<table border=\"1\" class=\"dataframe\">\n",
              "  <thead>\n",
              "    <tr style=\"text-align: right;\">\n",
              "      <th></th>\n",
              "      <th>Name</th>\n",
              "      <th>Age</th>\n",
              "      <th>Address</th>\n",
              "      <th>Country</th>\n",
              "      <th>Qualification</th>\n",
              "    </tr>\n",
              "  </thead>\n",
              "  <tbody>\n",
              "    <tr>\n",
              "      <th>0</th>\n",
              "      <td>Matt</td>\n",
              "      <td>65</td>\n",
              "      <td>Monge</td>\n",
              "      <td>France</td>\n",
              "      <td>MCA</td>\n",
              "    </tr>\n",
              "    <tr>\n",
              "      <th>1</th>\n",
              "      <td>Joe</td>\n",
              "      <td>43</td>\n",
              "      <td>Chatelet</td>\n",
              "      <td>France</td>\n",
              "      <td>Phd</td>\n",
              "    </tr>\n",
              "  </tbody>\n",
              "</table>\n",
              "</div>\n",
              "      <button class=\"colab-df-convert\" onclick=\"convertToInteractive('df-5f92c85e-353c-4551-80b4-2a1ebb93c595')\"\n",
              "              title=\"Convert this dataframe to an interactive table.\"\n",
              "              style=\"display:none;\">\n",
              "        \n",
              "  <svg xmlns=\"http://www.w3.org/2000/svg\" height=\"24px\"viewBox=\"0 0 24 24\"\n",
              "       width=\"24px\">\n",
              "    <path d=\"M0 0h24v24H0V0z\" fill=\"none\"/>\n",
              "    <path d=\"M18.56 5.44l.94 2.06.94-2.06 2.06-.94-2.06-.94-.94-2.06-.94 2.06-2.06.94zm-11 1L8.5 8.5l.94-2.06 2.06-.94-2.06-.94L8.5 2.5l-.94 2.06-2.06.94zm10 10l.94 2.06.94-2.06 2.06-.94-2.06-.94-.94-2.06-.94 2.06-2.06.94z\"/><path d=\"M17.41 7.96l-1.37-1.37c-.4-.4-.92-.59-1.43-.59-.52 0-1.04.2-1.43.59L10.3 9.45l-7.72 7.72c-.78.78-.78 2.05 0 2.83L4 21.41c.39.39.9.59 1.41.59.51 0 1.02-.2 1.41-.59l7.78-7.78 2.81-2.81c.8-.78.8-2.07 0-2.86zM5.41 20L4 18.59l7.72-7.72 1.47 1.35L5.41 20z\"/>\n",
              "  </svg>\n",
              "      </button>\n",
              "      \n",
              "  <style>\n",
              "    .colab-df-container {\n",
              "      display:flex;\n",
              "      flex-wrap:wrap;\n",
              "      gap: 12px;\n",
              "    }\n",
              "\n",
              "    .colab-df-convert {\n",
              "      background-color: #E8F0FE;\n",
              "      border: none;\n",
              "      border-radius: 50%;\n",
              "      cursor: pointer;\n",
              "      display: none;\n",
              "      fill: #1967D2;\n",
              "      height: 32px;\n",
              "      padding: 0 0 0 0;\n",
              "      width: 32px;\n",
              "    }\n",
              "\n",
              "    .colab-df-convert:hover {\n",
              "      background-color: #E2EBFA;\n",
              "      box-shadow: 0px 1px 2px rgba(60, 64, 67, 0.3), 0px 1px 3px 1px rgba(60, 64, 67, 0.15);\n",
              "      fill: #174EA6;\n",
              "    }\n",
              "\n",
              "    [theme=dark] .colab-df-convert {\n",
              "      background-color: #3B4455;\n",
              "      fill: #D2E3FC;\n",
              "    }\n",
              "\n",
              "    [theme=dark] .colab-df-convert:hover {\n",
              "      background-color: #434B5C;\n",
              "      box-shadow: 0px 1px 3px 1px rgba(0, 0, 0, 0.15);\n",
              "      filter: drop-shadow(0px 1px 2px rgba(0, 0, 0, 0.3));\n",
              "      fill: #FFFFFF;\n",
              "    }\n",
              "  </style>\n",
              "\n",
              "      <script>\n",
              "        const buttonEl =\n",
              "          document.querySelector('#df-5f92c85e-353c-4551-80b4-2a1ebb93c595 button.colab-df-convert');\n",
              "        buttonEl.style.display =\n",
              "          google.colab.kernel.accessAllowed ? 'block' : 'none';\n",
              "\n",
              "        async function convertToInteractive(key) {\n",
              "          const element = document.querySelector('#df-5f92c85e-353c-4551-80b4-2a1ebb93c595');\n",
              "          const dataTable =\n",
              "            await google.colab.kernel.invokeFunction('convertToInteractive',\n",
              "                                                     [key], {});\n",
              "          if (!dataTable) return;\n",
              "\n",
              "          const docLinkHtml = 'Like what you see? Visit the ' +\n",
              "            '<a target=\"_blank\" href=https://colab.research.google.com/notebooks/data_table.ipynb>data table notebook</a>'\n",
              "            + ' to learn more about interactive tables.';\n",
              "          element.innerHTML = '';\n",
              "          dataTable['output_type'] = 'display_data';\n",
              "          await google.colab.output.renderOutput(dataTable, element);\n",
              "          const docLink = document.createElement('div');\n",
              "          docLink.innerHTML = docLinkHtml;\n",
              "          element.appendChild(docLink);\n",
              "        }\n",
              "      </script>\n",
              "    </div>\n",
              "  </div>\n",
              "  "
            ]
          },
          "metadata": {},
          "execution_count": 216
        }
      ]
    },
    {
      "cell_type": "markdown",
      "source": [
        "### Assignment 17"
      ],
      "metadata": {
        "id": "5I9lcuaJ5u1D"
      }
    },
    {
      "cell_type": "code",
      "source": [
        "# joinf df1 and df2 into a new dataframe df\n",
        "\n",
        "# ...keep in mind that the 2 dataframes are not structured in the same manner\n",
        "# ...for convinience, visualize the 2 df in diferent code cells, in order to compare them..\n",
        "\n",
        "# ...first, you'll need to harmonise the dfs structure, so we reset the index of df2 (by specifying that column Name should be used as an index)\n",
        "\n",
        "\n",
        "#df2 = df2.set_index('Name')\n",
        "print(df1.shape)\n",
        "print(df2.shape)\n",
        "\n",
        "df = pd.concat([df1, df2])"
      ],
      "metadata": {
        "id": "NCmjJSWLT6HR",
        "colab": {
          "base_uri": "https://localhost:8080/"
        },
        "outputId": "07ac0a09-36f9-46cd-f34c-b99fba3862e1"
      },
      "execution_count": 217,
      "outputs": [
        {
          "output_type": "stream",
          "name": "stdout",
          "text": [
            "(4, 4)\n",
            "(2, 5)\n"
          ]
        }
      ]
    },
    {
      "cell_type": "code",
      "source": [
        "#@title Display Solution 17\n",
        "\n",
        "\n",
        "# joinf df1 and df2 into a new dataframe df\n",
        "\n",
        "# keep in mind that the 2 dataframes are not structured in the same manner\n",
        "# df1 uses as index the column Name\n",
        "# df2 don't use column Name as a index ==> .set_index('Name)\n",
        "\n",
        "# ...for convinience, visualize the 2 df in diferent code cells, in order to compare them..\n",
        "\n",
        "# first, we need to harmonise the dfs structure, so we reset the index of df2(by specifying that column Name should be used as an index)\n",
        "df2 = df2.set_index('Name')\n",
        "\n",
        "# now you're ready to join the 2 dfs\n",
        "df = pd.concat([df1, df2]) # it will use the column names  to join by\n",
        "\n",
        "df"
      ],
      "metadata": {
        "id": "x09xQH3yUphM",
        "cellView": "form",
        "colab": {
          "base_uri": "https://localhost:8080/",
          "height": 269
        },
        "outputId": "d1ae5610-4294-442b-9ac2-46a741664379"
      },
      "execution_count": 218,
      "outputs": [
        {
          "output_type": "execute_result",
          "data": {
            "text/plain": [
              "        Age   Address Country Qualification\n",
              "Name                                       \n",
              "Jai      27     Delhi   India           Phd\n",
              "Princi   24    Kanpur   India            MA\n",
              "Gaurav   22    Kanpur   India           MCA\n",
              "Anuj     32     Delhi   India           Phd\n",
              "Matt     65     Monge  France           MCA\n",
              "Joe      43  Chatelet  France           Phd"
            ],
            "text/html": [
              "\n",
              "  <div id=\"df-2c0951b9-ecbf-4d66-ac64-f87a4894702e\">\n",
              "    <div class=\"colab-df-container\">\n",
              "      <div>\n",
              "<style scoped>\n",
              "    .dataframe tbody tr th:only-of-type {\n",
              "        vertical-align: middle;\n",
              "    }\n",
              "\n",
              "    .dataframe tbody tr th {\n",
              "        vertical-align: top;\n",
              "    }\n",
              "\n",
              "    .dataframe thead th {\n",
              "        text-align: right;\n",
              "    }\n",
              "</style>\n",
              "<table border=\"1\" class=\"dataframe\">\n",
              "  <thead>\n",
              "    <tr style=\"text-align: right;\">\n",
              "      <th></th>\n",
              "      <th>Age</th>\n",
              "      <th>Address</th>\n",
              "      <th>Country</th>\n",
              "      <th>Qualification</th>\n",
              "    </tr>\n",
              "    <tr>\n",
              "      <th>Name</th>\n",
              "      <th></th>\n",
              "      <th></th>\n",
              "      <th></th>\n",
              "      <th></th>\n",
              "    </tr>\n",
              "  </thead>\n",
              "  <tbody>\n",
              "    <tr>\n",
              "      <th>Jai</th>\n",
              "      <td>27</td>\n",
              "      <td>Delhi</td>\n",
              "      <td>India</td>\n",
              "      <td>Phd</td>\n",
              "    </tr>\n",
              "    <tr>\n",
              "      <th>Princi</th>\n",
              "      <td>24</td>\n",
              "      <td>Kanpur</td>\n",
              "      <td>India</td>\n",
              "      <td>MA</td>\n",
              "    </tr>\n",
              "    <tr>\n",
              "      <th>Gaurav</th>\n",
              "      <td>22</td>\n",
              "      <td>Kanpur</td>\n",
              "      <td>India</td>\n",
              "      <td>MCA</td>\n",
              "    </tr>\n",
              "    <tr>\n",
              "      <th>Anuj</th>\n",
              "      <td>32</td>\n",
              "      <td>Delhi</td>\n",
              "      <td>India</td>\n",
              "      <td>Phd</td>\n",
              "    </tr>\n",
              "    <tr>\n",
              "      <th>Matt</th>\n",
              "      <td>65</td>\n",
              "      <td>Monge</td>\n",
              "      <td>France</td>\n",
              "      <td>MCA</td>\n",
              "    </tr>\n",
              "    <tr>\n",
              "      <th>Joe</th>\n",
              "      <td>43</td>\n",
              "      <td>Chatelet</td>\n",
              "      <td>France</td>\n",
              "      <td>Phd</td>\n",
              "    </tr>\n",
              "  </tbody>\n",
              "</table>\n",
              "</div>\n",
              "      <button class=\"colab-df-convert\" onclick=\"convertToInteractive('df-2c0951b9-ecbf-4d66-ac64-f87a4894702e')\"\n",
              "              title=\"Convert this dataframe to an interactive table.\"\n",
              "              style=\"display:none;\">\n",
              "        \n",
              "  <svg xmlns=\"http://www.w3.org/2000/svg\" height=\"24px\"viewBox=\"0 0 24 24\"\n",
              "       width=\"24px\">\n",
              "    <path d=\"M0 0h24v24H0V0z\" fill=\"none\"/>\n",
              "    <path d=\"M18.56 5.44l.94 2.06.94-2.06 2.06-.94-2.06-.94-.94-2.06-.94 2.06-2.06.94zm-11 1L8.5 8.5l.94-2.06 2.06-.94-2.06-.94L8.5 2.5l-.94 2.06-2.06.94zm10 10l.94 2.06.94-2.06 2.06-.94-2.06-.94-.94-2.06-.94 2.06-2.06.94z\"/><path d=\"M17.41 7.96l-1.37-1.37c-.4-.4-.92-.59-1.43-.59-.52 0-1.04.2-1.43.59L10.3 9.45l-7.72 7.72c-.78.78-.78 2.05 0 2.83L4 21.41c.39.39.9.59 1.41.59.51 0 1.02-.2 1.41-.59l7.78-7.78 2.81-2.81c.8-.78.8-2.07 0-2.86zM5.41 20L4 18.59l7.72-7.72 1.47 1.35L5.41 20z\"/>\n",
              "  </svg>\n",
              "      </button>\n",
              "      \n",
              "  <style>\n",
              "    .colab-df-container {\n",
              "      display:flex;\n",
              "      flex-wrap:wrap;\n",
              "      gap: 12px;\n",
              "    }\n",
              "\n",
              "    .colab-df-convert {\n",
              "      background-color: #E8F0FE;\n",
              "      border: none;\n",
              "      border-radius: 50%;\n",
              "      cursor: pointer;\n",
              "      display: none;\n",
              "      fill: #1967D2;\n",
              "      height: 32px;\n",
              "      padding: 0 0 0 0;\n",
              "      width: 32px;\n",
              "    }\n",
              "\n",
              "    .colab-df-convert:hover {\n",
              "      background-color: #E2EBFA;\n",
              "      box-shadow: 0px 1px 2px rgba(60, 64, 67, 0.3), 0px 1px 3px 1px rgba(60, 64, 67, 0.15);\n",
              "      fill: #174EA6;\n",
              "    }\n",
              "\n",
              "    [theme=dark] .colab-df-convert {\n",
              "      background-color: #3B4455;\n",
              "      fill: #D2E3FC;\n",
              "    }\n",
              "\n",
              "    [theme=dark] .colab-df-convert:hover {\n",
              "      background-color: #434B5C;\n",
              "      box-shadow: 0px 1px 3px 1px rgba(0, 0, 0, 0.15);\n",
              "      filter: drop-shadow(0px 1px 2px rgba(0, 0, 0, 0.3));\n",
              "      fill: #FFFFFF;\n",
              "    }\n",
              "  </style>\n",
              "\n",
              "      <script>\n",
              "        const buttonEl =\n",
              "          document.querySelector('#df-2c0951b9-ecbf-4d66-ac64-f87a4894702e button.colab-df-convert');\n",
              "        buttonEl.style.display =\n",
              "          google.colab.kernel.accessAllowed ? 'block' : 'none';\n",
              "\n",
              "        async function convertToInteractive(key) {\n",
              "          const element = document.querySelector('#df-2c0951b9-ecbf-4d66-ac64-f87a4894702e');\n",
              "          const dataTable =\n",
              "            await google.colab.kernel.invokeFunction('convertToInteractive',\n",
              "                                                     [key], {});\n",
              "          if (!dataTable) return;\n",
              "\n",
              "          const docLinkHtml = 'Like what you see? Visit the ' +\n",
              "            '<a target=\"_blank\" href=https://colab.research.google.com/notebooks/data_table.ipynb>data table notebook</a>'\n",
              "            + ' to learn more about interactive tables.';\n",
              "          element.innerHTML = '';\n",
              "          dataTable['output_type'] = 'display_data';\n",
              "          await google.colab.output.renderOutput(dataTable, element);\n",
              "          const docLink = document.createElement('div');\n",
              "          docLink.innerHTML = docLinkHtml;\n",
              "          element.appendChild(docLink);\n",
              "        }\n",
              "      </script>\n",
              "    </div>\n",
              "  </div>\n",
              "  "
            ]
          },
          "metadata": {},
          "execution_count": 218
        }
      ]
    },
    {
      "cell_type": "markdown",
      "source": [
        "### Assignment 18"
      ],
      "metadata": {
        "id": "8DXxKkwy5xG2"
      }
    },
    {
      "cell_type": "code",
      "source": [
        "# check the dimension of the new joined df\n",
        "\n",
        "df.shape"
      ],
      "metadata": {
        "id": "3SMJFg39T7_4",
        "colab": {
          "base_uri": "https://localhost:8080/"
        },
        "outputId": "25bee777-7a99-4d58-b588-1fe22614891a"
      },
      "execution_count": 219,
      "outputs": [
        {
          "output_type": "execute_result",
          "data": {
            "text/plain": [
              "(6, 4)"
            ]
          },
          "metadata": {},
          "execution_count": 219
        }
      ]
    },
    {
      "cell_type": "code",
      "source": [
        "#@title Display Solution 18\n",
        "\n",
        "# check the dimension of the new joined df\n",
        "\n",
        "df.shape"
      ],
      "metadata": {
        "id": "GhrbfHJHUww_",
        "cellView": "form",
        "colab": {
          "base_uri": "https://localhost:8080/"
        },
        "outputId": "de608180-c330-4b4f-ccb3-fb6b0f5779b2"
      },
      "execution_count": 220,
      "outputs": [
        {
          "output_type": "execute_result",
          "data": {
            "text/plain": [
              "(6, 4)"
            ]
          },
          "metadata": {},
          "execution_count": 220
        }
      ]
    },
    {
      "cell_type": "markdown",
      "source": [
        "### Assignment 19"
      ],
      "metadata": {
        "id": "3vXfYcdo5zC3"
      }
    },
    {
      "cell_type": "code",
      "source": [
        "#### Modify df2 ----------\n",
        "\n",
        "# add a new row ['Calib', '34', 'Monge', 'France', 'Phd'] ==> (with .loc)\n",
        "# check again the dimensions of the modified df\n",
        "\n",
        "df.loc['Calib']= ['34', 'Monge', 'France', 'Phd']\n",
        "df.shape\n"
      ],
      "metadata": {
        "id": "AfW5lBUGUCYL",
        "colab": {
          "base_uri": "https://localhost:8080/"
        },
        "outputId": "2e8cc4c8-a060-4400-f03f-8f489a238b74"
      },
      "execution_count": 221,
      "outputs": [
        {
          "output_type": "execute_result",
          "data": {
            "text/plain": [
              "(7, 4)"
            ]
          },
          "metadata": {},
          "execution_count": 221
        }
      ]
    },
    {
      "cell_type": "code",
      "source": [
        "#@title Display Solution 19\n",
        "\n",
        "# add a new row ['Calib', '34', 'Monge', 'Phd']\n",
        "\n",
        "df.loc['Calib']= ['34', 'Monge', 'France', 'Phd']\n",
        "\n",
        "# check again the dimensions of the modified df\n",
        "print(df.shape)\n",
        "\n",
        "df\n",
        "\n"
      ],
      "metadata": {
        "id": "U7MKISr_U1Y3",
        "cellView": "form",
        "colab": {
          "base_uri": "https://localhost:8080/",
          "height": 318
        },
        "outputId": "6752378a-775e-436e-92c2-f42092dc2c20"
      },
      "execution_count": 222,
      "outputs": [
        {
          "output_type": "stream",
          "name": "stdout",
          "text": [
            "(7, 4)\n"
          ]
        },
        {
          "output_type": "execute_result",
          "data": {
            "text/plain": [
              "       Age   Address Country Qualification\n",
              "Name                                      \n",
              "Jai     27     Delhi   India           Phd\n",
              "Princi  24    Kanpur   India            MA\n",
              "Gaurav  22    Kanpur   India           MCA\n",
              "Anuj    32     Delhi   India           Phd\n",
              "Matt    65     Monge  France           MCA\n",
              "Joe     43  Chatelet  France           Phd\n",
              "Calib   34     Monge  France           Phd"
            ],
            "text/html": [
              "\n",
              "  <div id=\"df-e88bbd8e-4e8b-41a9-9c3c-1c861da24ab7\">\n",
              "    <div class=\"colab-df-container\">\n",
              "      <div>\n",
              "<style scoped>\n",
              "    .dataframe tbody tr th:only-of-type {\n",
              "        vertical-align: middle;\n",
              "    }\n",
              "\n",
              "    .dataframe tbody tr th {\n",
              "        vertical-align: top;\n",
              "    }\n",
              "\n",
              "    .dataframe thead th {\n",
              "        text-align: right;\n",
              "    }\n",
              "</style>\n",
              "<table border=\"1\" class=\"dataframe\">\n",
              "  <thead>\n",
              "    <tr style=\"text-align: right;\">\n",
              "      <th></th>\n",
              "      <th>Age</th>\n",
              "      <th>Address</th>\n",
              "      <th>Country</th>\n",
              "      <th>Qualification</th>\n",
              "    </tr>\n",
              "    <tr>\n",
              "      <th>Name</th>\n",
              "      <th></th>\n",
              "      <th></th>\n",
              "      <th></th>\n",
              "      <th></th>\n",
              "    </tr>\n",
              "  </thead>\n",
              "  <tbody>\n",
              "    <tr>\n",
              "      <th>Jai</th>\n",
              "      <td>27</td>\n",
              "      <td>Delhi</td>\n",
              "      <td>India</td>\n",
              "      <td>Phd</td>\n",
              "    </tr>\n",
              "    <tr>\n",
              "      <th>Princi</th>\n",
              "      <td>24</td>\n",
              "      <td>Kanpur</td>\n",
              "      <td>India</td>\n",
              "      <td>MA</td>\n",
              "    </tr>\n",
              "    <tr>\n",
              "      <th>Gaurav</th>\n",
              "      <td>22</td>\n",
              "      <td>Kanpur</td>\n",
              "      <td>India</td>\n",
              "      <td>MCA</td>\n",
              "    </tr>\n",
              "    <tr>\n",
              "      <th>Anuj</th>\n",
              "      <td>32</td>\n",
              "      <td>Delhi</td>\n",
              "      <td>India</td>\n",
              "      <td>Phd</td>\n",
              "    </tr>\n",
              "    <tr>\n",
              "      <th>Matt</th>\n",
              "      <td>65</td>\n",
              "      <td>Monge</td>\n",
              "      <td>France</td>\n",
              "      <td>MCA</td>\n",
              "    </tr>\n",
              "    <tr>\n",
              "      <th>Joe</th>\n",
              "      <td>43</td>\n",
              "      <td>Chatelet</td>\n",
              "      <td>France</td>\n",
              "      <td>Phd</td>\n",
              "    </tr>\n",
              "    <tr>\n",
              "      <th>Calib</th>\n",
              "      <td>34</td>\n",
              "      <td>Monge</td>\n",
              "      <td>France</td>\n",
              "      <td>Phd</td>\n",
              "    </tr>\n",
              "  </tbody>\n",
              "</table>\n",
              "</div>\n",
              "      <button class=\"colab-df-convert\" onclick=\"convertToInteractive('df-e88bbd8e-4e8b-41a9-9c3c-1c861da24ab7')\"\n",
              "              title=\"Convert this dataframe to an interactive table.\"\n",
              "              style=\"display:none;\">\n",
              "        \n",
              "  <svg xmlns=\"http://www.w3.org/2000/svg\" height=\"24px\"viewBox=\"0 0 24 24\"\n",
              "       width=\"24px\">\n",
              "    <path d=\"M0 0h24v24H0V0z\" fill=\"none\"/>\n",
              "    <path d=\"M18.56 5.44l.94 2.06.94-2.06 2.06-.94-2.06-.94-.94-2.06-.94 2.06-2.06.94zm-11 1L8.5 8.5l.94-2.06 2.06-.94-2.06-.94L8.5 2.5l-.94 2.06-2.06.94zm10 10l.94 2.06.94-2.06 2.06-.94-2.06-.94-.94-2.06-.94 2.06-2.06.94z\"/><path d=\"M17.41 7.96l-1.37-1.37c-.4-.4-.92-.59-1.43-.59-.52 0-1.04.2-1.43.59L10.3 9.45l-7.72 7.72c-.78.78-.78 2.05 0 2.83L4 21.41c.39.39.9.59 1.41.59.51 0 1.02-.2 1.41-.59l7.78-7.78 2.81-2.81c.8-.78.8-2.07 0-2.86zM5.41 20L4 18.59l7.72-7.72 1.47 1.35L5.41 20z\"/>\n",
              "  </svg>\n",
              "      </button>\n",
              "      \n",
              "  <style>\n",
              "    .colab-df-container {\n",
              "      display:flex;\n",
              "      flex-wrap:wrap;\n",
              "      gap: 12px;\n",
              "    }\n",
              "\n",
              "    .colab-df-convert {\n",
              "      background-color: #E8F0FE;\n",
              "      border: none;\n",
              "      border-radius: 50%;\n",
              "      cursor: pointer;\n",
              "      display: none;\n",
              "      fill: #1967D2;\n",
              "      height: 32px;\n",
              "      padding: 0 0 0 0;\n",
              "      width: 32px;\n",
              "    }\n",
              "\n",
              "    .colab-df-convert:hover {\n",
              "      background-color: #E2EBFA;\n",
              "      box-shadow: 0px 1px 2px rgba(60, 64, 67, 0.3), 0px 1px 3px 1px rgba(60, 64, 67, 0.15);\n",
              "      fill: #174EA6;\n",
              "    }\n",
              "\n",
              "    [theme=dark] .colab-df-convert {\n",
              "      background-color: #3B4455;\n",
              "      fill: #D2E3FC;\n",
              "    }\n",
              "\n",
              "    [theme=dark] .colab-df-convert:hover {\n",
              "      background-color: #434B5C;\n",
              "      box-shadow: 0px 1px 3px 1px rgba(0, 0, 0, 0.15);\n",
              "      filter: drop-shadow(0px 1px 2px rgba(0, 0, 0, 0.3));\n",
              "      fill: #FFFFFF;\n",
              "    }\n",
              "  </style>\n",
              "\n",
              "      <script>\n",
              "        const buttonEl =\n",
              "          document.querySelector('#df-e88bbd8e-4e8b-41a9-9c3c-1c861da24ab7 button.colab-df-convert');\n",
              "        buttonEl.style.display =\n",
              "          google.colab.kernel.accessAllowed ? 'block' : 'none';\n",
              "\n",
              "        async function convertToInteractive(key) {\n",
              "          const element = document.querySelector('#df-e88bbd8e-4e8b-41a9-9c3c-1c861da24ab7');\n",
              "          const dataTable =\n",
              "            await google.colab.kernel.invokeFunction('convertToInteractive',\n",
              "                                                     [key], {});\n",
              "          if (!dataTable) return;\n",
              "\n",
              "          const docLinkHtml = 'Like what you see? Visit the ' +\n",
              "            '<a target=\"_blank\" href=https://colab.research.google.com/notebooks/data_table.ipynb>data table notebook</a>'\n",
              "            + ' to learn more about interactive tables.';\n",
              "          element.innerHTML = '';\n",
              "          dataTable['output_type'] = 'display_data';\n",
              "          await google.colab.output.renderOutput(dataTable, element);\n",
              "          const docLink = document.createElement('div');\n",
              "          docLink.innerHTML = docLinkHtml;\n",
              "          element.appendChild(docLink);\n",
              "        }\n",
              "      </script>\n",
              "    </div>\n",
              "  </div>\n",
              "  "
            ]
          },
          "metadata": {},
          "execution_count": 222
        }
      ]
    },
    {
      "cell_type": "markdown",
      "source": [
        "### Assignment 20"
      ],
      "metadata": {
        "id": "-g0og0kc51K_"
      }
    },
    {
      "cell_type": "code",
      "source": [
        "# Matt has changed the address from 'Monge' to 'LA Défense' or 'La Défense' \n",
        "\n",
        "# update the dataframe accordingly using  .iloc method for 'LA Défense' \n",
        "## ==> you'll need to locate the indices (numeric) where: row = 'Matt', and column='Address'\n",
        "# visualize the output after update\n",
        "\n",
        "# and using  .loc method for 'La Defense'\n",
        "# visualize the output after update\n",
        "\n",
        "df.loc['Matt', ['Address']] = ['La Défense']\n",
        "df"
      ],
      "metadata": {
        "id": "dX0NWudMUI6u",
        "colab": {
          "base_uri": "https://localhost:8080/",
          "height": 300
        },
        "outputId": "343de01d-fbce-4f40-cecc-f8bd1113aa2f"
      },
      "execution_count": 223,
      "outputs": [
        {
          "output_type": "execute_result",
          "data": {
            "text/plain": [
              "       Age     Address Country Qualification\n",
              "Name                                        \n",
              "Jai     27       Delhi   India           Phd\n",
              "Princi  24      Kanpur   India            MA\n",
              "Gaurav  22      Kanpur   India           MCA\n",
              "Anuj    32       Delhi   India           Phd\n",
              "Matt    65  La Défense  France           MCA\n",
              "Joe     43    Chatelet  France           Phd\n",
              "Calib   34       Monge  France           Phd"
            ],
            "text/html": [
              "\n",
              "  <div id=\"df-95e88349-5d93-473e-9b05-3b659d9922ad\">\n",
              "    <div class=\"colab-df-container\">\n",
              "      <div>\n",
              "<style scoped>\n",
              "    .dataframe tbody tr th:only-of-type {\n",
              "        vertical-align: middle;\n",
              "    }\n",
              "\n",
              "    .dataframe tbody tr th {\n",
              "        vertical-align: top;\n",
              "    }\n",
              "\n",
              "    .dataframe thead th {\n",
              "        text-align: right;\n",
              "    }\n",
              "</style>\n",
              "<table border=\"1\" class=\"dataframe\">\n",
              "  <thead>\n",
              "    <tr style=\"text-align: right;\">\n",
              "      <th></th>\n",
              "      <th>Age</th>\n",
              "      <th>Address</th>\n",
              "      <th>Country</th>\n",
              "      <th>Qualification</th>\n",
              "    </tr>\n",
              "    <tr>\n",
              "      <th>Name</th>\n",
              "      <th></th>\n",
              "      <th></th>\n",
              "      <th></th>\n",
              "      <th></th>\n",
              "    </tr>\n",
              "  </thead>\n",
              "  <tbody>\n",
              "    <tr>\n",
              "      <th>Jai</th>\n",
              "      <td>27</td>\n",
              "      <td>Delhi</td>\n",
              "      <td>India</td>\n",
              "      <td>Phd</td>\n",
              "    </tr>\n",
              "    <tr>\n",
              "      <th>Princi</th>\n",
              "      <td>24</td>\n",
              "      <td>Kanpur</td>\n",
              "      <td>India</td>\n",
              "      <td>MA</td>\n",
              "    </tr>\n",
              "    <tr>\n",
              "      <th>Gaurav</th>\n",
              "      <td>22</td>\n",
              "      <td>Kanpur</td>\n",
              "      <td>India</td>\n",
              "      <td>MCA</td>\n",
              "    </tr>\n",
              "    <tr>\n",
              "      <th>Anuj</th>\n",
              "      <td>32</td>\n",
              "      <td>Delhi</td>\n",
              "      <td>India</td>\n",
              "      <td>Phd</td>\n",
              "    </tr>\n",
              "    <tr>\n",
              "      <th>Matt</th>\n",
              "      <td>65</td>\n",
              "      <td>La Défense</td>\n",
              "      <td>France</td>\n",
              "      <td>MCA</td>\n",
              "    </tr>\n",
              "    <tr>\n",
              "      <th>Joe</th>\n",
              "      <td>43</td>\n",
              "      <td>Chatelet</td>\n",
              "      <td>France</td>\n",
              "      <td>Phd</td>\n",
              "    </tr>\n",
              "    <tr>\n",
              "      <th>Calib</th>\n",
              "      <td>34</td>\n",
              "      <td>Monge</td>\n",
              "      <td>France</td>\n",
              "      <td>Phd</td>\n",
              "    </tr>\n",
              "  </tbody>\n",
              "</table>\n",
              "</div>\n",
              "      <button class=\"colab-df-convert\" onclick=\"convertToInteractive('df-95e88349-5d93-473e-9b05-3b659d9922ad')\"\n",
              "              title=\"Convert this dataframe to an interactive table.\"\n",
              "              style=\"display:none;\">\n",
              "        \n",
              "  <svg xmlns=\"http://www.w3.org/2000/svg\" height=\"24px\"viewBox=\"0 0 24 24\"\n",
              "       width=\"24px\">\n",
              "    <path d=\"M0 0h24v24H0V0z\" fill=\"none\"/>\n",
              "    <path d=\"M18.56 5.44l.94 2.06.94-2.06 2.06-.94-2.06-.94-.94-2.06-.94 2.06-2.06.94zm-11 1L8.5 8.5l.94-2.06 2.06-.94-2.06-.94L8.5 2.5l-.94 2.06-2.06.94zm10 10l.94 2.06.94-2.06 2.06-.94-2.06-.94-.94-2.06-.94 2.06-2.06.94z\"/><path d=\"M17.41 7.96l-1.37-1.37c-.4-.4-.92-.59-1.43-.59-.52 0-1.04.2-1.43.59L10.3 9.45l-7.72 7.72c-.78.78-.78 2.05 0 2.83L4 21.41c.39.39.9.59 1.41.59.51 0 1.02-.2 1.41-.59l7.78-7.78 2.81-2.81c.8-.78.8-2.07 0-2.86zM5.41 20L4 18.59l7.72-7.72 1.47 1.35L5.41 20z\"/>\n",
              "  </svg>\n",
              "      </button>\n",
              "      \n",
              "  <style>\n",
              "    .colab-df-container {\n",
              "      display:flex;\n",
              "      flex-wrap:wrap;\n",
              "      gap: 12px;\n",
              "    }\n",
              "\n",
              "    .colab-df-convert {\n",
              "      background-color: #E8F0FE;\n",
              "      border: none;\n",
              "      border-radius: 50%;\n",
              "      cursor: pointer;\n",
              "      display: none;\n",
              "      fill: #1967D2;\n",
              "      height: 32px;\n",
              "      padding: 0 0 0 0;\n",
              "      width: 32px;\n",
              "    }\n",
              "\n",
              "    .colab-df-convert:hover {\n",
              "      background-color: #E2EBFA;\n",
              "      box-shadow: 0px 1px 2px rgba(60, 64, 67, 0.3), 0px 1px 3px 1px rgba(60, 64, 67, 0.15);\n",
              "      fill: #174EA6;\n",
              "    }\n",
              "\n",
              "    [theme=dark] .colab-df-convert {\n",
              "      background-color: #3B4455;\n",
              "      fill: #D2E3FC;\n",
              "    }\n",
              "\n",
              "    [theme=dark] .colab-df-convert:hover {\n",
              "      background-color: #434B5C;\n",
              "      box-shadow: 0px 1px 3px 1px rgba(0, 0, 0, 0.15);\n",
              "      filter: drop-shadow(0px 1px 2px rgba(0, 0, 0, 0.3));\n",
              "      fill: #FFFFFF;\n",
              "    }\n",
              "  </style>\n",
              "\n",
              "      <script>\n",
              "        const buttonEl =\n",
              "          document.querySelector('#df-95e88349-5d93-473e-9b05-3b659d9922ad button.colab-df-convert');\n",
              "        buttonEl.style.display =\n",
              "          google.colab.kernel.accessAllowed ? 'block' : 'none';\n",
              "\n",
              "        async function convertToInteractive(key) {\n",
              "          const element = document.querySelector('#df-95e88349-5d93-473e-9b05-3b659d9922ad');\n",
              "          const dataTable =\n",
              "            await google.colab.kernel.invokeFunction('convertToInteractive',\n",
              "                                                     [key], {});\n",
              "          if (!dataTable) return;\n",
              "\n",
              "          const docLinkHtml = 'Like what you see? Visit the ' +\n",
              "            '<a target=\"_blank\" href=https://colab.research.google.com/notebooks/data_table.ipynb>data table notebook</a>'\n",
              "            + ' to learn more about interactive tables.';\n",
              "          element.innerHTML = '';\n",
              "          dataTable['output_type'] = 'display_data';\n",
              "          await google.colab.output.renderOutput(dataTable, element);\n",
              "          const docLink = document.createElement('div');\n",
              "          docLink.innerHTML = docLinkHtml;\n",
              "          element.appendChild(docLink);\n",
              "        }\n",
              "      </script>\n",
              "    </div>\n",
              "  </div>\n",
              "  "
            ]
          },
          "metadata": {},
          "execution_count": 223
        }
      ]
    },
    {
      "cell_type": "code",
      "source": [
        "#@title Display Solution 20\n",
        "\n",
        "# update the dataframe accordingly using  .iloc method for 'LA Defense'\n",
        "\n",
        "df.iloc[4,1] = 'LA Defense'\n",
        "# check if you got the wanted output\n",
        "print(df)\n",
        "print('')\n",
        "\n",
        "# and using  .loc method for 'La Defense'\n",
        "df.loc['Matt', 'Address']= 'La Defense'\n",
        "# check if you got the wanted output\n",
        "print(df)\n",
        "print('')\n"
      ],
      "metadata": {
        "id": "ZmKwLtmsU3OH",
        "cellView": "form",
        "colab": {
          "base_uri": "https://localhost:8080/"
        },
        "outputId": "fd97de35-8147-40c0-e893-cb4035df312b"
      },
      "execution_count": 224,
      "outputs": [
        {
          "output_type": "stream",
          "name": "stdout",
          "text": [
            "       Age     Address Country Qualification\n",
            "Name                                        \n",
            "Jai     27       Delhi   India           Phd\n",
            "Princi  24      Kanpur   India            MA\n",
            "Gaurav  22      Kanpur   India           MCA\n",
            "Anuj    32       Delhi   India           Phd\n",
            "Matt    65  LA Defense  France           MCA\n",
            "Joe     43    Chatelet  France           Phd\n",
            "Calib   34       Monge  France           Phd\n",
            "\n",
            "       Age     Address Country Qualification\n",
            "Name                                        \n",
            "Jai     27       Delhi   India           Phd\n",
            "Princi  24      Kanpur   India            MA\n",
            "Gaurav  22      Kanpur   India           MCA\n",
            "Anuj    32       Delhi   India           Phd\n",
            "Matt    65  La Defense  France           MCA\n",
            "Joe     43    Chatelet  France           Phd\n",
            "Calib   34       Monge  France           Phd\n",
            "\n"
          ]
        }
      ]
    },
    {
      "cell_type": "markdown",
      "source": [
        "### Explore df, convert columns Dtype"
      ],
      "metadata": {
        "id": "YJRceUHbUTcD"
      }
    },
    {
      "cell_type": "markdown",
      "source": [
        "### Assignment 21"
      ],
      "metadata": {
        "id": "7l5HAkhU53n6"
      }
    },
    {
      "cell_type": "code",
      "source": [
        "#### Explore df ------------\n",
        "\n",
        "# what data types are the columns ==> use .info() method\n",
        "# convert Age into a numeric Dtype\n",
        "\n",
        "df[\"Age\"] = pd.to_numeric(df[\"Age\"])\n",
        "df.info()\n"
      ],
      "metadata": {
        "id": "mXeSU9a5UN_3",
        "colab": {
          "base_uri": "https://localhost:8080/"
        },
        "outputId": "3d57c99d-798d-4e9c-b312-4a659cd69bce"
      },
      "execution_count": 225,
      "outputs": [
        {
          "output_type": "stream",
          "name": "stdout",
          "text": [
            "<class 'pandas.core.frame.DataFrame'>\n",
            "Index: 7 entries, Jai to Calib\n",
            "Data columns (total 4 columns):\n",
            " #   Column         Non-Null Count  Dtype \n",
            "---  ------         --------------  ----- \n",
            " 0   Age            7 non-null      int64 \n",
            " 1   Address        7 non-null      object\n",
            " 2   Country        7 non-null      object\n",
            " 3   Qualification  7 non-null      object\n",
            "dtypes: int64(1), object(3)\n",
            "memory usage: 580.0+ bytes\n"
          ]
        }
      ]
    },
    {
      "cell_type": "code",
      "source": [
        "#@title Display Solution 21\n",
        "\n",
        "# general info of df ==> have a closer look at \"Age\" column ..\n",
        "\n",
        "df.info()"
      ],
      "metadata": {
        "id": "9ksYhRnGU5NI",
        "cellView": "form",
        "colab": {
          "base_uri": "https://localhost:8080/"
        },
        "outputId": "bb9dad84-f038-4b7b-f75b-5f6205cc0a64"
      },
      "execution_count": 226,
      "outputs": [
        {
          "output_type": "stream",
          "name": "stdout",
          "text": [
            "<class 'pandas.core.frame.DataFrame'>\n",
            "Index: 7 entries, Jai to Calib\n",
            "Data columns (total 4 columns):\n",
            " #   Column         Non-Null Count  Dtype \n",
            "---  ------         --------------  ----- \n",
            " 0   Age            7 non-null      int64 \n",
            " 1   Address        7 non-null      object\n",
            " 2   Country        7 non-null      object\n",
            " 3   Qualification  7 non-null      object\n",
            "dtypes: int64(1), object(3)\n",
            "memory usage: 580.0+ bytes\n"
          ]
        }
      ]
    },
    {
      "cell_type": "code",
      "source": [
        "#@title Display Solution 21.1\n",
        "\n",
        "# when executing df.info() you can see that the column 'Age' has a data type (Dtype) as 'object' (think of it as a string)\n",
        "\n",
        "# if in the future we'll want to do some calculations with column 'Age' we need to to convert it to a numeric data type\n",
        "# convert column of a DataFrame\n",
        "df[\"Age\"] = pd.to_numeric(df[\"Age\"])\n",
        "\n",
        "# check again the Dtypes\n",
        "df.info()"
      ],
      "metadata": {
        "cellView": "form",
        "id": "Uh4-6hjOjamJ",
        "colab": {
          "base_uri": "https://localhost:8080/"
        },
        "outputId": "f4f5afbc-e02e-4287-d8f7-81d7f75b8ee2"
      },
      "execution_count": 227,
      "outputs": [
        {
          "output_type": "stream",
          "name": "stdout",
          "text": [
            "<class 'pandas.core.frame.DataFrame'>\n",
            "Index: 7 entries, Jai to Calib\n",
            "Data columns (total 4 columns):\n",
            " #   Column         Non-Null Count  Dtype \n",
            "---  ------         --------------  ----- \n",
            " 0   Age            7 non-null      int64 \n",
            " 1   Address        7 non-null      object\n",
            " 2   Country        7 non-null      object\n",
            " 3   Qualification  7 non-null      object\n",
            "dtypes: int64(1), object(3)\n",
            "memory usage: 580.0+ bytes\n"
          ]
        }
      ]
    },
    {
      "cell_type": "markdown",
      "source": [
        "### Groupby"
      ],
      "metadata": {
        "id": "YTUB1nbqVBKD"
      }
    },
    {
      "cell_type": "markdown",
      "source": [
        "### Assignment 22"
      ],
      "metadata": {
        "id": "qKR4SypJ57-_"
      }
    },
    {
      "cell_type": "code",
      "source": [
        "#### Groupby -----------\n",
        "\n",
        "# what's the average age of people by Qualification  ==> use .groupby method\n",
        "\n",
        "df.groupby(by=[\"Qualification\"])['Age'].mean()\n"
      ],
      "metadata": {
        "id": "JnFE8KS9UYTl",
        "colab": {
          "base_uri": "https://localhost:8080/"
        },
        "outputId": "6c8e0c00-ce0d-4e98-ea15-cd67e6b2bd55"
      },
      "execution_count": 228,
      "outputs": [
        {
          "output_type": "execute_result",
          "data": {
            "text/plain": [
              "Qualification\n",
              "MA     24.0\n",
              "MCA    43.5\n",
              "Phd    34.0\n",
              "Name: Age, dtype: float64"
            ]
          },
          "metadata": {},
          "execution_count": 228
        }
      ]
    },
    {
      "cell_type": "code",
      "source": [
        "#@title Display Solution 22\n",
        "\n",
        "#check the mean age by city\n",
        "df.groupby(by=[\"Qualification\"])['Age'].mean()"
      ],
      "metadata": {
        "id": "lEDeBft9U8o4",
        "cellView": "form",
        "colab": {
          "base_uri": "https://localhost:8080/"
        },
        "outputId": "fb09faa7-6c1d-4c14-badc-1679db9fc49d"
      },
      "execution_count": 229,
      "outputs": [
        {
          "output_type": "execute_result",
          "data": {
            "text/plain": [
              "Qualification\n",
              "MA     24.0\n",
              "MCA    43.5\n",
              "Phd    34.0\n",
              "Name: Age, dtype: float64"
            ]
          },
          "metadata": {},
          "execution_count": 229
        }
      ]
    },
    {
      "cell_type": "markdown",
      "source": [
        "### Assignment 23"
      ],
      "metadata": {
        "id": "79NlF34ykr0u"
      }
    },
    {
      "cell_type": "code",
      "source": [
        "#### Groupby -----------\n",
        "\n",
        "# what's the average age of people that have the  'Qualification' == 'Phd' \n",
        "# you can do it in 2 steps...\n",
        "\n",
        "# step 1\n",
        "\n",
        "# first, you'll nedd to filter the data of those that have a 'Phd' and save it into a new dataframed called 'filtered'\n",
        "# visualize the new df 'filtered'\n",
        "\n",
        "# step 2\n",
        "\n",
        "# then use .groupby method on the filter data\n",
        "\n",
        "filtered = df.loc[(df['Qualification'] == 'Phd')]"
      ],
      "metadata": {
        "id": "mFwkTdCYkx-a"
      },
      "execution_count": 230,
      "outputs": []
    },
    {
      "cell_type": "code",
      "source": [
        "print(filtered)"
      ],
      "metadata": {
        "colab": {
          "base_uri": "https://localhost:8080/"
        },
        "id": "_BKe7tVoVzsQ",
        "outputId": "2b9c6d1e-7ec3-404e-9431-59f1ceda75f5"
      },
      "execution_count": 231,
      "outputs": [
        {
          "output_type": "stream",
          "name": "stdout",
          "text": [
            "       Age   Address Country Qualification\n",
            "Name                                      \n",
            "Jai     27     Delhi   India           Phd\n",
            "Anuj    32     Delhi   India           Phd\n",
            "Joe     43  Chatelet  France           Phd\n",
            "Calib   34     Monge  France           Phd\n"
          ]
        }
      ]
    },
    {
      "cell_type": "code",
      "source": [
        "filtered.groupby(by=[\"Qualification\"])['Age'].mean()"
      ],
      "metadata": {
        "colab": {
          "base_uri": "https://localhost:8080/"
        },
        "id": "UoXU77CGV7GX",
        "outputId": "b11ed1bf-1bba-4889-fff1-3dbe7ca08a01"
      },
      "execution_count": 232,
      "outputs": [
        {
          "output_type": "execute_result",
          "data": {
            "text/plain": [
              "Qualification\n",
              "Phd    34.0\n",
              "Name: Age, dtype: float64"
            ]
          },
          "metadata": {},
          "execution_count": 232
        }
      ]
    },
    {
      "cell_type": "code",
      "source": [
        "#@title Display Solution 23.1\n",
        "\n",
        "filtered = df[df['Qualification']== 'Phd']\n",
        "filtered"
      ],
      "metadata": {
        "id": "hCIFkzT4kyi9",
        "cellView": "form",
        "colab": {
          "base_uri": "https://localhost:8080/",
          "height": 206
        },
        "outputId": "c60924e3-9fda-4c7a-df72-ac346c0219e1"
      },
      "execution_count": 233,
      "outputs": [
        {
          "output_type": "execute_result",
          "data": {
            "text/plain": [
              "       Age   Address Country Qualification\n",
              "Name                                      \n",
              "Jai     27     Delhi   India           Phd\n",
              "Anuj    32     Delhi   India           Phd\n",
              "Joe     43  Chatelet  France           Phd\n",
              "Calib   34     Monge  France           Phd"
            ],
            "text/html": [
              "\n",
              "  <div id=\"df-585bfc80-f087-4486-9142-2ddf383bb96b\">\n",
              "    <div class=\"colab-df-container\">\n",
              "      <div>\n",
              "<style scoped>\n",
              "    .dataframe tbody tr th:only-of-type {\n",
              "        vertical-align: middle;\n",
              "    }\n",
              "\n",
              "    .dataframe tbody tr th {\n",
              "        vertical-align: top;\n",
              "    }\n",
              "\n",
              "    .dataframe thead th {\n",
              "        text-align: right;\n",
              "    }\n",
              "</style>\n",
              "<table border=\"1\" class=\"dataframe\">\n",
              "  <thead>\n",
              "    <tr style=\"text-align: right;\">\n",
              "      <th></th>\n",
              "      <th>Age</th>\n",
              "      <th>Address</th>\n",
              "      <th>Country</th>\n",
              "      <th>Qualification</th>\n",
              "    </tr>\n",
              "    <tr>\n",
              "      <th>Name</th>\n",
              "      <th></th>\n",
              "      <th></th>\n",
              "      <th></th>\n",
              "      <th></th>\n",
              "    </tr>\n",
              "  </thead>\n",
              "  <tbody>\n",
              "    <tr>\n",
              "      <th>Jai</th>\n",
              "      <td>27</td>\n",
              "      <td>Delhi</td>\n",
              "      <td>India</td>\n",
              "      <td>Phd</td>\n",
              "    </tr>\n",
              "    <tr>\n",
              "      <th>Anuj</th>\n",
              "      <td>32</td>\n",
              "      <td>Delhi</td>\n",
              "      <td>India</td>\n",
              "      <td>Phd</td>\n",
              "    </tr>\n",
              "    <tr>\n",
              "      <th>Joe</th>\n",
              "      <td>43</td>\n",
              "      <td>Chatelet</td>\n",
              "      <td>France</td>\n",
              "      <td>Phd</td>\n",
              "    </tr>\n",
              "    <tr>\n",
              "      <th>Calib</th>\n",
              "      <td>34</td>\n",
              "      <td>Monge</td>\n",
              "      <td>France</td>\n",
              "      <td>Phd</td>\n",
              "    </tr>\n",
              "  </tbody>\n",
              "</table>\n",
              "</div>\n",
              "      <button class=\"colab-df-convert\" onclick=\"convertToInteractive('df-585bfc80-f087-4486-9142-2ddf383bb96b')\"\n",
              "              title=\"Convert this dataframe to an interactive table.\"\n",
              "              style=\"display:none;\">\n",
              "        \n",
              "  <svg xmlns=\"http://www.w3.org/2000/svg\" height=\"24px\"viewBox=\"0 0 24 24\"\n",
              "       width=\"24px\">\n",
              "    <path d=\"M0 0h24v24H0V0z\" fill=\"none\"/>\n",
              "    <path d=\"M18.56 5.44l.94 2.06.94-2.06 2.06-.94-2.06-.94-.94-2.06-.94 2.06-2.06.94zm-11 1L8.5 8.5l.94-2.06 2.06-.94-2.06-.94L8.5 2.5l-.94 2.06-2.06.94zm10 10l.94 2.06.94-2.06 2.06-.94-2.06-.94-.94-2.06-.94 2.06-2.06.94z\"/><path d=\"M17.41 7.96l-1.37-1.37c-.4-.4-.92-.59-1.43-.59-.52 0-1.04.2-1.43.59L10.3 9.45l-7.72 7.72c-.78.78-.78 2.05 0 2.83L4 21.41c.39.39.9.59 1.41.59.51 0 1.02-.2 1.41-.59l7.78-7.78 2.81-2.81c.8-.78.8-2.07 0-2.86zM5.41 20L4 18.59l7.72-7.72 1.47 1.35L5.41 20z\"/>\n",
              "  </svg>\n",
              "      </button>\n",
              "      \n",
              "  <style>\n",
              "    .colab-df-container {\n",
              "      display:flex;\n",
              "      flex-wrap:wrap;\n",
              "      gap: 12px;\n",
              "    }\n",
              "\n",
              "    .colab-df-convert {\n",
              "      background-color: #E8F0FE;\n",
              "      border: none;\n",
              "      border-radius: 50%;\n",
              "      cursor: pointer;\n",
              "      display: none;\n",
              "      fill: #1967D2;\n",
              "      height: 32px;\n",
              "      padding: 0 0 0 0;\n",
              "      width: 32px;\n",
              "    }\n",
              "\n",
              "    .colab-df-convert:hover {\n",
              "      background-color: #E2EBFA;\n",
              "      box-shadow: 0px 1px 2px rgba(60, 64, 67, 0.3), 0px 1px 3px 1px rgba(60, 64, 67, 0.15);\n",
              "      fill: #174EA6;\n",
              "    }\n",
              "\n",
              "    [theme=dark] .colab-df-convert {\n",
              "      background-color: #3B4455;\n",
              "      fill: #D2E3FC;\n",
              "    }\n",
              "\n",
              "    [theme=dark] .colab-df-convert:hover {\n",
              "      background-color: #434B5C;\n",
              "      box-shadow: 0px 1px 3px 1px rgba(0, 0, 0, 0.15);\n",
              "      filter: drop-shadow(0px 1px 2px rgba(0, 0, 0, 0.3));\n",
              "      fill: #FFFFFF;\n",
              "    }\n",
              "  </style>\n",
              "\n",
              "      <script>\n",
              "        const buttonEl =\n",
              "          document.querySelector('#df-585bfc80-f087-4486-9142-2ddf383bb96b button.colab-df-convert');\n",
              "        buttonEl.style.display =\n",
              "          google.colab.kernel.accessAllowed ? 'block' : 'none';\n",
              "\n",
              "        async function convertToInteractive(key) {\n",
              "          const element = document.querySelector('#df-585bfc80-f087-4486-9142-2ddf383bb96b');\n",
              "          const dataTable =\n",
              "            await google.colab.kernel.invokeFunction('convertToInteractive',\n",
              "                                                     [key], {});\n",
              "          if (!dataTable) return;\n",
              "\n",
              "          const docLinkHtml = 'Like what you see? Visit the ' +\n",
              "            '<a target=\"_blank\" href=https://colab.research.google.com/notebooks/data_table.ipynb>data table notebook</a>'\n",
              "            + ' to learn more about interactive tables.';\n",
              "          element.innerHTML = '';\n",
              "          dataTable['output_type'] = 'display_data';\n",
              "          await google.colab.output.renderOutput(dataTable, element);\n",
              "          const docLink = document.createElement('div');\n",
              "          docLink.innerHTML = docLinkHtml;\n",
              "          element.appendChild(docLink);\n",
              "        }\n",
              "      </script>\n",
              "    </div>\n",
              "  </div>\n",
              "  "
            ]
          },
          "metadata": {},
          "execution_count": 233
        }
      ]
    },
    {
      "cell_type": "code",
      "source": [
        "#@title Display Solution 23.2\n",
        "\n",
        "# step 2....\n",
        "\n",
        "# use .groupby method on the filter data\n",
        "filtered.groupby(by=[\"Qualification\"])['Age'].mean()"
      ],
      "metadata": {
        "id": "s9f9XPQQmivt",
        "cellView": "form",
        "colab": {
          "base_uri": "https://localhost:8080/"
        },
        "outputId": "2dbab111-3e2e-414f-be5e-83592d52b926"
      },
      "execution_count": 234,
      "outputs": [
        {
          "output_type": "execute_result",
          "data": {
            "text/plain": [
              "Qualification\n",
              "Phd    34.0\n",
              "Name: Age, dtype: float64"
            ]
          },
          "metadata": {},
          "execution_count": 234
        }
      ]
    },
    {
      "cell_type": "markdown",
      "source": [
        "### Pivot"
      ],
      "metadata": {
        "id": "yT_U3i53VRoQ"
      }
    },
    {
      "cell_type": "markdown",
      "source": [
        "### Assignment 24"
      ],
      "metadata": {
        "id": "oOOIK5vA5-vH"
      }
    },
    {
      "cell_type": "code",
      "source": [
        "#### Pivot -----------\n",
        "\n",
        "# create a pivot table called 'pivot_table'\n",
        "#  where rows are the Adresses, \n",
        "#       columns their Qualifications, \n",
        "#                and values in the pivot table is the mean age\n",
        "\n",
        "## hint\n",
        "# first import numpy package as np as below\n",
        "\n",
        "import numpy as np\n",
        "\n",
        "# use pd.pivot_table() with necessary arguments\n",
        "\n",
        "pivot_table = pd.pivot_table(df, # data to pivot\n",
        "                       index=['Address'], # Grouper, Keys to group by on the pivot table index.\n",
        "                       columns=['Qualification'], # Keys to group by on the pivot table column., will be the columns value\n",
        "                       values='Age', # column to aggregate\n",
        "                       aggfunc= np.mean)# the aggregation function is the sum ==> np.sum (we will use sum function from numpy package)\n",
        "\n",
        "pivot_table"
      ],
      "metadata": {
        "id": "c4u4Z8dDz-pI",
        "colab": {
          "base_uri": "https://localhost:8080/",
          "height": 238
        },
        "outputId": "1d132cd1-d418-4468-9c10-74a005c14fb2"
      },
      "execution_count": 235,
      "outputs": [
        {
          "output_type": "execute_result",
          "data": {
            "text/plain": [
              "Qualification    MA   MCA   Phd\n",
              "Address                        \n",
              "Chatelet        NaN   NaN  43.0\n",
              "Delhi           NaN   NaN  29.5\n",
              "Kanpur         24.0  22.0   NaN\n",
              "La Defense      NaN  65.0   NaN\n",
              "Monge           NaN   NaN  34.0"
            ],
            "text/html": [
              "\n",
              "  <div id=\"df-97de19c7-4e19-4cef-baeb-a1bddc17c326\">\n",
              "    <div class=\"colab-df-container\">\n",
              "      <div>\n",
              "<style scoped>\n",
              "    .dataframe tbody tr th:only-of-type {\n",
              "        vertical-align: middle;\n",
              "    }\n",
              "\n",
              "    .dataframe tbody tr th {\n",
              "        vertical-align: top;\n",
              "    }\n",
              "\n",
              "    .dataframe thead th {\n",
              "        text-align: right;\n",
              "    }\n",
              "</style>\n",
              "<table border=\"1\" class=\"dataframe\">\n",
              "  <thead>\n",
              "    <tr style=\"text-align: right;\">\n",
              "      <th>Qualification</th>\n",
              "      <th>MA</th>\n",
              "      <th>MCA</th>\n",
              "      <th>Phd</th>\n",
              "    </tr>\n",
              "    <tr>\n",
              "      <th>Address</th>\n",
              "      <th></th>\n",
              "      <th></th>\n",
              "      <th></th>\n",
              "    </tr>\n",
              "  </thead>\n",
              "  <tbody>\n",
              "    <tr>\n",
              "      <th>Chatelet</th>\n",
              "      <td>NaN</td>\n",
              "      <td>NaN</td>\n",
              "      <td>43.0</td>\n",
              "    </tr>\n",
              "    <tr>\n",
              "      <th>Delhi</th>\n",
              "      <td>NaN</td>\n",
              "      <td>NaN</td>\n",
              "      <td>29.5</td>\n",
              "    </tr>\n",
              "    <tr>\n",
              "      <th>Kanpur</th>\n",
              "      <td>24.0</td>\n",
              "      <td>22.0</td>\n",
              "      <td>NaN</td>\n",
              "    </tr>\n",
              "    <tr>\n",
              "      <th>La Defense</th>\n",
              "      <td>NaN</td>\n",
              "      <td>65.0</td>\n",
              "      <td>NaN</td>\n",
              "    </tr>\n",
              "    <tr>\n",
              "      <th>Monge</th>\n",
              "      <td>NaN</td>\n",
              "      <td>NaN</td>\n",
              "      <td>34.0</td>\n",
              "    </tr>\n",
              "  </tbody>\n",
              "</table>\n",
              "</div>\n",
              "      <button class=\"colab-df-convert\" onclick=\"convertToInteractive('df-97de19c7-4e19-4cef-baeb-a1bddc17c326')\"\n",
              "              title=\"Convert this dataframe to an interactive table.\"\n",
              "              style=\"display:none;\">\n",
              "        \n",
              "  <svg xmlns=\"http://www.w3.org/2000/svg\" height=\"24px\"viewBox=\"0 0 24 24\"\n",
              "       width=\"24px\">\n",
              "    <path d=\"M0 0h24v24H0V0z\" fill=\"none\"/>\n",
              "    <path d=\"M18.56 5.44l.94 2.06.94-2.06 2.06-.94-2.06-.94-.94-2.06-.94 2.06-2.06.94zm-11 1L8.5 8.5l.94-2.06 2.06-.94-2.06-.94L8.5 2.5l-.94 2.06-2.06.94zm10 10l.94 2.06.94-2.06 2.06-.94-2.06-.94-.94-2.06-.94 2.06-2.06.94z\"/><path d=\"M17.41 7.96l-1.37-1.37c-.4-.4-.92-.59-1.43-.59-.52 0-1.04.2-1.43.59L10.3 9.45l-7.72 7.72c-.78.78-.78 2.05 0 2.83L4 21.41c.39.39.9.59 1.41.59.51 0 1.02-.2 1.41-.59l7.78-7.78 2.81-2.81c.8-.78.8-2.07 0-2.86zM5.41 20L4 18.59l7.72-7.72 1.47 1.35L5.41 20z\"/>\n",
              "  </svg>\n",
              "      </button>\n",
              "      \n",
              "  <style>\n",
              "    .colab-df-container {\n",
              "      display:flex;\n",
              "      flex-wrap:wrap;\n",
              "      gap: 12px;\n",
              "    }\n",
              "\n",
              "    .colab-df-convert {\n",
              "      background-color: #E8F0FE;\n",
              "      border: none;\n",
              "      border-radius: 50%;\n",
              "      cursor: pointer;\n",
              "      display: none;\n",
              "      fill: #1967D2;\n",
              "      height: 32px;\n",
              "      padding: 0 0 0 0;\n",
              "      width: 32px;\n",
              "    }\n",
              "\n",
              "    .colab-df-convert:hover {\n",
              "      background-color: #E2EBFA;\n",
              "      box-shadow: 0px 1px 2px rgba(60, 64, 67, 0.3), 0px 1px 3px 1px rgba(60, 64, 67, 0.15);\n",
              "      fill: #174EA6;\n",
              "    }\n",
              "\n",
              "    [theme=dark] .colab-df-convert {\n",
              "      background-color: #3B4455;\n",
              "      fill: #D2E3FC;\n",
              "    }\n",
              "\n",
              "    [theme=dark] .colab-df-convert:hover {\n",
              "      background-color: #434B5C;\n",
              "      box-shadow: 0px 1px 3px 1px rgba(0, 0, 0, 0.15);\n",
              "      filter: drop-shadow(0px 1px 2px rgba(0, 0, 0, 0.3));\n",
              "      fill: #FFFFFF;\n",
              "    }\n",
              "  </style>\n",
              "\n",
              "      <script>\n",
              "        const buttonEl =\n",
              "          document.querySelector('#df-97de19c7-4e19-4cef-baeb-a1bddc17c326 button.colab-df-convert');\n",
              "        buttonEl.style.display =\n",
              "          google.colab.kernel.accessAllowed ? 'block' : 'none';\n",
              "\n",
              "        async function convertToInteractive(key) {\n",
              "          const element = document.querySelector('#df-97de19c7-4e19-4cef-baeb-a1bddc17c326');\n",
              "          const dataTable =\n",
              "            await google.colab.kernel.invokeFunction('convertToInteractive',\n",
              "                                                     [key], {});\n",
              "          if (!dataTable) return;\n",
              "\n",
              "          const docLinkHtml = 'Like what you see? Visit the ' +\n",
              "            '<a target=\"_blank\" href=https://colab.research.google.com/notebooks/data_table.ipynb>data table notebook</a>'\n",
              "            + ' to learn more about interactive tables.';\n",
              "          element.innerHTML = '';\n",
              "          dataTable['output_type'] = 'display_data';\n",
              "          await google.colab.output.renderOutput(dataTable, element);\n",
              "          const docLink = document.createElement('div');\n",
              "          docLink.innerHTML = docLinkHtml;\n",
              "          element.appendChild(docLink);\n",
              "        }\n",
              "      </script>\n",
              "    </div>\n",
              "  </div>\n",
              "  "
            ]
          },
          "metadata": {},
          "execution_count": 235
        }
      ]
    },
    {
      "cell_type": "code",
      "source": [
        "#@title Display Solution 24\n",
        "\n",
        "pivot_table = pd.pivot_table(df, # data to pivot\n",
        "                       # where rows are the Addresses and names\n",
        "                       index=['Address'], # Grouper, Keys to group by on the pivot table index.\n",
        "                       # columns their Qualification\n",
        "                       columns='Qualification', # column to aggregate\n",
        "                       # and values in the pivot table is the  age\n",
        "                       values=['Age'], # Keys to group by on the pivot table column., will be the columns value\n",
        "                       # and you want the avg of the value age (meaning the aggregation function ==> mean)\n",
        "                       aggfunc=np.mean)# the aggregation function\n",
        "\n",
        "pivot_table"
      ],
      "metadata": {
        "id": "rSZFcb0PVAKc",
        "colab": {
          "base_uri": "https://localhost:8080/",
          "height": 269
        },
        "outputId": "3087deb3-e144-4af9-ae68-b410d94f20cd"
      },
      "execution_count": 236,
      "outputs": [
        {
          "output_type": "execute_result",
          "data": {
            "text/plain": [
              "                Age            \n",
              "Qualification    MA   MCA   Phd\n",
              "Address                        \n",
              "Chatelet        NaN   NaN  43.0\n",
              "Delhi           NaN   NaN  29.5\n",
              "Kanpur         24.0  22.0   NaN\n",
              "La Defense      NaN  65.0   NaN\n",
              "Monge           NaN   NaN  34.0"
            ],
            "text/html": [
              "\n",
              "  <div id=\"df-87bd7f92-9c39-4126-a84e-a1c5c48dae08\">\n",
              "    <div class=\"colab-df-container\">\n",
              "      <div>\n",
              "<style scoped>\n",
              "    .dataframe tbody tr th:only-of-type {\n",
              "        vertical-align: middle;\n",
              "    }\n",
              "\n",
              "    .dataframe tbody tr th {\n",
              "        vertical-align: top;\n",
              "    }\n",
              "\n",
              "    .dataframe thead tr th {\n",
              "        text-align: left;\n",
              "    }\n",
              "\n",
              "    .dataframe thead tr:last-of-type th {\n",
              "        text-align: right;\n",
              "    }\n",
              "</style>\n",
              "<table border=\"1\" class=\"dataframe\">\n",
              "  <thead>\n",
              "    <tr>\n",
              "      <th></th>\n",
              "      <th colspan=\"3\" halign=\"left\">Age</th>\n",
              "    </tr>\n",
              "    <tr>\n",
              "      <th>Qualification</th>\n",
              "      <th>MA</th>\n",
              "      <th>MCA</th>\n",
              "      <th>Phd</th>\n",
              "    </tr>\n",
              "    <tr>\n",
              "      <th>Address</th>\n",
              "      <th></th>\n",
              "      <th></th>\n",
              "      <th></th>\n",
              "    </tr>\n",
              "  </thead>\n",
              "  <tbody>\n",
              "    <tr>\n",
              "      <th>Chatelet</th>\n",
              "      <td>NaN</td>\n",
              "      <td>NaN</td>\n",
              "      <td>43.0</td>\n",
              "    </tr>\n",
              "    <tr>\n",
              "      <th>Delhi</th>\n",
              "      <td>NaN</td>\n",
              "      <td>NaN</td>\n",
              "      <td>29.5</td>\n",
              "    </tr>\n",
              "    <tr>\n",
              "      <th>Kanpur</th>\n",
              "      <td>24.0</td>\n",
              "      <td>22.0</td>\n",
              "      <td>NaN</td>\n",
              "    </tr>\n",
              "    <tr>\n",
              "      <th>La Defense</th>\n",
              "      <td>NaN</td>\n",
              "      <td>65.0</td>\n",
              "      <td>NaN</td>\n",
              "    </tr>\n",
              "    <tr>\n",
              "      <th>Monge</th>\n",
              "      <td>NaN</td>\n",
              "      <td>NaN</td>\n",
              "      <td>34.0</td>\n",
              "    </tr>\n",
              "  </tbody>\n",
              "</table>\n",
              "</div>\n",
              "      <button class=\"colab-df-convert\" onclick=\"convertToInteractive('df-87bd7f92-9c39-4126-a84e-a1c5c48dae08')\"\n",
              "              title=\"Convert this dataframe to an interactive table.\"\n",
              "              style=\"display:none;\">\n",
              "        \n",
              "  <svg xmlns=\"http://www.w3.org/2000/svg\" height=\"24px\"viewBox=\"0 0 24 24\"\n",
              "       width=\"24px\">\n",
              "    <path d=\"M0 0h24v24H0V0z\" fill=\"none\"/>\n",
              "    <path d=\"M18.56 5.44l.94 2.06.94-2.06 2.06-.94-2.06-.94-.94-2.06-.94 2.06-2.06.94zm-11 1L8.5 8.5l.94-2.06 2.06-.94-2.06-.94L8.5 2.5l-.94 2.06-2.06.94zm10 10l.94 2.06.94-2.06 2.06-.94-2.06-.94-.94-2.06-.94 2.06-2.06.94z\"/><path d=\"M17.41 7.96l-1.37-1.37c-.4-.4-.92-.59-1.43-.59-.52 0-1.04.2-1.43.59L10.3 9.45l-7.72 7.72c-.78.78-.78 2.05 0 2.83L4 21.41c.39.39.9.59 1.41.59.51 0 1.02-.2 1.41-.59l7.78-7.78 2.81-2.81c.8-.78.8-2.07 0-2.86zM5.41 20L4 18.59l7.72-7.72 1.47 1.35L5.41 20z\"/>\n",
              "  </svg>\n",
              "      </button>\n",
              "      \n",
              "  <style>\n",
              "    .colab-df-container {\n",
              "      display:flex;\n",
              "      flex-wrap:wrap;\n",
              "      gap: 12px;\n",
              "    }\n",
              "\n",
              "    .colab-df-convert {\n",
              "      background-color: #E8F0FE;\n",
              "      border: none;\n",
              "      border-radius: 50%;\n",
              "      cursor: pointer;\n",
              "      display: none;\n",
              "      fill: #1967D2;\n",
              "      height: 32px;\n",
              "      padding: 0 0 0 0;\n",
              "      width: 32px;\n",
              "    }\n",
              "\n",
              "    .colab-df-convert:hover {\n",
              "      background-color: #E2EBFA;\n",
              "      box-shadow: 0px 1px 2px rgba(60, 64, 67, 0.3), 0px 1px 3px 1px rgba(60, 64, 67, 0.15);\n",
              "      fill: #174EA6;\n",
              "    }\n",
              "\n",
              "    [theme=dark] .colab-df-convert {\n",
              "      background-color: #3B4455;\n",
              "      fill: #D2E3FC;\n",
              "    }\n",
              "\n",
              "    [theme=dark] .colab-df-convert:hover {\n",
              "      background-color: #434B5C;\n",
              "      box-shadow: 0px 1px 3px 1px rgba(0, 0, 0, 0.15);\n",
              "      filter: drop-shadow(0px 1px 2px rgba(0, 0, 0, 0.3));\n",
              "      fill: #FFFFFF;\n",
              "    }\n",
              "  </style>\n",
              "\n",
              "      <script>\n",
              "        const buttonEl =\n",
              "          document.querySelector('#df-87bd7f92-9c39-4126-a84e-a1c5c48dae08 button.colab-df-convert');\n",
              "        buttonEl.style.display =\n",
              "          google.colab.kernel.accessAllowed ? 'block' : 'none';\n",
              "\n",
              "        async function convertToInteractive(key) {\n",
              "          const element = document.querySelector('#df-87bd7f92-9c39-4126-a84e-a1c5c48dae08');\n",
              "          const dataTable =\n",
              "            await google.colab.kernel.invokeFunction('convertToInteractive',\n",
              "                                                     [key], {});\n",
              "          if (!dataTable) return;\n",
              "\n",
              "          const docLinkHtml = 'Like what you see? Visit the ' +\n",
              "            '<a target=\"_blank\" href=https://colab.research.google.com/notebooks/data_table.ipynb>data table notebook</a>'\n",
              "            + ' to learn more about interactive tables.';\n",
              "          element.innerHTML = '';\n",
              "          dataTable['output_type'] = 'display_data';\n",
              "          await google.colab.output.renderOutput(dataTable, element);\n",
              "          const docLink = document.createElement('div');\n",
              "          docLink.innerHTML = docLinkHtml;\n",
              "          element.appendChild(docLink);\n",
              "        }\n",
              "      </script>\n",
              "    </div>\n",
              "  </div>\n",
              "  "
            ]
          },
          "metadata": {},
          "execution_count": 236
        }
      ]
    },
    {
      "cell_type": "markdown",
      "source": [
        "### Assignment 25"
      ],
      "metadata": {
        "id": "2jzUV7gaVuf7"
      }
    },
    {
      "cell_type": "code",
      "source": [
        "#### Pivot -----------\n",
        "\n",
        "# create a pivot table called 'pivot_table'\n",
        "#  where rows are the Country AND Address, \n",
        "#       columns their qualifications, \n",
        "#                and values in the pivot table is the mean age\n",
        "\n",
        "## hint\n",
        "# first import numpy package as np as below\n",
        "\n",
        "import numpy as np\n",
        "\n",
        "# use pd.pivot_table() with necessary arguments\n",
        "\n",
        "pivot_table = pd.pivot_table(df, # data to pivot\n",
        "                       index=['Country','Address'], # Grouper, Keys to group by on the pivot table index.\n",
        "                       columns=['Qualification'], # Keys to group by on the pivot table column., will be the columns value\n",
        "                       values='Age', # column to aggregate\n",
        "                       aggfunc= np.mean)# the aggregation function is the sum ==> np.sum (we will use sum function from numpy package)\n",
        "\n",
        "pivot_table"
      ],
      "metadata": {
        "id": "P6aNEPG0skj1",
        "colab": {
          "base_uri": "https://localhost:8080/",
          "height": 238
        },
        "outputId": "32cf4254-0b9f-47c2-9181-37e509fe3fa8"
      },
      "execution_count": 237,
      "outputs": [
        {
          "output_type": "execute_result",
          "data": {
            "text/plain": [
              "Qualification         MA   MCA   Phd\n",
              "Country Address                     \n",
              "France  Chatelet     NaN   NaN  43.0\n",
              "        La Defense   NaN  65.0   NaN\n",
              "        Monge        NaN   NaN  34.0\n",
              "India   Delhi        NaN   NaN  29.5\n",
              "        Kanpur      24.0  22.0   NaN"
            ],
            "text/html": [
              "\n",
              "  <div id=\"df-8900d16a-ad47-4bcf-9d07-e5510ee7a7b1\">\n",
              "    <div class=\"colab-df-container\">\n",
              "      <div>\n",
              "<style scoped>\n",
              "    .dataframe tbody tr th:only-of-type {\n",
              "        vertical-align: middle;\n",
              "    }\n",
              "\n",
              "    .dataframe tbody tr th {\n",
              "        vertical-align: top;\n",
              "    }\n",
              "\n",
              "    .dataframe thead th {\n",
              "        text-align: right;\n",
              "    }\n",
              "</style>\n",
              "<table border=\"1\" class=\"dataframe\">\n",
              "  <thead>\n",
              "    <tr style=\"text-align: right;\">\n",
              "      <th></th>\n",
              "      <th>Qualification</th>\n",
              "      <th>MA</th>\n",
              "      <th>MCA</th>\n",
              "      <th>Phd</th>\n",
              "    </tr>\n",
              "    <tr>\n",
              "      <th>Country</th>\n",
              "      <th>Address</th>\n",
              "      <th></th>\n",
              "      <th></th>\n",
              "      <th></th>\n",
              "    </tr>\n",
              "  </thead>\n",
              "  <tbody>\n",
              "    <tr>\n",
              "      <th rowspan=\"3\" valign=\"top\">France</th>\n",
              "      <th>Chatelet</th>\n",
              "      <td>NaN</td>\n",
              "      <td>NaN</td>\n",
              "      <td>43.0</td>\n",
              "    </tr>\n",
              "    <tr>\n",
              "      <th>La Defense</th>\n",
              "      <td>NaN</td>\n",
              "      <td>65.0</td>\n",
              "      <td>NaN</td>\n",
              "    </tr>\n",
              "    <tr>\n",
              "      <th>Monge</th>\n",
              "      <td>NaN</td>\n",
              "      <td>NaN</td>\n",
              "      <td>34.0</td>\n",
              "    </tr>\n",
              "    <tr>\n",
              "      <th rowspan=\"2\" valign=\"top\">India</th>\n",
              "      <th>Delhi</th>\n",
              "      <td>NaN</td>\n",
              "      <td>NaN</td>\n",
              "      <td>29.5</td>\n",
              "    </tr>\n",
              "    <tr>\n",
              "      <th>Kanpur</th>\n",
              "      <td>24.0</td>\n",
              "      <td>22.0</td>\n",
              "      <td>NaN</td>\n",
              "    </tr>\n",
              "  </tbody>\n",
              "</table>\n",
              "</div>\n",
              "      <button class=\"colab-df-convert\" onclick=\"convertToInteractive('df-8900d16a-ad47-4bcf-9d07-e5510ee7a7b1')\"\n",
              "              title=\"Convert this dataframe to an interactive table.\"\n",
              "              style=\"display:none;\">\n",
              "        \n",
              "  <svg xmlns=\"http://www.w3.org/2000/svg\" height=\"24px\"viewBox=\"0 0 24 24\"\n",
              "       width=\"24px\">\n",
              "    <path d=\"M0 0h24v24H0V0z\" fill=\"none\"/>\n",
              "    <path d=\"M18.56 5.44l.94 2.06.94-2.06 2.06-.94-2.06-.94-.94-2.06-.94 2.06-2.06.94zm-11 1L8.5 8.5l.94-2.06 2.06-.94-2.06-.94L8.5 2.5l-.94 2.06-2.06.94zm10 10l.94 2.06.94-2.06 2.06-.94-2.06-.94-.94-2.06-.94 2.06-2.06.94z\"/><path d=\"M17.41 7.96l-1.37-1.37c-.4-.4-.92-.59-1.43-.59-.52 0-1.04.2-1.43.59L10.3 9.45l-7.72 7.72c-.78.78-.78 2.05 0 2.83L4 21.41c.39.39.9.59 1.41.59.51 0 1.02-.2 1.41-.59l7.78-7.78 2.81-2.81c.8-.78.8-2.07 0-2.86zM5.41 20L4 18.59l7.72-7.72 1.47 1.35L5.41 20z\"/>\n",
              "  </svg>\n",
              "      </button>\n",
              "      \n",
              "  <style>\n",
              "    .colab-df-container {\n",
              "      display:flex;\n",
              "      flex-wrap:wrap;\n",
              "      gap: 12px;\n",
              "    }\n",
              "\n",
              "    .colab-df-convert {\n",
              "      background-color: #E8F0FE;\n",
              "      border: none;\n",
              "      border-radius: 50%;\n",
              "      cursor: pointer;\n",
              "      display: none;\n",
              "      fill: #1967D2;\n",
              "      height: 32px;\n",
              "      padding: 0 0 0 0;\n",
              "      width: 32px;\n",
              "    }\n",
              "\n",
              "    .colab-df-convert:hover {\n",
              "      background-color: #E2EBFA;\n",
              "      box-shadow: 0px 1px 2px rgba(60, 64, 67, 0.3), 0px 1px 3px 1px rgba(60, 64, 67, 0.15);\n",
              "      fill: #174EA6;\n",
              "    }\n",
              "\n",
              "    [theme=dark] .colab-df-convert {\n",
              "      background-color: #3B4455;\n",
              "      fill: #D2E3FC;\n",
              "    }\n",
              "\n",
              "    [theme=dark] .colab-df-convert:hover {\n",
              "      background-color: #434B5C;\n",
              "      box-shadow: 0px 1px 3px 1px rgba(0, 0, 0, 0.15);\n",
              "      filter: drop-shadow(0px 1px 2px rgba(0, 0, 0, 0.3));\n",
              "      fill: #FFFFFF;\n",
              "    }\n",
              "  </style>\n",
              "\n",
              "      <script>\n",
              "        const buttonEl =\n",
              "          document.querySelector('#df-8900d16a-ad47-4bcf-9d07-e5510ee7a7b1 button.colab-df-convert');\n",
              "        buttonEl.style.display =\n",
              "          google.colab.kernel.accessAllowed ? 'block' : 'none';\n",
              "\n",
              "        async function convertToInteractive(key) {\n",
              "          const element = document.querySelector('#df-8900d16a-ad47-4bcf-9d07-e5510ee7a7b1');\n",
              "          const dataTable =\n",
              "            await google.colab.kernel.invokeFunction('convertToInteractive',\n",
              "                                                     [key], {});\n",
              "          if (!dataTable) return;\n",
              "\n",
              "          const docLinkHtml = 'Like what you see? Visit the ' +\n",
              "            '<a target=\"_blank\" href=https://colab.research.google.com/notebooks/data_table.ipynb>data table notebook</a>'\n",
              "            + ' to learn more about interactive tables.';\n",
              "          element.innerHTML = '';\n",
              "          dataTable['output_type'] = 'display_data';\n",
              "          await google.colab.output.renderOutput(dataTable, element);\n",
              "          const docLink = document.createElement('div');\n",
              "          docLink.innerHTML = docLinkHtml;\n",
              "          element.appendChild(docLink);\n",
              "        }\n",
              "      </script>\n",
              "    </div>\n",
              "  </div>\n",
              "  "
            ]
          },
          "metadata": {},
          "execution_count": 237
        }
      ]
    },
    {
      "cell_type": "code",
      "source": [
        "df"
      ],
      "metadata": {
        "id": "-sWJOqdlWHi6",
        "colab": {
          "base_uri": "https://localhost:8080/",
          "height": 300
        },
        "outputId": "609dedb9-c8be-4e14-b6d7-1699dfec4c05"
      },
      "execution_count": 238,
      "outputs": [
        {
          "output_type": "execute_result",
          "data": {
            "text/plain": [
              "        Age     Address Country Qualification\n",
              "Name                                         \n",
              "Jai      27       Delhi   India           Phd\n",
              "Princi   24      Kanpur   India            MA\n",
              "Gaurav   22      Kanpur   India           MCA\n",
              "Anuj     32       Delhi   India           Phd\n",
              "Matt     65  La Defense  France           MCA\n",
              "Joe      43    Chatelet  France           Phd\n",
              "Calib    34       Monge  France           Phd"
            ],
            "text/html": [
              "\n",
              "  <div id=\"df-ddc10913-c1be-4c67-a8fe-26286b5aad1c\">\n",
              "    <div class=\"colab-df-container\">\n",
              "      <div>\n",
              "<style scoped>\n",
              "    .dataframe tbody tr th:only-of-type {\n",
              "        vertical-align: middle;\n",
              "    }\n",
              "\n",
              "    .dataframe tbody tr th {\n",
              "        vertical-align: top;\n",
              "    }\n",
              "\n",
              "    .dataframe thead th {\n",
              "        text-align: right;\n",
              "    }\n",
              "</style>\n",
              "<table border=\"1\" class=\"dataframe\">\n",
              "  <thead>\n",
              "    <tr style=\"text-align: right;\">\n",
              "      <th></th>\n",
              "      <th>Age</th>\n",
              "      <th>Address</th>\n",
              "      <th>Country</th>\n",
              "      <th>Qualification</th>\n",
              "    </tr>\n",
              "    <tr>\n",
              "      <th>Name</th>\n",
              "      <th></th>\n",
              "      <th></th>\n",
              "      <th></th>\n",
              "      <th></th>\n",
              "    </tr>\n",
              "  </thead>\n",
              "  <tbody>\n",
              "    <tr>\n",
              "      <th>Jai</th>\n",
              "      <td>27</td>\n",
              "      <td>Delhi</td>\n",
              "      <td>India</td>\n",
              "      <td>Phd</td>\n",
              "    </tr>\n",
              "    <tr>\n",
              "      <th>Princi</th>\n",
              "      <td>24</td>\n",
              "      <td>Kanpur</td>\n",
              "      <td>India</td>\n",
              "      <td>MA</td>\n",
              "    </tr>\n",
              "    <tr>\n",
              "      <th>Gaurav</th>\n",
              "      <td>22</td>\n",
              "      <td>Kanpur</td>\n",
              "      <td>India</td>\n",
              "      <td>MCA</td>\n",
              "    </tr>\n",
              "    <tr>\n",
              "      <th>Anuj</th>\n",
              "      <td>32</td>\n",
              "      <td>Delhi</td>\n",
              "      <td>India</td>\n",
              "      <td>Phd</td>\n",
              "    </tr>\n",
              "    <tr>\n",
              "      <th>Matt</th>\n",
              "      <td>65</td>\n",
              "      <td>La Defense</td>\n",
              "      <td>France</td>\n",
              "      <td>MCA</td>\n",
              "    </tr>\n",
              "    <tr>\n",
              "      <th>Joe</th>\n",
              "      <td>43</td>\n",
              "      <td>Chatelet</td>\n",
              "      <td>France</td>\n",
              "      <td>Phd</td>\n",
              "    </tr>\n",
              "    <tr>\n",
              "      <th>Calib</th>\n",
              "      <td>34</td>\n",
              "      <td>Monge</td>\n",
              "      <td>France</td>\n",
              "      <td>Phd</td>\n",
              "    </tr>\n",
              "  </tbody>\n",
              "</table>\n",
              "</div>\n",
              "      <button class=\"colab-df-convert\" onclick=\"convertToInteractive('df-ddc10913-c1be-4c67-a8fe-26286b5aad1c')\"\n",
              "              title=\"Convert this dataframe to an interactive table.\"\n",
              "              style=\"display:none;\">\n",
              "        \n",
              "  <svg xmlns=\"http://www.w3.org/2000/svg\" height=\"24px\"viewBox=\"0 0 24 24\"\n",
              "       width=\"24px\">\n",
              "    <path d=\"M0 0h24v24H0V0z\" fill=\"none\"/>\n",
              "    <path d=\"M18.56 5.44l.94 2.06.94-2.06 2.06-.94-2.06-.94-.94-2.06-.94 2.06-2.06.94zm-11 1L8.5 8.5l.94-2.06 2.06-.94-2.06-.94L8.5 2.5l-.94 2.06-2.06.94zm10 10l.94 2.06.94-2.06 2.06-.94-2.06-.94-.94-2.06-.94 2.06-2.06.94z\"/><path d=\"M17.41 7.96l-1.37-1.37c-.4-.4-.92-.59-1.43-.59-.52 0-1.04.2-1.43.59L10.3 9.45l-7.72 7.72c-.78.78-.78 2.05 0 2.83L4 21.41c.39.39.9.59 1.41.59.51 0 1.02-.2 1.41-.59l7.78-7.78 2.81-2.81c.8-.78.8-2.07 0-2.86zM5.41 20L4 18.59l7.72-7.72 1.47 1.35L5.41 20z\"/>\n",
              "  </svg>\n",
              "      </button>\n",
              "      \n",
              "  <style>\n",
              "    .colab-df-container {\n",
              "      display:flex;\n",
              "      flex-wrap:wrap;\n",
              "      gap: 12px;\n",
              "    }\n",
              "\n",
              "    .colab-df-convert {\n",
              "      background-color: #E8F0FE;\n",
              "      border: none;\n",
              "      border-radius: 50%;\n",
              "      cursor: pointer;\n",
              "      display: none;\n",
              "      fill: #1967D2;\n",
              "      height: 32px;\n",
              "      padding: 0 0 0 0;\n",
              "      width: 32px;\n",
              "    }\n",
              "\n",
              "    .colab-df-convert:hover {\n",
              "      background-color: #E2EBFA;\n",
              "      box-shadow: 0px 1px 2px rgba(60, 64, 67, 0.3), 0px 1px 3px 1px rgba(60, 64, 67, 0.15);\n",
              "      fill: #174EA6;\n",
              "    }\n",
              "\n",
              "    [theme=dark] .colab-df-convert {\n",
              "      background-color: #3B4455;\n",
              "      fill: #D2E3FC;\n",
              "    }\n",
              "\n",
              "    [theme=dark] .colab-df-convert:hover {\n",
              "      background-color: #434B5C;\n",
              "      box-shadow: 0px 1px 3px 1px rgba(0, 0, 0, 0.15);\n",
              "      filter: drop-shadow(0px 1px 2px rgba(0, 0, 0, 0.3));\n",
              "      fill: #FFFFFF;\n",
              "    }\n",
              "  </style>\n",
              "\n",
              "      <script>\n",
              "        const buttonEl =\n",
              "          document.querySelector('#df-ddc10913-c1be-4c67-a8fe-26286b5aad1c button.colab-df-convert');\n",
              "        buttonEl.style.display =\n",
              "          google.colab.kernel.accessAllowed ? 'block' : 'none';\n",
              "\n",
              "        async function convertToInteractive(key) {\n",
              "          const element = document.querySelector('#df-ddc10913-c1be-4c67-a8fe-26286b5aad1c');\n",
              "          const dataTable =\n",
              "            await google.colab.kernel.invokeFunction('convertToInteractive',\n",
              "                                                     [key], {});\n",
              "          if (!dataTable) return;\n",
              "\n",
              "          const docLinkHtml = 'Like what you see? Visit the ' +\n",
              "            '<a target=\"_blank\" href=https://colab.research.google.com/notebooks/data_table.ipynb>data table notebook</a>'\n",
              "            + ' to learn more about interactive tables.';\n",
              "          element.innerHTML = '';\n",
              "          dataTable['output_type'] = 'display_data';\n",
              "          await google.colab.output.renderOutput(dataTable, element);\n",
              "          const docLink = document.createElement('div');\n",
              "          docLink.innerHTML = docLinkHtml;\n",
              "          element.appendChild(docLink);\n",
              "        }\n",
              "      </script>\n",
              "    </div>\n",
              "  </div>\n",
              "  "
            ]
          },
          "metadata": {},
          "execution_count": 238
        }
      ]
    },
    {
      "cell_type": "code",
      "source": [
        "#@title Display Solution 25\n",
        "\n",
        "pivot_table = pd.pivot_table(df, # data to pivot\n",
        "                       # where rows are the qualifications and names\n",
        "                       index=['Country', 'Address'], # Grouper, Keys to group by on the pivot table index.\n",
        "                       # columns their Addresses\n",
        "                       columns='Qualification', # column to aggregate\n",
        "                       # and values in the pivot table is the  age\n",
        "                       values=['Age'], # Keys to group by on the pivot table column., will be the columns value\n",
        "                       # and you want the avg of the value age (meaning the aggregation function ==> mean)\n",
        "                       aggfunc=np.mean)# the aggregation function\n",
        "\n",
        "pivot_table"
      ],
      "metadata": {
        "id": "6sfyXgaxsPQv",
        "cellView": "form",
        "colab": {
          "base_uri": "https://localhost:8080/",
          "height": 269
        },
        "outputId": "edf6219c-ab7f-4405-fa52-360f8231376e"
      },
      "execution_count": 239,
      "outputs": [
        {
          "output_type": "execute_result",
          "data": {
            "text/plain": [
              "                     Age            \n",
              "Qualification         MA   MCA   Phd\n",
              "Country Address                     \n",
              "France  Chatelet     NaN   NaN  43.0\n",
              "        La Defense   NaN  65.0   NaN\n",
              "        Monge        NaN   NaN  34.0\n",
              "India   Delhi        NaN   NaN  29.5\n",
              "        Kanpur      24.0  22.0   NaN"
            ],
            "text/html": [
              "\n",
              "  <div id=\"df-ffe520f9-ee71-46ab-8220-da5045bc31f2\">\n",
              "    <div class=\"colab-df-container\">\n",
              "      <div>\n",
              "<style scoped>\n",
              "    .dataframe tbody tr th:only-of-type {\n",
              "        vertical-align: middle;\n",
              "    }\n",
              "\n",
              "    .dataframe tbody tr th {\n",
              "        vertical-align: top;\n",
              "    }\n",
              "\n",
              "    .dataframe thead tr th {\n",
              "        text-align: left;\n",
              "    }\n",
              "\n",
              "    .dataframe thead tr:last-of-type th {\n",
              "        text-align: right;\n",
              "    }\n",
              "</style>\n",
              "<table border=\"1\" class=\"dataframe\">\n",
              "  <thead>\n",
              "    <tr>\n",
              "      <th></th>\n",
              "      <th></th>\n",
              "      <th colspan=\"3\" halign=\"left\">Age</th>\n",
              "    </tr>\n",
              "    <tr>\n",
              "      <th></th>\n",
              "      <th>Qualification</th>\n",
              "      <th>MA</th>\n",
              "      <th>MCA</th>\n",
              "      <th>Phd</th>\n",
              "    </tr>\n",
              "    <tr>\n",
              "      <th>Country</th>\n",
              "      <th>Address</th>\n",
              "      <th></th>\n",
              "      <th></th>\n",
              "      <th></th>\n",
              "    </tr>\n",
              "  </thead>\n",
              "  <tbody>\n",
              "    <tr>\n",
              "      <th rowspan=\"3\" valign=\"top\">France</th>\n",
              "      <th>Chatelet</th>\n",
              "      <td>NaN</td>\n",
              "      <td>NaN</td>\n",
              "      <td>43.0</td>\n",
              "    </tr>\n",
              "    <tr>\n",
              "      <th>La Defense</th>\n",
              "      <td>NaN</td>\n",
              "      <td>65.0</td>\n",
              "      <td>NaN</td>\n",
              "    </tr>\n",
              "    <tr>\n",
              "      <th>Monge</th>\n",
              "      <td>NaN</td>\n",
              "      <td>NaN</td>\n",
              "      <td>34.0</td>\n",
              "    </tr>\n",
              "    <tr>\n",
              "      <th rowspan=\"2\" valign=\"top\">India</th>\n",
              "      <th>Delhi</th>\n",
              "      <td>NaN</td>\n",
              "      <td>NaN</td>\n",
              "      <td>29.5</td>\n",
              "    </tr>\n",
              "    <tr>\n",
              "      <th>Kanpur</th>\n",
              "      <td>24.0</td>\n",
              "      <td>22.0</td>\n",
              "      <td>NaN</td>\n",
              "    </tr>\n",
              "  </tbody>\n",
              "</table>\n",
              "</div>\n",
              "      <button class=\"colab-df-convert\" onclick=\"convertToInteractive('df-ffe520f9-ee71-46ab-8220-da5045bc31f2')\"\n",
              "              title=\"Convert this dataframe to an interactive table.\"\n",
              "              style=\"display:none;\">\n",
              "        \n",
              "  <svg xmlns=\"http://www.w3.org/2000/svg\" height=\"24px\"viewBox=\"0 0 24 24\"\n",
              "       width=\"24px\">\n",
              "    <path d=\"M0 0h24v24H0V0z\" fill=\"none\"/>\n",
              "    <path d=\"M18.56 5.44l.94 2.06.94-2.06 2.06-.94-2.06-.94-.94-2.06-.94 2.06-2.06.94zm-11 1L8.5 8.5l.94-2.06 2.06-.94-2.06-.94L8.5 2.5l-.94 2.06-2.06.94zm10 10l.94 2.06.94-2.06 2.06-.94-2.06-.94-.94-2.06-.94 2.06-2.06.94z\"/><path d=\"M17.41 7.96l-1.37-1.37c-.4-.4-.92-.59-1.43-.59-.52 0-1.04.2-1.43.59L10.3 9.45l-7.72 7.72c-.78.78-.78 2.05 0 2.83L4 21.41c.39.39.9.59 1.41.59.51 0 1.02-.2 1.41-.59l7.78-7.78 2.81-2.81c.8-.78.8-2.07 0-2.86zM5.41 20L4 18.59l7.72-7.72 1.47 1.35L5.41 20z\"/>\n",
              "  </svg>\n",
              "      </button>\n",
              "      \n",
              "  <style>\n",
              "    .colab-df-container {\n",
              "      display:flex;\n",
              "      flex-wrap:wrap;\n",
              "      gap: 12px;\n",
              "    }\n",
              "\n",
              "    .colab-df-convert {\n",
              "      background-color: #E8F0FE;\n",
              "      border: none;\n",
              "      border-radius: 50%;\n",
              "      cursor: pointer;\n",
              "      display: none;\n",
              "      fill: #1967D2;\n",
              "      height: 32px;\n",
              "      padding: 0 0 0 0;\n",
              "      width: 32px;\n",
              "    }\n",
              "\n",
              "    .colab-df-convert:hover {\n",
              "      background-color: #E2EBFA;\n",
              "      box-shadow: 0px 1px 2px rgba(60, 64, 67, 0.3), 0px 1px 3px 1px rgba(60, 64, 67, 0.15);\n",
              "      fill: #174EA6;\n",
              "    }\n",
              "\n",
              "    [theme=dark] .colab-df-convert {\n",
              "      background-color: #3B4455;\n",
              "      fill: #D2E3FC;\n",
              "    }\n",
              "\n",
              "    [theme=dark] .colab-df-convert:hover {\n",
              "      background-color: #434B5C;\n",
              "      box-shadow: 0px 1px 3px 1px rgba(0, 0, 0, 0.15);\n",
              "      filter: drop-shadow(0px 1px 2px rgba(0, 0, 0, 0.3));\n",
              "      fill: #FFFFFF;\n",
              "    }\n",
              "  </style>\n",
              "\n",
              "      <script>\n",
              "        const buttonEl =\n",
              "          document.querySelector('#df-ffe520f9-ee71-46ab-8220-da5045bc31f2 button.colab-df-convert');\n",
              "        buttonEl.style.display =\n",
              "          google.colab.kernel.accessAllowed ? 'block' : 'none';\n",
              "\n",
              "        async function convertToInteractive(key) {\n",
              "          const element = document.querySelector('#df-ffe520f9-ee71-46ab-8220-da5045bc31f2');\n",
              "          const dataTable =\n",
              "            await google.colab.kernel.invokeFunction('convertToInteractive',\n",
              "                                                     [key], {});\n",
              "          if (!dataTable) return;\n",
              "\n",
              "          const docLinkHtml = 'Like what you see? Visit the ' +\n",
              "            '<a target=\"_blank\" href=https://colab.research.google.com/notebooks/data_table.ipynb>data table notebook</a>'\n",
              "            + ' to learn more about interactive tables.';\n",
              "          element.innerHTML = '';\n",
              "          dataTable['output_type'] = 'display_data';\n",
              "          await google.colab.output.renderOutput(dataTable, element);\n",
              "          const docLink = document.createElement('div');\n",
              "          docLink.innerHTML = docLinkHtml;\n",
              "          element.appendChild(docLink);\n",
              "        }\n",
              "      </script>\n",
              "    </div>\n",
              "  </div>\n",
              "  "
            ]
          },
          "metadata": {},
          "execution_count": 239
        }
      ]
    },
    {
      "cell_type": "markdown",
      "metadata": {
        "id": "6eKEbOwah5gZ"
      },
      "source": [
        "# 11 Loops"
      ]
    },
    {
      "cell_type": "markdown",
      "source": [
        "##  FOR"
      ],
      "metadata": {
        "id": "Ib4sbLHfdskF"
      }
    },
    {
      "cell_type": "markdown",
      "source": [
        "A **for** loop is used for iterating over a sequence (that is either a list, a tuple, a dictionary, a set, or a string).\n",
        "\n",
        "With the FOR loop we can execute a set of statements, once for each item in a list, tuple, set etc"
      ],
      "metadata": {
        "id": "cTJf_Fr7eLQe"
      }
    },
    {
      "cell_type": "code",
      "execution_count": 240,
      "metadata": {
        "id": "NZ0yzBqufPxX",
        "colab": {
          "base_uri": "https://localhost:8080/"
        },
        "outputId": "491b8038-b134-4b03-e624-ab8b26a2b2ba"
      },
      "outputs": [
        {
          "output_type": "execute_result",
          "data": {
            "text/plain": [
              "['Apple', 'Orange', 'Banana', 'Apple', 'Kiwi', 'Apple']"
            ]
          },
          "metadata": {},
          "execution_count": 240
        }
      ],
      "source": [
        "# visualize code execution\n",
        "# https://pythontutor.com/python-debugger.html\n",
        "\n",
        "# create a list of groceries\n",
        "groceries = ['Apple','Orange', 'Banana', 'Apple' ,'Kiwi', 'Apple']\n",
        "\n",
        "groceries"
      ]
    },
    {
      "cell_type": "markdown",
      "source": [
        "the syntax of a 'for loop':\n",
        "\n",
        "\n",
        "**for** element **in** list:   \n",
        " _____*do something *\n",
        "\n",
        "It's like saying : for each element in the list, do something with it\n",
        "\n",
        "\n",
        "\n",
        "\n",
        "\n"
      ],
      "metadata": {
        "id": "W8OhPgNtfSP1"
      }
    },
    {
      "cell_type": "code",
      "source": [
        "# iterate through list to access/print each element of the list\n",
        "for item in groceries:\n",
        "  print(item)"
      ],
      "metadata": {
        "id": "F54uHz-1euAL",
        "colab": {
          "base_uri": "https://localhost:8080/"
        },
        "outputId": "66cfc4ee-6c84-4de7-dfac-c49e3853cc4f"
      },
      "execution_count": 241,
      "outputs": [
        {
          "output_type": "stream",
          "name": "stdout",
          "text": [
            "Apple\n",
            "Orange\n",
            "Banana\n",
            "Apple\n",
            "Kiwi\n",
            "Apple\n"
          ]
        }
      ]
    },
    {
      "cell_type": "code",
      "source": [
        "# we can iterate with condition\n",
        "# we want to iterate our list, and to print out only 'Apple'\n",
        "\n",
        "# if element == 'Apple' then...\n",
        "# print out the value of the element and message '==> This is an apple'\n",
        "# else, print out the value of the element and the message '==> This is NOT an apple'\n",
        "\n",
        "for fruit in groceries:\n",
        "  if fruit == 'Apple':\n",
        "      print(fruit, '== > This is an apple')\n",
        "  else:\n",
        "    print(fruit, '==> This is NOT an apple')\n"
      ],
      "metadata": {
        "id": "giCEv6vFuYl6",
        "colab": {
          "base_uri": "https://localhost:8080/"
        },
        "outputId": "8f19bd74-6980-41ac-eff6-1c03d2b437f8"
      },
      "execution_count": 242,
      "outputs": [
        {
          "output_type": "stream",
          "name": "stdout",
          "text": [
            "Apple == > This is an apple\n",
            "Orange ==> This is NOT an apple\n",
            "Banana ==> This is NOT an apple\n",
            "Apple == > This is an apple\n",
            "Kiwi ==> This is NOT an apple\n",
            "Apple == > This is an apple\n"
          ]
        }
      ]
    },
    {
      "cell_type": "code",
      "source": [
        "# we can iterate with condition through numeric values\n",
        "\n",
        "numbers = [-2, 4, -1, 8, 10]\n",
        "\n",
        "# if element is positive then...\n",
        "# devide each element in the list by 2\n",
        "# else, print that this number is not positive\n",
        "\n",
        "for number in numbers:\n",
        "  if number > 0:\n",
        "      print(number/2)\n",
        "  else:\n",
        "    print('this number is not positive')"
      ],
      "metadata": {
        "id": "cQs4Oqw7hpnV",
        "colab": {
          "base_uri": "https://localhost:8080/"
        },
        "outputId": "489940d9-02eb-45fb-caff-73521ac2da11"
      },
      "execution_count": 243,
      "outputs": [
        {
          "output_type": "stream",
          "name": "stdout",
          "text": [
            "this number is not positive\n",
            "2.0\n",
            "this number is not positive\n",
            "4.0\n",
            "5.0\n"
          ]
        }
      ]
    },
    {
      "cell_type": "code",
      "source": [
        "# we can iterate through a chain of strings\n",
        "\n",
        "string = 'ilovepython'\n",
        "\n",
        "# Python will think of this string as a list that contains the characters of the string...\n",
        "\n",
        "for letter in string:\n",
        "  print(letter)\n"
      ],
      "metadata": {
        "id": "TyK4fmiZuIiK",
        "colab": {
          "base_uri": "https://localhost:8080/"
        },
        "outputId": "4349e7cc-edc0-48e0-cdba-53fa34cf8be3"
      },
      "execution_count": 244,
      "outputs": [
        {
          "output_type": "stream",
          "name": "stdout",
          "text": [
            "i\n",
            "l\n",
            "o\n",
            "v\n",
            "e\n",
            "p\n",
            "y\n",
            "t\n",
            "h\n",
            "o\n",
            "n\n"
          ]
        }
      ]
    },
    {
      "cell_type": "code",
      "source": [
        "# iterate through a chain of strings and do something (with condition...)\n",
        "\n",
        "vowels = ['a', 'e', 'i', 'o', 'u']\n",
        "\n",
        "# iterate through the string 'ilovepython' and if the letter is a vowel then print it in CAPITALS with function upper()\n",
        "for letter in string:\n",
        "  if letter in vowels:\n",
        "    print(letter.upper())\n",
        "  else:\n",
        "    print(letter)"
      ],
      "metadata": {
        "id": "uYNFXnikubKg",
        "colab": {
          "base_uri": "https://localhost:8080/"
        },
        "outputId": "3d6d2e01-7aff-45a2-9e98-6f9a4d585d4c"
      },
      "execution_count": 245,
      "outputs": [
        {
          "output_type": "stream",
          "name": "stdout",
          "text": [
            "I\n",
            "l\n",
            "O\n",
            "v\n",
            "E\n",
            "p\n",
            "y\n",
            "t\n",
            "h\n",
            "O\n",
            "n\n"
          ]
        }
      ]
    },
    {
      "cell_type": "markdown",
      "source": [
        "Nested LIsts"
      ],
      "metadata": {
        "id": "tf-3sMEHuFzy"
      }
    },
    {
      "cell_type": "code",
      "execution_count": 246,
      "metadata": {
        "id": "69oherPCiP-B",
        "colab": {
          "base_uri": "https://localhost:8080/"
        },
        "outputId": "abb84a79-89b0-4ef0-80c1-dcec50666cb9"
      },
      "outputs": [
        {
          "output_type": "execute_result",
          "data": {
            "text/plain": [
              "[['Apple', 4],\n",
              " ['Orange', 2],\n",
              " ['Banana', 6],\n",
              " ['Kiwi', 5],\n",
              " ['Apple', 6],\n",
              " ['Apple', 12]]"
            ]
          },
          "metadata": {},
          "execution_count": 246
        }
      ],
      "source": [
        "# iterate through nested lists\n",
        "\n",
        "fruit_list = [['Apple', 4],['Orange', 2],['Banana', 6],['Kiwi', 5], ['Apple', 6], ['Apple', 12]]\n",
        "fruit_list"
      ]
    },
    {
      "cell_type": "code",
      "execution_count": 247,
      "metadata": {
        "id": "elKUPogujRdk",
        "colab": {
          "base_uri": "https://localhost:8080/"
        },
        "outputId": "e2fca496-643b-4802-f970-b0f02b11a49c"
      },
      "outputs": [
        {
          "output_type": "execute_result",
          "data": {
            "text/plain": [
              "2"
            ]
          },
          "metadata": {},
          "execution_count": 247
        }
      ],
      "source": [
        "# access 1 element from the second item (\"2\")\n",
        "fruit_list[1][1]"
      ]
    },
    {
      "cell_type": "code",
      "source": [
        "# return 'Banana:\n",
        "\n",
        "# fruit_list[???] # the element  ['Banana', 6]\n",
        "\n",
        "fruit_list[2][0] # only the sub_element 'Banana'"
      ],
      "metadata": {
        "id": "H89NzsWdjo1E",
        "colab": {
          "base_uri": "https://localhost:8080/",
          "height": 35
        },
        "outputId": "79c5cff6-5f17-447f-b544-eeb5761c632c"
      },
      "execution_count": 248,
      "outputs": [
        {
          "output_type": "execute_result",
          "data": {
            "text/plain": [
              "'Banana'"
            ],
            "application/vnd.google.colaboratory.intrinsic+json": {
              "type": "string"
            }
          },
          "metadata": {},
          "execution_count": 248
        }
      ]
    },
    {
      "cell_type": "code",
      "execution_count": 249,
      "metadata": {
        "id": "bH79QaIvjKGF",
        "colab": {
          "base_uri": "https://localhost:8080/"
        },
        "outputId": "e74d39dc-3fb0-4fa8-80fa-76b26e75b983"
      },
      "outputs": [
        {
          "output_type": "stream",
          "name": "stdout",
          "text": [
            "['Apple', 4]\n",
            "['Orange', 2]\n",
            "['Banana', 6]\n",
            "['Kiwi', 5]\n",
            "['Apple', 6]\n",
            "['Apple', 12]\n"
          ]
        }
      ],
      "source": [
        "# iterate through a nested list\n",
        "# here an element is a list, with 2 items each ==> the fruit and the quantity\n",
        "\n",
        "for element in fruit_list:\n",
        "    print(element)"
      ]
    },
    {
      "cell_type": "code",
      "source": [
        "# iterate through a nested list\n",
        "# and to access the quantity of each fruit (==> the fruite has index 0, and quntity has index 1)\n",
        "\n",
        "for element in fruit_list:\n",
        "    print(element[1])"
      ],
      "metadata": {
        "id": "TEbYTy9xbgdP",
        "colab": {
          "base_uri": "https://localhost:8080/"
        },
        "outputId": "e4f2ca6c-bb20-47ac-9398-3c6789527ce8"
      },
      "execution_count": 250,
      "outputs": [
        {
          "output_type": "stream",
          "name": "stdout",
          "text": [
            "4\n",
            "2\n",
            "6\n",
            "5\n",
            "6\n",
            "12\n"
          ]
        }
      ]
    },
    {
      "cell_type": "code",
      "source": [
        "# iterate through a list with condition..\n",
        "\n",
        "# we want to access only fruits that are Apple\n",
        "\n",
        "# iterate the fruit_list\n",
        "for sublist in fruit_list: # for each element from the fruit_list called \"sublist\"\n",
        "  if sublist[0]== 'Apple': # if 1st element from the list (==> i.e index=0)\n",
        "    print(sublist) # print the sublist"
      ],
      "metadata": {
        "id": "hxPWeL8Gc3nw",
        "colab": {
          "base_uri": "https://localhost:8080/"
        },
        "outputId": "47cc432a-1310-4aa7-8ea2-07f55f05debb"
      },
      "execution_count": 251,
      "outputs": [
        {
          "output_type": "stream",
          "name": "stdout",
          "text": [
            "['Apple', 4]\n",
            "['Apple', 6]\n",
            "['Apple', 12]\n"
          ]
        }
      ]
    },
    {
      "cell_type": "code",
      "execution_count": 252,
      "metadata": {
        "id": "S5EUd2mRjKxx",
        "colab": {
          "base_uri": "https://localhost:8080/"
        },
        "outputId": "885c3ba0-15d1-4560-a215-c35886af8727"
      },
      "outputs": [
        {
          "output_type": "stream",
          "name": "stdout",
          "text": [
            "[['Apple', 4], ['Orange', 2], ['Banana', 6], ['Kiwi', 5], ['Apple', 6], ['Apple', 12]]\n",
            "\n"
          ]
        }
      ],
      "source": [
        "# sometimes you'll need to access each element in a nested list and store them in a flat list (regular list) \n",
        "\n",
        "# iterate through nested lists\n",
        "# accesst each element and store it as a flat list\n",
        "# the expected output: ['Apple', 4, 'Orange', 2, 'Banana', 6, 'Kiwi', 5]\n",
        "\n",
        "# create a copy of fruit_list called copy_list wtth copy() function\n",
        "\n",
        "copy_list = fruit_list.copy()\n",
        "print(copy_list)\n",
        "print('')"
      ]
    },
    {
      "cell_type": "code",
      "source": [
        "# first, create an empty list called 'flat list' , where we'll store all elements\n",
        "\n",
        "flat_list = [] # empty list\n",
        "print(flat_list)\n",
        "print('')"
      ],
      "metadata": {
        "id": "I4lqcDZd52P7",
        "colab": {
          "base_uri": "https://localhost:8080/"
        },
        "outputId": "53b03595-7785-4a2e-d248-b52e48eb433b"
      },
      "execution_count": 253,
      "outputs": [
        {
          "output_type": "stream",
          "name": "stdout",
          "text": [
            "[]\n",
            "\n"
          ]
        }
      ]
    },
    {
      "cell_type": "code",
      "source": [
        "# we will iterate the list (copy_list), by accessing the sublist from this list\n",
        "# we wil ieterate through the sublist, to access each item form the sublist\n",
        "\n",
        "for sublist in copy_list: # iterate the sublists from the list\n",
        "    print(sublist) # at each iteration print the sublist\n",
        "    for item in sublist:   # then iterate through the sublist to acces each item in the sublist     \n",
        "        flat_list.append(item) # the append the iterated item to the flat_list\n",
        "\n",
        "print('')\n",
        "print(\"the final flat_list will look like: \", flat_list )"
      ],
      "metadata": {
        "id": "Ebeen44l58jq",
        "colab": {
          "base_uri": "https://localhost:8080/"
        },
        "outputId": "f36fd1e4-e5ab-40d8-e34f-dfa1015b7588"
      },
      "execution_count": 254,
      "outputs": [
        {
          "output_type": "stream",
          "name": "stdout",
          "text": [
            "['Apple', 4]\n",
            "['Orange', 2]\n",
            "['Banana', 6]\n",
            "['Kiwi', 5]\n",
            "['Apple', 6]\n",
            "['Apple', 12]\n",
            "\n",
            "the final flat_list will look like:  ['Apple', 4, 'Orange', 2, 'Banana', 6, 'Kiwi', 5, 'Apple', 6, 'Apple', 12]\n"
          ]
        }
      ]
    },
    {
      "cell_type": "markdown",
      "source": [
        "## WHILE"
      ],
      "metadata": {
        "id": "t1slvTG7dvpV"
      }
    },
    {
      "cell_type": "markdown",
      "source": [
        "With the while loop we can execute a set of statements as long as a condition is true"
      ],
      "metadata": {
        "id": "5ZUMaT2ise3T"
      }
    },
    {
      "cell_type": "code",
      "source": [
        "# as long i is less then 10, print i\n",
        "\n",
        "i = 1\n",
        "while i < 10:\n",
        "  print(i)\n",
        "  i += 1 # increment by 1"
      ],
      "metadata": {
        "id": "OO_qBHHor_M2",
        "colab": {
          "base_uri": "https://localhost:8080/"
        },
        "outputId": "58a1cf20-1507-4149-b3f7-c92443692305"
      },
      "execution_count": 255,
      "outputs": [
        {
          "output_type": "stream",
          "name": "stdout",
          "text": [
            "1\n",
            "2\n",
            "3\n",
            "4\n",
            "5\n",
            "6\n",
            "7\n",
            "8\n",
            "9\n"
          ]
        }
      ]
    },
    {
      "cell_type": "code",
      "source": [
        "# exit when i gets to 4\n",
        "\n",
        "i = 1\n",
        "while i < 10:\n",
        "  print(i)\n",
        "  if i == 4:\n",
        "    break\n",
        "  i += 1"
      ],
      "metadata": {
        "id": "XP6EspmVwtKa",
        "colab": {
          "base_uri": "https://localhost:8080/"
        },
        "outputId": "6f5a65a5-aa56-4c4e-fd87-53506568a9a3"
      },
      "execution_count": 256,
      "outputs": [
        {
          "output_type": "stream",
          "name": "stdout",
          "text": [
            "1\n",
            "2\n",
            "3\n",
            "4\n"
          ]
        }
      ]
    },
    {
      "cell_type": "markdown",
      "source": [
        "## Loops Practice ***"
      ],
      "metadata": {
        "id": "zfVPNcX9xCiF"
      }
    },
    {
      "cell_type": "markdown",
      "source": [
        "### FOR loops"
      ],
      "metadata": {
        "id": "fy0CWwmGwKnS"
      }
    },
    {
      "cell_type": "markdown",
      "source": [
        "You can use the following link visualize the code execution of the workflow\n",
        "https://pythontutor.com/python-debugger.html"
      ],
      "metadata": {
        "id": "vcQEKYGaze6e"
      }
    },
    {
      "cell_type": "markdown",
      "source": [
        "#### Assignment 1"
      ],
      "metadata": {
        "id": "nCns74RCwoso"
      }
    },
    {
      "cell_type": "code",
      "source": [
        "# Create a list \"departments\"\n",
        "\n",
        "departments = [\"Finance\", \"Human Ressources\", \"Finance\", \"Collection\", \"IT\", 'Finance']\n",
        "\n",
        "# write a code (using FOR loop),  to iterate through the list 'departments'\n",
        "\n",
        "# ...steps ...\n",
        "# create the list 'departments' \n",
        "# iterate through the list 'departments\n",
        "# and print out each element called 'department' of this list\n",
        "\n",
        "departments = [\"Finance\", \"Human Ressources\", \"Finance\", \"Collection\", \"IT\", 'Finance']\n",
        "for item in departments:\n",
        "  print(item)"
      ],
      "metadata": {
        "id": "gnX60iQxy8IG",
        "colab": {
          "base_uri": "https://localhost:8080/"
        },
        "outputId": "47517d6f-b2c7-46ac-c470-9226fb0cf4ab"
      },
      "execution_count": 257,
      "outputs": [
        {
          "output_type": "stream",
          "name": "stdout",
          "text": [
            "Finance\n",
            "Human Ressources\n",
            "Finance\n",
            "Collection\n",
            "IT\n",
            "Finance\n"
          ]
        }
      ]
    },
    {
      "cell_type": "code",
      "source": [
        "#@title Display Solution 1\n",
        "\n",
        "departments = [\"Finance\", \"Human Ressources\", \"Finance\", \"Collection\", \"IT\", 'Finance']\n",
        "\n",
        "for department in departments:\n",
        "  print(department)\n",
        "\n"
      ],
      "metadata": {
        "id": "3kb-E6ByxVgH",
        "cellView": "form",
        "colab": {
          "base_uri": "https://localhost:8080/"
        },
        "outputId": "0594ae5f-da02-41e0-a1c0-fe06353d4558"
      },
      "execution_count": null,
      "outputs": [
        {
          "output_type": "stream",
          "name": "stdout",
          "text": [
            "Finance\n",
            "Human Ressources\n",
            "Finance\n",
            "Collection\n",
            "IT\n",
            "Finance\n"
          ]
        }
      ]
    },
    {
      "cell_type": "markdown",
      "source": [
        "#### Assignment 2"
      ],
      "metadata": {
        "id": "JLPM8w_KyPFF"
      }
    },
    {
      "cell_type": "code",
      "source": [
        "# if the element \"department\" is 'Finance'... then...\n",
        "# print out the value of this element but in CAPITALS (using the .upper() method) \n",
        "\n",
        "for element in departments:\n",
        "  if element == 'Finance':\n",
        "    print(element.upper())\n",
        "\n"
      ],
      "metadata": {
        "id": "Cqu4f-p4yKuf",
        "colab": {
          "base_uri": "https://localhost:8080/"
        },
        "outputId": "1063775d-7adb-4271-9560-cf04423ec19f"
      },
      "execution_count": 258,
      "outputs": [
        {
          "output_type": "stream",
          "name": "stdout",
          "text": [
            "FINANCE\n",
            "FINANCE\n",
            "FINANCE\n"
          ]
        }
      ]
    },
    {
      "cell_type": "code",
      "source": [
        "#@title Display Solution 2\n",
        "\n",
        "for department in departments:\n",
        "  if department == 'Finance':\n",
        "    print(department.upper())"
      ],
      "metadata": {
        "id": "at0YH29izCdy",
        "cellView": "form",
        "colab": {
          "base_uri": "https://localhost:8080/"
        },
        "outputId": "04432363-77ee-440f-e26c-d78767783aa0"
      },
      "execution_count": null,
      "outputs": [
        {
          "output_type": "stream",
          "name": "stdout",
          "text": [
            "FINANCE\n",
            "FINANCE\n",
            "FINANCE\n"
          ]
        }
      ]
    },
    {
      "cell_type": "markdown",
      "source": [
        "#### Assignment 3"
      ],
      "metadata": {
        "id": "1s5KCUUG0KFu"
      }
    },
    {
      "cell_type": "code",
      "source": [
        "# iterate through nested lists ----\n",
        "\n",
        "# create a nested list \"departments_staff\" \n",
        "# where you'd like to store data of departments name\n",
        "# and the number of people in each department\n",
        "\n",
        "departments_staff = [['Finance', 14],['IT', 4],['Human Ressources', 6],['Collection', 2], ['Finance', 6]]\n",
        "\n",
        "departments_staff"
      ],
      "metadata": {
        "id": "EEsNC6uN0QYz",
        "colab": {
          "base_uri": "https://localhost:8080/"
        },
        "outputId": "73fd6956-ede5-435f-a0de-ec539558b942"
      },
      "execution_count": 259,
      "outputs": [
        {
          "output_type": "execute_result",
          "data": {
            "text/plain": [
              "[['Finance', 14],\n",
              " ['IT', 4],\n",
              " ['Human Ressources', 6],\n",
              " ['Collection', 2],\n",
              " ['Finance', 6]]"
            ]
          },
          "metadata": {},
          "execution_count": 259
        }
      ]
    },
    {
      "cell_type": "code",
      "source": [
        "#@title Display Solution 3\n",
        "\n",
        "# create a nested list \"departments_staff\"\n",
        "departments_staff = [['Finance', 14],['IT', 4],['Human Ressources', 6],['Collection', 2], ['Finance', 6]]\n",
        "\n",
        "# visualize the created list\n",
        "departments_staff"
      ],
      "metadata": {
        "id": "TzyMM-mc0TMt",
        "cellView": "form",
        "colab": {
          "base_uri": "https://localhost:8080/"
        },
        "outputId": "bc1ea3ed-f677-4cfb-b004-94adc4672390"
      },
      "execution_count": null,
      "outputs": [
        {
          "output_type": "execute_result",
          "data": {
            "text/plain": [
              "[['Finance', 14],\n",
              " ['IT', 4],\n",
              " ['Human Ressources', 6],\n",
              " ['Collection', 2],\n",
              " ['Finance', 6]]"
            ]
          },
          "metadata": {},
          "execution_count": 178
        }
      ]
    },
    {
      "cell_type": "markdown",
      "source": [
        "#### Assignment 4"
      ],
      "metadata": {
        "id": "aD6EUED51lfe"
      }
    },
    {
      "cell_type": "code",
      "source": [
        "# access to the element that concerns 'IT'\n",
        "# and check out the number of persons in 'IT' department\n",
        "\n",
        "print ('The number of persons in IT department:', departments_staff [1][1])\n"
      ],
      "metadata": {
        "id": "kw5h_UrX1pon",
        "colab": {
          "base_uri": "https://localhost:8080/"
        },
        "outputId": "a10b28cb-1b16-498d-8234-e719186c30b1"
      },
      "execution_count": 268,
      "outputs": [
        {
          "output_type": "stream",
          "name": "stdout",
          "text": [
            "The number of persons in IT department: 4\n"
          ]
        }
      ]
    },
    {
      "cell_type": "code",
      "source": [
        "#@title Display Solution 4\n",
        "\n",
        "print('The number of persons in IT department: ',  departments_staff[1][1])"
      ],
      "metadata": {
        "cellView": "form",
        "id": "6VJAhfMa1qyy",
        "colab": {
          "base_uri": "https://localhost:8080/"
        },
        "outputId": "b0d80a53-5861-4a46-bb7a-1b392c30b7cd"
      },
      "execution_count": null,
      "outputs": [
        {
          "output_type": "stream",
          "name": "stdout",
          "text": [
            "The number of persons in IT department:  4\n"
          ]
        }
      ]
    },
    {
      "cell_type": "markdown",
      "source": [
        "#### Assignment 5"
      ],
      "metadata": {
        "id": "dNLnbHYTkvwv"
      }
    },
    {
      "cell_type": "code",
      "source": [
        "# iterate through a list with condition..\n",
        "\n",
        "# how many Bananas do we have in fruit_list ? \n",
        "# ...use FOR loop to access the sublist that have \"Banana\" in it ..\n",
        "\n",
        "for sublist in fruit_list: # for each element from the fruit_list called \"sublist\"\n",
        "  if sublist[0]== 'Banana': # if 1st element from the list (==> i.e index=0)\n",
        "    print(sublist[1])\n"
      ],
      "metadata": {
        "id": "FIoz8ewWk0ml",
        "colab": {
          "base_uri": "https://localhost:8080/"
        },
        "outputId": "2d62b359-2a44-4eee-de41-3882927a2800"
      },
      "execution_count": 271,
      "outputs": [
        {
          "output_type": "stream",
          "name": "stdout",
          "text": [
            "6\n"
          ]
        }
      ]
    },
    {
      "cell_type": "code",
      "source": [
        "#@title Display Solution 5\n",
        "\n",
        "# iterate the fruit_list\n",
        "for sublist in fruit_list: # for each element from the fruit_list called \"sublist\"\n",
        "  if sublist[0]== 'Banana': # if 1st element from the list (==> i.e index=0)\n",
        "    print(sublist[1]) # print the sublist"
      ],
      "metadata": {
        "cellView": "form",
        "id": "JbUE4dQfk2Do",
        "colab": {
          "base_uri": "https://localhost:8080/"
        },
        "outputId": "6ac92eef-c0d2-4d21-d0e4-4f146a01c6b1"
      },
      "execution_count": null,
      "outputs": [
        {
          "output_type": "stream",
          "name": "stdout",
          "text": [
            "6\n"
          ]
        }
      ]
    },
    {
      "cell_type": "markdown",
      "source": [
        "#### Assignment 6"
      ],
      "metadata": {
        "id": "0WXiwvSa2fJh"
      }
    },
    {
      "cell_type": "code",
      "source": [
        "# create a copy of departments_staff called copy_list wtth copy() function\n",
        "\n",
        "copy_list = departments_staff.copy()\n",
        "#print(copy_list)\n",
        "#print('')\n",
        "\n",
        "# create an empty list where we'll store all elements and print it out\n",
        "\n",
        "flat_list = [] # empty list\n",
        "\n",
        "# iterate throught the nested list with FOR loop to access the sublists\n",
        "# ....access the items from the sublist\n",
        "# ....and then append this items to the flat_list\n",
        "\n",
        "# visualise the obtained flat list\n",
        "\n",
        "for sublist in copy_list: # iterate the sublists from the list\n",
        "    for item in sublist:   # then iterate through the sublist to acces each item in the sublist     \n",
        "        flat_list.append(item) # the append the iterated item to the flat_list\n",
        "\n",
        "print('')\n",
        "print(flat_list )"
      ],
      "metadata": {
        "id": "uU0aIN8u2kS0",
        "colab": {
          "base_uri": "https://localhost:8080/"
        },
        "outputId": "f5a58105-60f2-41c7-a3f8-bd513ef76950"
      },
      "execution_count": 278,
      "outputs": [
        {
          "output_type": "stream",
          "name": "stdout",
          "text": [
            "\n",
            "['Finance', 14, 'IT', 4, 'Human Ressources', 6, 'Collection', 2, 'Finance', 6]\n"
          ]
        }
      ]
    },
    {
      "cell_type": "code",
      "source": [
        "#@title Display Solution 6\n",
        "\n",
        "# creat an empty list where we'll store all elements\n",
        "flat_list = [] # empty list\n",
        "print(flat_list)\n",
        "print('')\n",
        "\n",
        "# iterate throught the nested list with FOR loop to access the sublists\n",
        "for sublist in copy_list: # FOR loop to access the sublists\n",
        "    for item in sublist: # ....access the items from the sublist\n",
        "        flat_list.append(item) # ....and then append this items to the flat_list\n",
        "\n",
        "# visualise the obtained flat list\n",
        "flat_list"
      ],
      "metadata": {
        "cellView": "form",
        "id": "QPP7Clj4jjT5",
        "colab": {
          "base_uri": "https://localhost:8080/"
        },
        "outputId": "05908beb-de3b-43d6-df35-d5da1b7011fc"
      },
      "execution_count": null,
      "outputs": [
        {
          "output_type": "stream",
          "name": "stdout",
          "text": [
            "[]\n",
            "\n"
          ]
        },
        {
          "output_type": "execute_result",
          "data": {
            "text/plain": [
              "['Finance', 14, 'IT', 4, 'Human Ressources', 6, 'Collection', 2, 'Finance', 6]"
            ]
          },
          "metadata": {},
          "execution_count": 184
        }
      ]
    },
    {
      "cell_type": "markdown",
      "metadata": {
        "id": "et9L2zSBIg2B"
      },
      "source": [
        "# 12.&nbsp;Functions"
      ]
    },
    {
      "cell_type": "markdown",
      "source": [
        "A function is a block of code which only runs when it is called.\n",
        "\n",
        "You can pass data, known as parameters, into a function.\n",
        "\n",
        "A function can return data as a result."
      ],
      "metadata": {
        "id": "_SRANGfNyX38"
      }
    },
    {
      "cell_type": "markdown",
      "source": [
        "More about functions https://www.w3schools.com/python/python_functions.asp"
      ],
      "metadata": {
        "id": "WgDA6MVmyYya"
      }
    },
    {
      "cell_type": "code",
      "execution_count": null,
      "metadata": {
        "id": "siK6KnwfIjEG",
        "colab": {
          "base_uri": "https://localhost:8080/"
        },
        "outputId": "d685d32b-74a2-44e8-9907-bb0a4200084b"
      },
      "outputs": [
        {
          "output_type": "stream",
          "name": "stdout",
          "text": [
            "2.29\n"
          ]
        }
      ],
      "source": [
        "# create a function called operation\n",
        "# the syntax of a function is the keyword def, name of the function, the parameters to use, and the action of the function\n",
        "\n",
        "# write a function operation, when given the parameter x, would add + 2.6 to it, and then devided by 5.5\n",
        "# store the output int a variable \"result\"\n",
        "# and print out the output\n",
        "\n",
        "def operation(x):\n",
        "    result = (x + 2.6)/5.5\n",
        "    print(round(result, 2))\n",
        "\n",
        "\n",
        "# try your new function by giving values to arguments\n",
        "operation(10)\n"
      ]
    },
    {
      "cell_type": "markdown",
      "metadata": {
        "id": "gkowOQa65cmv"
      },
      "source": [
        "**Body Mass Indicator ==> BMI**"
      ]
    },
    {
      "cell_type": "code",
      "execution_count": null,
      "metadata": {
        "id": "2CcJwiOOJ2vV",
        "colab": {
          "base_uri": "https://localhost:8080/"
        },
        "outputId": "207874f8-99fe-499d-fd2e-0da9450b7216"
      },
      "outputs": [
        {
          "output_type": "execute_result",
          "data": {
            "text/plain": [
              "23.69"
            ]
          },
          "metadata": {},
          "execution_count": 568
        }
      ],
      "source": [
        "# compute body fat\n",
        "\n",
        "height = 66.2 # in inches (devide cm by 2,54)\n",
        "weight = 147.7 # in pounds (multiply kg by 2,205))\n",
        "\n",
        "# CALCULATE YOUR BODY MASS INDEX (BMI)\n",
        "bmi = round((weight/(height**2)  * 703), 2) # conversion factor of 703\n",
        "bmi"
      ]
    },
    {
      "cell_type": "code",
      "execution_count": null,
      "metadata": {
        "id": "9XDQgGcy46L-"
      },
      "outputs": [],
      "source": [
        "# create a function called bmi that would automatically compte the body fat \n",
        "\n",
        "# arguments needed to be passed during the function call : height and weight\n",
        "# the function will remeber the order of the arguments=>=  1st: height, 2nd : weight\n",
        "\n",
        "def bmi(height,weight):\n",
        "  bmi= round((weight/(height**2)  * 703), 2) \n",
        "  print('your Body Mass Index is ', round(bmi, 2))"
      ]
    },
    {
      "cell_type": "code",
      "execution_count": null,
      "metadata": {
        "id": "jfiI_Z8H5STy",
        "colab": {
          "base_uri": "https://localhost:8080/"
        },
        "outputId": "a3b68519-ace4-457a-8758-ea4baff06100"
      },
      "outputs": [
        {
          "output_type": "stream",
          "name": "stdout",
          "text": [
            "your Body Mass Index is  23.29\n"
          ]
        }
      ],
      "source": [
        "# when will call the function \"bmi\"...\n",
        "# in parathesis specify the arguments : height and weight with their respective values..\n",
        "\n",
        "\n",
        "# try your new function by giving values to arguments\n",
        "bmi(height=65,weight=140)"
      ]
    },
    {
      "cell_type": "code",
      "execution_count": null,
      "metadata": {
        "id": "zePBBlC15M6w",
        "colab": {
          "base_uri": "https://localhost:8080/"
        },
        "outputId": "d935be41-a628-4489-ff9b-861181a689ad"
      },
      "outputs": [
        {
          "output_type": "stream",
          "name": "stdout",
          "text": [
            "your Body Mass Index is  23.29\n"
          ]
        }
      ],
      "source": [
        "# if we don't write the arguments name ....\n",
        "# python will understand that 1st '60' is the height\n",
        "# and 2nd '140' is the weight\n",
        "\n",
        "\n",
        "# try your new function by giving values to arguments\n",
        "bmi(65, 140)"
      ]
    },
    {
      "cell_type": "markdown",
      "metadata": {
        "id": "Vhx3iKza5thE"
      },
      "source": [
        "**Body Fat Percentage (BFP) for women**"
      ]
    },
    {
      "cell_type": "code",
      "execution_count": null,
      "metadata": {
        "id": "UgzoGwG5LU8v",
        "colab": {
          "base_uri": "https://localhost:8080/"
        },
        "outputId": "37d50a99-35a3-4adf-eb99-bf78dbf58425"
      },
      "outputs": [
        {
          "output_type": "stream",
          "name": "stdout",
          "text": [
            "23.46\n"
          ]
        }
      ],
      "source": [
        "# let's create a more specific function \"bfp_women\" ..\n",
        "# where we'll return  the body fat percentage for women\n",
        "# the formula to compute the the bfp for women : (<<coefficient>> * bmi) + (<<coefficient>> * age) - 5.4\n",
        "# the metrics that are taken into account are the bmi and the age\n",
        "# and the respective coefficients 1.20, 0.23 and - 5.4 use to assess the bfp for women\n",
        "\n",
        "# write the function called 'bfp_women' with keyword def (from definition...)\n",
        "def bfp_women(bmi, age): # give the argument of the function (here bmi and age)\n",
        "  body_fat_pct = (1.20 * bmi) + (0.23 * age) - 5.4 # the formula of bfp\n",
        "  print(body_fat_pct) # and ask to return the outcome of 'body_fat_pct'\n",
        "\n",
        "# try your new function by giving values to arguments\n",
        "bfp_women(bmi= 18.3, age = 30)"
      ]
    },
    {
      "cell_type": "markdown",
      "metadata": {
        "id": "UTVeRB4Q52MI"
      },
      "source": [
        "**BFP diagnos caclulator for women**\n"
      ]
    },
    {
      "cell_type": "markdown",
      "source": [
        "*To assess if the BFP is in the norms we will a calculater by writing a function called `bfp_women_diagnosis` that will do the diagnosis automatically for us*"
      ],
      "metadata": {
        "id": "EvrB5CsGr1w_"
      }
    },
    {
      "cell_type": "markdown",
      "metadata": {
        "id": "y9EleC05PeVJ"
      },
      "source": [
        "Women diagnosis:\n",
        "\n",
        "*For 20-40 yrs old range:*\n",
        ">  \n",
        "\n",
        "*   Underfat: under 21 %,\n",
        "*   Healthy: 21-33 %\n",
        "*   Overweight: 33-39 %\n",
        "*   Obese: Over 39 %\n",
        "\n",
        "\n",
        "*For 41-60 yrs old range:*\n",
        "\n",
        "> \n",
        "\n",
        "* Underfat: under 23 %\n",
        "* Healthy: 23-35 %\n",
        "* Overweight : 35-40 %\n",
        "* Obese: over 40 %\n",
        "\n",
        "\n",
        "*For 61-79 yrs old range:*\n",
        "\n",
        "> \n",
        "\n",
        "* Underfat: under 24 %\n",
        "* Healthy: 24-36 %\n",
        "* Overweight: 36-42%\n",
        "* Obese: over 42 %"
      ]
    },
    {
      "cell_type": "code",
      "execution_count": null,
      "metadata": {
        "id": "S-PEaNEiPypE"
      },
      "outputs": [],
      "source": [
        "def bfp_women_diagnosis(height, weight, age):\n",
        "  bmi = (weight/(height**2) ) * 703\n",
        "  body_fat_pct = round(((1.20 * bmi) + (0.23 * age) - 5.4),2)\n",
        "\n",
        "# For the women within the range 20-40 y.o.\n",
        "  if age <=40:\n",
        "    # within the range 20-40 y.o. if body_fat_pct under 21\n",
        "     if body_fat_pct < 21:\n",
        "        print('your BFP is: ',  body_fat_pct, \"you are underfat\")\n",
        "    # within the range 20-40 y.o. if body_fat_pct between 21 and 33\n",
        "     elif body_fat_pct >= 21 and body_fat_pct < 33:\n",
        "        print('your BFP is: ',  body_fat_pct, \"you are healthy\")\n",
        "    # within the range 20-40 y.o. if body_fat_pct between 33 and 40\n",
        "     elif body_fat_pct >= 33 and body_fat_pct < 40:\n",
        "        print('your BFP is: ',  body_fat_pct, \"you are overweight\")\n",
        "    # within the range 20-40 y.o. if body_fat_pct over 39\n",
        "     else : \n",
        "        print('your BFP  is: ',  body_fat_pct, \"you are obese\")\n",
        "\n",
        "# For the women within the range 41-60 y.o.\n",
        "  if age > 40 and age <=60:\n",
        "     if body_fat_pct < 23:\n",
        "        print('your BFP is: ',  body_fat_pct, \"you are underfat\")\n",
        "     elif body_fat_pct >= 23 and body_fat_pct < 35:\n",
        "        print('your BFP is: ',  body_fat_pct, \"you are healthy\")\n",
        "     elif body_fat_pct >= 35 and body_fat_pct < 40:\n",
        "        print('your BFP is: ',  body_fat_pct, \"you are overweight\")\n",
        "     else : \n",
        "        print('your BFP  is: ',  body_fat_pct, \"you are obese\")\n",
        "\n",
        "# For the women within the range 60-79 y.o.\n",
        "  if age > 60:\n",
        "     if body_fat_pct < 24:\n",
        "        print('your BFP is: ',  body_fat_pct, \"you are underfat\")\n",
        "     elif body_fat_pct >= 24 and body_fat_pct < 36:\n",
        "        print('your BFP  is: ',  body_fat_pct, \"you are healthy\")\n",
        "     elif body_fat_pct >= 36 and body_fat_pct < 42:\n",
        "        print('your BFP  is: ',  body_fat_pct, \"you are healthy\")\n",
        "     else : \n",
        "        print('your BFP  is: ',  body_fat_pct, \"you are obese\")\n"
      ]
    },
    {
      "cell_type": "code",
      "source": [
        "bfp_women_diagnosis(66.2, 147.7, 40)"
      ],
      "metadata": {
        "id": "k86oVLNUG3K7",
        "colab": {
          "base_uri": "https://localhost:8080/"
        },
        "outputId": "33ae79bf-9839-4076-f780-823502d84d1f"
      },
      "execution_count": null,
      "outputs": [
        {
          "output_type": "stream",
          "name": "stdout",
          "text": [
            "your BFP is:  32.23 you are healthy\n"
          ]
        }
      ]
    },
    {
      "cell_type": "markdown",
      "metadata": {
        "id": "m-kpbX8f6CJX"
      },
      "source": [
        "**Body Fat Percentage for men**"
      ]
    },
    {
      "cell_type": "code",
      "execution_count": null,
      "metadata": {
        "id": "nRRlQL81NdoY"
      },
      "outputs": [],
      "source": [
        "def bfp_men(height, weight, age):\n",
        "  bmi  = (weight/(height**2) ) * 703\n",
        "  body_fat_pct = (1.20 * bmi) + (0.23 * age) - 16.2\n",
        "  print(round(body_fat_pct,2))\n",
        "\n",
        "bfp_men(height= 69, weight= 170, age = 40)"
      ]
    },
    {
      "cell_type": "markdown",
      "metadata": {
        "id": "Y5i03TgBKlab"
      },
      "source": [
        "\n",
        "Here are the standard metrics for **Men** diagnosis:\n",
        "\n",
        "For 20-40 yrs old range : \n",
        "\n",
        "> \n",
        "* Underfat: under 8 %\n",
        "* Healthy: 8-19 %\n",
        "* Overweight: 19-25 %\n",
        "* Obese: over 25%\n",
        "\n",
        "For 41-60 yrs old range:\n",
        "\n",
        "> \n",
        "* Underfat: under 11%\n",
        "* Healthy: 11-22%\n",
        "* Overweight: 22-27%\n",
        "* Obese: over 27%\n",
        "\n",
        "For 61-79 yrs old range:\n",
        "\n",
        "> \n",
        "* Underfat: under 13%\n",
        "* Healthy: 13-25%\n",
        "* Overweight: 25-30%\n",
        "* Obese: over 30%\n",
        "\n",
        "\n",
        " \n",
        " "
      ]
    },
    {
      "cell_type": "markdown",
      "metadata": {
        "id": "sX_gBua_UoVP"
      },
      "source": [
        "## Function Practice ***"
      ]
    },
    {
      "cell_type": "markdown",
      "source": [
        "### Assignment 1"
      ],
      "metadata": {
        "id": "uC-T7pVVK7Ym"
      }
    },
    {
      "cell_type": "code",
      "source": [
        "# Write a function called \"bfp_men_diagnosis\" \n",
        "#  that would calculate the bfp for men and would do the diagnosis \n",
        "# please use use the stardard metrics specific to MEN from below\n",
        "\n",
        "''' def bfp_men_diagnosis(height, weight, age):  \n",
        "          bmi  = (weight/(height**2) ) * 703\n",
        "          body_fat_pct = (1.20 * bmi) + (0.23 * age) - 16.2\n",
        "          ... ---------...\n",
        "          ... ---------...\n",
        "          ....\n",
        "'''\n",
        "\n",
        "# try your new function \"bfp_men_diagnosis\"  by giving some values to function arguments \n",
        "# bfp_men_diagnosis(height = '...', weight = '...', age = '...') ==> it has to be in inches, pound\n",
        "\n",
        "# ...your code here"
      ],
      "metadata": {
        "id": "zUkdKsQgLNLX"
      },
      "execution_count": null,
      "outputs": []
    },
    {
      "cell_type": "code",
      "source": [
        "#@title Display Solution 1\n",
        "\n",
        "def bfp_men_diagnosis(height, weight, age):\n",
        "    bmi = (weight/(height**2) ) * 703\n",
        "    body_fat_pct = round((1.20 * bmi) + (0.23 * age) - 16.2, 2)\n",
        "\n",
        "   # For men within the range 20-40 y.o.\n",
        "    if age <=40:\n",
        "      # within the range 20-40 y.o. if body_fat_pct under 8\n",
        "        if body_fat_pct < 8:\n",
        "            print('your BFP is: ',  body_fat_pct, \"you are underfat\")\n",
        "      # within the range 20-40 y.o. if body_fat_pct is between 8 and 19\n",
        "        elif body_fat_pct >= 8 and body_fat_pct < 19:\n",
        "            print('your BFP is: ',  body_fat_pct, \"you are healthy\")\n",
        "        # within the range 20-40 y.o. if body_fat_pct is between 19 and 25\n",
        "        elif body_fat_pct >= 19 and body_fat_pct < 25:\n",
        "            print('your BFP is: ',  body_fat_pct, \"you are overweight\")\n",
        "        # within the range 20-40 y.o. if body_fat_pct over 25\n",
        "        else : \n",
        "            print('your BFP  is: ',  body_fat_pct, \"you are obese\")\n",
        "\n",
        "  # For men within the range 41-60 y.o.\n",
        "    if age > 40 and age <=60:\n",
        "        if body_fat_pct < 11:\n",
        "            print('your BFP is: ',  body_fat_pct, \"you are underfat\")\n",
        "        elif body_fat_pct >= 11 and body_fat_pct < 22:\n",
        "            print('your BFP is: ',  body_fat_pct, \"you are healthy\")\n",
        "        elif body_fat_pct >= 22 and body_fat_pct < 27:\n",
        "            print('your BFP is: ',  body_fat_pct, \"you are overweight\")\n",
        "        else : \n",
        "            print('your BFP  is: ',  body_fat_pct, \"you are obese\")\n",
        "\n",
        "    #  For men within the range 60-79 y.o.  \n",
        "    if age > 60:\n",
        "        if body_fat_pct < 13:\n",
        "            print('your BFP is: ',  body_fat_pct, \"you are underfat\")\n",
        "        elif body_fat_pct >= 13 and body_fat_pct < 25:\n",
        "            print('your BFP  is: ',  body_fat_pct, \"you are healthy\")\n",
        "        elif body_fat_pct >= 25 and body_fat_pct < 30:\n",
        "            print('your BFP  is: ',  body_fat_pct, \"you are healthy\")\n",
        "        else : \n",
        "            print('your BFP  is: ',  body_fat_pct, \"you are obese\")\n",
        "\n",
        "# try your new function \"bfp_men_diagnosis\"  by giving some values to function arguments \n",
        "bfp_men_diagnosis(height = 76, weight = 160, age = 50)"
      ],
      "metadata": {
        "cellView": "form",
        "id": "NCmmudaxIjjM"
      },
      "execution_count": null,
      "outputs": []
    },
    {
      "cell_type": "markdown",
      "source": [
        "### Assignment 2"
      ],
      "metadata": {
        "id": "bWyNfT6NKx7b"
      }
    },
    {
      "cell_type": "code",
      "execution_count": null,
      "metadata": {
        "id": "ftjDqT04USdQ"
      },
      "outputs": [],
      "source": [
        "# Write a function **bfp_diagnosis()**\n",
        "# that would calculate the bfp would do tha diagnosis, no matter women or men giving arguments (height= , weight= , age = , gender = )\n",
        "\n",
        "# use the function that you created previously << bfp_men_diagnosis(height, weight, age) >> IF gender == 'M'\n",
        "# use the function that you created previously << bfp_women_diagnosis(height, weight, age) >> if gender == 'F' (with 'ELIF'..)\n",
        "# 'ELSE\" ==> print('not specified')\n",
        "\n",
        "# try your new function bfp_diagnosis() by giving vlues to arguments (height= , weight= , age = , gender = )\n",
        "\n",
        "# your code here ..."
      ]
    },
    {
      "cell_type": "code",
      "source": [
        "#@title Display Solution 6\n",
        "\n",
        "\n",
        "def bfp_diagnosis(height, weight, age, gender):\n",
        "\n",
        "    if gender == 'M':        # IF gender == 'M'\n",
        "      # use the function that you created previously << bfp_men_diagnosis(height, weight, age) \n",
        "       print(bfp_men_diagnosis(height, weight, age))\n",
        "\n",
        "    elif gender == 'F':    # if gender == 'F'\n",
        "\n",
        "     # use the function that you created previously << bfp_women_diagnosis(height, weight, age) \n",
        "      print(bfp_women_diagnosis(height, weight, age))\n",
        "      \n",
        "    else:\n",
        "      print('not specified')\n",
        "\n",
        "\n",
        "\n",
        "# try your new function bfp_diagnosis() by giving vlues to arguments (height= , weight= , age = , gender = )\n",
        "bfp_diagnosis(66.2, 147.7, 40, gender= 'F')"
      ],
      "metadata": {
        "cellView": "form",
        "id": "j0EWW0o_IqDG"
      },
      "execution_count": null,
      "outputs": []
    },
    {
      "cell_type": "code",
      "source": [],
      "metadata": {
        "id": "vDF8GoW7bhI_"
      },
      "execution_count": null,
      "outputs": []
    }
  ],
  "metadata": {
    "colab": {
      "provenance": [],
      "toc_visible": true,
      "include_colab_link": true
    },
    "kernelspec": {
      "display_name": "Python 3 (ipykernel)",
      "language": "python",
      "name": "python3"
    },
    "language_info": {
      "codemirror_mode": {
        "name": "ipython",
        "version": 3
      },
      "file_extension": ".py",
      "mimetype": "text/x-python",
      "name": "python",
      "nbconvert_exporter": "python",
      "pygments_lexer": "ipython3",
      "version": "3.9.7"
    }
  },
  "nbformat": 4,
  "nbformat_minor": 0
}